{
  "nbformat": 4,
  "nbformat_minor": 0,
  "metadata": {
    "colab": {
      "provenance": [],
      "authorship_tag": "ABX9TyPKLlSdmRQp/p3mPE9xS+vc",
      "include_colab_link": true
    },
    "kernelspec": {
      "name": "python3",
      "display_name": "Python 3"
    },
    "language_info": {
      "name": "python"
    }
  },
  "cells": [
    {
      "cell_type": "markdown",
      "metadata": {
        "id": "view-in-github",
        "colab_type": "text"
      },
      "source": [
        "<a href=\"https://colab.research.google.com/github/CNU-Jiho-Jeong/Data-analysis-lecture/blob/main/Natural_Langague_Processing_with_Moview_review.ipynb\" target=\"_parent\"><img src=\"https://colab.research.google.com/assets/colab-badge.svg\" alt=\"Open In Colab\"/></a>"
      ]
    },
    {
      "cell_type": "code",
      "execution_count": 1,
      "metadata": {
        "colab": {
          "base_uri": "https://localhost:8080/"
        },
        "id": "U-dtDTf-xdBm",
        "outputId": "4f390ba6-4a52-4fb2-a7c1-145265f5ae5b"
      },
      "outputs": [
        {
          "output_type": "stream",
          "name": "stdout",
          "text": [
            "Reading package lists... Done\n",
            "Building dependency tree       \n",
            "Reading state information... Done\n",
            "The following package was automatically installed and is no longer required:\n",
            "  libnvidia-common-460\n",
            "Use 'sudo apt autoremove' to remove it.\n",
            "The following NEW packages will be installed:\n",
            "  fonts-nanum\n",
            "0 upgraded, 1 newly installed, 0 to remove and 7 not upgraded.\n",
            "Need to get 9,604 kB of archives.\n",
            "After this operation, 29.5 MB of additional disk space will be used.\n",
            "Get:1 http://archive.ubuntu.com/ubuntu bionic/universe amd64 fonts-nanum all 20170925-1 [9,604 kB]\n",
            "Fetched 9,604 kB in 1s (18.4 MB/s)\n",
            "debconf: unable to initialize frontend: Dialog\n",
            "debconf: (No usable dialog-like program is installed, so the dialog based frontend cannot be used. at /usr/share/perl5/Debconf/FrontEnd/Dialog.pm line 76, <> line 1.)\n",
            "debconf: falling back to frontend: Readline\n",
            "debconf: unable to initialize frontend: Readline\n",
            "debconf: (This frontend requires a controlling tty.)\n",
            "debconf: falling back to frontend: Teletype\n",
            "dpkg-preconfigure: unable to re-open stdin: \n",
            "Selecting previously unselected package fonts-nanum.\n",
            "(Reading database ... 124015 files and directories currently installed.)\n",
            "Preparing to unpack .../fonts-nanum_20170925-1_all.deb ...\n",
            "Unpacking fonts-nanum (20170925-1) ...\n",
            "Setting up fonts-nanum (20170925-1) ...\n",
            "Processing triggers for fontconfig (2.12.6-0ubuntu2) ...\n",
            "/usr/share/fonts: caching, new cache contents: 0 fonts, 1 dirs\n",
            "/usr/share/fonts/truetype: caching, new cache contents: 0 fonts, 3 dirs\n",
            "/usr/share/fonts/truetype/humor-sans: caching, new cache contents: 1 fonts, 0 dirs\n",
            "/usr/share/fonts/truetype/liberation: caching, new cache contents: 16 fonts, 0 dirs\n",
            "/usr/share/fonts/truetype/nanum: caching, new cache contents: 10 fonts, 0 dirs\n",
            "/usr/local/share/fonts: caching, new cache contents: 0 fonts, 0 dirs\n",
            "/root/.local/share/fonts: skipping, no such directory\n",
            "/root/.fonts: skipping, no such directory\n",
            "/var/cache/fontconfig: cleaning cache directory\n",
            "/root/.cache/fontconfig: not cleaning non-existent cache directory\n",
            "/root/.fontconfig: not cleaning non-existent cache directory\n",
            "fc-cache: succeeded\n"
          ]
        }
      ],
      "source": [
        "!sudo apt-get install -y fonts-nanum\n",
        "!sudo fc-cache -fv\n",
        "!rm ~/.cache/matplotlib -rf"
      ]
    },
    {
      "cell_type": "code",
      "source": [
        "%pip install konlpy wordcloud \n",
        "# konlpy: 한국어 정보처리를 위한 파이썬 패키지\n",
        "# wordcloud: 단어의 빈도수를 체크하여 시각적으로 표현하는 방식"
      ],
      "metadata": {
        "colab": {
          "base_uri": "https://localhost:8080/"
        },
        "id": "PbUn4mM4xjci",
        "outputId": "2b2e1c32-221a-4778-84b5-d7f339f996be"
      },
      "execution_count": 2,
      "outputs": [
        {
          "output_type": "stream",
          "name": "stdout",
          "text": [
            "Looking in indexes: https://pypi.org/simple, https://us-python.pkg.dev/colab-wheels/public/simple/\n",
            "Collecting konlpy\n",
            "  Downloading konlpy-0.6.0-py2.py3-none-any.whl (19.4 MB)\n",
            "\u001b[K     |████████████████████████████████| 19.4 MB 1.1 MB/s \n",
            "\u001b[?25hRequirement already satisfied: wordcloud in /usr/local/lib/python3.8/dist-packages (1.8.2.2)\n",
            "Requirement already satisfied: numpy>=1.6 in /usr/local/lib/python3.8/dist-packages (from konlpy) (1.21.6)\n",
            "Collecting JPype1>=0.7.0\n",
            "  Downloading JPype1-1.4.1-cp38-cp38-manylinux_2_12_x86_64.manylinux2010_x86_64.whl (465 kB)\n",
            "\u001b[K     |████████████████████████████████| 465 kB 11.3 MB/s \n",
            "\u001b[?25hRequirement already satisfied: lxml>=4.1.0 in /usr/local/lib/python3.8/dist-packages (from konlpy) (4.9.1)\n",
            "Requirement already satisfied: packaging in /usr/local/lib/python3.8/dist-packages (from JPype1>=0.7.0->konlpy) (21.3)\n",
            "Requirement already satisfied: matplotlib in /usr/local/lib/python3.8/dist-packages (from wordcloud) (3.2.2)\n",
            "Requirement already satisfied: pillow in /usr/local/lib/python3.8/dist-packages (from wordcloud) (7.1.2)\n",
            "Requirement already satisfied: kiwisolver>=1.0.1 in /usr/local/lib/python3.8/dist-packages (from matplotlib->wordcloud) (1.4.4)\n",
            "Requirement already satisfied: pyparsing!=2.0.4,!=2.1.2,!=2.1.6,>=2.0.1 in /usr/local/lib/python3.8/dist-packages (from matplotlib->wordcloud) (3.0.9)\n",
            "Requirement already satisfied: cycler>=0.10 in /usr/local/lib/python3.8/dist-packages (from matplotlib->wordcloud) (0.11.0)\n",
            "Requirement already satisfied: python-dateutil>=2.1 in /usr/local/lib/python3.8/dist-packages (from matplotlib->wordcloud) (2.8.2)\n",
            "Requirement already satisfied: six>=1.5 in /usr/local/lib/python3.8/dist-packages (from python-dateutil>=2.1->matplotlib->wordcloud) (1.15.0)\n",
            "Installing collected packages: JPype1, konlpy\n",
            "Successfully installed JPype1-1.4.1 konlpy-0.6.0\n"
          ]
        }
      ]
    },
    {
      "cell_type": "code",
      "source": [
        "import pandas as pd\n",
        "import numpy as np\n",
        "import matplotlib.pyplot as plt\n",
        "\n",
        "import re # re: 정규표현 처리를 위한 라이브러리 \n",
        "import urllib.request # urlib.request: URL을 여는데 도움이 되는 함수와 클래스를 정의\n",
        "from konlpy.tag import Okt # Okt: Open Korean Text, 형태소 분석기\n",
        "from tqdm import tqdm # tqdm: 작업진행률 표시\n",
        "from tensorflow.keras.preprocessing.text import Tokenizer # 토큰화를 위해 Tokenizer import\n",
        "from tensorflow.keras.preprocessing.sequence import pad_sequences # 패딩을 위해 pad_sequences import\n",
        "\n",
        "font_path = '/usr/share/fonts/truetype/nanum/NanumGothic.ttf' # 글꼴 경로 / 글꼴: 나눔고딕"
      ],
      "metadata": {
        "id": "-0y7qtJTxtKB"
      },
      "execution_count": 3,
      "outputs": []
    },
    {
      "cell_type": "code",
      "source": [
        "plt.rc(\"font\", family = \"NanumBarunGothic\")\n",
        "# rc 함수를 이용해 글꼴 설정을 바꿀 수 있음. / 위의 경우는 나눔바른고딕 \n",
        "# plt.rc(\"font\", family=\"글꼴이름\")\n"
      ],
      "metadata": {
        "id": "WUl4Imtyx1uZ"
      },
      "execution_count": 4,
      "outputs": []
    },
    {
      "cell_type": "code",
      "source": [
        "# 데이터 다운받기\n",
        "\n",
        "urllib.request.urlretrieve(\"https://raw.githubusercontent.com/e9t/nsmc/master/ratings_train.txt\", filename=\"ratings_train.txt\")\n",
        "urllib.request.urlretrieve(\"https://raw.githubusercontent.com/e9t/nsmc/master/ratings_test.txt\", filename=\"ratings_test.txt\")"
      ],
      "metadata": {
        "colab": {
          "base_uri": "https://localhost:8080/"
        },
        "id": "cMwOgCNC5Qsi",
        "outputId": "f0d6ab8f-d7a0-46d2-cc7a-135e26fb8f1c"
      },
      "execution_count": 5,
      "outputs": [
        {
          "output_type": "execute_result",
          "data": {
            "text/plain": [
              "('ratings_test.txt', <http.client.HTTPMessage at 0x7f6361ffb130>)"
            ]
          },
          "metadata": {},
          "execution_count": 5
        }
      ]
    },
    {
      "cell_type": "code",
      "source": [
        "# 데이터 불러오기\n",
        "\n",
        "train_data = pd.read_table(\"ratings_train.txt\")\n",
        "test_data = pd.read_table(\"ratings_test.txt\")"
      ],
      "metadata": {
        "id": "zJufa8da63Or"
      },
      "execution_count": 6,
      "outputs": []
    },
    {
      "cell_type": "markdown",
      "source": [
        "![image.png](data:image/png;base64,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)\n",
        "\n",
        "출처: https://cyan91.tistory.com/22"
      ],
      "metadata": {
        "id": "k9Vxvz-17UR1"
      }
    },
    {
      "cell_type": "code",
      "source": [
        "print(train_data.shape)\n",
        "print(test_data.shape)"
      ],
      "metadata": {
        "colab": {
          "base_uri": "https://localhost:8080/"
        },
        "id": "JFkk6fyv7ZfT",
        "outputId": "16af9ee6-c551-4524-dd1c-37ee2f31a833"
      },
      "execution_count": 7,
      "outputs": [
        {
          "output_type": "stream",
          "name": "stdout",
          "text": [
            "(150000, 3)\n",
            "(50000, 3)\n"
          ]
        }
      ]
    },
    {
      "cell_type": "code",
      "source": [
        "train_data.head()"
      ],
      "metadata": {
        "colab": {
          "base_uri": "https://localhost:8080/",
          "height": 206
        },
        "id": "T_QSfMRb7l_C",
        "outputId": "6fb54864-5d3d-4498-9101-e5685031e9ef"
      },
      "execution_count": 8,
      "outputs": [
        {
          "output_type": "execute_result",
          "data": {
            "text/plain": [
              "         id                                           document  label\n",
              "0   9976970                                아 더빙.. 진짜 짜증나네요 목소리      0\n",
              "1   3819312                  흠...포스터보고 초딩영화줄....오버연기조차 가볍지 않구나      1\n",
              "2  10265843                                  너무재밓었다그래서보는것을추천한다      0\n",
              "3   9045019                      교도소 이야기구먼 ..솔직히 재미는 없다..평점 조정      0\n",
              "4   6483659  사이몬페그의 익살스런 연기가 돋보였던 영화!스파이더맨에서 늙어보이기만 했던 커스틴 ...      1"
            ],
            "text/html": [
              "\n",
              "  <div id=\"df-74b0a0a3-c827-4b0a-a82a-9af2a1f27e73\">\n",
              "    <div class=\"colab-df-container\">\n",
              "      <div>\n",
              "<style scoped>\n",
              "    .dataframe tbody tr th:only-of-type {\n",
              "        vertical-align: middle;\n",
              "    }\n",
              "\n",
              "    .dataframe tbody tr th {\n",
              "        vertical-align: top;\n",
              "    }\n",
              "\n",
              "    .dataframe thead th {\n",
              "        text-align: right;\n",
              "    }\n",
              "</style>\n",
              "<table border=\"1\" class=\"dataframe\">\n",
              "  <thead>\n",
              "    <tr style=\"text-align: right;\">\n",
              "      <th></th>\n",
              "      <th>id</th>\n",
              "      <th>document</th>\n",
              "      <th>label</th>\n",
              "    </tr>\n",
              "  </thead>\n",
              "  <tbody>\n",
              "    <tr>\n",
              "      <th>0</th>\n",
              "      <td>9976970</td>\n",
              "      <td>아 더빙.. 진짜 짜증나네요 목소리</td>\n",
              "      <td>0</td>\n",
              "    </tr>\n",
              "    <tr>\n",
              "      <th>1</th>\n",
              "      <td>3819312</td>\n",
              "      <td>흠...포스터보고 초딩영화줄....오버연기조차 가볍지 않구나</td>\n",
              "      <td>1</td>\n",
              "    </tr>\n",
              "    <tr>\n",
              "      <th>2</th>\n",
              "      <td>10265843</td>\n",
              "      <td>너무재밓었다그래서보는것을추천한다</td>\n",
              "      <td>0</td>\n",
              "    </tr>\n",
              "    <tr>\n",
              "      <th>3</th>\n",
              "      <td>9045019</td>\n",
              "      <td>교도소 이야기구먼 ..솔직히 재미는 없다..평점 조정</td>\n",
              "      <td>0</td>\n",
              "    </tr>\n",
              "    <tr>\n",
              "      <th>4</th>\n",
              "      <td>6483659</td>\n",
              "      <td>사이몬페그의 익살스런 연기가 돋보였던 영화!스파이더맨에서 늙어보이기만 했던 커스틴 ...</td>\n",
              "      <td>1</td>\n",
              "    </tr>\n",
              "  </tbody>\n",
              "</table>\n",
              "</div>\n",
              "      <button class=\"colab-df-convert\" onclick=\"convertToInteractive('df-74b0a0a3-c827-4b0a-a82a-9af2a1f27e73')\"\n",
              "              title=\"Convert this dataframe to an interactive table.\"\n",
              "              style=\"display:none;\">\n",
              "        \n",
              "  <svg xmlns=\"http://www.w3.org/2000/svg\" height=\"24px\"viewBox=\"0 0 24 24\"\n",
              "       width=\"24px\">\n",
              "    <path d=\"M0 0h24v24H0V0z\" fill=\"none\"/>\n",
              "    <path d=\"M18.56 5.44l.94 2.06.94-2.06 2.06-.94-2.06-.94-.94-2.06-.94 2.06-2.06.94zm-11 1L8.5 8.5l.94-2.06 2.06-.94-2.06-.94L8.5 2.5l-.94 2.06-2.06.94zm10 10l.94 2.06.94-2.06 2.06-.94-2.06-.94-.94-2.06-.94 2.06-2.06.94z\"/><path d=\"M17.41 7.96l-1.37-1.37c-.4-.4-.92-.59-1.43-.59-.52 0-1.04.2-1.43.59L10.3 9.45l-7.72 7.72c-.78.78-.78 2.05 0 2.83L4 21.41c.39.39.9.59 1.41.59.51 0 1.02-.2 1.41-.59l7.78-7.78 2.81-2.81c.8-.78.8-2.07 0-2.86zM5.41 20L4 18.59l7.72-7.72 1.47 1.35L5.41 20z\"/>\n",
              "  </svg>\n",
              "      </button>\n",
              "      \n",
              "  <style>\n",
              "    .colab-df-container {\n",
              "      display:flex;\n",
              "      flex-wrap:wrap;\n",
              "      gap: 12px;\n",
              "    }\n",
              "\n",
              "    .colab-df-convert {\n",
              "      background-color: #E8F0FE;\n",
              "      border: none;\n",
              "      border-radius: 50%;\n",
              "      cursor: pointer;\n",
              "      display: none;\n",
              "      fill: #1967D2;\n",
              "      height: 32px;\n",
              "      padding: 0 0 0 0;\n",
              "      width: 32px;\n",
              "    }\n",
              "\n",
              "    .colab-df-convert:hover {\n",
              "      background-color: #E2EBFA;\n",
              "      box-shadow: 0px 1px 2px rgba(60, 64, 67, 0.3), 0px 1px 3px 1px rgba(60, 64, 67, 0.15);\n",
              "      fill: #174EA6;\n",
              "    }\n",
              "\n",
              "    [theme=dark] .colab-df-convert {\n",
              "      background-color: #3B4455;\n",
              "      fill: #D2E3FC;\n",
              "    }\n",
              "\n",
              "    [theme=dark] .colab-df-convert:hover {\n",
              "      background-color: #434B5C;\n",
              "      box-shadow: 0px 1px 3px 1px rgba(0, 0, 0, 0.15);\n",
              "      filter: drop-shadow(0px 1px 2px rgba(0, 0, 0, 0.3));\n",
              "      fill: #FFFFFF;\n",
              "    }\n",
              "  </style>\n",
              "\n",
              "      <script>\n",
              "        const buttonEl =\n",
              "          document.querySelector('#df-74b0a0a3-c827-4b0a-a82a-9af2a1f27e73 button.colab-df-convert');\n",
              "        buttonEl.style.display =\n",
              "          google.colab.kernel.accessAllowed ? 'block' : 'none';\n",
              "\n",
              "        async function convertToInteractive(key) {\n",
              "          const element = document.querySelector('#df-74b0a0a3-c827-4b0a-a82a-9af2a1f27e73');\n",
              "          const dataTable =\n",
              "            await google.colab.kernel.invokeFunction('convertToInteractive',\n",
              "                                                     [key], {});\n",
              "          if (!dataTable) return;\n",
              "\n",
              "          const docLinkHtml = 'Like what you see? Visit the ' +\n",
              "            '<a target=\"_blank\" href=https://colab.research.google.com/notebooks/data_table.ipynb>data table notebook</a>'\n",
              "            + ' to learn more about interactive tables.';\n",
              "          element.innerHTML = '';\n",
              "          dataTable['output_type'] = 'display_data';\n",
              "          await google.colab.output.renderOutput(dataTable, element);\n",
              "          const docLink = document.createElement('div');\n",
              "          docLink.innerHTML = docLinkHtml;\n",
              "          element.appendChild(docLink);\n",
              "        }\n",
              "      </script>\n",
              "    </div>\n",
              "  </div>\n",
              "  "
            ]
          },
          "metadata": {},
          "execution_count": 8
        }
      ]
    },
    {
      "cell_type": "code",
      "source": [
        "# 데이터 비율 파악하기 (0은 몇 개, 1은 몇 개)\n",
        "\n",
        "train_data.groupby([\"label\"]).count()"
      ],
      "metadata": {
        "colab": {
          "base_uri": "https://localhost:8080/",
          "height": 143
        },
        "id": "0tlVs8t17o46",
        "outputId": "9d3e6bc6-30ce-4ed6-a681-5b54c3faf6fa"
      },
      "execution_count": 9,
      "outputs": [
        {
          "output_type": "execute_result",
          "data": {
            "text/plain": [
              "          id  document\n",
              "label                 \n",
              "0      75173     75170\n",
              "1      74827     74825"
            ],
            "text/html": [
              "\n",
              "  <div id=\"df-15ba808b-1848-4949-b49f-6214e086fbc0\">\n",
              "    <div class=\"colab-df-container\">\n",
              "      <div>\n",
              "<style scoped>\n",
              "    .dataframe tbody tr th:only-of-type {\n",
              "        vertical-align: middle;\n",
              "    }\n",
              "\n",
              "    .dataframe tbody tr th {\n",
              "        vertical-align: top;\n",
              "    }\n",
              "\n",
              "    .dataframe thead th {\n",
              "        text-align: right;\n",
              "    }\n",
              "</style>\n",
              "<table border=\"1\" class=\"dataframe\">\n",
              "  <thead>\n",
              "    <tr style=\"text-align: right;\">\n",
              "      <th></th>\n",
              "      <th>id</th>\n",
              "      <th>document</th>\n",
              "    </tr>\n",
              "    <tr>\n",
              "      <th>label</th>\n",
              "      <th></th>\n",
              "      <th></th>\n",
              "    </tr>\n",
              "  </thead>\n",
              "  <tbody>\n",
              "    <tr>\n",
              "      <th>0</th>\n",
              "      <td>75173</td>\n",
              "      <td>75170</td>\n",
              "    </tr>\n",
              "    <tr>\n",
              "      <th>1</th>\n",
              "      <td>74827</td>\n",
              "      <td>74825</td>\n",
              "    </tr>\n",
              "  </tbody>\n",
              "</table>\n",
              "</div>\n",
              "      <button class=\"colab-df-convert\" onclick=\"convertToInteractive('df-15ba808b-1848-4949-b49f-6214e086fbc0')\"\n",
              "              title=\"Convert this dataframe to an interactive table.\"\n",
              "              style=\"display:none;\">\n",
              "        \n",
              "  <svg xmlns=\"http://www.w3.org/2000/svg\" height=\"24px\"viewBox=\"0 0 24 24\"\n",
              "       width=\"24px\">\n",
              "    <path d=\"M0 0h24v24H0V0z\" fill=\"none\"/>\n",
              "    <path d=\"M18.56 5.44l.94 2.06.94-2.06 2.06-.94-2.06-.94-.94-2.06-.94 2.06-2.06.94zm-11 1L8.5 8.5l.94-2.06 2.06-.94-2.06-.94L8.5 2.5l-.94 2.06-2.06.94zm10 10l.94 2.06.94-2.06 2.06-.94-2.06-.94-.94-2.06-.94 2.06-2.06.94z\"/><path d=\"M17.41 7.96l-1.37-1.37c-.4-.4-.92-.59-1.43-.59-.52 0-1.04.2-1.43.59L10.3 9.45l-7.72 7.72c-.78.78-.78 2.05 0 2.83L4 21.41c.39.39.9.59 1.41.59.51 0 1.02-.2 1.41-.59l7.78-7.78 2.81-2.81c.8-.78.8-2.07 0-2.86zM5.41 20L4 18.59l7.72-7.72 1.47 1.35L5.41 20z\"/>\n",
              "  </svg>\n",
              "      </button>\n",
              "      \n",
              "  <style>\n",
              "    .colab-df-container {\n",
              "      display:flex;\n",
              "      flex-wrap:wrap;\n",
              "      gap: 12px;\n",
              "    }\n",
              "\n",
              "    .colab-df-convert {\n",
              "      background-color: #E8F0FE;\n",
              "      border: none;\n",
              "      border-radius: 50%;\n",
              "      cursor: pointer;\n",
              "      display: none;\n",
              "      fill: #1967D2;\n",
              "      height: 32px;\n",
              "      padding: 0 0 0 0;\n",
              "      width: 32px;\n",
              "    }\n",
              "\n",
              "    .colab-df-convert:hover {\n",
              "      background-color: #E2EBFA;\n",
              "      box-shadow: 0px 1px 2px rgba(60, 64, 67, 0.3), 0px 1px 3px 1px rgba(60, 64, 67, 0.15);\n",
              "      fill: #174EA6;\n",
              "    }\n",
              "\n",
              "    [theme=dark] .colab-df-convert {\n",
              "      background-color: #3B4455;\n",
              "      fill: #D2E3FC;\n",
              "    }\n",
              "\n",
              "    [theme=dark] .colab-df-convert:hover {\n",
              "      background-color: #434B5C;\n",
              "      box-shadow: 0px 1px 3px 1px rgba(0, 0, 0, 0.15);\n",
              "      filter: drop-shadow(0px 1px 2px rgba(0, 0, 0, 0.3));\n",
              "      fill: #FFFFFF;\n",
              "    }\n",
              "  </style>\n",
              "\n",
              "      <script>\n",
              "        const buttonEl =\n",
              "          document.querySelector('#df-15ba808b-1848-4949-b49f-6214e086fbc0 button.colab-df-convert');\n",
              "        buttonEl.style.display =\n",
              "          google.colab.kernel.accessAllowed ? 'block' : 'none';\n",
              "\n",
              "        async function convertToInteractive(key) {\n",
              "          const element = document.querySelector('#df-15ba808b-1848-4949-b49f-6214e086fbc0');\n",
              "          const dataTable =\n",
              "            await google.colab.kernel.invokeFunction('convertToInteractive',\n",
              "                                                     [key], {});\n",
              "          if (!dataTable) return;\n",
              "\n",
              "          const docLinkHtml = 'Like what you see? Visit the ' +\n",
              "            '<a target=\"_blank\" href=https://colab.research.google.com/notebooks/data_table.ipynb>data table notebook</a>'\n",
              "            + ' to learn more about interactive tables.';\n",
              "          element.innerHTML = '';\n",
              "          dataTable['output_type'] = 'display_data';\n",
              "          await google.colab.output.renderOutput(dataTable, element);\n",
              "          const docLink = document.createElement('div');\n",
              "          docLink.innerHTML = docLinkHtml;\n",
              "          element.appendChild(docLink);\n",
              "        }\n",
              "      </script>\n",
              "    </div>\n",
              "  </div>\n",
              "  "
            ]
          },
          "metadata": {},
          "execution_count": 9
        }
      ]
    },
    {
      "cell_type": "code",
      "source": [
        "test_data.groupby([\"label\"]).count()"
      ],
      "metadata": {
        "colab": {
          "base_uri": "https://localhost:8080/",
          "height": 143
        },
        "id": "vAR2OkF98BcD",
        "outputId": "a18d9e93-62e6-4f72-dbce-bb9ecd4ac362"
      },
      "execution_count": 10,
      "outputs": [
        {
          "output_type": "execute_result",
          "data": {
            "text/plain": [
              "          id  document\n",
              "label                 \n",
              "0      24827     24826\n",
              "1      25173     25171"
            ],
            "text/html": [
              "\n",
              "  <div id=\"df-8198613a-4b1b-42e6-a8e4-b8b60ad61ba8\">\n",
              "    <div class=\"colab-df-container\">\n",
              "      <div>\n",
              "<style scoped>\n",
              "    .dataframe tbody tr th:only-of-type {\n",
              "        vertical-align: middle;\n",
              "    }\n",
              "\n",
              "    .dataframe tbody tr th {\n",
              "        vertical-align: top;\n",
              "    }\n",
              "\n",
              "    .dataframe thead th {\n",
              "        text-align: right;\n",
              "    }\n",
              "</style>\n",
              "<table border=\"1\" class=\"dataframe\">\n",
              "  <thead>\n",
              "    <tr style=\"text-align: right;\">\n",
              "      <th></th>\n",
              "      <th>id</th>\n",
              "      <th>document</th>\n",
              "    </tr>\n",
              "    <tr>\n",
              "      <th>label</th>\n",
              "      <th></th>\n",
              "      <th></th>\n",
              "    </tr>\n",
              "  </thead>\n",
              "  <tbody>\n",
              "    <tr>\n",
              "      <th>0</th>\n",
              "      <td>24827</td>\n",
              "      <td>24826</td>\n",
              "    </tr>\n",
              "    <tr>\n",
              "      <th>1</th>\n",
              "      <td>25173</td>\n",
              "      <td>25171</td>\n",
              "    </tr>\n",
              "  </tbody>\n",
              "</table>\n",
              "</div>\n",
              "      <button class=\"colab-df-convert\" onclick=\"convertToInteractive('df-8198613a-4b1b-42e6-a8e4-b8b60ad61ba8')\"\n",
              "              title=\"Convert this dataframe to an interactive table.\"\n",
              "              style=\"display:none;\">\n",
              "        \n",
              "  <svg xmlns=\"http://www.w3.org/2000/svg\" height=\"24px\"viewBox=\"0 0 24 24\"\n",
              "       width=\"24px\">\n",
              "    <path d=\"M0 0h24v24H0V0z\" fill=\"none\"/>\n",
              "    <path d=\"M18.56 5.44l.94 2.06.94-2.06 2.06-.94-2.06-.94-.94-2.06-.94 2.06-2.06.94zm-11 1L8.5 8.5l.94-2.06 2.06-.94-2.06-.94L8.5 2.5l-.94 2.06-2.06.94zm10 10l.94 2.06.94-2.06 2.06-.94-2.06-.94-.94-2.06-.94 2.06-2.06.94z\"/><path d=\"M17.41 7.96l-1.37-1.37c-.4-.4-.92-.59-1.43-.59-.52 0-1.04.2-1.43.59L10.3 9.45l-7.72 7.72c-.78.78-.78 2.05 0 2.83L4 21.41c.39.39.9.59 1.41.59.51 0 1.02-.2 1.41-.59l7.78-7.78 2.81-2.81c.8-.78.8-2.07 0-2.86zM5.41 20L4 18.59l7.72-7.72 1.47 1.35L5.41 20z\"/>\n",
              "  </svg>\n",
              "      </button>\n",
              "      \n",
              "  <style>\n",
              "    .colab-df-container {\n",
              "      display:flex;\n",
              "      flex-wrap:wrap;\n",
              "      gap: 12px;\n",
              "    }\n",
              "\n",
              "    .colab-df-convert {\n",
              "      background-color: #E8F0FE;\n",
              "      border: none;\n",
              "      border-radius: 50%;\n",
              "      cursor: pointer;\n",
              "      display: none;\n",
              "      fill: #1967D2;\n",
              "      height: 32px;\n",
              "      padding: 0 0 0 0;\n",
              "      width: 32px;\n",
              "    }\n",
              "\n",
              "    .colab-df-convert:hover {\n",
              "      background-color: #E2EBFA;\n",
              "      box-shadow: 0px 1px 2px rgba(60, 64, 67, 0.3), 0px 1px 3px 1px rgba(60, 64, 67, 0.15);\n",
              "      fill: #174EA6;\n",
              "    }\n",
              "\n",
              "    [theme=dark] .colab-df-convert {\n",
              "      background-color: #3B4455;\n",
              "      fill: #D2E3FC;\n",
              "    }\n",
              "\n",
              "    [theme=dark] .colab-df-convert:hover {\n",
              "      background-color: #434B5C;\n",
              "      box-shadow: 0px 1px 3px 1px rgba(0, 0, 0, 0.15);\n",
              "      filter: drop-shadow(0px 1px 2px rgba(0, 0, 0, 0.3));\n",
              "      fill: #FFFFFF;\n",
              "    }\n",
              "  </style>\n",
              "\n",
              "      <script>\n",
              "        const buttonEl =\n",
              "          document.querySelector('#df-8198613a-4b1b-42e6-a8e4-b8b60ad61ba8 button.colab-df-convert');\n",
              "        buttonEl.style.display =\n",
              "          google.colab.kernel.accessAllowed ? 'block' : 'none';\n",
              "\n",
              "        async function convertToInteractive(key) {\n",
              "          const element = document.querySelector('#df-8198613a-4b1b-42e6-a8e4-b8b60ad61ba8');\n",
              "          const dataTable =\n",
              "            await google.colab.kernel.invokeFunction('convertToInteractive',\n",
              "                                                     [key], {});\n",
              "          if (!dataTable) return;\n",
              "\n",
              "          const docLinkHtml = 'Like what you see? Visit the ' +\n",
              "            '<a target=\"_blank\" href=https://colab.research.google.com/notebooks/data_table.ipynb>data table notebook</a>'\n",
              "            + ' to learn more about interactive tables.';\n",
              "          element.innerHTML = '';\n",
              "          dataTable['output_type'] = 'display_data';\n",
              "          await google.colab.output.renderOutput(dataTable, element);\n",
              "          const docLink = document.createElement('div');\n",
              "          docLink.innerHTML = docLinkHtml;\n",
              "          element.appendChild(docLink);\n",
              "        }\n",
              "      </script>\n",
              "    </div>\n",
              "  </div>\n",
              "  "
            ]
          },
          "metadata": {},
          "execution_count": 10
        }
      ]
    },
    {
      "cell_type": "code",
      "source": [
        "# 데이터 갯수 줄이기\n",
        "\n",
        "train_data = train_data[0:15000]\n",
        "test_data = test_data[0:5000]"
      ],
      "metadata": {
        "id": "Ip6X2faV8LzL"
      },
      "execution_count": 11,
      "outputs": []
    },
    {
      "cell_type": "code",
      "source": [
        "# document 열과 label 열의 중복을 제외한 값의 갯수\n",
        "\n",
        "train_data[\"document\"].nunique(), train_data[\"label\"].nunique()"
      ],
      "metadata": {
        "colab": {
          "base_uri": "https://localhost:8080/"
        },
        "id": "FFOF1aO0-NP5",
        "outputId": "f288f88d-5756-481b-dba3-bb82c44f76d6"
      },
      "execution_count": 12,
      "outputs": [
        {
          "output_type": "execute_result",
          "data": {
            "text/plain": [
              "(14833, 2)"
            ]
          },
          "metadata": {},
          "execution_count": 12
        }
      ]
    },
    {
      "cell_type": "code",
      "source": [
        "# document 열의 중복제거\n",
        "\n",
        "train_data.drop_duplicates(subset=[\"document\"], inplace=True)\n",
        "print(\"총 댓글의 갯수 :\", len(train_data))\n",
        "# 14833이 나와야 함"
      ],
      "metadata": {
        "colab": {
          "base_uri": "https://localhost:8080/"
        },
        "id": "KGDdKAgo-eAB",
        "outputId": "a024a4d7-2648-4295-c0e0-998e2c6e1889"
      },
      "execution_count": 13,
      "outputs": [
        {
          "output_type": "stream",
          "name": "stdout",
          "text": [
            "총 댓글의 갯수 : 14833\n"
          ]
        },
        {
          "output_type": "stream",
          "name": "stderr",
          "text": [
            "/usr/local/lib/python3.8/dist-packages/pandas/util/_decorators.py:311: SettingWithCopyWarning: \n",
            "A value is trying to be set on a copy of a slice from a DataFrame\n",
            "\n",
            "See the caveats in the documentation: https://pandas.pydata.org/pandas-docs/stable/user_guide/indexing.html#returning-a-view-versus-a-copy\n",
            "  return func(*args, **kwargs)\n"
          ]
        }
      ]
    },
    {
      "cell_type": "code",
      "source": [
        "# 긍정 리뷰와 부정 리뷰 비율 시각화\n",
        "\n",
        "ratio = train_data['label'].value_counts() \n",
        "# value_counts(): 어떤 칼럼/series의 unique value들을 count 해주는 함수\n",
        "label = ratio.index # 0, 그러니까 부정의 인덱스는 0 / 1, 그러니까 긍정의 인덱스는 1\n",
        "plt.pie(ratio, labels=label, autopct=\"%.1f%%\")\n",
        "plt.show()\n"
      ],
      "metadata": {
        "colab": {
          "base_uri": "https://localhost:8080/",
          "height": 266
        },
        "id": "zSsiAepB_Ip6",
        "outputId": "3df7e8f8-1b32-451a-aacf-4257a16c0a06"
      },
      "execution_count": 14,
      "outputs": [
        {
          "output_type": "stream",
          "name": "stderr",
          "text": [
            "WARNING:matplotlib.font_manager:findfont: Font family ['NanumBarunGothic'] not found. Falling back to DejaVu Sans.\n"
          ]
        },
        {
          "output_type": "display_data",
          "data": {
            "text/plain": [
              "<Figure size 432x288 with 1 Axes>"
            ],
            "image/png": "[encoded data removed]"
          },
          "metadata": {}
        }
      ]
    },
    {
      "cell_type": "code",
      "source": [
        "# 결측값 여부 판단\n",
        "\n",
        "train_data.isnull().values.any()\n",
        "# isnull().values.any() -> NaN 값이 하나라도 존재하는지 true 혹은 false로 알려준다.\n"
      ],
      "metadata": {
        "colab": {
          "base_uri": "https://localhost:8080/"
        },
        "id": "ObwTf-H9__Op",
        "outputId": "7b700e2b-5c57-4e04-c009-136155f07ab4"
      },
      "execution_count": 15,
      "outputs": [
        {
          "output_type": "execute_result",
          "data": {
            "text/plain": [
              "False"
            ]
          },
          "metadata": {},
          "execution_count": 15
        }
      ]
    },
    {
      "cell_type": "markdown",
      "source": [
        "=> 어느 열에도 결측값이 없다"
      ],
      "metadata": {
        "id": "z3uFM2R7CWpJ"
      }
    },
    {
      "cell_type": "code",
      "source": [
        "# 특정 단어를 변경하기\n",
        "\n",
        "s1 = \"ㅋㅋㅋㅋㅋ 아 이거 존잼\"\n",
        "s2 = \"아 진짜 개 피곤하다.....\"\n",
        "s3 = \"저녁 드셨나요??\"\n",
        "\n",
        "test = pd.Series([s1,s2,s3])\n",
        "test = test.str.replace(\"[^ㄱ-ㅎㅏ-ㅣ가-힣 ]\",\"\")\n",
        "test.str.replace(\"^[ㄱ-ㅎ]+\", \"\") \n",
        "\n",
        "# => 한글과 공백을 제외하고 모두 제거.\n"
      ],
      "metadata": {
        "id": "k5vOEMX1CSNh",
        "colab": {
          "base_uri": "https://localhost:8080/"
        },
        "outputId": "9d446f25-3ac5-491d-af8b-ec26b6ebda96"
      },
      "execution_count": 17,
      "outputs": [
        {
          "output_type": "stream",
          "name": "stderr",
          "text": [
            "<ipython-input-17-226ae3238bf5>:8: FutureWarning: The default value of regex will change from True to False in a future version.\n",
            "  test = test.str.replace(\"[^ㄱ-ㅎㅏ-ㅣ가-힣 ]\",\"\")\n",
            "<ipython-input-17-226ae3238bf5>:9: FutureWarning: The default value of regex will change from True to False in a future version.\n",
            "  test.str.replace(\"^[ㄱ-ㅎ]+\", \"\")\n"
          ]
        },
        {
          "output_type": "execute_result",
          "data": {
            "text/plain": [
              "0        아 이거 존잼\n",
              "1    아 진짜 개 피곤하다\n",
              "2        저녁 드셨나요\n",
              "dtype: object"
            ]
          },
          "metadata": {},
          "execution_count": 17
        }
      ]
    },
    {
      "cell_type": "code",
      "source": [
        "# 한글과 공백을 제외하고 모두 제거.\n",
        "\n",
        "train_data['document'] = train_data['document'].str.replace(\"[^ㄱ-ㅎㅏ-ㅣ가-힣 ]\",\"\")\n",
        "train_data['document'] = train_data['document'].str.replace(\"^[ㄱ-ㅎ]+\", \"\")\n",
        "train_data.head()"
      ],
      "metadata": {
        "colab": {
          "base_uri": "https://localhost:8080/",
          "height": 280
        },
        "id": "Y_kkW61QT18A",
        "outputId": "75c23934-4320-42a7-9b58-ebd2f2f37e23"
      },
      "execution_count": 18,
      "outputs": [
        {
          "output_type": "stream",
          "name": "stderr",
          "text": [
            "<ipython-input-18-5586979fdada>:3: FutureWarning: The default value of regex will change from True to False in a future version.\n",
            "  train_data['document'] = train_data['document'].str.replace(\"[^ㄱ-ㅎㅏ-ㅣ가-힣 ]\",\"\")\n",
            "<ipython-input-18-5586979fdada>:4: FutureWarning: The default value of regex will change from True to False in a future version.\n",
            "  train_data['document'] = train_data['document'].str.replace(\"^[ㄱ-ㅎ]+\", \"\")\n"
          ]
        },
        {
          "output_type": "execute_result",
          "data": {
            "text/plain": [
              "         id                                           document  label\n",
              "0   9976970                                  아 더빙 진짜 짜증나네요 목소리      0\n",
              "1   3819312                         흠포스터보고 초딩영화줄오버연기조차 가볍지 않구나      1\n",
              "2  10265843                                  너무재밓었다그래서보는것을추천한다      0\n",
              "3   9045019                          교도소 이야기구먼 솔직히 재미는 없다평점 조정      0\n",
              "4   6483659  사이몬페그의 익살스런 연기가 돋보였던 영화스파이더맨에서 늙어보이기만 했던 커스틴 던...      1"
            ],
            "text/html": [
              "\n",
              "  <div id=\"df-75c3ba1c-8835-412f-8833-98aca74c2729\">\n",
              "    <div class=\"colab-df-container\">\n",
              "      <div>\n",
              "<style scoped>\n",
              "    .dataframe tbody tr th:only-of-type {\n",
              "        vertical-align: middle;\n",
              "    }\n",
              "\n",
              "    .dataframe tbody tr th {\n",
              "        vertical-align: top;\n",
              "    }\n",
              "\n",
              "    .dataframe thead th {\n",
              "        text-align: right;\n",
              "    }\n",
              "</style>\n",
              "<table border=\"1\" class=\"dataframe\">\n",
              "  <thead>\n",
              "    <tr style=\"text-align: right;\">\n",
              "      <th></th>\n",
              "      <th>id</th>\n",
              "      <th>document</th>\n",
              "      <th>label</th>\n",
              "    </tr>\n",
              "  </thead>\n",
              "  <tbody>\n",
              "    <tr>\n",
              "      <th>0</th>\n",
              "      <td>9976970</td>\n",
              "      <td>아 더빙 진짜 짜증나네요 목소리</td>\n",
              "      <td>0</td>\n",
              "    </tr>\n",
              "    <tr>\n",
              "      <th>1</th>\n",
              "      <td>3819312</td>\n",
              "      <td>흠포스터보고 초딩영화줄오버연기조차 가볍지 않구나</td>\n",
              "      <td>1</td>\n",
              "    </tr>\n",
              "    <tr>\n",
              "      <th>2</th>\n",
              "      <td>10265843</td>\n",
              "      <td>너무재밓었다그래서보는것을추천한다</td>\n",
              "      <td>0</td>\n",
              "    </tr>\n",
              "    <tr>\n",
              "      <th>3</th>\n",
              "      <td>9045019</td>\n",
              "      <td>교도소 이야기구먼 솔직히 재미는 없다평점 조정</td>\n",
              "      <td>0</td>\n",
              "    </tr>\n",
              "    <tr>\n",
              "      <th>4</th>\n",
              "      <td>6483659</td>\n",
              "      <td>사이몬페그의 익살스런 연기가 돋보였던 영화스파이더맨에서 늙어보이기만 했던 커스틴 던...</td>\n",
              "      <td>1</td>\n",
              "    </tr>\n",
              "  </tbody>\n",
              "</table>\n",
              "</div>\n",
              "      <button class=\"colab-df-convert\" onclick=\"convertToInteractive('df-75c3ba1c-8835-412f-8833-98aca74c2729')\"\n",
              "              title=\"Convert this dataframe to an interactive table.\"\n",
              "              style=\"display:none;\">\n",
              "        \n",
              "  <svg xmlns=\"http://www.w3.org/2000/svg\" height=\"24px\"viewBox=\"0 0 24 24\"\n",
              "       width=\"24px\">\n",
              "    <path d=\"M0 0h24v24H0V0z\" fill=\"none\"/>\n",
              "    <path d=\"M18.56 5.44l.94 2.06.94-2.06 2.06-.94-2.06-.94-.94-2.06-.94 2.06-2.06.94zm-11 1L8.5 8.5l.94-2.06 2.06-.94-2.06-.94L8.5 2.5l-.94 2.06-2.06.94zm10 10l.94 2.06.94-2.06 2.06-.94-2.06-.94-.94-2.06-.94 2.06-2.06.94z\"/><path d=\"M17.41 7.96l-1.37-1.37c-.4-.4-.92-.59-1.43-.59-.52 0-1.04.2-1.43.59L10.3 9.45l-7.72 7.72c-.78.78-.78 2.05 0 2.83L4 21.41c.39.39.9.59 1.41.59.51 0 1.02-.2 1.41-.59l7.78-7.78 2.81-2.81c.8-.78.8-2.07 0-2.86zM5.41 20L4 18.59l7.72-7.72 1.47 1.35L5.41 20z\"/>\n",
              "  </svg>\n",
              "      </button>\n",
              "      \n",
              "  <style>\n",
              "    .colab-df-container {\n",
              "      display:flex;\n",
              "      flex-wrap:wrap;\n",
              "      gap: 12px;\n",
              "    }\n",
              "\n",
              "    .colab-df-convert {\n",
              "      background-color: #E8F0FE;\n",
              "      border: none;\n",
              "      border-radius: 50%;\n",
              "      cursor: pointer;\n",
              "      display: none;\n",
              "      fill: #1967D2;\n",
              "      height: 32px;\n",
              "      padding: 0 0 0 0;\n",
              "      width: 32px;\n",
              "    }\n",
              "\n",
              "    .colab-df-convert:hover {\n",
              "      background-color: #E2EBFA;\n",
              "      box-shadow: 0px 1px 2px rgba(60, 64, 67, 0.3), 0px 1px 3px 1px rgba(60, 64, 67, 0.15);\n",
              "      fill: #174EA6;\n",
              "    }\n",
              "\n",
              "    [theme=dark] .colab-df-convert {\n",
              "      background-color: #3B4455;\n",
              "      fill: #D2E3FC;\n",
              "    }\n",
              "\n",
              "    [theme=dark] .colab-df-convert:hover {\n",
              "      background-color: #434B5C;\n",
              "      box-shadow: 0px 1px 3px 1px rgba(0, 0, 0, 0.15);\n",
              "      filter: drop-shadow(0px 1px 2px rgba(0, 0, 0, 0.3));\n",
              "      fill: #FFFFFF;\n",
              "    }\n",
              "  </style>\n",
              "\n",
              "      <script>\n",
              "        const buttonEl =\n",
              "          document.querySelector('#df-75c3ba1c-8835-412f-8833-98aca74c2729 button.colab-df-convert');\n",
              "        buttonEl.style.display =\n",
              "          google.colab.kernel.accessAllowed ? 'block' : 'none';\n",
              "\n",
              "        async function convertToInteractive(key) {\n",
              "          const element = document.querySelector('#df-75c3ba1c-8835-412f-8833-98aca74c2729');\n",
              "          const dataTable =\n",
              "            await google.colab.kernel.invokeFunction('convertToInteractive',\n",
              "                                                     [key], {});\n",
              "          if (!dataTable) return;\n",
              "\n",
              "          const docLinkHtml = 'Like what you see? Visit the ' +\n",
              "            '<a target=\"_blank\" href=https://colab.research.google.com/notebooks/data_table.ipynb>data table notebook</a>'\n",
              "            + ' to learn more about interactive tables.';\n",
              "          element.innerHTML = '';\n",
              "          dataTable['output_type'] = 'display_data';\n",
              "          await google.colab.output.renderOutput(dataTable, element);\n",
              "          const docLink = document.createElement('div');\n",
              "          docLink.innerHTML = docLinkHtml;\n",
              "          element.appendChild(docLink);\n",
              "        }\n",
              "      </script>\n",
              "    </div>\n",
              "  </div>\n",
              "  "
            ]
          },
          "metadata": {},
          "execution_count": 18
        }
      ]
    },
    {
      "cell_type": "code",
      "source": [
        "# 빈 공간이 생기지 않을까? -> 결측값이 만들어졌을까?\n",
        "\n",
        "train_data[\"document\"] = train_data[\"document\"].str.replace('^ +',\"\")\n",
        "train_data['document'].replace('', np.nan, inplace = True) # 빈 공간을 nan으로\n",
        "print(train_data.isnull().sum())"
      ],
      "metadata": {
        "colab": {
          "base_uri": "https://localhost:8080/"
        },
        "id": "pU9RnsunUIye",
        "outputId": "0e92ec41-5e98-4a9c-ef48-f9b00a51fce2"
      },
      "execution_count": 19,
      "outputs": [
        {
          "output_type": "stream",
          "name": "stdout",
          "text": [
            "id            0\n",
            "document    107\n",
            "label         0\n",
            "dtype: int64\n"
          ]
        },
        {
          "output_type": "stream",
          "name": "stderr",
          "text": [
            "<ipython-input-19-5b1122e0ef76>:3: FutureWarning: The default value of regex will change from True to False in a future version.\n",
            "  train_data[\"document\"] = train_data[\"document\"].str.replace('^ +',\"\")\n"
          ]
        }
      ]
    },
    {
      "cell_type": "code",
      "source": [
        "# 실제로 확인\n",
        "\n",
        "train_data.loc[train_data.document.isnull()].head()"
      ],
      "metadata": {
        "colab": {
          "base_uri": "https://localhost:8080/",
          "height": 206
        },
        "id": "D-BY6GdBVYkP",
        "outputId": "15912cae-e14f-4665-c691-ce86baf84a2b"
      },
      "execution_count": 21,
      "outputs": [
        {
          "output_type": "execute_result",
          "data": {
            "text/plain": [
              "           id document  label\n",
              "404   4221289      NaN      0\n",
              "412   9509970      NaN      1\n",
              "470  10147571      NaN      1\n",
              "584   7117896      NaN      0\n",
              "593   6478189      NaN      0"
            ],
            "text/html": [
              "\n",
              "  <div id=\"df-572508c3-f622-459e-8115-41ffbb1704de\">\n",
              "    <div class=\"colab-df-container\">\n",
              "      <div>\n",
              "<style scoped>\n",
              "    .dataframe tbody tr th:only-of-type {\n",
              "        vertical-align: middle;\n",
              "    }\n",
              "\n",
              "    .dataframe tbody tr th {\n",
              "        vertical-align: top;\n",
              "    }\n",
              "\n",
              "    .dataframe thead th {\n",
              "        text-align: right;\n",
              "    }\n",
              "</style>\n",
              "<table border=\"1\" class=\"dataframe\">\n",
              "  <thead>\n",
              "    <tr style=\"text-align: right;\">\n",
              "      <th></th>\n",
              "      <th>id</th>\n",
              "      <th>document</th>\n",
              "      <th>label</th>\n",
              "    </tr>\n",
              "  </thead>\n",
              "  <tbody>\n",
              "    <tr>\n",
              "      <th>404</th>\n",
              "      <td>4221289</td>\n",
              "      <td>NaN</td>\n",
              "      <td>0</td>\n",
              "    </tr>\n",
              "    <tr>\n",
              "      <th>412</th>\n",
              "      <td>9509970</td>\n",
              "      <td>NaN</td>\n",
              "      <td>1</td>\n",
              "    </tr>\n",
              "    <tr>\n",
              "      <th>470</th>\n",
              "      <td>10147571</td>\n",
              "      <td>NaN</td>\n",
              "      <td>1</td>\n",
              "    </tr>\n",
              "    <tr>\n",
              "      <th>584</th>\n",
              "      <td>7117896</td>\n",
              "      <td>NaN</td>\n",
              "      <td>0</td>\n",
              "    </tr>\n",
              "    <tr>\n",
              "      <th>593</th>\n",
              "      <td>6478189</td>\n",
              "      <td>NaN</td>\n",
              "      <td>0</td>\n",
              "    </tr>\n",
              "  </tbody>\n",
              "</table>\n",
              "</div>\n",
              "      <button class=\"colab-df-convert\" onclick=\"convertToInteractive('df-572508c3-f622-459e-8115-41ffbb1704de')\"\n",
              "              title=\"Convert this dataframe to an interactive table.\"\n",
              "              style=\"display:none;\">\n",
              "        \n",
              "  <svg xmlns=\"http://www.w3.org/2000/svg\" height=\"24px\"viewBox=\"0 0 24 24\"\n",
              "       width=\"24px\">\n",
              "    <path d=\"M0 0h24v24H0V0z\" fill=\"none\"/>\n",
              "    <path d=\"M18.56 5.44l.94 2.06.94-2.06 2.06-.94-2.06-.94-.94-2.06-.94 2.06-2.06.94zm-11 1L8.5 8.5l.94-2.06 2.06-.94-2.06-.94L8.5 2.5l-.94 2.06-2.06.94zm10 10l.94 2.06.94-2.06 2.06-.94-2.06-.94-.94-2.06-.94 2.06-2.06.94z\"/><path d=\"M17.41 7.96l-1.37-1.37c-.4-.4-.92-.59-1.43-.59-.52 0-1.04.2-1.43.59L10.3 9.45l-7.72 7.72c-.78.78-.78 2.05 0 2.83L4 21.41c.39.39.9.59 1.41.59.51 0 1.02-.2 1.41-.59l7.78-7.78 2.81-2.81c.8-.78.8-2.07 0-2.86zM5.41 20L4 18.59l7.72-7.72 1.47 1.35L5.41 20z\"/>\n",
              "  </svg>\n",
              "      </button>\n",
              "      \n",
              "  <style>\n",
              "    .colab-df-container {\n",
              "      display:flex;\n",
              "      flex-wrap:wrap;\n",
              "      gap: 12px;\n",
              "    }\n",
              "\n",
              "    .colab-df-convert {\n",
              "      background-color: #E8F0FE;\n",
              "      border: none;\n",
              "      border-radius: 50%;\n",
              "      cursor: pointer;\n",
              "      display: none;\n",
              "      fill: #1967D2;\n",
              "      height: 32px;\n",
              "      padding: 0 0 0 0;\n",
              "      width: 32px;\n",
              "    }\n",
              "\n",
              "    .colab-df-convert:hover {\n",
              "      background-color: #E2EBFA;\n",
              "      box-shadow: 0px 1px 2px rgba(60, 64, 67, 0.3), 0px 1px 3px 1px rgba(60, 64, 67, 0.15);\n",
              "      fill: #174EA6;\n",
              "    }\n",
              "\n",
              "    [theme=dark] .colab-df-convert {\n",
              "      background-color: #3B4455;\n",
              "      fill: #D2E3FC;\n",
              "    }\n",
              "\n",
              "    [theme=dark] .colab-df-convert:hover {\n",
              "      background-color: #434B5C;\n",
              "      box-shadow: 0px 1px 3px 1px rgba(0, 0, 0, 0.15);\n",
              "      filter: drop-shadow(0px 1px 2px rgba(0, 0, 0, 0.3));\n",
              "      fill: #FFFFFF;\n",
              "    }\n",
              "  </style>\n",
              "\n",
              "      <script>\n",
              "        const buttonEl =\n",
              "          document.querySelector('#df-572508c3-f622-459e-8115-41ffbb1704de button.colab-df-convert');\n",
              "        buttonEl.style.display =\n",
              "          google.colab.kernel.accessAllowed ? 'block' : 'none';\n",
              "\n",
              "        async function convertToInteractive(key) {\n",
              "          const element = document.querySelector('#df-572508c3-f622-459e-8115-41ffbb1704de');\n",
              "          const dataTable =\n",
              "            await google.colab.kernel.invokeFunction('convertToInteractive',\n",
              "                                                     [key], {});\n",
              "          if (!dataTable) return;\n",
              "\n",
              "          const docLinkHtml = 'Like what you see? Visit the ' +\n",
              "            '<a target=\"_blank\" href=https://colab.research.google.com/notebooks/data_table.ipynb>data table notebook</a>'\n",
              "            + ' to learn more about interactive tables.';\n",
              "          element.innerHTML = '';\n",
              "          dataTable['output_type'] = 'display_data';\n",
              "          await google.colab.output.renderOutput(dataTable, element);\n",
              "          const docLink = document.createElement('div');\n",
              "          docLink.innerHTML = docLinkHtml;\n",
              "          element.appendChild(docLink);\n",
              "        }\n",
              "      </script>\n",
              "    </div>\n",
              "  </div>\n",
              "  "
            ]
          },
          "metadata": {},
          "execution_count": 21
        }
      ]
    },
    {
      "cell_type": "code",
      "source": [
        "# 결측치 제거\n",
        "\n",
        "train_data.dropna(how=\"any\", inplace=True) # how=\"any\" -> 행에 결측치가 하나라도 있으면 날리기\n",
        "print(len(train_data))"
      ],
      "metadata": {
        "colab": {
          "base_uri": "https://localhost:8080/"
        },
        "id": "oz1O-DKVWRxN",
        "outputId": "609e347f-13da-4d9c-86bb-a2bf2334cb2a"
      },
      "execution_count": 22,
      "outputs": [
        {
          "output_type": "stream",
          "name": "stdout",
          "text": [
            "14726\n"
          ]
        }
      ]
    },
    {
      "cell_type": "code",
      "source": [
        "# test data 도 동일한 과정으로 정제!\n",
        "\n",
        "test_data.drop_duplicates(subset = ['document'], inplace = True)\n",
        "test_data['document'] = test_data['document'].str.replace(\"[^ㄱ-ㅎㅏ-ㅣ가-힣 ]\",\"\")\n",
        "test_data['document'] = test_data['document'].str.replace(\"^[ㄱ-ㅎ]+\", \"\")\n",
        "test_data['document'] = test_data['document'].str.replace('^ +',\"\")\n",
        "test_data['document'].replace('', np.nan, inplace = True)\n",
        "test_data.dropna(how = 'any', inplace = True)\n",
        "print(len(test_data))"
      ],
      "metadata": {
        "colab": {
          "base_uri": "https://localhost:8080/"
        },
        "id": "7sOe1AA7W3Fo",
        "outputId": "cf8b51fa-3d4c-4a45-dd32-f58ffe2da3b4"
      },
      "execution_count": 23,
      "outputs": [
        {
          "output_type": "stream",
          "name": "stdout",
          "text": [
            "4913\n"
          ]
        },
        {
          "output_type": "stream",
          "name": "stderr",
          "text": [
            "<ipython-input-23-7629a8a05c3d>:4: FutureWarning: The default value of regex will change from True to False in a future version.\n",
            "  test_data['document'] = test_data['document'].str.replace(\"[^ㄱ-ㅎㅏ-ㅣ가-힣 ]\",\"\")\n",
            "<ipython-input-23-7629a8a05c3d>:5: FutureWarning: The default value of regex will change from True to False in a future version.\n",
            "  test_data['document'] = test_data['document'].str.replace(\"^[ㄱ-ㅎ]+\", \"\")\n",
            "<ipython-input-23-7629a8a05c3d>:6: FutureWarning: The default value of regex will change from True to False in a future version.\n",
            "  test_data['document'] = test_data['document'].str.replace('^ +',\"\")\n"
          ]
        }
      ]
    },
    {
      "cell_type": "code",
      "source": [
        "# 불용어 정의\n",
        "\n",
        "stopwords = ['의', '가', '는', '은', '들', '는', '를', '으로']"
      ],
      "metadata": {
        "id": "pMZtStDtW5hm"
      },
      "execution_count": 24,
      "outputs": []
    },
    {
      "cell_type": "code",
      "source": [
        "# 형태소 분석\n",
        "\n",
        "okt = Okt()\n",
        "okt.morphs('아 배고파 붕어빵 먹고싶다... 빨리')"
      ],
      "metadata": {
        "colab": {
          "base_uri": "https://localhost:8080/"
        },
        "id": "iwDkxhseW75G",
        "outputId": "d0f5aa62-5b35-4c63-bfba-a5df9a396756"
      },
      "execution_count": 25,
      "outputs": [
        {
          "output_type": "execute_result",
          "data": {
            "text/plain": [
              "['아', '배고파', '붕어빵', '먹고싶다', '...', '빨리']"
            ]
          },
          "metadata": {},
          "execution_count": 25
        }
      ]
    },
    {
      "cell_type": "code",
      "source": [
        "okt.morphs('아 배고파 붕어빵 먹고싶다... 빨리', stem = True)"
      ],
      "metadata": {
        "colab": {
          "base_uri": "https://localhost:8080/"
        },
        "id": "IUMxHeuSW9uf",
        "outputId": "0594ad07-71b1-469b-fe57-770f3eb617cf"
      },
      "execution_count": 26,
      "outputs": [
        {
          "output_type": "execute_result",
          "data": {
            "text/plain": [
              "['아', '배고프다', '붕어빵', '먹다', '...', '빨리']"
            ]
          },
          "metadata": {},
          "execution_count": 26
        }
      ]
    },
    {
      "cell_type": "markdown",
      "source": [
        "norm옵션 : 그래욬ㅋㅋ -> 그래요 처럼 변환해주는 옵션\n",
        "\n",
        "stem옵션 : 원형을 찾아주는 옵션 (그래요 -> 그렇다)"
      ],
      "metadata": {
        "id": "-EG8eFNNXer3"
      }
    },
    {
      "cell_type": "code",
      "source": [
        "# tqdm : 작업의 진행상황을 시각화 해준다.\n",
        "# 모든 댓글을 형태소로 나누기\n",
        "\n",
        "X_train = []\n",
        "for sentence in tqdm(train_data['document']):\n",
        "  tokenized_sentence = okt.morphs(sentence, stem = True) #형태소 분석\n",
        "  stopwords_removed_token = [word for word in tokenized_sentence if not word in stopwords] #불용어 제거\n",
        "  X_train.append(stopwords_removed_token)"
      ],
      "metadata": {
        "colab": {
          "base_uri": "https://localhost:8080/"
        },
        "id": "Y7j_yRgAXgSO",
        "outputId": "daee3968-d3b4-4e99-dd1c-e7b635c0fe89"
      },
      "execution_count": 27,
      "outputs": [
        {
          "output_type": "stream",
          "name": "stderr",
          "text": [
            "100%|██████████| 14726/14726 [01:03<00:00, 231.85it/s]\n"
          ]
        }
      ]
    },
    {
      "cell_type": "code",
      "source": [
        "X_test = []\n",
        "for sentence in tqdm(test_data['document']):\n",
        "  tokenized_sentence = okt.morphs(sentence, stem = True) #형태소 분석\n",
        "  stopwords_removed_token = [word for word in tokenized_sentence if not word in stopwords] #불용어 제거\n",
        "  X_test.append(stopwords_removed_token)"
      ],
      "metadata": {
        "colab": {
          "base_uri": "https://localhost:8080/"
        },
        "id": "ODksAGRiXoku",
        "outputId": "c607cb72-a67c-495f-fea4-37ddc9d9669d"
      },
      "execution_count": 28,
      "outputs": [
        {
          "output_type": "stream",
          "name": "stderr",
          "text": [
            "100%|██████████| 4913/4913 [00:19<00:00, 251.02it/s]\n"
          ]
        }
      ]
    },
    {
      "cell_type": "code",
      "source": [
        "train_data.head(3)"
      ],
      "metadata": {
        "colab": {
          "base_uri": "https://localhost:8080/",
          "height": 143
        },
        "id": "bIZ3f2cXX7FH",
        "outputId": "ee2f18b8-f03b-4b87-f845-dfee4bc24103"
      },
      "execution_count": 29,
      "outputs": [
        {
          "output_type": "execute_result",
          "data": {
            "text/plain": [
              "         id                    document  label\n",
              "0   9976970           아 더빙 진짜 짜증나네요 목소리      0\n",
              "1   3819312  흠포스터보고 초딩영화줄오버연기조차 가볍지 않구나      1\n",
              "2  10265843           너무재밓었다그래서보는것을추천한다      0"
            ],
            "text/html": [
              "\n",
              "  <div id=\"df-b9132024-4f9b-4237-9c7c-085c768aa568\">\n",
              "    <div class=\"colab-df-container\">\n",
              "      <div>\n",
              "<style scoped>\n",
              "    .dataframe tbody tr th:only-of-type {\n",
              "        vertical-align: middle;\n",
              "    }\n",
              "\n",
              "    .dataframe tbody tr th {\n",
              "        vertical-align: top;\n",
              "    }\n",
              "\n",
              "    .dataframe thead th {\n",
              "        text-align: right;\n",
              "    }\n",
              "</style>\n",
              "<table border=\"1\" class=\"dataframe\">\n",
              "  <thead>\n",
              "    <tr style=\"text-align: right;\">\n",
              "      <th></th>\n",
              "      <th>id</th>\n",
              "      <th>document</th>\n",
              "      <th>label</th>\n",
              "    </tr>\n",
              "  </thead>\n",
              "  <tbody>\n",
              "    <tr>\n",
              "      <th>0</th>\n",
              "      <td>9976970</td>\n",
              "      <td>아 더빙 진짜 짜증나네요 목소리</td>\n",
              "      <td>0</td>\n",
              "    </tr>\n",
              "    <tr>\n",
              "      <th>1</th>\n",
              "      <td>3819312</td>\n",
              "      <td>흠포스터보고 초딩영화줄오버연기조차 가볍지 않구나</td>\n",
              "      <td>1</td>\n",
              "    </tr>\n",
              "    <tr>\n",
              "      <th>2</th>\n",
              "      <td>10265843</td>\n",
              "      <td>너무재밓었다그래서보는것을추천한다</td>\n",
              "      <td>0</td>\n",
              "    </tr>\n",
              "  </tbody>\n",
              "</table>\n",
              "</div>\n",
              "      <button class=\"colab-df-convert\" onclick=\"convertToInteractive('df-b9132024-4f9b-4237-9c7c-085c768aa568')\"\n",
              "              title=\"Convert this dataframe to an interactive table.\"\n",
              "              style=\"display:none;\">\n",
              "        \n",
              "  <svg xmlns=\"http://www.w3.org/2000/svg\" height=\"24px\"viewBox=\"0 0 24 24\"\n",
              "       width=\"24px\">\n",
              "    <path d=\"M0 0h24v24H0V0z\" fill=\"none\"/>\n",
              "    <path d=\"M18.56 5.44l.94 2.06.94-2.06 2.06-.94-2.06-.94-.94-2.06-.94 2.06-2.06.94zm-11 1L8.5 8.5l.94-2.06 2.06-.94-2.06-.94L8.5 2.5l-.94 2.06-2.06.94zm10 10l.94 2.06.94-2.06 2.06-.94-2.06-.94-.94-2.06-.94 2.06-2.06.94z\"/><path d=\"M17.41 7.96l-1.37-1.37c-.4-.4-.92-.59-1.43-.59-.52 0-1.04.2-1.43.59L10.3 9.45l-7.72 7.72c-.78.78-.78 2.05 0 2.83L4 21.41c.39.39.9.59 1.41.59.51 0 1.02-.2 1.41-.59l7.78-7.78 2.81-2.81c.8-.78.8-2.07 0-2.86zM5.41 20L4 18.59l7.72-7.72 1.47 1.35L5.41 20z\"/>\n",
              "  </svg>\n",
              "      </button>\n",
              "      \n",
              "  <style>\n",
              "    .colab-df-container {\n",
              "      display:flex;\n",
              "      flex-wrap:wrap;\n",
              "      gap: 12px;\n",
              "    }\n",
              "\n",
              "    .colab-df-convert {\n",
              "      background-color: #E8F0FE;\n",
              "      border: none;\n",
              "      border-radius: 50%;\n",
              "      cursor: pointer;\n",
              "      display: none;\n",
              "      fill: #1967D2;\n",
              "      height: 32px;\n",
              "      padding: 0 0 0 0;\n",
              "      width: 32px;\n",
              "    }\n",
              "\n",
              "    .colab-df-convert:hover {\n",
              "      background-color: #E2EBFA;\n",
              "      box-shadow: 0px 1px 2px rgba(60, 64, 67, 0.3), 0px 1px 3px 1px rgba(60, 64, 67, 0.15);\n",
              "      fill: #174EA6;\n",
              "    }\n",
              "\n",
              "    [theme=dark] .colab-df-convert {\n",
              "      background-color: #3B4455;\n",
              "      fill: #D2E3FC;\n",
              "    }\n",
              "\n",
              "    [theme=dark] .colab-df-convert:hover {\n",
              "      background-color: #434B5C;\n",
              "      box-shadow: 0px 1px 3px 1px rgba(0, 0, 0, 0.15);\n",
              "      filter: drop-shadow(0px 1px 2px rgba(0, 0, 0, 0.3));\n",
              "      fill: #FFFFFF;\n",
              "    }\n",
              "  </style>\n",
              "\n",
              "      <script>\n",
              "        const buttonEl =\n",
              "          document.querySelector('#df-b9132024-4f9b-4237-9c7c-085c768aa568 button.colab-df-convert');\n",
              "        buttonEl.style.display =\n",
              "          google.colab.kernel.accessAllowed ? 'block' : 'none';\n",
              "\n",
              "        async function convertToInteractive(key) {\n",
              "          const element = document.querySelector('#df-b9132024-4f9b-4237-9c7c-085c768aa568');\n",
              "          const dataTable =\n",
              "            await google.colab.kernel.invokeFunction('convertToInteractive',\n",
              "                                                     [key], {});\n",
              "          if (!dataTable) return;\n",
              "\n",
              "          const docLinkHtml = 'Like what you see? Visit the ' +\n",
              "            '<a target=\"_blank\" href=https://colab.research.google.com/notebooks/data_table.ipynb>data table notebook</a>'\n",
              "            + ' to learn more about interactive tables.';\n",
              "          element.innerHTML = '';\n",
              "          dataTable['output_type'] = 'display_data';\n",
              "          await google.colab.output.renderOutput(dataTable, element);\n",
              "          const docLink = document.createElement('div');\n",
              "          docLink.innerHTML = docLinkHtml;\n",
              "          element.appendChild(docLink);\n",
              "        }\n",
              "      </script>\n",
              "    </div>\n",
              "  </div>\n",
              "  "
            ]
          },
          "metadata": {},
          "execution_count": 29
        }
      ]
    },
    {
      "cell_type": "code",
      "source": [
        "X_train[:3]"
      ],
      "metadata": {
        "colab": {
          "base_uri": "https://localhost:8080/"
        },
        "id": "l3msvE_0YAVm",
        "outputId": "d8a3e824-60fb-45b0-81fb-14e8e8629491"
      },
      "execution_count": 30,
      "outputs": [
        {
          "output_type": "execute_result",
          "data": {
            "text/plain": [
              "[['아', '더빙', '진짜', '짜증나다', '목소리'],\n",
              " ['흠', '포스터', '보고', '초딩', '영화', '줄', '오버', '연기', '조차', '가볍다', '않다'],\n",
              " ['너', '무재', '밓었', '다그', '래서', '보다', '추천', '한', '다']]"
            ]
          },
          "metadata": {},
          "execution_count": 30
        }
      ]
    },
    {
      "cell_type": "code",
      "source": [
        "# 모든 단어를 토큰화 한다.\n",
        "\n",
        "tokenizer = Tokenizer()\n",
        "tokenizer.fit_on_texts(X_train)"
      ],
      "metadata": {
        "id": "M4RF0Zd2YBM-"
      },
      "execution_count": 31,
      "outputs": []
    },
    {
      "cell_type": "code",
      "source": [
        "print(tokenizer.word_index)"
      ],
      "metadata": {
        "colab": {
          "base_uri": "https://localhost:8080/"
        },
        "id": "kG5_-onsYDC2",
        "outputId": "effdf96b-e3ca-4355-f15b-298e1f8f3ce2"
      },
      "execution_count": 32,
      "outputs": [
        {
          "output_type": "stream",
          "name": "stdout",
          "text": [
            "{'이': 1, '영화': 2, '보다': 3, '하다': 4, '에': 5, '을': 6, '도': 7, '없다': 8, '이다': 9, '있다': 10, '좋다': 11, '너무': 12, '다': 13, '한': 14, '정말': 15, '만': 16, '재밌다': 17, '적': 18, '되다': 19, '같다': 20, '진짜': 21, '로': 22, '아니다': 23, '점': 24, '않다': 25, '에서': 26, '만들다': 27, '연기': 28, '과': 29, '나오다': 30, '평점': 31, '것': 32, '최고': 33, '안': 34, '인': 35, '내': 36, '나': 37, '못': 38, '그': 39, '스토리': 40, '왜': 41, '드라마': 42, '생각': 43, '사람': 44, '감동': 45, '보고': 46, '이렇다': 47, '게': 48, '고': 49, '아깝다': 50, '때': 51, '감독': 52, '더': 53, '말': 54, '그냥': 55, '재미': 56, '배우': 57, 'ㅋㅋ': 58, '시간': 59, '와': 60, '거': 61, '아': 62, '재미없다': 63, '요': 64, '재미있다': 65, '까지': 66, '내용': 67, '하고': 68, '자다': 69, '지루하다': 70, '중': 71, '뭐': 72, '주다': 73, '네': 74, '가다': 75, '쓰레기': 76, '좀': 77, '모르다': 78, '작품': 79, '수': 80, '지': 81, '들다': 82, '알다': 83, '싶다': 84, '하나': 85, '사랑': 86, '그렇다': 87, '정도': 88, '이건': 89, '볼': 90, '다시': 91, '잘': 92, '이렇게': 93, '액션': 94, 'ㅠㅠ': 95, '마지막': 96, '저': 97, '차다': 98, '처음': 99, '완전': 100, 'ㅋ': 101, '개': 102, '최악': 103, '연출': 104, '기': 105, '느낌': 106, '주인공': 107, '오다': 108, '돈': 109, '걸': 110, '역시': 111, '많다': 112, 'ㅡㅡ': 113, '지금': 114, '나다': 115, '하': 116, '이야기': 117, '장면': 118, '끝': 119, 'ㅋㅋㅋ': 120, '안되다': 121, '임': 122, '명작': 123, '라': 124, '받다': 125, '년': 126, '별로': 127, '별': 128, '넘다': 129, '남다': 130, '부터': 131, '인데': 132, '일': 133, '많이': 134, '좋아하다': 135, '면': 136, '이나': 137, '그리고': 138, '버리다': 139, '이고': 140, '서': 141, '라고': 142, '꼭': 143, '괜찮다': 144, '듯': 145, '이영화': 146, '해주다': 147, '또': 148, '대': 149, '느끼다': 150, '아름답다': 151, '분': 152, '이런': 153, '인생': 154, '먹다': 155, '에게': 156, '난': 157, '때문': 158, '엔': 159, '소재': 160, '이해': 161, '무슨': 162, '어떻다': 163, '성': 164, '야': 165, '멋지다': 166, '두': 167, '영': 168, '결말': 169, '여': 170, '한번': 171, '전': 172, '보기': 173, '줄': 174, '기억': 175, '유치하다': 176, '뻔하다': 177, '마음': 178, '매력': 179, '남자': 180, '여자': 181, '되어다': 182, '급': 183, '무섭다': 184, '아쉽다': 185, '없이': 186, '랑': 187, '뿐': 188, '모든': 189, '어리다': 190, '현실': 191, '가장': 192, '인간': 193, '허다': 194, '지만': 195, '웃기다': 196, '끄다': 197, '라는': 198, '짱': 199, '죽다': 200, '알': 201, '쓰다': 202, '속': 203, '가슴': 204, '끝나다': 205, '애': 206, '편': 207, '수준': 208, '냐': 209, '음악': 210, '본': 211, '보여주다': 212, '씨': 213, '낮다': 214, 'ㅎㅎ': 215, '님': 216, '맞다': 217, '높다': 218, '이쁘다': 219, '슬프다': 220, '실망': 221, '니': 222, '재다': 223, '크다': 224, '전개': 225, '지다': 226, '찍다': 227, '번': 228, '솔직하다': 229, '말다': 230, '개봉': 231, '제': 232, '추천': 233, '캐릭터': 234, '인가': 235, '화': 236, '내다': 237, '건지다': 238, '제목': 239, '늘다': 240, '함': 241, '공감': 242, '반전': 243, '살다': 244, '아이': 245, '인지': 246, '한국': 247, '다른': 248, '미치다': 249, '하지만': 250, '표현': 251, '대한': 252, '눈': 253, '눈물': 254, '우리': 255, '원작': 256, '일본': 257, 'ㅋㅋㅋㅋ': 258, '위': 259, '대단하다': 260, '이라': 261, '돼다': 262, '여운': 263, '코미디': 264, '모두': 265, '자체': 266, '근데': 267, 'ㅠ': 268, '시리즈': 269, '뭔': 270, '움': 271, '모습': 272, '처럼': 273, '야하다': 274, '뭔가': 275, '영상': 276, '연': 277, '떨어지다': 278, '가족': 279, '이네': 280, '잔잔하다': 281, '전혀': 282, '기대하다': 283, '계속': 284, '연기력': 285, '믿다': 286, '이상': 287, '짜증나다': 288, '빠지다': 289, '에는': 290, '시키다': 291, '잇다': 292, '보이다': 293, '작가': 294, '깊다': 295, '이제': 296, '기대': 297, '부분': 298, '욕': 299, '자': 300, '웃다': 301, '이랑': 302, '기분': 303, '울다': 304, '중간': 305, '짜다': 306, '이란': 307, '밖에': 308, '보지': 309, '건': 310, '아주': 311, '몰입': 312, '작': 313, '내내': 314, '감': 315, '애니': 316, 'ㅜㅜ': 317, '진심': 318, '이유': 319, '긴장감': 320, '이라는': 321, '한테': 322, '그래도': 323, '극장': 324, '요즘': 325, '용': 326, '시': 327, '이라고': 328, '나름': 329, '대박': 330, '잼': 331, '노래': 332, '력': 333, '후': 334, '개인': 335, '치다': 336, '절대': 337, '삶': 338, '찾다': 339, '점도': 340, '특히': 341, '걍': 342, '아직도': 343, '막장': 344, '느껴지다': 345, '오랜': 346, '귀엽다': 347, '스릴러': 348, '딱': 349, '물': 350, '년대': 351, '인상': 352, '당시': 353, '굿': 354, '제대로': 355, '어': 356, '예쁘다': 357, '친구': 358, '점수': 359, '공포': 360, '놈': 361, '몇': 362, '이상하다': 363, '따뜻하다': 364, '남': 365, '에도': 366, '세상': 367, '엄청': 368, '라면': 369, '접': 370, '포스터': 371, '보단': 372, '노잼': 373, '졸작': 374, '설정': 375, 'ㅎ': 376, '알바': 377, '훌륭하다': 378, '써다': 379, '수작': 380, '조금': 381, '한국영': 382, '자신': 383, '배경': 384, '이지': 385, '공포영화': 386, '너': 387, '극': 388, '전쟁': 389, '멋있다': 390, '장난': 391, '빼다': 392, '데': 393, '신선하다': 394, '따다': 395, '가지': 396, '여주': 397, '식': 398, '우리나라': 399, '어설프다': 400, '문제': 401, '추억': 402, '대사': 403, '해보다': 404, '앞': 405, '시나리오': 406, '무엇': 407, '위해': 408, '죽이다': 409, '첨': 410, '세': 411, '초반': 412, '시작': 413, '미국': 414, '류': 415, '기다': 416, '결국': 417, '봄': 418, '함께': 419, '마다': 420, '대다': 421, '웃음': 422, '뭘': 423, '더럽다': 424, '영화로': 425, '이딴': 426, '팬': 427, '아프다': 428, '반': 429, '원': 430, '스럽다': 431, '아무': 432, '부족하다': 433, '안타깝다': 434, '영화관': 435, '의미': 436, '나가다': 437, '제일': 438, '어디': 439, '충분하다': 440, '책': 441, '사실': 442, '생각나다': 443, '같이': 444, '필요없다': 445, '배우다': 446, '정신': 447, '오': 448, '대해': 449, '기도': 450, '시대': 451, '차라리': 452, '두다': 453, '상': 454, '잊다': 455, '음': 456, '최고다': 457, '이지만': 458, '씬': 459, '이야': 460, '도대체': 461, '해': 462, '힘들다': 463, '티비': 464, '소리': 465, '어이없다': 466, '질': 467, '출연': 468, '캐스팅': 469, '쓸다': 470, '다르다': 471, '간': 472, '그저': 473, '건가': 474, '매우': 475, '서다': 476, '후회': 477, '웃기': 478, '구성': 479, '지루함': 480, '그렇게': 481, '만화': 482, '관객': 483, '맘': 484, '쯤': 485, '읽다': 486, '엄마': 487, '놀라다': 488, '장르': 489, '갈수록': 490, '명': 491, '유쾌하다': 492, '니까': 493, '완벽하다': 494, '코믹': 495, '답답하다': 496, '비다': 497, '얼굴': 498, '집중': 499, '순수하다': 500, '놓다': 501, '나이': 502, '아직': 503, '즐겁다': 504, '엉': 505, '소름': 506, '뒤': 507, '그대로': 508, '몰입도': 509, '살': 510, '오늘': 511, '한마디': 512, '생기다': 513, '얼마나': 514, '옛날': 515, '준': 516, '총': 517, '낫다': 518, '진부하다': 519, '밉다': 520, '머': 521, '멀다': 522, '궁금하다': 523, '울': 524, '살리다': 525, '평가': 526, '충격': 527, '회': 528, '그리다': 529, '개연': 530, '주': 531, '엔딩': 532, '분위기': 533, '훨씬': 534, '이라도': 535, '싫다': 536, '역사': 537, '제발': 538, '날': 539, '시절': 540, '이후': 541, '자기': 542, '분들': 543, '그래서': 544, '발연기': 545, '이리': 546, '대체': 547, '소설': 548, '집': 549, '너무나': 550, '심하다': 551, '사랑스럽다': 552, '망하다': 553, '누가': 554, '어색하다': 555, '누구': 556, '걸작': 557, '실화': 558, '만큼': 559, '어울리다': 560, '잔인하다': 561, '나쁘다': 562, 'ㅡ': 563, '아무리': 564, '갑자기': 565, '약간': 566, '간만': 567, '만점': 568, '영화인': 569, '억': 570, '더빙': 571, '언제': 572, '예전': 573, '새롭다': 574, '킬링타임': 575, '로맨스': 576, '상당하다': 577, '편이': 578, '애니메이션': 579, '떠나다': 580, '여기': 581, '존나': 582, '꽤': 583, '이르다': 584, '비': 585, '스릴': 586, '여배우': 587, '얘기': 588, '머리': 589, '돋다': 590, '해도': 591, '그것': 592, '구': 593, '주제': 594, '성룡': 595, '어렵다': 596, '돌리다': 597, '그러나': 598, '든': 599, '탄탄하다': 600, '중국': 601, '필요하다': 602, '다운': 603, '그런': 604, '코': 605, '다큐': 606, '흥행': 607, '강추': 608, '아들': 609, '어느': 610, '당하다': 611, '등': 612, '부': 613, '진': 614, '따르다': 615, '들이다': 616, '쉬다': 617, '그나마': 618, '안보': 619, '시즌': 620, '초딩': 621, '전부': 622, '그만': 623, '방송': 624, '극장판': 625, '비디오': 626, '바라다': 627, '터지다': 628, '드리다': 629, '타다': 630, '재': 631, '발': 632, '화려하다': 633, '신': 634, 'ㅉㅉ': 635, '교훈': 636, '년도': 637, '순간': 638, '히': 639, '네이버': 640, '이름': 641, '복수': 642, '엄청나다': 643, '예술': 644, '좀비': 645, '죠': 646, '맛': 647, '감정': 648, '걸리다': 649, '답': 650, '인물': 651, '풀다': 652, '아버지': 653, '선': 654, '주연': 655, '만나다': 656, '달다': 657, '낭비': 658, '행복하다': 659, '소': 660, '짜증': 661, '비슷하다': 662, '상황': 663, '년전': 664, '한편': 665, '죽': 666, '판': 667, '오글거리다': 668, '당신': 669, '말고': 670, '동안': 671, '담다': 672, '몇번': 673, '적다': 674, '점점': 675, '게임': 676, '피': 677, '보': 678, '세계': 679, '어디서': 680, '끼다': 681, '사회': 682, '똥': 683, '단': 684, '며': 685, '감사하다': 686, '참고': 687, '전체': 688, '요소': 689, '선택': 690, '비교': 691, '거의': 692, '밑': 693, '가볍다': 694, '작다': 695, '그녀': 696, '비추다': 697, '키': 698, '확실하다': 699, '조': 700, '곳': 701, '화면': 702, '각본': 703, '진정하다': 704, '이기다': 705, '어른': 706, '모': 707, '에선': 708, '산': 709, '라서': 710, '또한': 711, '화가': 712, '판타지': 713, '꿈': 714, '라니': 715, '씩': 716, '흐르다': 717, '보내다': 718, '그게': 719, '존재': 720, '지나다': 721, '배': 722, '더욱': 723, '귀': 724, '흠': 725, '감성': 726, '빨리': 727, '만들어지다': 728, '딸': 729, 'ㅜ': 730, '장': 731, '휴': 732, '질질': 733, '싸우다': 734, '형': 735, '삼류': 736, '불쌍하다': 737, '점주': 738, '상미': 739, '만하': 740, '독특하다': 741, '햇': 742, '힘': 743, '글': 744, '멜로': 745, '뻔': 746, '혼자': 747, '노력': 748, '시청률': 749, '에요': 750, '짧다': 751, '망치다': 752, '남기다': 753, '억지': 754, '약하다': 755, '제작': 756, '보다는': 757, '평': 758, '무조건': 759, '돋보이다': 760, '올': 761, '라도': 762, '간다': 763, '인거': 764, '에서도': 765, '자극': 766, '나서다': 767, '끌다': 768, '즐기다': 769, '전작': 770, '성하다': 771, '만의': 772, '맞추다': 773, '소녀': 774, '으로도': 775, '원래': 776, '불편하다': 777, '다루다': 778, '막': 779, '사': 780, '바로': 781, '후반': 782, '재밋': 783, '완성': 784, '힘드다': 785, '필요': 786, '가보다': 787, '거기': 788, '메세지': 789, '개그': 790, '사건': 791, '괜히': 792, '상영': 793, '최근': 794, '철학': 795, '식상하다': 796, '군': 797, '소중하다': 798, '다니다': 799, '온': 800, '술': 801, 'ㅎㅎㅎ': 802, '헐다': 803, '왠만하다': 804, '으': 805, '드': 806, '실망하다': 807, '실제': 808, '미화': 809, '티': 810, '맨': 811, '수가': 812, '이에요': 813, '흔하다': 814, '새끼': 815, '가지다': 816, '줄거리': 817, '결혼': 818, '목소리': 819, '터': 820, '깊이': 821, '이라니': 822, '나르다': 823, '화이팅': 824, '흥미롭다': 825, '래': 826, '그때': 827, '허무하다': 828, '동': 829, '어쩔': 830, '액션영화': 831, '묻다': 832, '한심하다': 833, '걸다': 834, '둘': 835, '흥미진진': 836, '물론': 837, '만으로도': 838, '보이': 839, '뭐라다': 840, '이하': 841, '통해': 842, '너무하다': 843, '취향': 844, '안나': 845, '바': 846, '동화': 847, '예요': 848, '들어가다': 849, '불륜': 850, '흥미': 851, '잡다': 852, '뜨다': 853, '순': 854, '란': 855, '다음': 856, '역겹다': 857, '불다': 858, '거지': 859, '역대': 860, '편집': 861, '당': 862, '감상': 863, '몸': 864, '죄': 865, '갖다': 866, '찾아보다': 867, '조차': 868, '볼때': 869, '노': 870, '뛰어나다': 871, '엉망': 872, '위대하다': 873, '나라': 874, '케이블': 875, '굉장하다': 876, '초': 877, '일단': 878, '귀신': 879, '빠져들다': 880, '굳이': 881, '돌아가다': 882, '예': 883, '의도': 884, '강하다': 885, '이번': 886, '나중': 887, '평론가': 888, '짓': 889, '첫': 890, '죽음': 891, '똑같다': 892, '채널': 893, '메다': 894, '기적': 895, '먼저': 896, '기다리다': 897, '전설': 898, '여러': 899, '전편': 900, '과거': 901, '졸라': 902, '병맛': 903, '희다': 904, '손': 905, 'ㅇ': 906, '살인': 907, '쩔다': 908, '치고': 909, '만이': 910, '넘치다': 911, '훈훈하다': 912, '부르다': 913, '굳다': 914, '대작': 915, '개다': 916, '살아가다': 917, '아빠': 918, '화보': 919, '제작비': 920, '바꾸다': 921, '타': 922, '희망': 923, '용도': 924, '프랑스': 925, '꿀잼': 926, '스타일': 927, '어이': 928, '심리': 929, 'ㅠㅠㅠ': 930, '오히려': 931, '항상': 932, '마': 933, '반개': 934, '평범하다': 935, '심심하다': 936, '억지스럽다': 937, '특유': 938, '이냐': 939, '왠지': 940, '느와르': 941, '암': 942, '감다': 943, '자식': 944, '거리': 945, '열심히': 946, '평생': 947, '흘리다': 948, '속편': 949, '상처': 950, '등장': 951, '타임': 952, '황당하다': 953, '나머지': 954, '끝내다': 955, '아쉬움': 956, '영환': 957, '열': 958, '이기': 959, '단순하다': 960, '빨': 961, '현': 962, '고민': 963, '잠': 964, '언': 965, '겁나다': 966, '몰다': 967, '중요하다': 968, '런가': 969, '땐': 970, '우연히': 971, '그래픽': 972, '스러운': 973, '미안하다': 974, '관계': 975, '스타': 976, '설명': 977, '시도': 978, '팔': 979, '전형': 980, '그런데': 981, '촬영': 982, '졸리다': 983, '학교': 984, '그닥': 985, '과정': 986, '성우': 987, '얻다': 988, '공': 989, '고생': 990, '표정': 991, '드럽다': 992, '표절': 993, '착하다': 994, '계': 995, '가요': 996, 'ㅋㅋㅋㅋㅋ': 997, '왕': 998, '실감': 999, '퀄리티': 1000, '지겹다': 1001, '어린이': 1002, '상상': 1003, '예산': 1004, '돌아오다': 1005, '닿다': 1006, '따라가다': 1007, '가치': 1008, '적당하다': 1009, '조폭': 1010, '핵': 1011, '빌리다': 1012, '길다': 1013, '일이': 1014, '잘못': 1015, '아저씨': 1016, '관람': 1017, '께': 1018, '진지하다': 1019, '기억나다': 1020, '에겐': 1021, '예고편': 1022, '손발': 1023, '오락': 1024, '오빠': 1025, '예상': 1026, '도저히': 1027, '너무나도': 1028, '엿': 1029, '올리다': 1030, '넣다': 1031, '산만하다': 1032, '지난': 1033, '역할': 1034, '참다': 1035, '설레다': 1036, '댓글': 1037, '역': 1038, '성도': 1039, '인하다': 1040, '법': 1041, '펑펑': 1042, '챙기다': 1043, '정말로': 1044, '잃다': 1045, '저런': 1046, '땜': 1047, '문화': 1048, '에서는': 1049, '행동': 1050, '다만': 1051, '까진': 1052, '으로는': 1053, '게이': 1054, '이미': 1055, '일어나다': 1056, '하하': 1057, '마르다': 1058, '참신하다': 1059, '양': 1060, '인정': 1061, '홍콩': 1062, '깔다': 1063, '발견': 1064, '때리다': 1065, '연기자': 1066, '청춘': 1067, '프로': 1068, '묘사': 1069, '천재': 1070, '갈다': 1071, '랄': 1072, '서로': 1073, '엇': 1074, '사라지다': 1075, '관': 1076, '자막': 1077, '숨다': 1078, '섬세하다': 1079, '유치': 1080, '젠': 1081, '여성': 1082, '쏘다': 1083, '으리': 1084, '정': 1085, '심': 1086, '유일하다': 1087, '그림': 1088, '안좋다': 1089, '이제야': 1090, '마무리': 1091, '어찌': 1092, '비극': 1093, '사이': 1094, '반복': 1095, '자꾸': 1096, '중반': 1097, '열정': 1098, '미소': 1099, '용이': 1100, '악역': 1101, '삼': 1102, '진정': 1103, '태어나다': 1104, '실력': 1105, '생': 1106, '괴물': 1107, '색다르다': 1108, '범죄': 1109, '언니': 1110, '불쾌하다': 1111, '보다도': 1112, '마치': 1113, '리얼': 1114, '다소': 1115, '아픔': 1116, '주기': 1117, '바람': 1118, '가끔': 1119, '한계': 1120, '종교': 1121, '신기하다': 1122, '다행': 1123, '에서의': 1124, '자연': 1125, '쓰래': 1126, '안다': 1127, '한다는': 1128, '독립영화': 1129, '따위': 1130, '겠다': 1131, '짐': 1132, '개판': 1133, '잊혀지다': 1134, '대로': 1135, '바보': 1136, '잘만': 1137, '봣': 1138, '커플': 1139, '노답': 1140, '달': 1141, '보시': 1142, '결과': 1143, '낚': 1144, '덥다': 1145, '소름끼치다': 1146, '지루': 1147, '떼다': 1148, '로만': 1149, '학생': 1150, '방법': 1151, '가면': 1152, '완전하다': 1153, '일상': 1154, '차': 1155, '보아': 1156, '지키다': 1157, '지나치다': 1158, '까지도': 1159, '레알': 1160, '견자단': 1161, '늦다': 1162, '사다': 1163, '영원하다': 1164, '지르다': 1165, '군대': 1166, '올해': 1167, '싫어하다': 1168, '길': 1169, '불': 1170, '특별하다': 1171, '러닝': 1172, '새': 1173, '무협': 1174, '가능하다': 1175, '정서': 1176, '되게': 1177, '현재': 1178, '로는': 1179, '이며': 1180, '스케일': 1181, '프로그램': 1182, '외': 1183, '환상': 1184, '바뀌다': 1185, '비판': 1186, '대의': 1187, '눈물나다': 1188, '뛰다': 1189, '북한': 1190, '기본': 1191, '느리다': 1192, '외국': 1193, '사극': 1194, '주기도': 1195, '다시다': 1196, '전달': 1197, '연인': 1198, '진행': 1199, '스': 1200, '울리다': 1201, '아오': 1202, '다가오다': 1203, '대안': 1204, '형님': 1205, '멍청하다': 1206, '날다': 1207, '파': 1208, '카메라': 1209, '아침': 1210, '크게': 1211, '즈': 1212, '로서': 1213, '변하다': 1214, '옛': 1215, '저렇게': 1216, '성인': 1217, '그럭저럭': 1218, '존경': 1219, '능력': 1220, '허세': 1221, 'ㅅㅂ': 1222, '리뷰': 1223, '리메이크': 1224, '이연걸': 1225, '기회': 1226, '부족': 1227, '과연': 1228, '깔끔하다': 1229, '차이': 1230, '수도': 1231, '빵점': 1232, '담기다': 1233, '어떤': 1234, '여전하다': 1235, '유명하다': 1236, '로써': 1237, '조연': 1238, '여자애': 1239, '슬픔': 1240, '쩝': 1241, '망작': 1242, '그린': 1243, '끌리다': 1244, '무': 1245, '접다': 1246, '우울하다': 1247, '만족하다': 1248, '메시지': 1249, '박수': 1250, '덕분': 1251, '무비': 1252, '척': 1253, '끼리': 1254, '약': 1255, '관심': 1256, '우': 1257, '방': 1258, '폭력': 1259, '주성치': 1260, '후속작': 1261, '개념': 1262, '효과': 1263, '말아먹다': 1264, '평이': 1265, '기만': 1266, '달리': 1267, '등장인물': 1268, '채우다': 1269, '고맙다': 1270, '오래': 1271, '이면': 1272, 'ㄷㄷ': 1273, '보라': 1274, '좀더': 1275, '호러': 1276, '부모': 1277, '썩다': 1278, '뒷': 1279, '동물': 1280, '섹스': 1281, '매': 1282, '스파이더맨': 1283, 'ㅇㅇ': 1284, '소소하다': 1285, '불가': 1286, '마이너스': 1287, '무겁다': 1288, '말로': 1289, '듣다': 1290, '유': 1291, '광고': 1292, '끌': 1293, '생애': 1294, '젤': 1295, '조절': 1296, '마저': 1297, '신분': 1298, '탓': 1299, '대한민국': 1300, '찌다': 1301, '선생님': 1302, '기술': 1303, '과는': 1304, '분명하다': 1305, '개뿔': 1306, '노출': 1307, '만들기': 1308, '패러디': 1309, '신경': 1310, '강렬하다': 1311, '의하다': 1312, '외계인': 1313, '형편': 1314, '아련하다': 1315, '홍보': 1316, '여서': 1317, '빛': 1318, '자주': 1319, '지구': 1320, '고양이': 1321, '창': 1322, '경찰': 1323, '멋': 1324, '은근': 1325, '적절하다': 1326, '줍다': 1327, '주의': 1328, '포기': 1329, '으로서': 1330, '우정': 1331, '치': 1332, '달리다': 1333, '기발하다': 1334, '늘': 1335, '감명': 1336, '별개': 1337, '발전': 1338, '명성': 1339, '올라가다': 1340, '하루': 1341, '초등학교': 1342, '헐리우드': 1343, '아이돌': 1344, '는걸': 1345, '푹': 1346, '상상력': 1347, '밋밋하다': 1348, '이정': 1349, '뽑다': 1350, '만에': 1351, '쫌': 1352, '살짝': 1353, '거슬리다': 1354, '어제': 1355, '면서': 1356, '제로': 1357, '바라보다': 1358, '신나다': 1359, '세기': 1360, '닮다': 1361, '연예인': 1362, '헐리웃': 1363, '다가': 1364, '틀다': 1365, '찝찝하다': 1366, '미모': 1367, '밥': 1368, '공부': 1369, '대놓고': 1370, '녀': 1371, '응원': 1372, '세련되다': 1373, '원하다': 1374, '희생': 1375, '혹은': 1376, '린다': 1377, '입장': 1378, '시점': 1379, '난해하다': 1380, '강': 1381, '도전': 1382, '들어오다': 1383, '입다': 1384, '에로': 1385, '줄다': 1386, '신의': 1387, '의외로': 1388, '본방': 1389, '언제나': 1390, '땅': 1391, '더하다': 1392, '암튼': 1393, '악당': 1394, '어휴': 1395, '분노': 1396, '수고': 1397, '심장': 1398, '트': 1399, '입': 1400, '화나다': 1401, '흐름': 1402, '무시': 1403, '대충': 1404, '존': 1405, '억지로': 1406, '감안': 1407, '오래되다': 1408, '디즈니': 1409, '와우': 1410, '검색': 1411, '학년': 1412, '왜케': 1413, '긴장': 1414, '깨닫다': 1415, '녹다': 1416, '컷': 1417, '에피소드': 1418, '백': 1419, '코드': 1420, '갈등': 1421, '별루': 1422, '행복': 1423, '만해': 1424, '하나로': 1425, '화끈하다': 1426, 'ㅈ': 1427, '춤': 1428, '짓다': 1429, '이든': 1430, '겁니다': 1431, '월': 1432, '쇼': 1433, '시선': 1434, '송강호': 1435, '국민': 1436, '진리': 1437, '동영상': 1438, '싸다': 1439, '짠하다': 1440, '잘생기다': 1441, '깜짝': 1442, '베': 1443, '애기': 1444, '매니아': 1445, '씁쓸하다': 1446, '영웅': 1447, '통쾌하다': 1448, '기르다': 1449, '양심': 1450, '외모': 1451, '에나': 1452, '청소년': 1453, '설득': 1454, '어처구니': 1455, '자르다': 1456, '교육': 1457, '줌': 1458, '연결': 1459, '이여': 1460, '그립다': 1461, '터미네이터': 1462, '포인트': 1463, '그다지': 1464, '볼거리': 1465, '빡치다': 1466, '부끄럽다': 1467, '의식': 1468, '라인': 1469, '자살': 1470, '코난': 1471, '얘': 1472, '문': 1473, '냥': 1474, '없어지다': 1475, '뜻': 1476, '경': 1477, '명품': 1478, '상태': 1479, '잠시': 1480, '전개도': 1481, '맨날': 1482, '우뢰매': 1483, 'ㅋㅋㅋㅋㅋㅋ': 1484, '아끼다': 1485, '해내다': 1486, '짜지다': 1487, '결정': 1488, '가득하다': 1489, '대가': 1490, '이따위': 1491, '필름': 1492, '넘어가다': 1493, '아역': 1494, '딱하다': 1495, '수입': 1496, '자유': 1497, '반하다': 1498, '로버트': 1499, '싸구려': 1500, '하늘': 1501, '쩌': 1502, '쵝오': 1503, '쩐다': 1504, '째': 1505, '이니': 1506, '촌스럽다': 1507, '몸매': 1508, '보이지': 1509, '포르노': 1510, '동시': 1511, '우와': 1512, '영화제': 1513, '심각하다': 1514, '남성': 1515, '왕조현': 1516, '동생': 1517, '맡다': 1518, '연애': 1519, '혹시': 1520, '마이클': 1521, '블록버스터': 1522, '한참': 1523, '예능': 1524, '악': 1525, '에게는': 1526, '스럽게': 1527, '가깝다': 1528, '굿굿': 1529, '체': 1530, '게다가': 1531, '앞서': 1532, '나타나다': 1533, '형제': 1534, '천': 1535, '오그라들다': 1536, '몇몇': 1537, '확인': 1538, '버전': 1539, '등등': 1540, '진실': 1541, '한국인': 1542, '목적': 1543, '테러': 1544, '하자': 1545, '거나': 1546, '방식': 1547, '고전': 1548, '열자': 1549, '빠르다': 1550, '다큐멘터리': 1551, '금보': 1552, '바르다': 1553, '오버': 1554, '늙다': 1555, '놀다': 1556, '탈': 1557, '당황': 1558, '부작': 1559, '불구': 1560, '기준': 1561, '포장': 1562, '섹시하다': 1563, '앉다': 1564, '뮤지컬': 1565, '영국': 1566, '이래': 1567, '시원하다': 1568, '감각': 1569, '안습': 1570, '할머니': 1571, '싸움': 1572, '누군가': 1573, '단지': 1574, '흘러가다': 1575, '투자': 1576, '영화사': 1577, '뜬금': 1578, '로봇': 1579, '레전드': 1580, '공주': 1581, '권': 1582, '변태': 1583, '만으로': 1584, '용서': 1585, '전반': 1586, '사고': 1587, '졸다': 1588, '남녀': 1589, '자동차': 1590, '벌써': 1591, '유머': 1592, '심형래': 1593, '죄다': 1594, '아줌마': 1595, '명화': 1596, '내리다': 1597, '토나오다': 1598, '디': 1599, '개도': 1600, '에만': 1601, '어머니': 1602, '롭고': 1603, '베스트': 1604, '맥': 1605, '특이하다': 1606, '던지다': 1607, '국가': 1608, '근': 1609, '기세': 1610, '마이': 1611, '로그인': 1612, '플롯': 1613, '짝': 1614, '늘어지다': 1615, '붙이다': 1616, '그거': 1617, '과의': 1618, '진하다': 1619, '꽝': 1620, 'ㅠㅜ': 1621, '신다': 1622, '무지': 1623, 'ㅜㅠ': 1624, '국내': 1625, '주지': 1626, '꼴': 1627, '아무렇다': 1628, '돌다': 1629, '좋아지다': 1630, '이루다': 1631, '리': 1632, '지도': 1633, '감탄': 1634, '자리': 1635, '러브': 1636, '여행': 1637, '옥': 1638, 'ㅁ': 1639, '아내': 1640, '잠들다': 1641, '관련': 1642, '눈빛': 1643, '홍콩영화': 1644, '신고': 1645, '니깐': 1646, '지는': 1647, '전쟁영화': 1648, '방금': 1649, '깡패': 1650, '앤': 1651, '기대다': 1652, '사투리': 1653, '개성': 1654, '으론': 1655, '재밋다': 1656, '흑': 1657, '방영': 1658, '카리스마': 1659, '과장': 1660, '뭥미': 1661, '배역': 1662, '따로': 1663, '떨다': 1664, '드니': 1665, '추다': 1666, '어린시절': 1667, '지나가다': 1668, '연극': 1669, '성적': 1670, '최초': 1671, '시각': 1672, '생생하다': 1673, '실패': 1674, '쓸데없이': 1675, '토록': 1676, '루': 1677, '다리': 1678, '탑': 1679, '꺼': 1680, '편도': 1681, '미스': 1682, '평균': 1683, '히어로': 1684, '놀이': 1685, '중심': 1686, '밤': 1687, '애쓰다': 1688, '십': 1689, '반도': 1690, '갖추다': 1691, '겨': 1692, '글쎄': 1693, '종영': 1694, '한개': 1695, '내놓다': 1696, '유럽': 1697, '아마': 1698, '능': 1699, '낳다': 1700, '달라': 1701, '사기': 1702, '이어서': 1703, '주윤발': 1704, '욕망': 1705, '우주': 1706, '제외': 1707, '선정': 1708, '대표': 1709, '짝퉁': 1710, '그만하다': 1711, '옆': 1712, '앞뒤': 1713, '넘어서다': 1714, '보신': 1715, '뿐이다': 1716, '명복': 1717, '재난영화': 1718, '의리': 1719, '막장드라마': 1720, '사수': 1721, '시기': 1722, '고통': 1723, '말고는': 1724, '연관': 1725, '새다': 1726, '유발': 1727, '달달': 1728, '선동': 1729, '나누다': 1730, '정신병': 1731, '구리': 1732, '초등학생': 1733, '압권': 1734, '색감': 1735, '세번': 1736, '이끌다': 1737, '편하다': 1738, '처절하다': 1739, '중국영화': 1740, '표': 1741, '눈치': 1742, '난리': 1743, '아래': 1744, '돌아보다': 1745, '잡고': 1746, '려고': 1747, '고딩': 1748, '직업': 1749, '감정이입': 1750, '얼마': 1751, 'ㄱ': 1752, '비중': 1753, '저러다': 1754, '범인': 1755, '전문가': 1756, '가득': 1757, '반드시': 1758, '인기': 1759, '자연스럽다': 1760, '설마': 1761, '내생': 1762, '어거지': 1763, '꽃': 1764, '도안': 1765, '한데': 1766, '우려': 1767, '아예': 1768, '조작': 1769, '사진': 1770, '단연': 1771, '진창': 1772, '떠오르다': 1773, '쪽': 1774, '보임': 1775, '일품': 1776, '통': 1777, '풍': 1778, '인가요': 1779, '기존': 1780, '싸이코': 1781, '재밋어': 1782, '하라': 1783, '본인': 1784, '값': 1785, '처': 1786, '와는': 1787, '울컥': 1788, '일으키다': 1789, '치밀하다': 1790, '영화계': 1791, '근래': 1792, '들어서다': 1793, '장가': 1794, '깨': 1795, '물이': 1796, '치고는': 1797, '반감': 1798, '수많다': 1799, '금': 1800, '담배': 1801, '화란': 1802, '세다': 1803, '뇌': 1804, '이라서': 1805, '겪다': 1806, '그만큼': 1807, '라이언': 1808, '미드': 1809, '거장': 1810, '시청자': 1811, '영화감독': 1812, '미학': 1813, '평소': 1814, '놀래다': 1815, '어쩌': 1816, '참으로': 1817, '파괴': 1818, '반갑다': 1819, '밋': 1820, 'ㅉㅉㅉ': 1821, '김기덕': 1822, '만남': 1823, '이도': 1824, '해오다': 1825, '맺다': 1826, '으로써': 1827, '다섯': 1828, '내면': 1829, '추하다': 1830, '빛나다': 1831, '운': 1832, '성의': 1833, 'ㅎㄷㄷ': 1834, '그지같다': 1835, '때우다': 1836, '찬': 1837, '미래': 1838, '늘리다': 1839, '쓸데없다': 1840, '만도': 1841, '놓치다': 1842, '베리': 1843, '조화': 1844, '무서움': 1845, '본성': 1846, '무료': 1847, '관점': 1848, '해피엔딩': 1849, '오브': 1850, '묘': 1851, '캐': 1852, '빵터지다': 1853, '만족': 1854, '시시하다': 1855, '의사': 1856, '넘기다': 1857, '당연하다': 1858, '꾸다': 1859, '공간': 1860, '로맨틱': 1861, '스트레스': 1862, '매일': 1863, '구나': 1864, '알파': 1865, '치노': 1866, '부럽다': 1867, '첫사랑': 1868, '적어도': 1869, '낭비하다': 1870, '국어': 1871, '심지어': 1872, '효': 1873, '영어': 1874, '까지는': 1875, '토': 1876, '목숨': 1877, '시청': 1878, '안감': 1879, '바다': 1880, '쪽팔리다': 1881, '혹평': 1882, '졸리': 1883, '결론': 1884, '강동원': 1885, '절제': 1886, '음식': 1887, '현대': 1888, '분만': 1889, '골': 1890, '투': 1891, '스스로': 1892, '욕심': 1893, '용기': 1894, '떠들다': 1895, '혹': 1896, '국산': 1897, '조합': 1898, '극치': 1899, '최고봉': 1900, '계기': 1901, '배경음악': 1902, '요리': 1903, '짜임새': 1904, '흡입': 1905, '인게': 1906, '이구': 1907, '의문': 1908, '뭉클하다': 1909, '민망하다': 1910, '포스': 1911, 'ㅋㅋㅋㅋㅋㅋㅋ': 1912, '이만': 1913, '뛰어넘다': 1914, '탈출': 1915, '순위': 1916, '아누': 1917, '키우다': 1918, '높이다': 1919, '세월': 1920, '깜놀': 1921, '정치': 1922, '감수성': 1923, '할아버지': 1924, '웬만하다': 1925, '성격': 1926, '삭제': 1927, '오르다': 1928, '공포물': 1929, '일찍': 1930, '조잡하다': 1931, '가족영화': 1932, '픽션': 1933, '과도': 1934, '겨우': 1935, '배신': 1936, '왠': 1937, '묻히다': 1938, '아이디어': 1939, '이상은': 1940, '낮추다': 1941, '이미지': 1942, '에서만': 1943, '극단': 1944, '너무도': 1945, '대부분': 1946, '정작': 1947, '티나': 1948, '레이': 1949, '만화책': 1950, '걱정': 1951, '젊다': 1952, '포드': 1953, '실험': 1954, '전율': 1955, '확': 1956, 'ㅋㅋㅋㅋㅋㅋㅋㅋㅋ': 1957, '탄생': 1958, '웃': 1959, '마리': 1960, '더불다': 1961, '어쩌면': 1962, '최': 1963, '야동': 1964, '스런': 1965, '움직이다': 1966, '본적': 1967, '향연': 1968, '타짜': 1969, '태국': 1970, '하이': 1971, '틴': 1972, '팔이': 1973, '성장': 1974, '편의': 1975, '풋풋하다': 1976, '제니퍼': 1977, '회사': 1978, '명연기': 1979, '무의미하다': 1980, '끼': 1981, '톰': 1982, '닥': 1983, '풍자': 1984, '무게': 1985, '힐링': 1986, '헤어지다': 1987, '하나같이': 1988, '조카': 1989, '젠장': 1990, '최소한': 1991, '팀': 1992, '기자': 1993, '잠깐': 1994, '이자': 1995, '형사': 1996, '이보': 1997, '부터가': 1998, '가리다': 1999, '둘째': 2000, '추리': 2001, '이별': 2002, '무간도': 2003, '스크린': 2004, '벗다': 2005, '그동안': 2006, 'ㅅ': 2007, '향': 2008, '어디가': 2009, '시트콤': 2010, '억울하다': 2011, '갠': 2012, '남아': 2013, '소년': 2014, '대화': 2015, '캐리': 2016, '겉': 2017, '범': 2018, '옳다': 2019, '막판': 2020, '감흥': 2021, '예수': 2022, '무척': 2023, '녀석': 2024, '시사회': 2025, '틈': 2026, '드물다': 2027, '잔뜩': 2028, '다시금': 2029, '승리': 2030, '기승': 2031, '떨리다': 2032, '짜이다': 2033, '무재': 2034, '생활': 2035, '울면': 2036, '깨알': 2037, '탁월하다': 2038, '누': 2039, '영혼': 2040, '콩': 2041, '차갑다': 2042, '일본인': 2043, '아무나': 2044, '무난': 2045, '모자라다': 2046, '전하': 2047, '섞이다': 2048, '채': 2049, '대본': 2050, '김': 2051, '일반': 2052, '시종일관': 2053, '돼지': 2054, '만큼은': 2055, '무한': 2056, '개콘': 2057, '본능': 2058, '호기심': 2059, '직전': 2060, '낼': 2061, '훨': 2062, '그건': 2063, '해석': 2064, '봣는데': 2065, '으로만': 2066, '해결': 2067, '영구': 2068, '주제가': 2069, '거부': 2070, '와의': 2071, '엽문': 2072, '호': 2073, '적임': 2074, '빨갱이': 2075, '쥐': 2076, '정체': 2077, '성은': 2078, '승부': 2079, '또다른': 2080, '치유': 2081, '끼우다': 2082, '흐뭇하다': 2083, '피다': 2084, '남편': 2085, '데리': 2086, '사무라이': 2087, '워': 2088, '번째': 2089, '쉬': 2090, '과학': 2091, '직접': 2092, '타고': 2093, '마냥': 2094, '색깔': 2095, '곡': 2096, '여러분': 2097, '셈': 2098, '교과서': 2099, '기획': 2100, '도르다': 2101, '오는': 2102, '전지현': 2103, '특수': 2104, 'ㅋㅋㅋㅋㅋㅋㅋㅋ': 2105, '첨으로': 2106, '분장': 2107, '때매': 2108, '부부': 2109, '기법': 2110, '에게도': 2111, '지경': 2112, '빨다': 2113, '케이': 2114, '미션임파서블': 2115, '다이하드': 2116, '점줌': 2117, '임권택': 2118, '스럽지': 2119, '종': 2120, '개그맨': 2121, '풀': 2122, '지리다': 2123, '중학교': 2124, '쯧쯧': 2125, '조용하다': 2126, '화일': 2127, '갑': 2128, '천사': 2129, '홍상수': 2130, '동성애': 2131, '예수님': 2132, '이전': 2133, '이용': 2134, '판단': 2135, '호흡': 2136, '딴': 2137, '살아나다': 2138, '기차': 2139, '어수선하다': 2140, '겨울': 2141, '소장': 2142, '경험': 2143, '놀랍다': 2144, '인지도': 2145, '선물': 2146, '망': 2147, '옷': 2148, '전투': 2149, '칼': 2150, '야구': 2151, '우선': 2152, '가수': 2153, '만세': 2154, '어차피': 2155, '벌': 2156, '누군지': 2157, '부산': 2158, '미도': 2159, '연속': 2160, '쉽다': 2161, '쥐다': 2162, '무리': 2163, '각색': 2164, '뭣': 2165, '삼가다': 2166, '세트': 2167, '지우다': 2168, '애매하다': 2169, '해봤다': 2170, '손색': 2171, '옴': 2172, '김희선': 2173, '레옹': 2174, '매다': 2175, '아치': 2176, '한국판': 2177, '박보영': 2178, '진짜진짜': 2179, '오랫': 2180, '조니뎁': 2181, '리지': 2182, '유덕화': 2183, '부자': 2184, '한지': 2185, '어쩜': 2186, '장국영': 2187, '각': 2188, '오프닝': 2189, '미녀': 2190, '가짜': 2191, 'ㄷ': 2192, '중독': 2193, '필': 2194, '곧': 2195, '아만다': 2196, '고등학교': 2197, '오로라': 2198, '다그': 2199, '매번': 2200, '풍경': 2201, '납득': 2202, '센스': 2203, '허허': 2204, '이민기': 2205, '리스': 2206, '손예진': 2207, '러시아': 2208, '크리스마스': 2209, '과대': 2210, '공짜': 2211, '한석규': 2212, '짱짱맨': 2213, '지네': 2214, '벌어지다': 2215, '스텝': 2216, '지옥': 2217, '보고오다': 2218, '벗어나다': 2219, '이안': 2220, '출현': 2221, '새벽': 2222, '특집': 2223, '황': 2224, '모순': 2225, '없애다': 2226, '문학': 2227, '아우': 2228, '짱짱': 2229, '피해자': 2230, '익숙하다': 2231, '딸리다': 2232, '계시다': 2233, '철': 2234, '지대': 2235, '빠순이': 2236, '흉내': 2237, '쌍': 2238, '모으다': 2239, '살인마': 2240, 'ㅜㅜㅜ': 2241, '리브': 2242, '환경': 2243, '게뭐': 2244, '영활': 2245, '성공': 2246, '신하균': 2247, '단어': 2248, '무기': 2249, '신인': 2250, '주변': 2251, '찡': 2252, '정상': 2253, '기독교': 2254, '았': 2255, '뜨겁다': 2256, '루즈': 2257, '저리': 2258, '나와라': 2259, '께서': 2260, '박': 2261, '습': 2262, '빵빵': 2263, '붙다': 2264, '단순': 2265, '여인': 2266, '화질': 2267, '던데': 2268, '아기자기하다': 2269, '미스터리': 2270, '막히다': 2271, '중년': 2272, '비행기': 2273, '베드': 2274, '콜린': 2275, '대중': 2276, '정우성': 2277, '김치': 2278, '영향': 2279, '폐지': 2280, '이래서': 2281, '무언가': 2282, '틀어주다': 2283, '지저분하다': 2284, '그걸': 2285, '흑인': 2286, '끝내주다': 2287, '주말': 2288, 'ㅎㅎㅎㅎ': 2289, '다세포': 2290, 'ㅠㅠㅠㅠ': 2291, '케릭': 2292, '누나': 2293, '번역': 2294, '고독': 2295, '일부러': 2296, '대신': 2297, '복잡하다': 2298, '최수종': 2299, '그야말로': 2300, '니콜라스': 2301, '갓': 2302, '편견': 2303, '똑바로': 2304, '잭': 2305, '리가': 2306, '빨갛다': 2307, '마을': 2308, '불러일으키다': 2309, '겉멋': 2310, '본질': 2311, '날리다': 2312, '고프다': 2313, '파리': 2314, '향기': 2315, '만은': 2316, '푸다': 2317, '한가지': 2318, '교수': 2319, '질리': 2320, '색': 2321, '년작': 2322, '아놀드': 2323, '열연': 2324, '발상': 2325, '에바': 2326, '스페인': 2327, '여친': 2328, '뱀파이어': 2329, '요새': 2330, '작위': 2331, '벅차다': 2332, '소통': 2333, '외화': 2334, '명장': 2335, '인들': 2336, '발음': 2337, '데이': 2338, '고르다': 2339, '의상': 2340, '모험': 2341, '한정': 2342, '버': 2343, '씨발': 2344, '찍': 2345, '거지같다': 2346, '사장': 2347, '세계관': 2348, '군인': 2349, '연상': 2350, '만드': 2351, '이따': 2352, '찾아가다': 2353, '초능력': 2354, '긴박': 2355, '브루스': 2356, '얼': 2357, '장점': 2358, '신세계': 2359, '쌈': 2360, '분명': 2361, '역량': 2362, '몽환': 2363, '그렇다고': 2364, '껏': 2365, '합': 2366, '일반인': 2367, '크리스틴': 2368, '목': 2369, '비현실적': 2370, 'ㄴ': 2371, '깎다': 2372, '명불허전': 2373, '악마': 2374, '인터넷': 2375, '류작': 2376, '칭찬': 2377, '버튼': 2378, '병': 2379, '유익하다': 2380, '션': 2381, '어우러지다': 2382, '쿡': 2383, '잖다': 2384, '인류': 2385, '바닥': 2386, '켜다': 2387, '감옥': 2388, '축구': 2389, '포': 2390, '포함': 2391, '화장실': 2392, '무대': 2393, '정의': 2394, '액션씬': 2395, '키드': 2396, '거품': 2397, '웬': 2398, '케빈': 2399, '클레멘타인': 2400, '광구': 2401, '집착': 2402, '뺏다': 2403, '된거': 2404, '알아보다': 2405, '정리': 2406, '이소룡': 2407, '막다': 2408, '나로': 2409, '장진': 2410, '반성': 2411, '난잡하다': 2412, '향수': 2413, '재밋음': 2414, '심오하다': 2415, '졸': 2416, '유령': 2417, '은은하다': 2418, '월드': 2419, '꼬마': 2420, '애가': 2421, '꺼지다': 2422, '지독하다': 2423, '학살': 2424, '열리다': 2425, '펴다': 2426, '내일': 2427, '쓰러지다': 2428, '짬뽕': 2429, '음향': 2430, '망치': 2431, '박하다': 2432, '고증': 2433, '드러나다': 2434, '지나': 2435, '상대': 2436, '상업': 2437, '무술': 2438, '초월': 2439, '위원회': 2440, '사운드': 2441, '로맨틱코미디': 2442, '죄송하다': 2443, '형식': 2444, '사로자다': 2445, '부실하다': 2446, '오우삼': 2447, '영웅본색': 2448, '들어주다': 2449, '발톱': 2450, '애니매이션': 2451, '수록': 2452, '파다': 2453, '싸하다': 2454, '즐거움': 2455, '많아지다': 2456, '역작': 2457, '펭귄': 2458, '가정': 2459, '아이언맨': 2460, '잡히다': 2461, '성찰': 2462, '으로나': 2463, '도움': 2464, '힘내다': 2465, '김태희': 2466, '쌤': 2467, '변화': 2468, '밝혀지다': 2469, '착각': 2470, '절절': 2471, '능가': 2472, '재방': 2473, '빵': 2474, '칠': 2475, '캐릭': 2476, '꿈꾸다': 2477, '무어': 2478, '슴': 2479, '애틋하다': 2480, '도입': 2481, '두번째': 2482, '절대로': 2483, '로움': 2484, '여러가지': 2485, '라이': 2486, '이성재': 2487, '아기': 2488, '김민종': 2489, '하고는': 2490, '전라도': 2491, '민': 2492, '가게': 2493, '출신': 2494, '비밀': 2495, '장애인': 2496, '려': 2497, '충실하다': 2498, '천녀유혼': 2499, '강요': 2500, '극복': 2501, '홀로': 2502, '캬': 2503, '잡': 2504, '졸업': 2505, '최강': 2506, '오오': 2507, '미장센': 2508, '노인': 2509, '왕자': 2510, '뻥': 2511, '끔찍하다': 2512, '말르다': 2513, '에다가': 2514, '고자': 2515, '꾸미다': 2516, '일주일': 2517, '박진': 2518, '허구': 2519, '화의': 2520, '번은': 2521, '찬사': 2522, '자세하다': 2523, '송혜교': 2524, '의지': 2525, '절정': 2526, '혐오': 2527, '다해': 2528, '저희': 2529, '에다': 2530, '로우': 2531, '분석': 2532, '로빈': 2533, '바치다': 2534, '이니까': 2535, '열다': 2536, '올려놓다': 2537, '냄새': 2538, '단점': 2539, '점준': 2540, '지지': 2541, '단체': 2542, '길이': 2543, '컨셉': 2544, '강력하다': 2545, '주장': 2546, '섹시': 2547, '이군': 2548, '만화가': 2549, '전락': 2550, 'ㄷㄷㄷ': 2551, '제시카': 2552, '용다': 2553, '누님': 2554, '에서나': 2555, '원표': 2556, '단막극': 2557, '여신': 2558, '손가락': 2559, '금발': 2560, '아아': 2561, '진수': 2562, '보삼': 2563, '틱': 2564, '장난감': 2565, '분량': 2566, '지내다': 2567, '유지태': 2568, '부디': 2569, '울음': 2570, '마음속': 2571, '상관없다': 2572, '으로가': 2573, '스콧': 2574, '디스': 2575, '헤어': 2576, '카': 2577, '재미나': 2578, '뿌리다': 2579, '어지럽다': 2580, '혼란': 2581, '엄정화': 2582, '마디': 2583, '일수': 2584, '호감': 2585, '후기': 2586, '장치': 2587, '시험': 2588, '휴머니즘': 2589, '첨부': 2590, '가관': 2591, '담': 2592, '대부': 2593, '투성이': 2594, '워낙': 2595, '쟁이': 2596, '마약': 2597, '넹': 2598, '바탕': 2599, '만난': 2600, '올려주다': 2601, '에로영화': 2602, '애절하다': 2603, '정선': 2604, '여기다': 2605, '일부': 2606, '해대': 2607, '인터스텔라': 2608, '평화': 2609, '꼬': 2610, '재난': 2611, '버티다': 2612, '드디어': 2613, '절반': 2614, '정보': 2615, '뒤늦다': 2616, '슈퍼맨': 2617, '거짓말': 2618, '한결같다': 2619, '천만': 2620, '이어지다': 2621, '빅': 2622, '들리다': 2623, '할리우드': 2624, '힙합': 2625, '등록': 2626, '블레이드': 2627, '후지': 2628, '방향': 2629, '라스트': 2630, '체적': 2631, '참나': 2632, '영감': 2633, '찡하다': 2634, '견디다': 2635, '흉내내': 2636, '겁': 2637, '하니': 2638, '따분하다': 2639, '적당': 2640, '뒤죽박죽': 2641, '부턴': 2642, '틀': 2643, '끝판': 2644, '사상': 2645, '고뇌': 2646, '재주': 2647, '절로': 2648, '깨우다': 2649, '커서': 2650, '아시아': 2651, '가난하다': 2652, '후유증': 2653, '구로': 2654, '드래곤볼': 2655, '드림': 2656, '널': 2657, '인권': 2658, '가야': 2659, '비호감': 2660, '이웃': 2661, '극본': 2662, '박다': 2663, '채다': 2664, '거야': 2665, '람보': 2666, '베일': 2667, '튀다': 2668, '시끄럽다': 2669, '편안하다': 2670, '차리다': 2671, '법정': 2672, '부다': 2673, '뉴스': 2674, '에가': 2675, '서울': 2676, '구석': 2677, '홍진호': 2678, '각자': 2679, '드네': 2680, '끊임없다': 2681, '한순간': 2682, '레드': 2683, '오래전': 2684, '숨기다': 2685, '안남': 2686, '한숨': 2687, '혁명': 2688, '민족': 2689, '잔혹': 2690, '흐지부지': 2691, '몇개': 2692, '징그럽다': 2693, '사람과': 2694, '아마추어': 2695, '실패하다': 2696, '론': 2697, '롱': 2698, '해리포터': 2699, '깍': 2700, '진솔하다': 2701, '답답': 2702, '최대': 2703, '한장': 2704, '온갖': 2705, '암살': 2706, '제왕': 2707, '슈렉': 2708, '증명': 2709, '끼치다': 2710, '빌다': 2711, '고추': 2712, '검사': 2713, '아시': 2714, '패션': 2715, '리얼리티': 2716, '초기': 2717, '패': 2718, '은희': 2719, '살인자': 2720, '불안하다': 2721, '인공': 2722, '중국인': 2723, '올레': 2724, '도둑': 2725, '부가': 2726, '감히': 2727, '멀리': 2728, '정이': 2729, '생명': 2730, '빼앗다': 2731, '미묘하다': 2732, '제적': 2733, '이의': 2734, '밝다': 2735, '큐브': 2736, '매미': 2737, '역활': 2738, '어색': 2739, '금지': 2740, '결코': 2741, '곤': 2742, '섞다': 2743, '하나님': 2744, '기사': 2745, '비록': 2746, '풀리다': 2747, '절망': 2748, '비참하다': 2749, '대하': 2750, '어딘가': 2751, '우베': 2752, '도와주다': 2753, '장혁': 2754, '토마스': 2755, '인척': 2756, '인형': 2757, '짐승': 2758, '베다': 2759, '숨막히다': 2760, '곳곳': 2761, '복선': 2762, '신파': 2763, '별거': 2764, '즐': 2765, '엑소시스트': 2766, '조롱': 2767, '뎀': 2768, '웅장': 2769, '들보': 2770, '님들': 2771, '미가': 2772, '괴롭다': 2773, '업': 2774, '스키': 2775, '추격': 2776, '가안': 2777, '윤계상': 2778, '고도': 2779, '후회되다': 2780, '주목': 2781, '도통': 2782, '보통': 2783, '풍기다': 2784, '자위': 2785, '노예': 2786, '정신차리다': 2787, '링': 2788, '또는': 2789, '고만': 2790, '서점': 2791, '듬': 2792, '장편': 2793, '낮': 2794, '흑백': 2795, '누르다': 2796, '옴니버스': 2797, '피로': 2798, '흠잡다': 2799, '라지': 2800, '구경': 2801, '낭만': 2802, '운동': 2803, '스타워즈': 2804, '호화': 2805, '흥': 2806, '에여': 2807, '케미': 2808, '어떡하다': 2809, '색채': 2810, '심정': 2811, '년생': 2812, '만큼이나': 2813, '여태': 2814, '메이': 2815, '불필요하다': 2816, '태도': 2817, '덕': 2818, '딱이다': 2819, '곽지민': 2820, '다점': 2821, '본격': 2822, '성공하다': 2823, '공룡': 2824, '장선우': 2825, '시골': 2826, '생기': 2827, '거듭': 2828, '매혹': 2829, '증말': 2830, '야말로': 2831, '뜬금없이': 2832, '지상파': 2833, '배려': 2834, '기용': 2835, '합치다': 2836, '똑같이': 2837, '의학': 2838, '게스트': 2839, '배트맨': 2840, '마녀': 2841, '낯선': 2842, '타인': 2843, '벌다': 2844, '초점': 2845, '소화': 2846, '사용': 2847, '하아': 2848, '이정재': 2849, '깨다': 2850, '로렌스': 2851, '원스': 2852, '소동': 2853, '남친': 2854, '모로': 2855, '겨울왕국': 2856, '신데렐라': 2857, '안기다': 2858, '크루즈': 2859, '가시': 2860, '순수': 2861, 'ㅣ': 2862, '배다': 2863, '층': 2864, '렉': 2865, '허준': 2866, '하품': 2867, '컬트': 2868, '신동엽': 2869, '만원': 2870, '총알': 2871, '런닝타임': 2872, '추': 2873, '도데': 2874, '단조롭다': 2875, '너희': 2876, '아자': 2877, '하고프다': 2878, '유아': 2879, '유리': 2880, '제이슨': 2881, '잘나다': 2882, '하얗다': 2883, '적나라하다': 2884, '작년': 2885, '상관': 2886, '살때': 2887, '따지다': 2888, '당당하다': 2889, '걸이': 2890, '찌질하다': 2891, '리들리': 2892, '백인': 2893, '물의': 2894, '나소': 2895, '물다': 2896, '화답': 2897, '한동안': 2898, '상투': 2899, '강제': 2900, '실수': 2901, '뒤지다': 2902, '투표': 2903, '명의': 2904, '두렵다': 2905, '멀쩡하다': 2906, '내공': 2907, '웰': 2908, '다른사람': 2909, '천국': 2910, '요란하다': 2911, '스티븐': 2912, '빈': 2913, '졸잼': 2914, '이념': 2915, '안해': 2916, '설': 2917, '연습': 2918, '대역': 2919, '케': 2920, '에야': 2921, '래야': 2922, '고인': 2923, '욕먹다': 2924, '깨끗하다': 2925, '남매': 2926, '차원': 2927, '당장': 2928, '나뉘다': 2929, '디카프리오': 2930, '상실': 2931, '무도': 2932, '몫': 2933, '구라': 2934, '농담': 2935, '인연': 2936, '다크나이트': 2937, '테이크': 2938, '환장하다': 2939, '살이': 2940, '분간': 2941, '오랫동안': 2942, '담담하다': 2943, '삶다': 2944, '슈퍼': 2945, '뎅': 2946, '살기': 2947, '녹화': 2948, '봉': 2949, '박평': 2950, '우연': 2951, '허무': 2952, '선전': 2953, '잔': 2954, '업다': 2955, '직장인': 2956, '레': 2957, '강시': 2958, '애초': 2959, '뚝뚝': 2960, '이러니': 2961, '지능': 2962, '던': 2963, '친': 2964, '강력': 2965, '위로': 2966, '닷': 2967, '잔혹하다': 2968, '어번': 2969, '가기': 2970, '셋': 2971, '흑역사': 2972, '하드': 2973, '인걸': 2974, '한글': 2975, '슬레': 2976, '박히다': 2977, '옮기다': 2978, '눈요기': 2979, '보구': 2980, '조여정': 2981, '상어': 2982, '동양': 2983, '소방관': 2984, '박중훈': 2985, '네티즌': 2986, '용감하다': 2987, '하고도': 2988, '라곤': 2989, '빈약하다': 2990, '킬링': 2991, '전통': 2992, '뜯다': 2993, '김수현': 2994, '낫': 2995, '내려가다': 2996, '위트': 2997, '차승원': 2998, '쓴다': 2999, '감점': 3000, '킹': 3001, '오페라': 3002, '다기': 3003, '톤': 3004, '구분': 3005, '와도': 3006, '반응': 3007, '치우다': 3008, '애국심': 3009, '스파이': 3010, '두운': 3011, '정석': 3012, '도의': 3013, '완벽': 3014, '유치원': 3015, '파격': 3016, '블랙': 3017, '커버': 3018, '및': 3019, '덜하다': 3020, '주관': 3021, '어떻': 3022, '기독교인': 3023, '신념': 3024, '나오니': 3025, '놀란': 3026, '도무지': 3027, '미루다': 3028, '발생': 3029, '아동': 3030, '데리다': 3031, '웨슬리': 3032, '스포': 3033, '저지르다': 3034, '즘': 3035, '지드래곤': 3036, '씹다': 3037, '밀': 3038, '라만': 3039, '그딴': 3040, '집안': 3041, '애정': 3042, '완젼': 3043, '헷갈리다': 3044, '인내심': 3045, '목사': 3046, '내지': 3047, '풋': 3048, '얄팍하다': 3049, '마루': 3050, '전결': 3051, '마부': 3052, '조정': 3053, '달인': 3054, '이범수': 3055, '담백하다': 3056, '존중': 3057, '일드': 3058, '불가능하다': 3059, 'ㅜㅡ': 3060, '속지': 3061, '장애': 3062, '툭하면': 3063, '용의': 3064, '주인': 3065, '메': 3066, '거치다': 3067, '어쩌라고': 3068, '예측': 3069, '아무튼': 3070, '한두': 3071, '극적': 3072, '가슴속': 3073, '재탕': 3074, '안이': 3075, '남발': 3076, '서기': 3077, '꼽': 3078, '샘': 3079, '동심': 3080, '타란티노': 3081, '유명': 3082, '논란': 3083, '멍하다': 3084, '발랄하다': 3085, '해설': 3086, '논리': 3087, '현대인': 3088, '볼걸': 3089, '흘러나오다': 3090, '쏙': 3091, '파워': 3092, '배꼽': 3093, '몰락': 3094, '가져오다': 3095, '이승기': 3096, '휴가': 3097, '장군': 3098, '만큼도': 3099, '정치인': 3100, '개막': 3101, '호구': 3102, '명대사': 3103, '꾼': 3104, '민폐': 3105, '불후': 3106, '재치': 3107, '지고': 3108, '이구나': 3109, '거짓': 3110, '이던': 3111, '삼다': 3112, '정부': 3113, '정유미': 3114, '선사': 3115, '어마어마하다': 3116, '만약': 3117, '미국인': 3118, '아메리칸': 3119, '간첩': 3120, '경의': 3121, '요구': 3122, '압': 3123, '밟다': 3124, '두근거리다': 3125, '교양': 3126, '디테': 3127, '탕웨이': 3128, '광기': 3129, '경제': 3130, '함정': 3131, '밀려오다': 3132, '밴드': 3133, '추가': 3134, '맙시': 3135, '잃어버리다': 3136, '반대': 3137, '절': 3138, '실상': 3139, '스펙': 3140, '부탁드리다': 3141, '대상': 3142, '로나': 3143, '띄우다': 3144, '후속': 3145, '제작자': 3146, '커피': 3147, '압축': 3148, '최저': 3149, '평작': 3150, '넌': 3151, '독립': 3152, '정재영': 3153, '머릿속': 3154, '폭발': 3155, '남고': 3156, '주온': 3157, '사망': 3158, '강혜정': 3159, '원숭이': 3160, '저렴하다': 3161, '땀': 3162, '고본': 3163, '헛웃음': 3164, '불교': 3165, 'ㄹ': 3166, '물씬': 3167, '조커': 3168, '주위': 3169, '피해': 3170, '삽질': 3171, '크리스': 3172, '이신': 3173, '프레디': 3174, '유오성': 3175, '틀리다': 3176, '사과': 3177, '거북하다': 3178, '존내': 3179, '파라': 3180, '노말': 3181, '마련': 3182, '정조': 3183, '소유': 3184, '나발': 3185, '컴퓨터': 3186, '리그': 3187, '여기저기': 3188, '린': 3189, '지하철': 3190, '삐': 3191, '미성년': 3192, '양반': 3193, '대학교': 3194, '부대': 3195, '설리': 3196, '고치다': 3197, '어유': 3198, '거여': 3199, '죠스': 3200, '스캔들': 3201, '외면': 3202, '패턴': 3203, '알려지다': 3204, '스탤론': 3205, '성과': 3206, '최지우': 3207, '잉': 3208, '미사일': 3209, '이병헌': 3210, '안성기': 3211, '쓸쓸하다': 3212, '매주': 3213, '떨어뜨리다': 3214, '고어': 3215, '호러물': 3216, '부리다': 3217, '찬양': 3218, '장근석': 3219, '헌': 3220, '근본': 3221, '가르치다': 3222, '균형': 3223, '상치': 3224, '찌': 3225, '용두사미': 3226, '수십': 3227, '트릭': 3228, '리기': 3229, '흔적': 3230, '부자연스럽다': 3231, '토미': 3232, '최하': 3233, '정답': 3234, '퍼펙트': 3235, '전이': 3236, '든지': 3237, '지원': 3238, '우아하다': 3239, '밖엔': 3240, '어처구니없다': 3241, '재능': 3242, '의심': 3243, '덜': 3244, '택시': 3245, '고해': 3246, '보나': 3247, '이드': 3248, '어깨': 3249, '저급하다': 3250, '여자친구': 3251, '전해지다': 3252, '와나': 3253, '회장': 3254, '행': 3255, '마법': 3256, '동호': 3257, '나레이션': 3258, '아바타': 3259, '고현정': 3260, '욬': 3261, '낚시': 3262, '빅뱅': 3263, '함축': 3264, '환불': 3265, 'ㅂㅅ': 3266, '각각': 3267, '재회': 3268, '호러영화': 3269, '게리': 3270, '논': 3271, '서커스': 3272, '반영': 3273, '탄탄': 3274, '서부': 3275, '여름': 3276, '임팩트': 3277, '도시': 3278, '화구': 3279, '서서히': 3280, '스피드': 3281, '양조위': 3282, '깨달음': 3283, '키스': 3284, '자료': 3285, '헤': 3286, '팝콘': 3287, '역쉬': 3288, '알리': 3289, '뽕': 3290, '어우': 3291, '가하다': 3292, '낙': 3293, '새삼': 3294, 'ㅏ': 3295, '판도': 3296, '마동석': 3297, '판치다': 3298, '나머진': 3299, '질리다': 3300, '심다': 3301, '김구라': 3302, '막상': 3303, '객관': 3304, '고수': 3305, '이상형': 3306, '메이드': 3307, '멘탈': 3308, '거절': 3309, '실': 3310, '바쁘다': 3311, '흔': 3312, '서프라이즈': 3313, '멈추다': 3314, '장나라': 3315, '서인국': 3316, '이종석': 3317, '고로': 3318, '말투': 3319, '자유롭다': 3320, '병사': 3321, '웨스턴': 3322, '차인표': 3323, '전용': 3324, '걷다': 3325, '덤': 3326, '공중파': 3327, '재수없다': 3328, '성장하다': 3329, '도라에몽': 3330, '푸른': 3331, '가해자': 3332, '보장': 3333, '신세경': 3334, '압도': 3335, '랑은': 3336, '종이': 3337, '원주율': 3338, '료코': 3339, '한텐': 3340, '예고': 3341, '신기': 3342, '무너지다': 3343, '여왕': 3344, '빼놓다': 3345, '타령': 3346, '실종': 3347, '비난': 3348, '정신병원': 3349, '브래드피트': 3350, '라기': 3351, '명확하다': 3352, '영화배우': 3353, '밖': 3354, '쏟다': 3355, '분동': 3356, '다다': 3357, '대책': 3358, '허니': 3359, '소지섭': 3360, '달콤하다': 3361, '일베': 3362, '계획': 3363, '성폭행': 3364, '케로로': 3365, '자랑': 3366, '배급사': 3367, '찾기': 3368, '퍼즐': 3369, '나니': 3370, '가능성': 3371, '지켜보다': 3372, '이지나': 3373, '보호': 3374, '이혼': 3375, '룩': 3376, '면모': 3377, '어둡다': 3378, '재현': 3379, '장만옥': 3380, '불법': 3381, '대감': 3382, '떡밥': 3383, '금은': 3384, '쎄다': 3385, '거울': 3386, '플': 3387, '장동건': 3388, '맑은': 3389, '공개': 3390, '엉뚱하다': 3391, '난국': 3392, '다양하다': 3393, '부패': 3394, '안목': 3395, '수없이': 3396, '기전': 3397, '조선': 3398, '보물': 3399, '첩보물': 3400, '루이스': 3401, '비주': 3402, '역사상': 3403, '핳': 3404, '대가리': 3405, '클라스': 3406, '돌려주다': 3407, '만화영화': 3408, '프레데터': 3409, '숲': 3410, '모니카': 3411, '암울하다': 3412, '농구': 3413, '폰': 3414, '제임스': 3415, '원피스': 3416, '인도': 3417, '부터는': 3418, '레이싱': 3419, '우기다': 3420, '줄알': 3421, '새록새록': 3422, '나비': 3423, '축': 3424, '자본': 3425, '뜸': 3426, '놀람': 3427, '엿보다': 3428, '애도': 3429, '짝사랑': 3430, '질색': 3431, '가량': 3432, '물들다': 3433, '마틴': 3434, '오해': 3435, '공리': 3436, '자아': 3437, '기계': 3438, '러브스토리': 3439, '남자친구': 3440, '강간': 3441, '엮': 3442, '에게나': 3443, '참혹하다': 3444, '끊기다': 3445, '싸이코패스': 3446, '시청율': 3447, '대비': 3448, '지인': 3449, '극찬': 3450, '택': 3451, '이은주': 3452, '부로': 3453, '로마': 3454, '모범': 3455, '명언': 3456, '중병': 3457, '독일': 3458, '스틱': 3459, '괜': 3460, '자라': 3461, '초적': 3462, '어렷을때': 3463, '데이트': 3464, '태양': 3465, '동성애자': 3466, '드러내다': 3467, '적도': 3468, '만을': 3469, '대고': 3470, '대면': 3471, '찢다': 3472, '위험하다': 3473, '박찬욱': 3474, '마저도': 3475, '비치다': 3476, '니콜': 3477, '킬러': 3478, '어쩐지': 3479, '작전': 3480, '해적': 3481, '달라지다': 3482, '대학': 3483, '출발': 3484, '찌르다': 3485, '재밋는데': 3486, '어지간하다': 3487, '언젠가': 3488, '버그': 3489, '닫다': 3490, '명절': 3491, '흥분': 3492, '로망': 3493, '훈남': 3494, '구리다': 3495, '사귀다': 3496, '구속': 3497, '단역': 3498, '에의': 3499, '위기': 3500, '테이큰': 3501, '뚝': 3502, '디테일': 3503, '권력': 3504, '궁금': 3505, '별다르다': 3506, '실사': 3507, '백미': 3508, '파이다': 3509, '참내': 3510, '시체': 3511, '비행': 3512, '참패': 3513, '비정상': 3514, '피트': 3515, '개독': 3516, '반지': 3517, '아주아주': 3518, '코메디': 3519, '디워': 3520, '마블': 3521, '채플린': 3522, '말씀': 3523, '대결': 3524, '콩가루': 3525, '응': 3526, '최대한': 3527, '사기꾼': 3528, '옹호': 3529, '맨홀': 3530, '회상': 3531, '로티': 3532, '미스테리': 3533, '갇히다': 3534, '죽여주다': 3535, '괴수': 3536, '더니': 3537, '삼촌': 3538, '엔딩크레딧': 3539, '얼다': 3540, '밝히다': 3541, '면도': 3542, '이예': 3543, '지시': 3544, '찾아오다': 3545, '걸음': 3546, '납치': 3547, '잊어버리다': 3548, '바스코': 3549, '굿바이': 3550, '선생': 3551, '벨': 3552, '위력': 3553, '알바생': 3554, '시리': 3555, '이라고는': 3556, '대만': 3557, '민간인': 3558, '온몸': 3559, '민중': 3560, '클라라': 3561, '메인': 3562, '작화': 3563, '식이': 3564, '석': 3565, '용가리': 3566, '재방송': 3567, '맥스': 3568, '크리스토퍼': 3569, '공유': 3570, '주된': 3571, '녹음': 3572, '말리': 3573, '알고싶다': 3574, '간간히': 3575, '조차도': 3576, '우웩': 3577, '가져가다': 3578, '멜로영화': 3579, '주네': 3580, '젊음': 3581, '후세': 3582, '여정': 3583, '닥치고': 3584, '응답': 3585, '학창시절': 3586, '소박하다': 3587, '신현준': 3588, '하진': 3589, '버킷리스트': 3590, '완존': 3591, '재개': 3592, '봉하': 3593, 'ㅄ': 3594, '구만': 3595, '나타내다': 3596, '혀': 3597, '정은지': 3598, '복': 3599, '순이': 3600, '야경': 3601, '즉': 3602, '재탕하다': 3603, '이외': 3604, '당대': 3605, '재기': 3606, '비정하다': 3607, '매끄럽다': 3608, '가문': 3609, '펼치다': 3610, '군더더기': 3611, '로버츠': 3612, '예술가': 3613, '관객수': 3614, '알아차리다': 3615, '달려가다': 3616, '높아지다': 3617, '의견': 3618, '정당화': 3619, '여부': 3620, '검다': 3621, '치르다': 3622, '하락': 3623, '알맞다': 3624, '앤드류': 3625, '서글프다': 3626, '마르': 3627, '이탈리아': 3628, '살아오다': 3629, '공효진': 3630, '유대인': 3631, '유태인': 3632, '대변': 3633, '에릭': 3634, '이민정': 3635, '그리움': 3636, '남자배우': 3637, '미스캐스팅': 3638, '답지': 3639, '박자': 3640, '완': 3641, '스릴러물': 3642, '절실': 3643, '평정': 3644, '인종차별': 3645, '함부로': 3646, '글쎄요': 3647, '블랙코미디': 3648, '동네': 3649, '이해도': 3650, '기키': 3651, '코끼리': 3652, '관해': 3653, '경쾌하다': 3654, '마마': 3655, '화하다': 3656, '데넘': 3657, '터키': 3658, '부족함': 3659, '스치다': 3660, '묵직하다': 3661, '안쓰럽다': 3662, '마찬가지': 3663, '겸비': 3664, '구역': 3665, '타이틀': 3666, '망상': 3667, '품': 3668, '하트넷': 3669, '사이코': 3670, '오로지': 3671, '청': 3672, '삼국지': 3673, '헬기': 3674, '브리': 3675, '고소영': 3676, '공자': 3677, '유지': 3678, '가만히': 3679, '주로': 3680, '벌이다': 3681, '일리': 3682, '신뢰': 3683, '분신': 3684, '설경구': 3685, '원조': 3686, '사소하다': 3687, '솜씨': 3688, '페이크': 3689, '쿨하다': 3690, '로맨스영화': 3691, '잘알다': 3692, '참여': 3693, '준비': 3694, '적히다': 3695, '해리슨': 3696, '두근두근': 3697, '보드': 3698, '와이': 3699, '엽기': 3700, '정당하다': 3701, '어정쩡하다': 3702, '일방': 3703, '사르다': 3704, '요약': 3705, '연예계': 3706, '알리다': 3707, '운명': 3708, '간직': 3709, '무리수': 3710, '악몽': 3711, '김소현': 3712, '굿굿굿': 3713, '주님': 3714, '통틀어': 3715, '쨋': 3716, '허전하다': 3717, '년후': 3718, '헛': 3719, '퀴즈': 3720, '배속': 3721, '성유리': 3722, '충': 3723, '기한': 3724, '중때': 3725, '단편': 3726, '질감': 3727, '서극': 3728, '우디': 3729, '생략': 3730, '흔들리다': 3731, '짱구': 3732, '경우': 3733, '인간성': 3734, '범죄자': 3735, '일요일': 3736, '서른': 3737, '나오미': 3738, '올라오다': 3739, '토리': 3740, '비명': 3741, '황당': 3742, '복습': 3743, '존쿠삭': 3744, '가시다': 3745, '부여': 3746, '어케': 3747, '부담': 3748, '돌': 3749, '대지': 3750, '평가절하': 3751, '포켓몬스터': 3752, '느': 3753, '시사': 3754, '수능': 3755, 'ㅋㅋㅋㅋㅋㅋㅋㅋㅋㅋㅋ': 3756, '성욕': 3757, '합리화': 3758, '출연료': 3759, '조명': 3760, '섬': 3761, '궁': 3762, '습작': 3763, '이자벨': 3764, '음모론': 3765, '만족스럽다': 3766, '성함': 3767, '잼남': 3768, '모음': 3769, '한수': 3770, '그러니까': 3771, '품다': 3772, '년뒤': 3773, '가보': 3774, '성동일': 3775, '고발': 3776, '사신': 3777, '고개': 3778, '달러': 3779, '집다': 3780, '라고는': 3781, '박시후': 3782, '줄리엣': 3783, '도로': 3784, '쿵푸허슬': 3785, '샤론스톤': 3786, '간지': 3787, '찔리다': 3788, '에드': 3789, '펜': 3790, '김지수': 3791, '뉴': 3792, '여동생': 3793, '장이': 3794, '유선': 3795, '근육': 3796, '어도': 3797, '후딱': 3798, '감추다': 3799, '일대기': 3800, '테레비': 3801, '밧다': 3802, '모양': 3803, '얹다': 3804, '불꽃': 3805, '모름': 3806, '대치': 3807, '질주': 3808, '경악': 3809, '남지': 3810, '시퀀스': 3811, '외설': 3812, '빗대다': 3813, '토니': 3814, '로코': 3815, '최후': 3816, '테': 3817, '찜찜하다': 3818, '봣던': 3819, '다우니': 3820, '터뜨리다': 3821, '가을': 3822, '어딨다': 3823, '이정현': 3824, '엘리트': 3825, 'ㅈㄴ': 3826, '언급': 3827, '안녕하다': 3828, '흡사하다': 3829, '무방': 3830, '취해': 3831, '햇음': 3832, '에반게리온': 3833, '감독판': 3834, '로운': 3835, '다수': 3836, '해달라다': 3837, '시간대': 3838, '뽜': 3839, '아부지': 3840, '떤다': 3841, '후끈': 3842, '가능': 3843, '감싸다': 3844, '부드럽다': 3845, '다나': 3846, '난무': 3847, '쏘우': 3848, '왕가위': 3849, '실소': 3850, '마누라': 3851, '상의': 3852, '정돈': 3853, '그중': 3854, '갈리다': 3855, '동료': 3856, '불행하다': 3857, '용암': 3858, '자매': 3859, '소품': 3860, 'ㅅㅅ': 3861, '아이고': 3862, '저건': 3863, '하디': 3864, '성형': 3865, '기간': 3866, '망가지다': 3867, '듭니': 3868, '토끼': 3869, '피하': 3870, '산드라': 3871, 'ㅋㅋㅋㅋㅋㅋㅋㅋㅋㅋ': 3872, '떄': 3873, '그러면': 3874, '출연자': 3875, '시네마': 3876, '왜곡': 3877, '퀼리티': 3878, '집합': 3879, '데스노트': 3880, '임요환': 3881, '그나저나': 3882, '탁': 3883, '일지': 3884, '뭐임': 3885, '구멍': 3886, '백배': 3887, '정사': 3888, '판이': 3889, '싹': 3890, '로그': 3891, '대략': 3892, '근대': 3893, '방해': 3894, '디자인': 3895, '접근': 3896, '전의': 3897, '삼성': 3898, '마법사': 3899, '오직': 3900, '곰': 3901, '거참': 3902, '완죤': 3903, '신랄하다': 3904, '싫어지다': 3905, '감사': 3906, '리더': 3907, '변신': 3908, '앙': 3909, '더보': 3910, '차마': 3911, '난후': 3912, '멍': 3913, '라스': 3914, '쩔어요': 3915, '주행': 3916, '획': 3917, '헉': 3918, '원인': 3919, '심취': 3920, '개선': 3921, '앵글': 3922, '오래도록': 3923, '오씨': 3924, '악플': 3925, '은퇴': 3926, '맑다': 3927, '긋다': 3928, '조르다': 3929, '까맣다': 3930, '장사': 3931, '상징': 3932, '자비': 3933, '상담': 3934, '제주도': 3935, '꽁': 3936, '하든': 3937, '움직임': 3938, '모니터': 3939, '락': 3940, '스토': 3941, '가운데': 3942, '해지': 3943, '갑갑하다': 3944, '에이': 3945, '솔': 3946, 'ㅐ': 3947, '대사도': 3948, '추악하다': 3949, '통한': 3950, '괴리감': 3951, '예매': 3952, '중단': 3953, '절묘하다': 3954, '가도': 3955, '정확하다': 3956, '교회': 3957, '박스오피스': 3958, '학원': 3959, '노리다': 3960, '엉터리': 3961, '거만': 3962, '도하': 3963, '지배': 3964, '주옥': 3965, '서정': 3966, '가나': 3967, '전성기': 3968, '개잼': 3969, '스며들다': 3970, '차태현': 3971, '별하나': 3972, '보고서': 3973, '임청하': 3974, '한적': 3975, '외로움': 3976, '불과하다': 3977, '지역': 3978, '허드': 3979, '한국말': 3980, '귀염': 3981, '황비홍': 3982, '극한': 3983, '황홀하다': 3984, '아담': 3985, '쭉': 3986, '텐데': 3987, '크리스찬': 3988, '볼껄': 3989, '바디': 3990, '퍼포먼스': 3991, '홍': 3992, '진자': 3993, '팍': 3994, '가가': 3995, '난뒤': 3996, '퀴어': 3997, '우스': 3998, '피아노': 3999, '크레딧': 4000, '키스신': 4001, '거임': 4002, '전범': 4003, '화만': 4004, '두뇌': 4005, '설치다': 4006, '우승자': 4007, '원주고': 4008, '찬란하다': 4009, '아키라': 4010, '탄압': 4011, '시궁창': 4012, '리도': 4013, '욕구': 4014, '스텝업': 4015, '쟤': 4016, '손오공': 4017, '글자': 4018, '일본애니': 4019, '아프리카': 4020, '트리': 4021, '민들레': 4022, '벨루치': 4023, '뽕짝': 4024, '도서관': 4025, '아르': 4026, '이장우': 4027, '린즈링': 4028, '작렬': 4029, '엑스트라': 4030, '안티': 4031, '메리': 4032, '프레': 4033, '조지': 4034, '카피': 4035, '김래원': 4036, '에혀': 4037, '짜깁다': 4038, '달려들다': 4039, '으으': 4040, '갚다': 4041, '애잔하다': 4042, '주가': 4043, '정권': 4044, '비싸다': 4045, '맛있다': 4046, '투자자': 4047, '이중': 4048, '자빠지다': 4049, '급하다': 4050, '희극': 4051, '다니엘': 4052, '밖에는': 4053, '치료': 4054, '무리다': 4055, '집단': 4056, '조승우': 4057, '재료': 4058, '다문화': 4059, '지식': 4060, '이남': 4061, '렌트': 4062, '전투씬': 4063, '비치': 4064, '짤': 4065, '덜다': 4066, '타락하다': 4067, '런': 4068, '인식': 4069, '야수': 4070, '쏠리다': 4071, '조각': 4072, '돌아다니다': 4073, '기념': 4074, '모처럼': 4075, '여명': 4076, '등급': 4077, '도망치다': 4078, '투척': 4079, '기괴하다': 4080, '롯데': 4081, '스튜어트': 4082, '나은': 4083, '에이핑크': 4084, '신비': 4085, '시보': 4086, '그치다': 4087, '유이': 4088, '굿잡': 4089, '롯': 4090, '퍼센트': 4091, '커녕': 4092, '류승범': 4093, '사생활': 4094, '붉다': 4095, '표본': 4096, '주신': 4097, '대도': 4098, '프랑스인': 4099, '썩': 4100, '맴도': 4101, '일류': 4102, '코스트': 4103, '드립': 4104, '랩': 4105, '복제': 4106, '짜내다': 4107, '구혜선': 4108, '자고': 4109, '먹음': 4110, '봉만대': 4111, '글구': 4112, '무능하다': 4113, '의심스럽다': 4114, '줫': 4115, '오랜만': 4116, '일만': 4117, '크크': 4118, '입술': 4119, '유쾌': 4120, '업그레이드': 4121, '정신건강': 4122, '벌리다': 4123, '연장': 4124, '관리': 4125, '울림': 4126, '뷰티': 4127, '개똥': 4128, '가버리다': 4129, '먹기': 4130, '만주': 4131, '주더': 4132, '이서진': 4133, '처리': 4134, '오글오글': 4135, '머피': 4136, '터널': 4137, '직': 4138, '틀어놓다': 4139, '레이첼': 4140, '막심': 4141, '화판': 4142, '성숙하다': 4143, '허영': 4144, '세뇌': 4145, '현빈': 4146, '이루어지다': 4147, '방향성': 4148, '직설': 4149, '김승우': 4150, '어서': 4151, '후의': 4152, '관대하다': 4153, '매료': 4154, '스칼렛': 4155, '김동완': 4156, '상승': 4157, '얽히다': 4158, '홍금보': 4159, '먼지': 4160, '미국영화': 4161, '간절하다': 4162, '화비': 4163, '볼땐': 4164, '헐크': 4165, '똥폼': 4166, '동아리': 4167, '파악': 4168, '임성한': 4169, '극혐': 4170, '여태껏': 4171, '임창정': 4172, '현상': 4173, '주제곡': 4174, '동감': 4175, '위안부': 4176, '홈': 4177, '이준': 4178, '외롭다': 4179, '펠레': 4180, '미셸': 4181, '인칭': 4182, '요정': 4183, '엉덩이': 4184, '천원': 4185, '정무문': 4186, '에이미': 4187, '몰래': 4188, '묘미': 4189, '지리': 4190, '장화홍련': 4191, '인용': 4192, '인간미': 4193, '제공': 4194, '친절하다': 4195, '스톤': 4196, '에드워드': 4197, '어어': 4198, '삼각관계': 4199, '공연': 4200, '전세계': 4201, '수긍': 4202, '숀': 4203, '출품': 4204, '쯧': 4205, '분노하다': 4206, '듯이': 4207, '아오이': 4208, '짜릿하다': 4209, '안젤리나': 4210, '이승환': 4211, '주변인': 4212, '폴': 4213, '내버리다': 4214, '땡기다': 4215, '덮다': 4216, '나열': 4217, '특징': 4218, '병원': 4219, '대통령': 4220, '츠': 4221, '수술': 4222, '소개': 4223, '찬란': 4224, '때론': 4225, '무책임': 4226, '역사왜곡': 4227, '임용': 4228, '정글': 4229, '이러하다': 4230, '예체능': 4231, '에로물': 4232, '범작': 4233, '꼴리다': 4234, '마돈나': 4235, '진실되다': 4236, '짐작': 4237, '피우다': 4238, '베토벤': 4239, '잭슨': 4240, '봣네': 4241, '배드': 4242, '드림웍스': 4243, '입사': 4244, '댓글알바': 4245, '치장': 4246, '곤충': 4247, '광': 4248, '경계': 4249, '비용': 4250, '문제점': 4251, '차기작': 4252, '유우': 4253, '호불호': 4254, '바티칸': 4255, 'ㅆ': 4256, '추구': 4257, '노랗다': 4258, '동거': 4259, '마초': 4260, '익다': 4261, '아카데미': 4262, '레나': 4263, '장예모': 4264, '벽': 4265, '윌리암스': 4266, '지극히': 4267, '삘': 4268, '불멸': 4269, '글픽': 4270, '래서': 4271, '바비': 4272, '변명': 4273, '죄인': 4274, '윈': 4275, '키이라': 4276, '틱장애': 4277, '싱겁다': 4278, '낚임': 4279, '물건': 4280, '뮤비': 4281, '타르': 4282, '가르다': 4283, '토르': 4284, '다크': 4285, '어루만지다': 4286, '세르게이': 4287, '저그': 4288, '나대다': 4289, '탕': 4290, '사골': 4291, '박시환': 4292, '이틀': 4293, '달팽이': 4294, '기리': 4295, '아햏햏': 4296, '허풍': 4297, '가상하다': 4298, '만이라도': 4299, '주입': 4300, '그릇': 4301, '엠비씨': 4302, '질린다': 4303, '바이러스': 4304, '프리': 4305, '끝내': 4306, '지치다': 4307, '김혜선': 4308, '존잘': 4309, '타겟': 4310, '요원': 4311, '맘마미아': 4312, '꼭두각시': 4313, '클래식': 4314, '무당': 4315, '참가자': 4316, '심사': 4317, '인격': 4318, '금물': 4319, '우물': 4320, '펀치': 4321, '대들다': 4322, '각기': 4323, '은지원': 4324, '로드': 4325, '형태': 4326, '미로': 4327, '다녀오다': 4328, '서스펜스': 4329, '월요일': 4330, '해피': 4331, '주년': 4332, '개그콘서트': 4333, '서양': 4334, '무고': 4335, '건데': 4336, 'ㅋㅋㅋㅋㅋㅋㅋㅋㅋㅋㅋㅋㅋㅋ': 4337, '이적': 4338, '매니저': 4339, '트로트': 4340, '인터뷰': 4341, '조디': 4342, '애니스톤': 4343, '작살': 4344, '킁': 4345, '테이프': 4346, '넘어지다': 4347, '사토시': 4348, '뼈': 4349, '이겠다': 4350, '다듬다': 4351, '비롯': 4352, '다미': 4353, '줄리아': 4354, '한창': 4355, '매칭': 4356, '검술': 4357, '트리스탄': 4358, '제자': 4359, '감기': 4360, '대적': 4361, '친척': 4362, '고요하다': 4363, '머물다': 4364, '사색': 4365, '눈부시다': 4366, '잔인함': 4367, '페이스': 4368, '맞서다': 4369, '투쟁': 4370, '부정': 4371, '영화평론가': 4372, '마는': 4373, '콧대': 4374, '권상우': 4375, '므': 4376, '유혹': 4377, '난감하다': 4378, '신화': 4379, '몬': 4380, '김유미': 4381, '장교': 4382, '한예슬': 4383, '공통점': 4384, '똑똑하다': 4385, '몸짓': 4386, '빙빙': 4387, '번만': 4388, '후자': 4389, '로더': 4390, '줄리': 4391, '성해': 4392, '비약': 4393, '꽉': 4394, '사치': 4395, '우린': 4396, '성기': 4397, '촌': 4398, '툭툭': 4399, '꼽히다': 4400, '초등': 4401, '자녀': 4402, '찰지다': 4403, '쓰시': 4404, '미흡하다': 4405, '스토리텔링': 4406, 'ㅜㅜㅜㅜ': 4407, '정화': 4408, '홍경인': 4409, '드릴': 4410, '고스': 4411, '모호하다': 4412, '이크': 4413, '부진': 4414, '니당다': 4415, '성녀': 4416, '영화상': 4417, '구림': 4418, '박사': 4419, '에로스': 4420, '효과음': 4421, '꾸준하다': 4422, '작고': 4423, '모니터링': 4424, '상호': 4425, '박신혜': 4426, '빠져나오다': 4427, '국민학교': 4428, '부류': 4429, '거대하다': 4430, '쳐다보다': 4431, '광해': 4432, '나약하다': 4433, '부각': 4434, '난이': 4435, '비긴': 4436, '어게인': 4437, '스나이퍼': 4438, '일병': 4439, '퍼스': 4440, '아이리스': 4441, '비트': 4442, '처벌': 4443, '속물': 4444, '도덕': 4445, '정상인': 4446, '솔로': 4447, '로간': 4448, '헤어스타일': 4449, '저렇다': 4450, '김명민': 4451, '구해': 4452, '설마설마': 4453, '다니엘헤니': 4454, '통제': 4455, '폭풍': 4456, '대판': 4457, '사촌동생': 4458, '골목': 4459, '하나라': 4460, '학': 4461, '재밋습': 4462, '어의': 4463, '작자': 4464, '진과': 4465, '손대다': 4466, '천하다': 4467, '엑': 4468, '부러': 4469, '침대': 4470, '눕다': 4471, '충분': 4472, '저만': 4473, '파트': 4474, '얼음': 4475, '나루토': 4476, '거두다': 4477, '가까이': 4478, '폰부스': 4479, '인성': 4480, '신도': 4481, '늑대': 4482, '구식': 4483, '유투브': 4484, '졸귀': 4485, '잔치': 4486, '우우': 4487, '플레이': 4488, '귀찮다': 4489, '꺼내다': 4490, '나영': 4491, '고래': 4492, '밤새': 4493, '접영': 4494, '바치': 4495, '데인': 4496, '남아돌다': 4497, '피디': 4498, '팍팍': 4499, '샷': 4500, '구려': 4501, '맷': 4502, '데이먼': 4503, '베이': 4504, '뚫리다': 4505, '딥블루씨': 4506, '훌쩍': 4507, '일제': 4508, '전기': 4509, '그럴듯하다': 4510, '어줍다': 4511, '뭉클': 4512, '딘': 4513, '구조': 4514, '대조영': 4515, '편성': 4516, '부도': 4517, '격': 4518, '엑소': 4519, '공존': 4520, '유작': 4521, '킴': 4522, '싱어': 4523, '맘껏': 4524, '몰락하다': 4525, '아이유': 4526, '서민': 4527, '록키': 4528, '선교': 4529, '하여튼': 4530, '쓰기': 4531, '초보': 4532, '후진': 4533, '크리': 4534, '괴': 4535, '건너': 4536, '띄다': 4537, '봣음': 4538, '승전': 4539, '결': 4540, '관계도': 4541, '잡스': 4542, '팔다': 4543, '나인': 4544, '넘사벽': 4545, '수지': 4546, '왓츠': 4547, '파커': 4548, '오류': 4549, '클린트': 4550, '이스트': 4551, '우드': 4552, '파헤치다': 4553, '진영화': 4554, '게이고': 4555, '용의자': 4556, '개신교': 4557, '부탁': 4558, '데이빗': 4559, '린치': 4560, '불쌍타': 4561, '착오': 4562, '측면': 4563, '풍부하다': 4564, '바둑': 4565, '버젼': 4566, '톰크루즈': 4567, '검': 4568, '죽도': 4569, '저기': 4570, '그룹': 4571, '송승헌': 4572, '애국': 4573, '케이스': 4574, '지적': 4575, '미이라': 4576, '뵈다': 4577, '숨': 4578, '자질': 4579, '두사부일체': 4580, '파내다': 4581, '조선시대': 4582, '환타지': 4583, '시르다': 4584, '소스': 4585, '다운로드': 4586, '휼륭하다': 4587, '삼만리': 4588, '비노': 4589, '감상문': 4590, '봉투': 4591, '도망가다': 4592, '댄스': 4593, '왜캐': 4594, '지식인': 4595, '미만': 4596, '창피하다': 4597, '궁금증': 4598, '동의': 4599, '고어영화': 4600, '어긋나다': 4601, '히치콕': 4602, '에든': 4603, '에플렉': 4604, '정겨운': 4605, '모기': 4606, '리즈시절': 4607, '홍어': 4608, '부릉부릉': 4609, '땅크': 4610, '전사': 4611, '아이디': 4612, '일어나서': 4613, '장진영': 4614, '템포': 4615, '행진': 4616, '귀여니': 4617, '알렉스': 4618, '고장': 4619, '외치': 4620, 'ㅁㅇ': 4621, '와이프': 4622, '볼륨': 4623, '자만': 4624, '관장': 4625, '무덤': 4626, '날아가다': 4627, '블랙리스트': 4628, '질투': 4629, '금성': 4630, '볼일': 4631, '허비하다': 4632, '번개': 4633, '사족': 4634, '국적': 4635, '이준기': 4636, '이편': 4637, '냉소': 4638, '팔리다': 4639, '무식하다': 4640, '제프': 4641, '머리스타일': 4642, '범벅': 4643, '에너미': 4644, '너리': 4645, '사만': 4646, '수면제': 4647, '잠자다': 4648, '기부': 4649, '엘리자베스': 4650, '조건': 4651, '세대': 4652, '댄서': 4653, '개꿀잼': 4654, '갈수': 4655, '반쪽': 4656, '써로게이트': 4657, '컴플렉스': 4658, '오래오래': 4659, '재수': 4660, '호기': 4661, '일일': 4662, '한국어': 4663, '아리': 4664, '메이크업': 4665, '건조하다': 4666, '순진하다': 4667, '단단하다': 4668, '장통': 4669, '연주': 4670, '우리네': 4671, '가제': 4672, '폐해': 4673, '어둠': 4674, '진작': 4675, '훔치다': 4676, '게살': 4677, '편협': 4678, '프로젝트': 4679, '물결': 4680, '직장': 4681, '후보': 4682, '걸왜': 4683, '찰리채플린': 4684, '하지원': 4685, '지기': 4686, '영호': 4687, '시킴': 4688, '패스': 4689, '첩보': 4690, '마스터피스': 4691, '떡': 4692, '놔두다': 4693, '깔리다': 4694, '덩어리': 4695, '가왜': 4696, '열차': 4697, '폭탄': 4698, '끊다': 4699, '여유': 4700, '기수': 4701, '에이리언': 4702, '뽀로로': 4703, '찾아다니다': 4704, '휴대폰': 4705, '말년': 4706, '더구나': 4707, '증거': 4708, '먹방': 4709, '해명': 4710, '수다': 4711, '강도': 4712, '앞서다': 4713, '진도': 4714, '반면': 4715, 'ㅠㅠㅠㅠㅠ': 4716, '세영': 4717, '전략': 4718, '다주': 4719, '아리다': 4720, '호프만': 4721, '상도': 4722, '벗기다': 4723, '좆': 4724, '비쥬': 4725, '호강': 4726, '존멋': 4727, '김범': 4728, '감당': 4729, '떠돌다': 4730, '때로는': 4731, '외우다': 4732, '윌': 4733, '사랑과전쟁': 4734, '다이아나': 4735, '스필버그': 4736, '사하다': 4737, '걸레': 4738, 'ㅋㅋㅋㅋㅋㅋㅋㅋㅋㅋㅋㅋ': 4739, '마케팅': 4740, '중딩': 4741, '교묘하다': 4742, '어떠하다': 4743, '정준': 4744, '도구로': 4745, '바토리': 4746, '비운': 4747, '자도': 4748, '스나입스': 4749, '뚫다': 4750, '의젖': 4751, '매드': 4752, '황금': 4753, '도아': 4754, '힐러': 4755, '따먹다': 4756, '끝장': 4757, '지점': 4758, 'ㄹㅇ': 4759, '구입': 4760, '김하늘': 4761, '강대국': 4762, '남일': 4763, '설레임': 4764, '효민': 4765, '저절로': 4766, '신비롭다': 4767, '못자다': 4768, '엄지원': 4769, '깡': 4770, '이재용': 4771, '사정': 4772, '힝': 4773, '뱉다': 4774, '깊숙하다': 4775, '무려': 4776, '못만드': 4777, '세명': 4778, '횡설수설': 4779, '따라서': 4780, '우롱': 4781, '해서웨이': 4782, '망설이다': 4783, '전환': 4784, '강물': 4785, '사도': 4786, '뚜껑': 4787, '도가니': 4788, '치킨': 4789, '가사': 4790, '뒷이야기': 4791, '그랬는데': 4792, '모성애': 4793, '외다': 4794, '박정희': 4795, '공각기동대': 4796, '상이': 4797, '린데': 4798, '잘봣습니': 4799, '원빈': 4800, '모야': 4801, '닌': 4802, '레슬링': 4803, '피식': 4804, '대리': 4805, '깨지다': 4806, '엄': 4807, '호평': 4808, '선하다': 4809, '멜로디': 4810, '스웨덴': 4811, '쫓아가다': 4812, '히스': 4813, '따름': 4814, '생뚱맞': 4815, '도쿄': 4816, '경향': 4817, '활동': 4818, '드하': 4819, '쿵': 4820, '오유': 4821, '스마트': 4822, '묵주': 4823, '자칭': 4824, '콘스탄틴': 4825, '외국인': 4826, '환타': 4827, '퇴보하다': 4828, '르': 4829, '발킬머': 4830, '알포인트': 4831, '존트라볼타': 4832, '김우빈': 4833, '와사비': 4834, '리차드': 4835, '비로소': 4836, '히나타': 4837, '급전': 4838, '육': 4839, '외로': 4840, '시드': 4841, '중이병': 4842, '티라노': 4843, '조기': 4844, '안내': 4845, '축소': 4846, '죄송': 4847, '전두환': 4848, '오현경': 4849, '저주': 4850, '왤케': 4851, '평론': 4852, '장쯔이': 4853, '아날로그': 4854, '주지훈': 4855, '호호': 4856, '엠버': 4857, '박준형': 4858, '빙': 4859, '환': 4860, '베베': 4861, '공식': 4862, '올드보이': 4863, '교감': 4864, '신밧드': 4865, '러셀': 4866, '크로우': 4867, '여지': 4868, '생존': 4869, '오만하다': 4870, '정적': 4871, '쓰이다': 4872, '다가가다': 4873, '옹': 4874, '유명배우': 4875, '화류': 4876, '스크림': 4877, '좌절': 4878, '우수': 4879, '아영': 4880, '지라': 4881, '만큼의': 4882, '금액': 4883, '유도': 4884, '널다': 4885, '패틴슨': 4886, '정지훈': 4887, '류승룡': 4888, '대원': 4889, '으악': 4890, '권하다': 4891, '아일랜드': 4892, '수애': 4893, '얕다': 4894, '아마도': 4895, '술함': 4896, '민주주의': 4897, '그렇지만': 4898, '워쇼스키': 4899, '자꾸만': 4900, '밸런스': 4901, '매년': 4902, '펼쳐지다': 4903, '덤덤하다': 4904, '에미': 4905, '멋대로': 4906, '눈꼽': 4907, '저능': 4908, '랄프': 4909, '불리다': 4910, '아역배우': 4911, '멍하니': 4912, '타이타닉': 4913, '안전': 4914, '라그': 4915, '강박증': 4916, '개방': 4917, '소가': 4918, '소매치기': 4919, '가물가물': 4920, '햐': 4921, '시바': 4922, '예스': 4923, '잼잼': 4924, '정복': 4925, '토요명화': 4926, '겉도': 4927, '위안': 4928, '중국산': 4929, '블럭버스터': 4930, '이계인': 4931, '뚜렷하다': 4932, '고요': 4933, '수용': 4934, '옹박': 4935, '몹시': 4936, '볼바': 4937, '주자': 4938, '재발': 4939, '왓': 4940, '중후': 4941, '고루': 4942, '현지': 4943, '우산': 4944, '끈': 4945, '정독': 4946, '자격': 4947, '피지': 4948, '할배': 4949, '문근영': 4950, '시간여행': 4951, '핥다': 4952, '만으로는': 4953, '엑스맨': 4954, '군요': 4955, '죄책감': 4956, '평화롭다': 4957, '동해': 4958, '로안': 4959, '소수': 4960, '유효하다': 4961, '영화음악': 4962, '사가': 4963, '센터': 4964, '김소연': 4965, '개발': 4966, '티브이': 4967, '지니어스': 4968, '고백': 4969, '여야': 4970, '공이': 4971, '경지': 4972, '수위': 4973, '실컷': 4974, '록': 4975, '스모': 4976, '어후': 4977, '사라': 4978, '귀가': 4979, '숨죽': 4980, '세우다': 4981, '남겨지다': 4982, '마스크': 4983, '유년기': 4984, '뒤통수': 4985, '예나': 4986, '브라이언': 4987, '어쩌다': 4988, '하이킥': 4989, '인정받다': 4990, '숨소리': 4991, '젊은이': 4992, '기광': 4993, '진보': 4994, '외치다': 4995, '낚이': 4996, '재활용': 4997, '빙의': 4998, '야만': 4999, '근거': 5000, '사례': 5001, '만지다': 5002, '천천히': 5003, '머랄': 5004, '모독': 5005, '황신혜': 5006, '여균동': 5007, '씩씩하다': 5008, '얼리다': 5009, '거가': 5010, '이어진': 5011, '밀리다': 5012, '파티': 5013, '강아지': 5014, '하고만': 5015, '오토바이': 5016, '오지': 5017, '론데': 5018, '테스트': 5019, '말초신경': 5020, '킹콩': 5021, '신곡': 5022, '샤이니': 5023, '자세': 5024, '산이': 5025, '실태': 5026, '재앙': 5027, '최진실': 5028, '화이자': 5029, '스머프': 5030, '팬텀': 5031, '제라드': 5032, '버틀러': 5033, '강철': 5034, '영광': 5035, '잘살다': 5036, '버금': 5037, '수업': 5038, '해주': 5039, '조진웅': 5040, '꺼리다': 5041, '쿠바': 5042, '낭': 5043, '히트': 5044, '알란': 5045, '쿠': 5046, '자본주의': 5047, '맨인블랙': 5048, '스티븐시걸': 5049, '구역질': 5050, '약자': 5051, '나아지다': 5052, '춤추다': 5053, '짙다': 5054, '자괴': 5055, '때메': 5056, '썻': 5057, '봉준호': 5058, '방이': 5059, '분안': 5060, '이진': 5061, '드라큐라': 5062, '필드': 5063, '꺾다': 5064, '오싹하다': 5065, '되돌리다': 5066, '치밀다': 5067, '루비': 5068, '여고괴담': 5069, '사나': 5070, '자시다': 5071, '신파극': 5072, '삼박자': 5073, '긴지': 5074, '재판': 5075, '퍼': 5076, '불능': 5077, '관우': 5078, '수습': 5079, '신앙': 5080, '부문': 5081, '훑다': 5082, '은혜': 5083, '보수': 5084, '영화제작': 5085, '고작': 5086, '최선': 5087, '후후': 5088, '난도질': 5089, '친일파': 5090, '김민준': 5091, '스티브': 5092, '일본드라마': 5093, '좌빨': 5094, '김정은': 5095, '비법': 5096, '따라잡다': 5097, '이기도': 5098, '뿌리': 5099, '앵': 5100, '곁': 5101, '궈': 5102, '안녕': 5103, '생선': 5104, '지껄이다': 5105, '조장': 5106, '활약': 5107, '권위': 5108, '정책': 5109, '작정': 5110, '프랑': 5111, '히로인': 5112, '전도연': 5113, '드라이버': 5114, '가성': 5115, '비슷': 5116, '유역비': 5117, '쇼킹': 5118, '롤': 5119, '라스베가스': 5120, '한쪽': 5121, '지게': 5122, '진진': 5123, '게이트': 5124, '살살': 5125, '라퓨타': 5126, '꼬맹이': 5127, '서도': 5128, '에러': 5129, '까지만': 5130, '재희': 5131, '토의': 5132, '해안': 5133, '요한슨': 5134, '물어': 5135, '가히': 5136, '멍청': 5137, '대구': 5138, '하차': 5139, '오늘날': 5140, '동원': 5141, '속이다': 5142, '극영화': 5143, '육체': 5144, '이소연': 5145, '죽지': 5146, '미디어': 5147, '각성': 5148, '다치다': 5149, '매장': 5150, '부각시키다': 5151, '주문': 5152, '경찰서': 5153, '엘리베이터': 5154, '치기': 5155, '이경영': 5156, '황정민': 5157, '오기': 5158, '곱다': 5159, '덕의': 5160, '크리처': 5161, '평타': 5162, '마음껏': 5163, '한효주': 5164, '무시무시하다': 5165, '윌리스': 5166, '닼': 5167, '파탄': 5168, '우디알렌': 5169, '드라마틱하다': 5170, '만행': 5171, '총장': 5172, '유아인': 5173, '어떨': 5174, '심금': 5175, '미니': 5176, '불문': 5177, '기타': 5178, '슬래셔': 5179, '잘리다': 5180, '이듭': 5181, '상큼': 5182, '상식': 5183, '태안': 5184, '피곤하다': 5185, '상반': 5186, '복잡': 5187, '박현지': 5188, '확신': 5189, '턱': 5190, '에너지': 5191, '행운': 5192, '심야식당': 5193, '만치': 5194, '성냥': 5195, '재림': 5196, '레오': 5197, '해안가': 5198, '우마': 5199, '희망이': 5200, '계단': 5201, '나날이': 5202, 'ㅕ': 5203, '과언': 5204, '놨': 5205, '토토': 5206, '러브레터': 5207, '톱': 5208, '배출': 5209, '협회': 5210, '유행어': 5211, '동기': 5212, '예지원': 5213, '필립': 5214, '떼': 5215, '지못미': 5216, '존엄성': 5217, '권태기': 5218, '그림자': 5219, '식탁': 5220, '벨라': 5221, '종합': 5222, '지니': 5223, '정은': 5224, '생전': 5225, '팬심': 5226, '농락': 5227, '호소': 5228, '스포일러': 5229, '송지효': 5230, 'ㅓ': 5231, '흥겹다': 5232, '매트릭스': 5233, '송재림': 5234, '한물가다': 5235, '허무맹랑': 5236, '금융': 5237, '슥': 5238, '어물': 5239, '부영': 5240, '본드': 5241, '부담스럽다': 5242, '클레이': 5243, '탐욕': 5244, '지스': 5245, '놀': 5246, '좌파': 5247, '나마': 5248, '태': 5249, '모욕': 5250, '최민수': 5251, '세이': 5252, '킬빌': 5253, '이구만': 5254, '학예회': 5255, '동포': 5256, '차별': 5257, '강지환': 5258, '발달': 5259, '찌그러지다': 5260, '그러하다': 5261, '저따위': 5262, '혐': 5263, '사나이': 5264, '해치다': 5265, '루피': 5266, '그려지다': 5267, '에서부터': 5268, '훨낫다': 5269, '킹왕짱': 5270, '대나무': 5271, '수정': 5272, '에서야': 5273, '파고들다': 5274, '시스템': 5275, '트랜스포머': 5276, '욕설': 5277, '인셉션': 5278, '재키': 5279, '성질': 5280, '장영': 5281, '피부': 5282, '피아니스트': 5283, '브로디': 5284, '모도': 5285, '무릎': 5286, '일관': 5287, '두루': 5288, '데미무어': 5289, '장소': 5290, '떡실신': 5291, '점임': 5292, '미스터': 5293, '스미스': 5294, '사서': 5295, '순박하다': 5296, '냉철하다': 5297, '인종': 5298, '교차': 5299, '떠올리다': 5300, '무심코': 5301, '베를린': 5302, '불친절하다': 5303, '방화': 5304, '나무': 5305, '발암': 5306, '책임지다': 5307, '서바이벌': 5308, '종말': 5309, '철저하다': 5310, '타이': 5311, '쉐리던': 5312, '치이다': 5313, '친숙하다': 5314, '빠': 5315, '운영': 5316, '포켓몬': 5317, '스님': 5318, '곱등이': 5319, '마린': 5320, '난생': 5321, '가라': 5322, '유민': 5323, '신들리다': 5324, '그만두다': 5325, '임밸류': 5326, '시장': 5327, '쉣': 5328, '염': 5329, '광주': 5330, '선글라스': 5331, '정점': 5332, '유행': 5333, '덜덜': 5334, '인간관계': 5335, '산다': 5336, '연결하다': 5337, '러시': 5338, '접함': 5339, '에어': 5340, '리언': 5341, '양산': 5342, '누명': 5343, '포근하다': 5344, '은기': 5345, '들것': 5346, '먹이': 5347, '고질': 5348, '그땐': 5349, '콘서트': 5350, '브금': 5351, '엠마': 5352, '껄': 5353, '한경직': 5354, '정녕': 5355, '오맹달': 5356, '쩜': 5357, '리오': 5358, '오지명': 5359, '연락': 5360, '불면증': 5361, '기반': 5362, '윤은혜': 5363, '날림': 5364, '디게': 5365, '영차': 5366, '낙태': 5367, '요가': 5368, '덴젤': 5369, '피라냐': 5370, '맹': 5371, '애교': 5372, 'ㅉ': 5373, '장님': 5374, 'ㅠㅡㅠ': 5375, '부수': 5376, '구슬': 5377, '악의': 5378, '겹': 5379, '미술': 5380, '존예': 5381, '숲속': 5382, '닮음': 5383, '극도': 5384, '최민식': 5385, '작업': 5386, '엘': 5387, '포뇨': 5388, 'ㅂ': 5389, '정경호': 5390, '자이언트': 5391, '박신양': 5392, '생일': 5393, '해바라기': 5394, '환자': 5395, '가인': 5396, '시민': 5397, '어려움': 5398, '둥이': 5399, '복장': 5400, '무쌍': 5401, '반의': 5402, '후짐': 5403, '안함': 5404, '호연': 5405, '결점': 5406, '언어': 5407, '증오': 5408, '도망': 5409, '채민서': 5410, '취급': 5411, '고간': 5412, '악행': 5413, '카제': 5414, '기교': 5415, '역다': 5416, '기생충': 5417, '호프': 5418, '하정우': 5419, '장남': 5420, '중점': 5421, '어느새다': 5422, '천장': 5423, '햇던': 5424, '미우다': 5425, '뽀': 5426, '이이': 5427, '조한선': 5428, '닦다': 5429, '선조': 5430, '한층': 5431, '분발': 5432, '읍': 5433, '서세원': 5434, '쫒다': 5435, '몰아치다': 5436, '대루': 5437, '가식': 5438, '작곡가': 5439, '인즈': 5440, '에디': 5441, '일본침몰': 5442, '실체': 5443, 'ㅓㅇ': 5444, '앜': 5445, '구먼': 5446, '익살스럽다': 5447, '커스틴': 5448, '생인': 5449, '락스': 5450, '산뜻하다': 5451, '용구성': 5452, '만찬': 5453, '핀란드': 5454, '털다': 5455, '서리': 5456, '굶주리다': 5457, '머금': 5458, '니스': 5459, '맵다': 5460, '원한': 5461, '활': 5462, '들어맞다': 5463, '사의': 5464, '단면': 5465, '사죄': 5466, '잡기': 5467, '보도': 5468, '명백하다': 5469, '김남길': 5470, 'ㅈㅈ': 5471, '망신': 5472, '활짝': 5473, '문자': 5474, '비번': 5475, '부패하다': 5476, '화해': 5477, '럼': 5478, '볼라': 5479, '믹스': 5480, '가구': 5481, '서운하다': 5482, '몬스터': 5483, '불법체류자': 5484, '삶속': 5485, '숀펜': 5486, '믿어지다': 5487, '여군': 5488, '노출씬': 5489, '바랬다': 5490, '면상': 5491, '방도': 5492, '수백향': 5493, '바른': 5494, '순정': 5495, '팜므파탈': 5496, '의외': 5497, '뮤지컬영화': 5498, '뻑뻑': 5499, '뚱뚱하다': 5500, '듣기': 5501, '복귀': 5502, '판타지영화': 5503, '탈피': 5504, '젖다': 5505, '접해': 5506, '건담': 5507, '코너': 5508, '사다코': 5509, '서린': 5510, '강수연': 5511, '가발': 5512, '배두나': 5513, '장끌': 5514, '화남': 5515, '영양가': 5516, '현충일': 5517, '뿅': 5518, '소원': 5519, '긍정': 5520, '푸하하하': 5521, '알리시아': 5522, '옥소리': 5523, '영화롭다': 5524, '모녀': 5525, '토막': 5526, '살해': 5527, '다투다': 5528, '연속극': 5529, '오피스': 5530, '물폭탄': 5531, '두기': 5532, '쌀': 5533, '뒷받침': 5534, '달이': 5535, '훅': 5536, '지존': 5537, '저급': 5538, '그로': 5539, '유유': 5540, '안개': 5541, '독': 5542, '박정아': 5543, '긔': 5544, '남북': 5545, '핀': 5546, '신라': 5547, '지존파': 5548, '핑계': 5549, '안대': 5550, '기네': 5551, '취미': 5552, '올인': 5553, '위조': 5554, '패자부활전': 5555, '점차': 5556, '땡': 5557, '칠이': 5558, '사촌형': 5559, '내기': 5560, '심은하': 5561, '퇴색': 5562, '원주민': 5563, '아카데미상': 5564, '일어나고': 5565, '깨달': 5566, '대강': 5567, '의아': 5568, '예민하다': 5569, '지수': 5570, '갈팡질팡': 5571, '왼쪽': 5572, '동행': 5573, '샤넬': 5574, '수년': 5575, '찰나': 5576, '핫': 5577, '센세이션': 5578, '조은숙': 5579, '피고': 5580, '피의자': 5581, '다망': 5582, '도가니탕': 5583, '걸치다': 5584, '김영애': 5585, '생동감': 5586, '박물관': 5587, '노땅': 5588, '간신히': 5589, '결투': 5590, '폭풍눈물': 5591, '상술': 5592, '선거': 5593, '성향': 5594, '남극': 5595, '처키': 5596, '제보': 5597, '귀요미': 5598, '어그': 5599, '지아': 5600, '데뷔': 5601, '무리하다': 5602, '이득': 5603, '성인영화': 5604, '호화롭다': 5605, '이해관계': 5606, '뿜었다': 5607, '마침표': 5608, '세얼간이': 5609, '심혜진': 5610, '아이템': 5611, '사업': 5612, '지침': 5613, '대소': 5614, '프리미엄': 5615, '이선균': 5616, '오락가락': 5617, '지모': 5618, '오늘이': 5619, '최루성': 5620, '마술': 5621, '리좀': 5622, '게왜': 5623, '쏠때': 5624, '고고': 5625, '제제': 5626, '육감': 5627, '이라든지': 5628, '두고두고': 5629, '우아': 5630, '능청': 5631, '달고나': 5632, '추잡하다': 5633, '명도': 5634, '솜': 5635, '염치': 5636, '산업': 5637, '상급': 5638, '전차': 5639, '마구잡이': 5640, '기쁨': 5641, '거도': 5642, '말고도': 5643, '파렐': 5644, '꼬옥': 5645, '허탈하다': 5646, '공격': 5647, '여성성': 5648, '비디오테잎': 5649, '마구': 5650, '미군': 5651, '업햄': 5652, '자위대': 5653, '그토록': 5654, '이슈': 5655, '배틀로얄': 5656, '국회의원': 5657, '치졸하다': 5658, '빠다': 5659, '어르신': 5660, '주민': 5661, '수역': 5662, '으이구': 5663, '요점': 5664, '보심': 5665, '격인': 5666, '해군': 5667, '퓨': 5668, '이모': 5669, '하하호호': 5670, '지향': 5671, '이랬는데': 5672, '대형': 5673, '써주다': 5674, '미취': 5675, '자랑스럽다': 5676, '허황': 5677, '화전': 5678, '산만': 5679, '두서': 5680, '오그리다': 5681, '사도세자': 5682, '휴일': 5683, '벌떡': 5684, '영화광': 5685, '안타': 5686, '서인영': 5687, '으루': 5688, '창조': 5689, '개떡': 5690, '농촌': 5691, '단독': 5692, '탁재훈': 5693, '믄': 5694, '뒈지다': 5695, '괴짜': 5696, '일정': 5697, '성취': 5698, '카타르': 5699, '시스': 5700, '값지다': 5701, '제이': 5702, '조금씩': 5703, '킬': 5704, '식인': 5705, '루크': 5706, '소문나다': 5707, '머싯': 5708, '신사': 5709, '아웃': 5710, '왈가': 5711, '왈부': 5712, '정철': 5713, '실험영화': 5714, '에일리언': 5715, '쇼핑': 5716, '리리': 5717, '프렌드': 5718, '얼티': 5719, '희한하다': 5720, '필수': 5721, '미달': 5722, '이집트': 5723, '소림사': 5724, '관문': 5725, '통과': 5726, '그라드': 5727, '모텔': 5728, '질적': 5729, '류덕환': 5730, '에게로': 5731, '턴': 5732, '인턴': 5733, '랜턴': 5734, '커트코베인': 5735, '팬픽': 5736, '사주다': 5737, '얼른': 5738, '막강': 5739, '짜장면': 5740, '전투기': 5741, '빌딩': 5742, '상콤': 5743, '질문': 5744, '왕건': 5745, '빠져듬': 5746, '광희': 5747, '쫓겨나다': 5748, '넉': 5749, '꾸밈': 5750, '시내': 5751, '요런': 5752, '반지의제왕': 5753, '조안': 5754, '공산당': 5755, '위화': 5756, 'ㅆㄹㄱ': 5757, '축복': 5758, '앨런': 5759, '어째서': 5760, '장비': 5761, '안정': 5762, 'ㅍ': 5763, '김해': 5764, '쾌': 5765, '결승전': 5766, '공정하다': 5767, '장동민': 5768, '라운드': 5769, '결과물': 5770, '애플': 5771, '이물': 5772, '빼앗기다': 5773, '갈래': 5774, '닥치다': 5775, '무력하다': 5776, '떄문': 5777, '북받치다': 5778, '이중성': 5779, '언론': 5780, '강우석': 5781, '에이브': 5782, '찔끔': 5783, '패트레이버': 5784, '패륜': 5785, '행위': 5786, '워드': 5787, '스태프': 5788, '웹툰': 5789, '웬디': 5790, '오만': 5791, '그레이': 5792, '예감': 5793, '단호': 5794, '이형': 5795, '가오': 5796, '는바': 5797, '전국': 5798, '내적': 5799, '기분좋은날': 5800, '하염없이': 5801, '조니': 5802, '급수': 5803, '아트': 5804, '깜찍하다': 5805, '엄지': 5806, '사악하다': 5807, '로부터': 5808, '저수지': 5809, '개폼': 5810, '으로서의': 5811, '뿜': 5812, '불가능': 5813, '실질': 5814, '미술관': 5815, '관조': 5816, '뷁': 5817, '제시카알바': 5818, '샛길': 5819, '주진모': 5820, '강철중': 5821, '오디션': 5822, '나열하다': 5823, '어째': 5824, '스럽지도': 5825, '최상급': 5826, '복고': 5827, '이연희': 5828, '달마': 5829, '습격': 5830, '천하': 5831, '브랜드': 5832, '먹어주다': 5833, '김옥빈': 5834, '김태균': 5835, '개척': 5836, '최곤데': 5837, '대중화': 5838, '춘향전': 5839, '수치심': 5840, '널리': 5841, '퍼지다': 5842, '까지야': 5843, '흡혈': 5844, '식물': 5845, '유사하다': 5846, '이뻣다': 5847, '서류': 5848, '짱짱하다': 5849, '데니스': 5850, '퀘': 5851, '젛': 5852, '월트디즈니': 5853, '물어보다': 5854, '비스트': 5855, '균': 5856, '손자': 5857, '년놈': 5858, '사발': 5859, '젖': 5860, '지각': 5861, '공기': 5862, '봣엇': 5863, '정선경': 5864, '갱': 5865, '이하나': 5866, '매니': 5867, '미쉘': 5868, '별명': 5869, '운지': 5870, '준놈': 5871, '케이트': 5872, '아나운서': 5873, '제한': 5874, '약점': 5875, '것임': 5876, '참신': 5877, '스탠': 5878, '이유리': 5879, '온라인': 5880, '서비스': 5881, '오픈': 5882, '마담': 5883, '페드로': 5884, '뉘': 5885, '해님': 5886, '승화': 5887, '임신': 5888, '쩡': 5889, '재밋게봐': 5890, '입력': 5891, '존론': 5892, '정형': 5893, '다모': 5894, '혼합': 5895, '제니': 5896, '라이트': 5897, '진행중': 5898, '짜증스럽다': 5899, '맘대로': 5900, '오버액션': 5901, '여전': 5902, '아낌없다': 5903, '르완다': 5904, '난민': 5905, '감우성': 5906, '최강희': 5907, '로세': 5908, '드류': 5909, '모어': 5910, '시종': 5911, '느슨하다': 5912, '장벽': 5913, '컬': 5914, '버러지': 5915, '화단': 5916, '에게만': 5917, '럴슨': 5918, '의존': 5919, '윤후': 5920, '회사원': 5921, '보실': 5922, '지드': 5923, '온통': 5924, '핵전쟁': 5925, '강간범': 5926, '니나': 5927, '오줌': 5928, '몽롱': 5929, '슬로우': 5930, '모션': 5931, '넋': 5932, '이이이이': 5933, '주니어': 5934, '리포트': 5935, '누리': 5936, '에라도': 5937, '경쟁': 5938, '치열하다': 5939, '지현우': 5940, '도기': 5941, '용인': 5942, '이랑은': 5943, '파트너': 5944, '러시아어': 5945, '출생': 5946, '종결': 5947, '편리하다': 5948, '대장': 5949, '패럴': 5950, '민주당': 5951, '어기다': 5952, '뻣뻣하다': 5953, '컨저링': 5954, '스완': 5955, '영화니': 5956, '이세영': 5957, '무한도전': 5958, '권리': 5959, '나본': 5960, '고이': 5961, '욧': 5962, '관계자': 5963, '예의': 5964, '예진': 5965, '까먹다': 5966, '쥬산': 5967, '징': 5968, '달아오르다': 5969, '하우스': 5970, '아하': 5971, '태우다': 5972, '똥파리': 5973, '히로시': 5974, '우기': 5975, '어쩌나': 5976, '훼': 5977, '가격': 5978, '직시': 5979, '중요성': 5980, '문득': 5981, '중화사상': 5982, '쏟아지다': 5983, '유니크': 5984, '결혼식': 5985, '엇네': 5986, '어보': 5987, '이나영': 5988, '짜리몽땅': 5989, '파이팅': 5990, '몬스터왕국': 5991, '김준호': 5992, '이자나': 5993, '격투': 5994, '간략하다': 5995, '이브': 5996, '앙증맞다': 5997, '우승': 5998, '뮤직': 5999, '집기': 6000, '하숙집': 6001, '측은하다': 6002, '도발': 6003, '카페': 6004, '였음': 6005, '썰렁하다': 6006, '레벨': 6007, '추락': 6008, '무림': 6009, '녹이다': 6010, '요청': 6011, '읭': 6012, '획기': 6013, '듬뿍': 6014, '괴기': 6015, '입도': 6016, '따오다': 6017, '미인': 6018, '된장': 6019, '복녀': 6020, '기여': 6021, '리부트': 6022, '확장': 6023, '레이미': 6024, '토비': 6025, '건강': 6026, '주원': 6027, '감탄사': 6028, '집합소': 6029, 'ㅋㅋㅋㅋㅋㅋㅋㅋㅋㅋㅋㅋㅋㅋㅋㅋㅋ': 6030, '딱지': 6031, '고하': 6032, '이방인': 6033, '침': 6034, '욱일승천기': 6035, '고난': 6036, '카이': 6037, '관념': 6038, '순도': 6039, '오시': 6040, '일박이일': 6041, '구야': 6042, '쓰나미': 6043, '보디가드': 6044, '돌파': 6045, '일케': 6046, '잠기다': 6047, '파워레인저': 6048, '수의': 6049, '의료': 6050, '거뭐': 6051, '닳다': 6052, '혼나다': 6053, '자각': 6054, '닥터진': 6055, '신부': 6056, '악평': 6057, '트렌드': 6058, '이종혁': 6059, '규명': 6060, '소유자': 6061, '장악': 6062, '쓰레긴데': 6063, '부녀': 6064, '룰': 6065, '대풍수': 6066, '교체': 6067, '불과': 6068, '요하': 6069, '멸망': 6070, '특': 6071, '유의': 6072, '따스하다': 6073, '별것': 6074, '소리치다': 6075, '째다': 6076, '한혜진': 6077, '지진희': 6078, '연민': 6079, '퀸': 6080, '얼버무리다': 6081, '대기업': 6082, '일베충': 6083, '이역': 6084, '터미널': 6085, 'ㅗ': 6086, '속상하다': 6087, '대전': 6088, '종류': 6089, '식스센스': 6090, '캐롤': 6091, '이요원': 6092, '특성': 6093, '필요성': 6094, '아완': 6095, '루시': 6096, '강용석': 6097, '휘': 6098, '잘라먹다': 6099, '치사하다': 6100, '짱개': 6101, '대요': 6102, '태반': 6103, '다람쥐': 6104, '여울': 6105, '핸드': 6106, '사납다': 6107, '괴물영화': 6108, '밤시': 6109, '초록': 6110, '는가': 6111, '프': 6112, '로즈': 6113, '건물': 6114, '최소': 6115, '처참하다': 6116, '트레일러': 6117, '포도': 6118, '디센트': 6119, '이기광': 6120, '해드리다': 6121, '티켓': 6122, '청리': 6123, '중국사람': 6124, '마크': 6125, '복제인간': 6126, '적극': 6127, '로드무비': 6128, '진국': 6129, '기원': 6130, '디다': 6131, '레슬리': 6132, '닐슨': 6133, '기념비': 6134, '긴박하다': 6135, '랬': 6136, '눈살': 6137, '이라기': 6138, '흐접': 6139, '타락': 6140, '간지나다': 6141, '고사': 6142, '김현주': 6143, '술처': 6144, '어쩜이리': 6145, '울버린': 6146, '뽐내다': 6147, '뭘말': 6148, '투철': 6149, '어필': 6150, '정성': 6151, '면알': 6152, '가증': 6153, '해외': 6154, '부동산': 6155, '탈세': 6156, '뻔뻔': 6157, '입원': 6158, '가드': 6159, '리암': 6160, '슨': 6161, '웅': 6162, '라이브': 6163, '자국': 6164, '구상': 6165, '탐정': 6166, '작품하나': 6167, '뻔햇': 6168, '눈알': 6169, '성립': 6170, 'ㅅㅋ': 6171, '며칠': 6172, '책임': 6173, '이대로': 6174, '큰일': 6175, '톱스타': 6176, '덩달아': 6177, '가나다': 6178, '라마': 6179, '바사': 6180, '신선': 6181, '밋게봣': 6182, '감회': 6183, '사할린': 6184, '한인': 6185, '상당수': 6186, '노역': 6187, '서영희': 6188, '분한': 6189, '기초': 6190, '말빨': 6191, '셧': 6192, '꼽으': 6193, '전무후무': 6194, '어떻든': 6195, '맞장구': 6196, '또다시': 6197, '임수정': 6198, '예뻣다': 6199, '관성': 6200, '냉혹하다': 6201, '박용우': 6202, '클로이': 6203, '이쯤': 6204, '이기만': 6205, '중박': 6206, '레저': 6207, '이슬람교': 6208, '원더풀': 6209, '데이즈': 6210, '수녀': 6211, '노동자': 6212, 'ㅇㅅㅇ': 6213, '기묘하다': 6214, '진입': 6215, '칠하다': 6216, '공상': 6217, '미라': 6218, '고급': 6219, '연구': 6220, '성숙': 6221, '저스틴': 6222, '학력': 6223, '왕따': 6224, '기어': 6225, '카사노바': 6226, '가난': 6227, '누드': 6228, '콧물': 6229, '켄': 6230, '즐감': 6231, '머나멀다': 6232, '낮아지다': 6233, '컴퓨터그래픽': 6234, '드랍': 6235, '어화': 6236, '흐리다': 6237, '오멘': 6238, '와일드': 6239, '괜츈': 6240, '봣으': 6241, '스탭': 6242, '만듭시': 6243, '무명': 6244, '낚였어': 6245, '제리': 6246, '특선영화': 6247, '랜디': 6248, '시온': 6249, '중앙': 6250, 'ㄱㄱ': 6251, '여장': 6252, '방가': 6253, '징기스칸': 6254, '하찮다': 6255, '타고나다': 6256, '스토킹': 6257, '제의': 6258, '장병': 6259, '다분': 6260, '막간': 6261, '아유': 6262, '왜냐하면': 6263, '공공': 6264, '압박': 6265, '미미': 6266, '캠프': 6267, '미리': 6268, '도그빌': 6269, '따분함': 6270, '짝짓기': 6271, '전선': 6272, '활용': 6273, '어진': 6274, '책임감': 6275, '복싱': 6276, '스파이키즈': 6277, '근접하다': 6278, '고국': 6279, '모시다': 6280, '문화재': 6281, '아야': 6282, '벗': 6283, '닭': 6284, '권장': 6285, '투모로우': 6286, '억배': 6287, '특출나다': 6288, '겔겔': 6289, '겡': 6290, '병장': 6291, '애매': 6292, '작성': 6293, '이수경': 6294, '꼴다': 6295, '편의점': 6296, '느님': 6297, '쩌는듯': 6298, '시시': 6299, '매그놀리아': 6300, '소문': 6301, '무성': 6302, '엑스': 6303, '마키': 6304, '궁극': 6305, '패착': 6306, '생겨나다': 6307, '빠삐용': 6308, '끓다': 6309, '능동': 6310, '스카': 6311, '캄캄하다': 6312, '존슨': 6313, '가늠': 6314, '정감': 6315, '로다': 6316, '딴사람': 6317, '쩌러': 6318, '기해': 6319, '릴': 6320, '치아': 6321, '싸이다': 6322, '마이클잭슨': 6323, '로섬': 6324, '림': 6325, '이라곤': 6326, '청춘영화': 6327, '들여다보다': 6328, '해나': 6329, '이뿌다': 6330, '주류': 6331, '국': 6332, '무색': 6333, '아따': 6334, '이를': 6335, '럭': 6336, '해소': 6337, '특정': 6338, '뎌': 6339, '거니': 6340, '각심': 6341, '눈감다': 6342, '피에타': 6343, '윤소이': 6344, '우울증': 6345, '프렌즈': 6346, '유학생': 6347, '입가': 6348, '돌싱': 6349, '방사': 6350, '조종': 6351, '마리옹': 6352, '꼬띠': 6353, '멘토': 6354, '물리다': 6355, '정보석': 6356, '흡수': 6357, '부실': 6358, '지니다': 6359, '한결': 6360, '엠씨': 6361, '브라더스': 6362, '패딩턴': 6363, '용하다': 6364, '정비': 6365, '단속': 6366, '워리어': 6367, '하다못해': 6368, '졷': 6369, '퍼시잭슨': 6370, '비평가': 6371, '파가': 6372, '도중': 6373, '작부': 6374, '애란': 6375, '정말루': 6376, '마카로니': 6377, '선두': 6378, '모리': 6379, '배급': 6380, '흐': 6381, '문장': 6382, '구태의연하다': 6383, '브레이크': 6384, '파이널': 6385, '디지다': 6386, '클루니': 6387, '어눌하다': 6388, '리트': 6389, '스노우': 6390, '리만': 6391, '독립영화관': 6392, '싸이': 6393, '오래간만': 6394, '해독': 6395, '최정윤': 6396, '계절': 6397, '초상': 6398, '수박': 6399, '모티브': 6400, '똑': 6401, '여진구': 6402, '낌': 6403, '쫄깃쫄깃': 6404, '방한': 6405, '절도': 6406, '벅스라이프': 6407, '관광': 6408, '취업': 6409, '잡탕': 6410, '한바탕': 6411, '포레스트검프': 6412, '개보': 6413, '터프': 6414, '당돌하다': 6415, '저녁': 6416, '칭송': 6417, '후루룩': 6418, '추적자': 6419, '발작': 6420, '주체': 6421, '머꼬': 6422, '내다보다': 6423, '멍멍': 6424, '스콜': 6425, '세지': 6426, '가레스': 6427, '소유진': 6428, '이펙트': 6429, '종교영화': 6430, '낚시꾼': 6431, '잘나가다': 6432, '치히로': 6433, '창의': 6434, '총각': 6435, '스무': 6436, '뭐시기': 6437, '트루': 6438, '스탁': 6439, '배럴': 6440, '액숀': 6441, '노트북': 6442, '살의': 6443, '몰리다': 6444, '역설': 6445, '리스트': 6446, '류승수': 6447, '숨쉬다': 6448, '가두다': 6449, '중학생': 6450, '주차': 6451, '나잇스탠드': 6452, '도도': 6453, '파치노': 6454, '팔마': 6455, '유물': 6456, '차이다': 6457, '두목': 6458, '날로': 6459, '연봉': 6460, '오죽하다': 6461, '롭': 6462, '파스': 6463, '좀해': 6464, '어쨌든': 6465, '패러독스': 6466, '미숙': 6467, '여실히': 6468, '라디오': 6469, '표기': 6470, '희롱': 6471, '에잉': 6472, '미생': 6473, '충족': 6474, '픽사': 6475, '연애소설': 6476, '스페셜': 6477, '축하': 6478, '거꾸로': 6479, '매달리다': 6480, '폭소': 6481, '봉달': 6482, '본영': 6483, '급사': 6484, '브라운': 6485, '드라큘라': 6486, '오죽': 6487, '코스프레': 6488, '우에노': 6489, '주리': 6490, '침묵': 6491, '수도원': 6492, '허각': 6493, '어덜트': 6494, '련': 6495, '낯': 6496, '추석': 6497, '베스트셀러': 6498, '박쥐': 6499, '기이하다': 6500, '소오강호': 6501, '노무현': 6502, '구원': 6503, '딱좋다': 6504, '유감': 6505, '쿵푸팬더': 6506, '이래도': 6507, '챙': 6508, '칼라': 6509, '마리나': 6510, '전직': 6511, '통속': 6512, '보안': 6513, '사사롭다': 6514, '유동근': 6515, '건드리다': 6516, '승': 6517, '딜레마': 6518, '남진': 6519, '바티스타': 6520, '경비': 6521, '슬랩': 6522, '최다니엘': 6523, '짜임': 6524, '루고': 6525, '조센징': 6526, '드라마정': 6527, '빚': 6528, '입체': 6529, 'ㅊ': 6530, '무분별': 6531, '편지': 6532, '조심하다': 6533, '생으로': 6534, '생명력': 6535, '하여금': 6536, '무적자': 6537, '초라하다': 6538, '요시노': 6539, '늦추다': 6540, '커트': 6541, '자씨': 6542, '태민': 6543, '주군': 6544, '한겨울': 6545, '길동': 6546, '녹': 6547, '와이어액션': 6548, '풍속': 6549, '꿈틀': 6550, '모방': 6551, '일색': 6552, '무뇌충': 6553, '서구': 6554, '하나요': 6555, '민망': 6556, '검열': 6557, '이완': 6558, '맥그리거': 6559, '임지연': 6560, '테스': 6561, '아우라': 6562, '더러워지다': 6563, '방만': 6564, '로이': 6565, '박진영': 6566, '눈길': 6567, '분도': 6568, '최종': 6569, '전함': 6570, '번봄': 6571, '힘쓰다': 6572, '밋었': 6573, '쑤시다': 6574, '떠다니다': 6575, '관통': 6576, '과잉': 6577, '금년': 6578, '파도': 6579, '친딸': 6580, '호주': 6581, '하수': 6582, '언능': 6583, '진퉁': 6584, '바라지': 6585, '인생관': 6586, '인색하다': 6587, '차도': 6588, '가부장': 6589, '벌레': 6590, '캐서린': 6591, 'ㅇㅇㅇ': 6592, '바퀴벌레': 6593, '야곱': 6594, '바램': 6595, '꿀': 6596, '레고': 6597, '장난없다': 6598, '한판': 6599, '셔': 6600, '동성': 6601, '구한': 6602, '시어머니': 6603, '왕창': 6604, '리브스': 6605, '본답': 6606, '소림축구': 6607, '명량': 6608, '토요일': 6609, '화중': 6610, '씻다': 6611, '봣어': 6612, '시련': 6613, '고조': 6614, '자존심': 6615, '에게서': 6616, '첩혈쌍웅': 6617, '강호': 6618, '틀림없다': 6619, '창작': 6620, '모조리': 6621, '부활': 6622, '발동': 6623, '찍어내다': 6624, '일과': 6625, '리얼리즘': 6626, '어중간하다': 6627, '페이': 6628, '음원': 6629, '로프': 6630, '인디펜던스': 6631, '밨습니': 6632, '영관': 6633, '파국': 6634, '기억상실증': 6635, '팔뚝': 6636, '건축학개론': 6637, '스트레이트': 6638, '폐륜': 6639, '다큐맨': 6640, '주요': 6641, '시설': 6642, '다듬어지다': 6643, '구성은': 6644, '상쾌하다': 6645, '라이드': 6646, '르노': 6647, '자화상': 6648, '소박': 6649, '루비반지': 6650, '진전': 6651, '인조': 6652, '아키': 6653, '이런저런': 6654, '주시': 6655, '강남': 6656, '로또': 6657, '환영': 6658, '캐치온': 6659, '말리다': 6660, '당한': 6661, '앙탈': 6662, '디비디': 6663, '김규리': 6664, '연하다': 6665, '윤여정': 6666, '더스틴': 6667, '팩트': 6668, '실존': 6669, '통일': 6670, '할로윈': 6671, '염병': 6672, '마이티': 6673, '통쾌': 6674, '우연찮': 6675, '형수': 6676, '바꿔치다': 6677, '초한지': 6678, '김서형': 6679, '한고은': 6680, '경준': 6681, '후진국': 6682, '회복': 6683, '으아아': 6684, '김수로': 6685, '여겨지다': 6686, '서사': 6687, '간수': 6688, '내려지다': 6689, '과소': 6690, '원폭': 6691, '남경': 6692, '가닥': 6693, '물든': 6694, '사연': 6695, '전격': 6696, '윤발': 6697, '군사': 6698, '충성': 6699, '모이다': 6700, '줄줄이': 6701, '구심': 6702, '유일': 6703, '한눈': 6704, '깜짝깜짝': 6705, '단발': 6706, '이즈': 6707, '제레미': 6708, '꾸역꾸역': 6709, '애니메': 6710, '노동': 6711, '늘어놓다': 6712, '룸메이트': 6713, '대다수': 6714, '퉁': 6715, '어찌나': 6716, '생가': 6717, '에스': 6718, '트라우마': 6719, '네네': 6720, '헛되': 6721, '나영석': 6722, '가치관': 6723, '학대': 6724, '팔레스타인': 6725, '거창하다': 6726, '도신': 6727, '단추': 6728, '밭': 6729, '무심하다': 6730, '주걸륜': 6731, '폴라': 6732, '트릴로지': 6733, '이아': 6734, '손꼽다': 6735, '랜드': 6736, '박한별': 6737, '이입': 6738, '어간': 6739, '병자': 6740, '휴잭맨': 6741, '일침': 6742, '소이현': 6743, '김영호': 6744, '이글': 6745, '연금술사': 6746, '양자경': 6747, '발차기': 6748, '불운': 6749, '김민희': 6750, '우울': 6751, '인사': 6752, 'ㅇㅋ': 6753, '짤린': 6754, 'ㅡㅜ': 6755, '개인주의': 6756, '메이퀸': 6757, '스킵': 6758, '박정민': 6759, '껀들': 6760, '장용': 6761, '연소자': 6762, '무례하다': 6763, '감격': 6764, '일그러지다': 6765, '뗼': 6766, '소피아': 6767, '발가락': 6768, '이블데드': 6769, '헌터': 6770, '타임슬립': 6771, '취지': 6772, '특공대': 6773, '상기': 6774, '하편': 6775, '라푼젤': 6776, '전인': 6777, '탄식': 6778, '연쇄살인범': 6779, '철수': 6780, '까지나': 6781, '통찰': 6782, '겐': 6783, '아찔하다': 6784, '계시': 6785, '놀랏다': 6786, '쓰레기통': 6787, '수천': 6788, '보증': 6789, '앳': 6790, '스탈린그라드': 6791, '진격': 6792, '사살': 6793, '간지럽다': 6794, '힌': 6795, '바랬는데': 6796, '붕': 6797, '천공': 6798, '의성': 6799, '큐': 6800, '빙자': 6801, '김보성': 6802, '스크립트': 6803, '비수': 6804, '대갈': 6805, '불호': 6806, '전우치': 6807, '주석': 6808, '노희경': 6809, '사드': 6810, '후작': 6811, '박차다': 6812, '지영': 6813, '꼭보': 6814, '사춘기': 6815, '차지': 6816, '김유정': 6817, '주임': 6818, '은밀': 6819, '힐러리': 6820, '고든': 6821, '징징대다': 6822, '그릇되다': 6823, '빌어': 6824, '야비하다': 6825, '협박': 6826, '죽겠네': 6827, '나른하다': 6828, '방구': 6829, '비율': 6830, '차분하다': 6831, '멜깁슨': 6832, '히로스에': 6833, '브': 6834, '미처': 6835, '관상': 6836, '문명': 6837, '아무래도': 6838, '구수하다': 6839, '에두': 6840, '리모컨': 6841, '쫙': 6842, '슬링': 6843, '엇갈리다': 6844, '트와일라잇': 6845, '판사': 6846, '합의': 6847, '심판': 6848, '으헝': 6849, '버겁다': 6850, '악한': 6851, '김청기': 6852, '건전하다': 6853, '명곡': 6854, '저학년': 6855, '산물': 6856, '씨부리다': 6857, '히키코모리': 6858, '읍니': 6859, '별루임': 6860, '플러스': 6861, '과제': 6862, '이러케': 6863, '밑밥': 6864, '구스': 6865, '산트': 6866, '공백': 6867, '꼽으라': 6868, 'ㅁㅊ': 6869, '메릴': 6870, '스트립': 6871, '앓이': 6872, '유리창': 6873, '일본도': 6874, '제기': 6875, '하여간': 6876, '쥐뿔': 6877, '자잘하다': 6878, '냉정': 6879, '한몫': 6880, '멘스': 6881, '율': 6882, '광팬': 6883, '영리하다': 6884, '옥상': 6885, '다화': 6886, '다이나믹': 6887, '과감': 6888, '비고': 6889, '모텐슨': 6890, '넨': 6891, '달빛': 6892, '반점': 6893, '송하윤': 6894, '붐': 6895, '글귀': 6896, '이함': 6897, '낚였다': 6898, '타잔': 6899, '대못': 6900, '문채원': 6901, '베트맨': 6902, '의욕': 6903, '극우': 6904, '덕후': 6905, '어마': 6906, 'ㅈㄹ': 6907, '교사': 6908, '금방': 6909, '신민아': 6910, '진찌': 6911, '데드': 6912, '풀이': 6913, '장판': 6914, '비열하다': 6915, '해고': 6916, '습니': 6917, '도배': 6918, '데려가다': 6919, '인역': 6920, '조반': 6921, '다이아몬드': 6922, '온주완': 6923, '공중전': 6924, '오점': 6925, '가박': 6926, '장대': 6927, '소하': 6928, '놨다': 6929, '건축': 6930, '건축가': 6931, '부모님': 6932, '사운드트랙': 6933, '꼽는다': 6934, '높이': 6935, '은커녕': 6936, '그해': 6937, '재밋습니': 6938, '독일인': 6939, '점점이': 6940, '꼬이다': 6941, '에로의': 6942, '여분': 6943, '해악': 6944, '무모하다': 6945, '걔': 6946, '유대': 6947, '당하': 6948, '실속': 6949, '드리우다': 6950, '립': 6951, '짝짝': 6952, '볼떄': 6953, '요요': 6954, '마스터': 6955, '제법': 6956, '껌': 6957, '가감': 6958, '매튜': 6959, '다재': 6960, '탑기어': 6961, '강예빈': 6962, '순환선': 6963, '인굿': 6964, '컴퍼니': 6965, '낚였': 6966, 'ㅏㄱ': 6967, '렌': 6968, '다프네': 6969, '두리반': 6970, '조보아': 6971, '홧팅': 6972, '왕정': 6973, '넘버': 6974, '테라': 6975, '지세': 6976, '코네': 6977, '땡땡': 6978, '탈때': 6979, '철권': 6980, '무소유': 6981, '놈놈놈': 6982, '달리기': 6983, '이민자': 6984, '에스트로겐': 6985, '하이퍼': 6986, '못지않다': 6987, '존잼': 6988, '맘에안듬': 6989, '베이컨': 6990, '낚였네': 6991, '별반': 6992, '스마일리': 6993, '막말': 6994, '흥분하다': 6995, '인크레더블': 6996, '대중성': 6997, '그로테스크': 6998, '이야말로': 6999, '독보': 7000, '여우': 7001, '치매': 7002, '화서': 7003, '갖': 7004, '나아가다': 7005, '레아': 7006, '크루': 7007, '드레스': 7008, '폴리': 7009, '공작': 7010, '씬시티': 7011, '식코': 7012, '인간극장': 7013, '소라': 7014, '김강우': 7015, '망라': 7016, '자평': 7017, '전병': 7018, '이성': 7019, '우월': 7020, '정신차려라': 7021, '수치': 7022, '범죄영화': 7023, '라기보다는': 7024, '유실': 7025, '에이스': 7026, '패기': 7027, '소말리아': 7028, '물고기': 7029, '백설공주': 7030, '견줄만': 7031, '금성무': 7032, '쿠궁': 7033, '어벤저스': 7034, '사탄': 7035, '지상': 7036, '커지다': 7037, '극악': 7038, '폭격기': 7039, '광신도': 7040, '암세포': 7041, '해탈': 7042, '동명': 7043, '해선': 7044, '곤란하다': 7045, '프레드': 7046, '억압': 7047, '느끼하다': 7048, '고등학생': 7049, '펜싱': 7050, '눈가': 7051, '뱀': 7052, '수식': 7053, '수사물': 7054, '띠띠': 7055, '디디': 7056, '샤론': 7057, '회수': 7058, '허망': 7059, '진의': 7060, '노고': 7061, '어딜': 7062, '대게': 7063, '무성영화': 7064, '침몰': 7065, '꿋꿋하다': 7066, '대조': 7067, '역류': 7068, '만인': 7069, '자마자': 7070, '독재자': 7071, '보증수표': 7072, '콱': 7073, '김슬기': 7074, '갈구다': 7075, '깨어나다': 7076, '암만': 7077, '욱': 7078, '천은': 7079, '젖통': 7080, '구도': 7081, '받아들이다': 7082, '혜영': 7083, '선입견': 7084, '구토': 7085, '끄덕이다': 7086, '진영': 7087, '을해': 7088, '국물': 7089, '뛰어다니다': 7090, '세월호': 7091, '이순신': 7092, '알트': 7093, '다케시': 7094, '내심': 7095, '이나라': 7096, '화평': 7097, '허락': 7098, '김만': 7099, '위함': 7100, '그대': 7101, '도끼': 7102, '우왕': 7103, '소시민': 7104, '소모': 7105, '요괴': 7106, '합격': 7107, '라가': 7108, '사이드': 7109, '커다랗다': 7110, '등골': 7111, '척도': 7112, '민효린': 7113, '브라운관': 7114, '취하': 7115, 'ㅎㅡㅎ': 7116, '클리셰': 7117, '라이어': 7118, '런닝': 7119, '끝없이': 7120, '랫': 7121, '비유': 7122, '대학생': 7123, '사정봉': 7124, '왕년': 7125, '루카스': 7126, '어스': 7127, '따윈': 7128, '성실하다': 7129, '차예련': 7130, '쒸레기': 7131, '한없이': 7132, '준애': 7133, '발란스': 7134, '웟음': 7135, '판빙빙': 7136, '자라다': 7137, '장수': 7138, '맨몸': 7139, '순전하다': 7140, '경이': 7141, '쪽바리': 7142, '나무라다': 7143, '로비': 7144, '거래': 7145, '법칙': 7146, '소린': 7147, '캐치미': 7148, '이프': 7149, '유년': 7150, '직하다': 7151, '화제': 7152, '사태': 7153, '정사씬': 7154, '귀족': 7155, '계급': 7156, '혼': 7157, '이치': 7158, '연쇄': 7159, '돈크라이마미': 7160, '자하': 7161, '회보': 7162, '짤방': 7163, '미켈슨': 7164, '원도': 7165, '숭고하다': 7166, '훔': 7167, '종일': 7168, '대니': 7169, '이문식': 7170, '망각': 7171, '개요': 7172, '충만': 7173, '목욕': 7174, '피어스': 7175, '고급스럽다': 7176, '수호': 7177, '고스트': 7178, '항체': 7179, '예외': 7180, '무용': 7181, '관능': 7182, '히죽': 7183, '헤매다': 7184, '노랑': 7185, '걸음걸이': 7186, '무관': 7187, '애환': 7188, '몽골': 7189, '인양': 7190, '서태지': 7191, '임은경': 7192, '볼타': 7193, '이무영': 7194, '치가': 7195, '밤바': 7196, '설키': 7197, '입맛': 7198, '브라질': 7199, '기황후': 7200, '생체실험': 7201, '상대로': 7202, '외상': 7203, '족': 7204, '빅피쉬': 7205, '멀미': 7206, '스토커': 7207, '미져리': 7208, '최시원': 7209, '사자': 7210, '독백': 7211, '날개': 7212, '푸시': 7213, '독도': 7214, '하루하루': 7215, '북극곰': 7216, '쏙쏙': 7217, '테드': 7218, '재밋는': 7219, '상자': 7220, '훼손': 7221, '모세': 7222, '안경': 7223, '백제': 7224, '충청도': 7225, '양화': 7226, '눈앞': 7227, '이점': 7228, '메이저': 7229, '가만': 7230, '죄악': 7231, '가명': 7232, '백이': 7233, '앓다': 7234, '총기': 7235, '비상구': 7236, '순서': 7237, '당췌': 7238, '탱고': 7239, '설계': 7240, '동반': 7241, '꿈나라': 7242, '무차별': 7243, '미해결': 7244, '안재욱': 7245, '술술': 7246, '애마부인': 7247, '로지': 7248, '이또': 7249, '스킬': 7250, '일본군': 7251, '유영': 7252, '기리보이': 7253, '슬슬': 7254, '와중': 7255, '김영광': 7256, '충무로': 7257, '키노': 7258, '다음주': 7259, '와인': 7260, '미련': 7261, '짚다': 7262, '이기주의': 7263, '마케마케': 7264, '회복하다': 7265, '선셋': 7266, '시각장애인': 7267, '금도': 7268, '병신': 7269, '제압': 7270, '지라치': 7271, '불쌍': 7272, '배심원': 7273, '메타': 7274, '쇼타': 7275, '정통': 7276, '부어': 7277, '정신과': 7278, '자제': 7279, '간단하다': 7280, '오컬트': 7281, '아릅답': 7282, '까미유': 7283, '의의': 7284, '아이콘': 7285, '청순': 7286, '협찬': 7287, '도현': 7288, '윤찬': 7289, '바가지': 7290, '케르디오': 7291, '왜점': 7292, '이참': 7293, '어가': 7294, '비장': 7295, '우수하다': 7296, '희귀': 7297, '꿰어': 7298, '보배': 7299, '백프로': 7300, '화로': 7301, '리스크': 7302, '드라마스페셜': 7303, '방정': 7304, '접임': 7305, '뀰잼': 7306, '금고': 7307, '달기': 7308, '숙면': 7309, '뻑': 7310, '올리버': 7311, '만날': 7312, '유머러스하다': 7313, '분열': 7314, '테크노': 7315, '육신': 7316, '꺅': 7317, '장화': 7318, '고단': 7319, '청순하다': 7320, '애비': 7321, '땅속': 7322, '뭍혀': 7323, '곰팡이': 7324, '타입': 7325, '미필': 7326, '셀프': 7327, '장하나': 7328, '독선': 7329, '펙': 7330, '오드리햅번': 7331, '쪽박': 7332, '브래드': 7333, '묵': 7334, '소심하다': 7335, '각인': 7336, '영채': 7337, '수두': 7338, '날수': 7339, '만족감': 7340, '스탈': 7341, '확실': 7342, '사람인': 7343, '손수건': 7344, '찰리': 7345, '앤더슨': 7346, '오른': 7347, '낯설다': 7348, '교육영화': 7349, '세심': 7350, '무지하다': 7351, '참낰': 7352, '팬티': 7353, '일어서다': 7354, '마당': 7355, '화재': 7356, 'ㅎㅎㅎㅎㅎㅎㅎㅎ': 7357, '여자도': 7358, '안중': 7359, '맥클레인': 7360, '일진': 7361, '봣다': 7362, '고관': 7363, '워싱턴': 7364, '고딕': 7365, '맞춤': 7366, '쫌더': 7367, '고기': 7368, '아따맘마': 7369, '위장': 7370, '먹히다': 7371, '이하고': 7372, '위주': 7373, '강풀': 7374, '아싸': 7375, '신물': 7376, '회피': 7377, '이상기': 7378, '으로서는': 7379, '존스': 7380, '뱃김': 7381, '십분': 7382, '비감': 7383, '있슴': 7384, '김연아': 7385, '에리': 7386, '정조대왕': 7387, '크리스챤': 7388, '강조': 7389, '관찰자': 7390, '물정': 7391, '우디앨런': 7392, '이정진': 7393, '위험성': 7394, '내겐': 7395, 'ㅋㅋㅋㅋㅋㅋㅋㅋㅋㅋㅋㅋㅋㅋㅋㅋㅋㅋㅋ': 7396, '승승장구': 7397, '그레이스': 7398, '부조리': 7399, '남한': 7400, '가까워지다': 7401, '몰두하다': 7402, '스윈튼': 7403, '등려군': 7404, '한페이': 7405, '서우': 7406, '내미다': 7407, '꽃보다할배': 7408, '불행': 7409, 'ㅎㅎㅎㅎㅎㅎ': 7410, '평이하다': 7411, '여느': 7412, '키키': 7413, '법도': 7414, '대박나다': 7415, '모성': 7416, '인내': 7417, '이루': 7418, '장기': 7419, '블러드': 7420, '듣보잡': 7421, '마니아': 7422, '버스': 7423, '알아듣다': 7424, '장보리': 7425, '아야세': 7426, '센트': 7427, '뺏겻느': 7428, '뭡': 7429, '고정': 7430, '편전': 7431, '까메오': 7432, '홈즈': 7433, '댓글달다': 7434, '민주화': 7435, '사냥': 7436, '쌍벽': 7437, '거저': 7438, '따라오다': 7439, '염소': 7440, '부질없다': 7441, '이채영': 7442, '통수': 7443, '쥬라기': 7444, '공원': 7445, '양복': 7446, '서유리': 7447, '돌이키다': 7448, '중지': 7449, '돌고래': 7450, '헬렌': 7451, '최우식': 7452, '내의': 7453, '약육강식': 7454, '알차다': 7455, '설사': 7456, '대립': 7457, '충실': 7458, '무적': 7459, 'ㅇㅂㅇ': 7460, '하리': 7461, '자의': 7462, '정찬': 7463, '파파로티': 7464, '지노': 7465, '기네스': 7466, '펠트': 7467, '떠나가다': 7468, '시비': 7469, '한다해': 7470, '다짐': 7471, '적합하다': 7472, '제국주의': 7473, '고찰': 7474, '언어유희': 7475, '명목': 7476, '베트남전': 7477, '안면': 7478, '강예원': 7479, '잗같': 7480, '승자': 7481, '윤재': 7482, '빽': 7483, '장안': 7484, '후시': 7485, '눈높이': 7486, '김꽃비': 7487, '쥬만지': 7488, '데스티네이션': 7489, '하필': 7490, '프로스트': 7491, '맛없다': 7492, '다작': 7493, '횟수': 7494, '양동근': 7495, '편향': 7496, '해운대': 7497, '주먹': 7498, '장어': 7499, '괄호': 7500, '박성호': 7501, '지끈': 7502, '완결': 7503, '도주': 7504, '도우': 7505, '안드': 7506, '김보연': 7507, '흡족하다': 7508, '혁신': 7509, '오오오오': 7510, '전적': 7511, '저딴': 7512, '아티스트': 7513, '신은경': 7514, '제작사': 7515, '여섯': 7516, '낚여': 7517, '세탁소': 7518, '회때': 7519, '유니폼': 7520, '더욱더': 7521, '차이점': 7522, '마코': 7523, '회의': 7524, '미안': 7525, '둠스데이': 7526, '부딪히다': 7527, '쾅': 7528, '지로': 7529, '재밋엇음': 7530, '개미': 7531, '덕화': 7532, '마력': 7533, '토크': 7534, '유준상': 7535, '평안': 7536, '노민우': 7537, '타임머신': 7538, '탈주': 7539, '썸띵': 7540, '제약': 7541, '억눌리다': 7542, '가든': 7543, '이덕화': 7544, '제이크': 7545, '질렌할': 7546, '엑기스': 7547, '호스텔': 7548, '소년병': 7549, '맴버': 7550, '고의': 7551, '김태영': 7552, '캐스퍼': 7553, '이다지': 7554, '만만': 7555, '피터': 7556, '서영이': 7557, '야왕': 7558, '흡인': 7559, '후광': 7560, '미쟝센': 7561, '스탠바이': 7562, '동일하다': 7563, '뮤직비디오': 7564, '김은숙': 7565, '우익': 7566, '심오': 7567, '마크로스': 7568, '불우': 7569, '퇴폐': 7570, '릴리': 7571, '해병대': 7572, '본래': 7573, '렸다': 7574, '기하': 7575, '윤제균': 7576, '무사': 7577, '안남다': 7578, '섬뜩하다': 7579, '대장금': 7580, '맴돈다': 7581, '하란': 7582, '공학자': 7583, '진출': 7584, '귀하다': 7585, '궁상맞다': 7586, '한잔': 7587, '박시연': 7588, '포커스': 7589, '반려견': 7590, '자연스레': 7591, '올드': 7592, '벙어리': 7593, '휴지': 7594, '이언정': 7595, '내뱉다': 7596, '파랗다': 7597, '폐막': 7598, '꼬박꼬박': 7599, '모만': 7600, '공허하다': 7601, '치도': 7602, '강호동': 7603, '챔피언': 7604, '도감': 7605, '추적': 7606, '민수': 7607, '나전': 7608, '비리': 7609, '랄것': 7610, '당초': 7611, '니드': 7612, '이세': 7613, '해부': 7614, '바람둥이': 7615, '거중': 7616, '파멸': 7617, '프리드': 7618, '재일': 7619, '국경': 7620, '악어': 7621, '찬가': 7622, '완패': 7623, '기생': 7624, '케인': 7625, '치자': 7626, '잼꿀잼': 7627, '진가': 7628, '리페이스': 7629, '닌자어쌔신': 7630, '황마': 7631, '소니': 7632, '사탕': 7633, '엠넷': 7634, '쌍안경': 7635, '랄라': 7636, '왜못': 7637, '꽃님': 7638, '씨름': 7639, '로미오': 7640, '해학': 7641, '사형': 7642, '겁보': 7643, '백만배': 7644, '밓었': 7645, '교도소': 7646, '몬페': 7647, '던스트': 7648, '이응경': 7649, '길용우': 7650, '감금': 7651, '길들이다': 7652, '인피니트': 7653, '허진호': 7654, '횡단보도': 7655, '건너다': 7656, '다지': 7657, '안달': 7658, '레닌': 7659, '질퍽': 7660, '버무러진': 7661, '약탈': 7662, '바베트': 7663, '남바': 7664, '베트': 7665, '할랫': 7666, '말씀드리다': 7667, '짤랐을꺼': 7668, '카밀라': 7669, '재밋는뎅': 7670, '엄포스': 7671, '적남': 7672, '투어': 7673, '나이틀리': 7674, '정신장애': 7675, '윤제문': 7676, '정신의학': 7677, '분노조절': 7678, '증상': 7679, '파손': 7680, '엔나': 7681, '근친상간': 7682, '드래곤': 7683, '잡수다': 7684, '선방': 7685, '상사': 7686, '포퐁': 7687, '진호': 7688, '난또': 7689, '무자비하다': 7690, '백봉기': 7691, '불알': 7692, '헤집다': 7693, '연맹': 7694, '먹듯': 7695, '노래실력': 7696, '재밋네': 7697, '로마노프': 7698, '왕조': 7699, '뭣같': 7700, '항거': 7701, '폭도': 7702, '리플릿': 7703, '조미': 7704, '막문위': 7705, '골깜': 7706, '부라리다': 7707, '걸스데이': 7708, '이혜리': 7709, '주귀': 7710, '어내스트': 7711, '셀레스틴': 7712, '화신': 7713, '차차': 7714, '신카이': 7715, '마코토': 7716, '카나': 7717, '이훨': 7718, '고은님': 7719, '노골': 7720, '별루더': 7721, '패널': 7722, '주식회사': 7723, '안간힘': 7724, '거북': 7725, '우상화': 7726, '라미란': 7727, '베댓': 7728, '잘쓰다': 7729, '뫼비우스': 7730, '찌릿짜릿': 7731, '화이': 7732, '덴': 7733, '리투': 7734, '차이밍량': 7735, '김혜수': 7736, '어딘': 7737, '에볼라': 7738, '모건': 7739, '시나': 7740, '스러웟음': 7741, '찍을껀데': 7742, '총을드': 7743, '왈츠': 7744, '종방': 7745, '상쾌': 7746, '껄끄런': 7747, '소파': 7748, '로큰롤': 7749, '무능력하다': 7750, '게이물': 7751, '익숙해지다': 7752, '언밸러스': 7753, '고역': 7754, '닭목': 7755, '윤종신': 7756, '이하늘': 7757, '뽑히다': 7758, '위원': 7759, '쌓다': 7760, '어허': 7761, '광장': 7762, '사랑비': 7763, '서준': 7764, '람': 7765, '최정원': 7766, '신음': 7767, '김혜성': 7768, '이현진': 7769, '이인상': 7770, '미국드라마': 7771, '컴': 7772, '제대': 7773, '햇살': 7774, '부엌': 7775, '재생': 7776, '무표': 7777, '요홍': 7778, '혜정': 7779, '이그': 7780, '마도': 7781, '후련': 7782, '정치범': 7783, '대희': 7784, '전화': 7785, '끊음': 7786, '싸움판': 7787, '반공': 7788, '감옥살이': 7789, '흑인음악': 7790, '아이스': 7791, '프로필': 7792, '재밓당': 7793, '구리지': 7794, 'ㄷㅔ': 7795, '진개': 7796, '천카이거': 7797, '박스': 7798, '기량': 7799, '저스트': 7800, '위드': 7801, '맛깔': 7802, '시베리아': 7803, '훈련': 7804, '추노': 7805, '새롭웠': 7806, '라파스': 7807, '신봉선': 7808, '퀄': 7809, '지지다': 7810, '워터': 7811, '마스코트': 7812, '츠무구': 7813, 'ㅝ': 7814, '뼈대': 7815, '재밋쎠': 7816, '베테': 7817, '류승완': 7818, '평화로': 7819, '헤드': 7820, '달밤': 7821, '푸근하다': 7822, '둑': 7823, '아더': 7824, '원탁': 7825, '랜슬롯': 7826, '란슬롯': 7827, '비어': 7828, '역도': 7829, '종착역': 7830, '대유': 7831, '트레비스': 7832, '네러티브': 7833, '학위': 7834, '성범죄자': 7835, '뜻밖': 7836, '그랜드': 7837, '부다페스트': 7838, '호텔': 7839, '조달환': 7840, '최신': 7841, '선속': 7842, '박빙': 7843, '엇음': 7844, '정장': 7845, '림프비즈킷': 7846, '쥑': 7847, '오월': 7848, '야릇하다': 7849, '명치': 7850, '효느': 7851, '색휘': 7852, '검증': 7853, '절때': 7854, '껄욕': 7855, '이이경': 7856, '가나다라': 7857, '날카로워지다': 7858, '끙끙': 7859, '평수': 7860, '화산고': 7861, '팔자': 7862, '말랑말랑': 7863, '가족사진': 7864, '사슴': 7865, '상대성': 7866, '이론': 7867, '니노': 7868, '이중인격': 7869, '돌진': 7870, '차이나타운': 7871, '몬초': 7872, '초가': 7873, '울먹이다': 7874, '힘겹다': 7875, '세계대전': 7876, '지휘': 7877, '고위': 7878, '적월': 7879, '점때': 7880, '이연서': 7881, '뵙다': 7882, '스피디': 7883, '시가전': 7884, '아수라': 7885, '스포츠영화': 7886, '만끽': 7887, '서나': 7888, '압삘럽': 7889, '경극': 7890, '카톡': 7891, '유괴': 7892, '불협화음': 7893, '고명환': 7894, '앨빈': 7895, '팝핀현준': 7896, '델피': 7897, '행간': 7898, '스킨헤드': 7899, '일찐': 7900, '개제': 7901, '저조하다': 7902, '저예산영화': 7903, '다크호스': 7904, '쌩뚱': 7905, '민국이': 7906, '박얘쁜': 7907, '빠수니': 7908, '카메오': 7909, '토종': 7910, '가비': 7911, '의향': 7912, '장윤현': 7913, '정정은': 7914, '어케된거': 7915, '이본': 7916, '갘': 7917, '기절': 7918, '끙': 7919, '본분': 7920, '영홥니': 7921, '알럽키': 7922, '중고생': 7923, '추어': 7924, '영물': 7925, '이승연': 7926, '브라': 7927, '계몽영화': 7928, '답습': 7929, '창업': 7930, '험하다': 7931, '스승': 7932, '단념': 7933, '부자간': 7934, '원망': 7935, '낰였다': 7936, '김상중': 7937, '계쇠': 7938, 'ㅣㅆ': 7939, '느덕': 7940, '퍼스트': 7941, '대우': 7942, '지우개': 7943, '월요커플': 7944, '건너편': 7945, '성남': 7946, '슈발': 7947, '나볼': 7948, '수나': 7949, '수도승': 7950, '떠내려가다': 7951, '물대포': 7952, '웃겻다': 7953, '고스트라이더': 7954, '뭉치': 7955, '싸대기': 7956, '뚝방': 7957, '찍지마라': 7958, '각도': 7959, '라든지': 7960, '아닐런지': 7961, '정시': 7962, '번뜩이다': 7963, '에린': 7964, '프레스토': 7965, '네요': 7966, '본가': 7967, '진짴': 7968, '뷰욕': 7969, '퀵이유': 7970, '삼십분': 7971, '왜색': 7972, '교활하다': 7973, '소비자': 7974, '금단비': 7975, '열중': 7976, '섭리': 7977, '성미': 7978, '자애': 7979, '고릴라': 7980, '섭렵': 7981, '샤워': 7982, '속출': 7983, '씨바': 7984, '어캐봐': 7985, '저격': 7986, '카이사르': 7987, '유순하다': 7988, '일기토': 7989, '지략': 7990, '맞짱': 7991, '좍좍': 7992, '따분': 7993, '베트공': 7994, '등현': 7995, '일편': 7996, '쪼끔': 7997, '그랜트': 7998, '한자리': 7999, '자시': 8000, '접합': 8001, '업주': 8002, '노자': 8003, '끼리끼리': 8004, '이삼': 8005, '덴젤와싱턴': 8006, '모레쯔': 8007, '후덕': 8008, '상류층': 8009, '근성': 8010, '아부': 8011, '씨익': 8012, '샬라샬': 8013, '즁': 8014, '쥬': 8015, '옹졸하다': 8016, '얘길': 8017, '하층': 8018, '복수심': 8019, '군경': 8020, '빨치산': 8021, '노찌': 8022, '쯔': 8023, '모욕감': 8024, '썰매': 8025, '목적지': 8026, '데몰리션맨': 8027, '이퀄리브리엄': 8028, '파란색': 8029, '챔프': 8030, '오열': 8031, 'ㅠㅜㅠㅍ': 8032, '시미즈': 8033, '업적': 8034, '쌈질': 8035, '낚시질': 8036, '지미': 8037, '애린': 8038, '꼴통': 8039, '페미니즘': 8040, '페미나치': 8041, '마인드': 8042, '단것': 8043, '밤중': 8044, '에몽': 8045, '상권': 8046, '슈퍼마켓': 8047, '모해': 8048, '껀줄': 8049, '한송이': 8050, '설교': 8051, '결혼반지': 8052, '담하다': 8053, '개역': 8054, '문성우': 8055, '윤아': 8056, '퀭': 8057, '훠': 8058, '얼씬': 8059, '내사': 8060, '나위': 8061, '화학': 8062, '봣습니닼': 8063, '잼잇엇숩니': 8064, '마라천': 8065, '문헌': 8066, '문란하다': 8067, '쇼핑몰': 8068, '와아': 8069, '익스트림': 8070, '수트': 8071, '미남': 8072, '권유': 8073, '중복': 8074, '여호와': 8075, '증인': 8076, '재밌': 8077, '무치다': 8078, '섬머': 8079, '힘알': 8080, '보상': 8081, '결실': 8082, '아씨': 8083, '갈겨쓰다': 8084, '차안': 8085, '전화통화': 8086, '현기증': 8087, '되돌아보다': 8088, '려면': 8089, '흩어지다': 8090, '밀리': 8091, '식인종': 8092, '말살': 8093, '민권': 8094, '뛰어내리다': 8095, '기관사': 8096, '다스베이더': 8097, '레이어': 8098, '소희': 8099, '화영': 8100, '호들갑': 8101, '완주': 8102, '뮬란': 8103, '전쟁씬': 8104, '맑음': 8105, '파문': 8106, '김윤진': 8107, '상품': 8108, '아마겟돈': 8109, '고결하다': 8110, '하셧을까': 8111, '또해': 8112, '순결': 8113, '명문': 8114, '빈센트': 8115, '종인': 8116, '예원': 8117, '달기지': 8118, '미니어쳐': 8119, '뢔매': 8120, '정여립': 8121, '기축옥사': 8122, '처먹어랔': 8123, '화려': 8124, '옌': 8125, '도보': 8126, '사랑받다': 8127, '수이': 8128, '에이즈': 8129, '운동화': 8130, 'ㅅㅎㅎㅎ': 8131, '충돌': 8132, '거룩하다': 8133, '텀': 8134, '굿윌헌팅도쩐당': 8135, '현정': 8136, '한나': 8137, '사로잡히다': 8138, '메간폭스': 8139, '알콜중독자': 8140, '중견': 8141, '술사': 8142, '실물': 8143, '스퀘어': 8144, '닉스': 8145, '합병': 8146, 'ㅠㅠㅠㅠㅠㅠㅠㅠ': 8147, '펑점': 8148, '글러': 8149, '에헤헹': 8150, '패턴턴너': 8151, '목격': 8152, '유턴': 8153, '착지': 8154, '무릅쏴': 8155, '사격': 8156, '것좀': 8157, '퀸틴': 8158, '포룸': 8159, '급식': 8160, '황홀경': 8161, '미그기': 8162, '발사': 8163, '격추': 8164, '줄기': 8165, '돠': 8166, '다다다': 8167, '민감하다': 8168, '육식': 8169, '딧노': 8170, '모퉁이': 8171, '더듬다': 8172, '욕좀': 8173, '행여': 8174, '여름방학': 8175, '특선': 8176, '당태종': 8177, '장보고': 8178, '박태준': 8179, '삼총사': 8180, '올밴': 8181, '유세윤': 8182, '음주운전': 8183, '명필름': 8184, '심재명': 8185, '모라': 8186, '양면': 8187, '두부': 8188, '해짐': 8189, '시우민': 8190, '교향곡': 8191, '미진하다': 8192, '감격시대': 8193, '날고기': 8194, '코스': 8195, '미키': 8196, '셰릴': 8197, '린펜': 8198, '버런': 8199, '지명도': 8200, '엄따': 8201, '한채영': 8202, '신동': 8203, '뿌듯하다': 8204, '중령': 8205, '스타트랙': 8206, '틴토': 8207, '로드리게즈': 8208, '찰흙': 8209, '짦': 8210, '차븟': 8211, 'ㅇㄱ': 8212, '디시': 8213, '구제불': 8214, '능이': 8215, '출가': 8216, '은하사': 8217, '스티플러': 8218, '전무송': 8219, '리즈': 8220, '갖가지': 8221, '식임': 8222, '박대동': 8223, '홍도': 8224, '오현민': 8225, '앱스토어': 8226, '안드로이드': 8227, '목포': 8228, '붹': 8229, '맘속': 8230, '동족': 8231, '도울': 8232, '장성택': 8233, '체제': 8234, '자멸': 8235, '호시탐탐': 8236, '노리': 8237, '동민': 8238, '야유': 8239, '별점': 8240, '이정우': 8241, '김푸른': 8242, '엄기준': 8243, '절단': 8244, '앨리': 8245, '정준호': 8246, '쇼생크탈출': 8247, '오역': 8248, '아이구': 8249, '똘볼수': 8250, '맹점': 8251, '군중심리': 8252, '캣우먼': 8253, '럼스': 8254, '옥주현': 8255, '하윤': 8256, '몰랑몰랑': 8257, '포탈': 8258, '아이로봇': 8259, '점말': 8260, '메트로': 8261, '추리소설': 8262, '정당성': 8263, '헌신': 8264, '카톨릭': 8265, '그리스도교': 8266, '유일신': 8267, '하느님': 8268, '애국가': 8269, '캡틴': 8270, '필추': 8271, '년씨짘': 8272, '나올때마닼': 8273, '으헠': 8274, '묵고': 8275, '댕기': 8276, '셀': 8277, '리아나': 8278, '본업': 8279, '신비하다': 8280, '관람객': 8281, '왜르케': 8282, '종훈': 8283, '상하': 8284, '어케되는': 8285, '외적인': 8286, '물체': 8287, '빠르기': 8288, '파킨슨병': 8289, '뭐함': 8290, '뎁': 8291, '스패': 8292, '바둑용어': 8293, '자처': 8294, '잭맨': 8295, '풍선': 8296, '조엘': 8297, '슈마허': 8298, '것일': 8299, '미덕': 8300, '애색긔들': 8301, '매경': 8302, '갠차다': 8303, '까지의': 8304, '상반기': 8305, '관계씬': 8306, '수학': 8307, '알러뷰': 8308, '글쓰기': 8309, '기왕': 8310, '심왜': 8311, '나수윤': 8312, '배배꼬았다': 8313, '읹': 8314, '씐': 8315, '잡다하다': 8316, '더럽히다': 8317, '종잡': 8318, '델마와루이스': 8319, '정신없이': 8320, '곳도': 8321, '점밑': 8322, '흘렷다': 8323, '억이': 8324, '외계': 8325, '띠띠디띠': 8326, '아이폰': 8327, '종료': 8328, '수정과': 8329, '마마마': 8330, '우측': 8331, '하와': 8332, '마지노선': 8333, '주유소': 8334, '췌밌는데': 8335, '안문숙': 8336, '양녕대군': 8337, '삽': 8338, '탐구': 8339, '대미': 8340, '문의': 8341, '데왜': 8342, '말이얌': 8343, '리턴': 8344, '코렌': 8345, '부의': 8346, '시나리오작가': 8347, '열도': 8348, '연예가중계': 8349, '정일': 8350, '촬영감독': 8351, '금정': 8352, '뉴완다': 8353, '억백만': 8354, '농간': 8355, '엄연하다': 8356, '재력': 8357, '오만해': 8358, '초등생': 8359, '진임': 8360, '들썩들썩': 8361, '아젛': 8362, '넢어': 8363, '도리': 8364, '프리즌브레이크': 8365, '콧구멍': 8366, '스캇': 8367, '쩌리': 8368, '인스피릿': 8369, '해병': 8370, '불만': 8371, '해법': 8372, '것때메': 8373, '날카롭다': 8374, '형이상학적': 8375, 'ㅡㅡㅋ': 8376, '쟁장': 8377, '재밋게보고잇슴니': 8378, '넘버원': 8379, 'ㅉㅏ': 8380, '완표': 8381, '재영': 8382, '겜블': 8383, '형사물': 8384, '한재석': 8385, '최정희': 8386, '태문': 8387, '에그': 8388, '무뚝뚝하다': 8389, '맙': 8390, '다오': 8391, '김재철': 8392, '발치': 8393, '누규': 8394, '허드슨': 8395, '유키스': 8396, '라던가': 8397, '훌륭햇음': 8398, '웃대': 8399, '애국자': 8400, '남선': 8401, '아이스크림': 8402, '설국열차': 8403, '가루지기': 8404, '스트라이커': 8405, '김준': 8406, '살육': 8407, '흡연량': 8408, '슈퍼스타': 8409, '드라들': 8410, '시범': 8411, '미시': 8412, '윤하': 8413, '관좀': 8414, '뚬': 8415, '오로린': 8416, '심심': 8417, '미묘': 8418, '야마카시': 8419, '룸싸롱': 8420, '찌라시': 8421, '개편': 8422, '지상렬': 8423, '까닭': 8424, '오인혜': 8425, '세운': 8426, '돌아서다': 8427, '승려': 8428, '둔기': 8429, '전화기': 8430, '삐뚤어지다': 8431, '베풀다': 8432, '분대': 8433, '맥주': 8434, '마시다': 8435, '퍼뜩': 8436, 'ㅇㄴ': 8437, '추강': 8438, '이솝우화': 8439, '반짝반짝': 8440, '종로': 8441, '백곰': 8442, '무장': 8443, '재시': 8444, '키다': 8445, '밋엇움': 8446, '평땜': 8447, '자음': 8448, '식겁하다': 8449, '소신': 8450, '한지민': 8451, '쓰레길': 8452, '해먹': 8453, '동창회': 8454, '에손': 8455, 'ㅅㅂㅡㅡ': 8456, '바랬어': 8457, '그리기': 8458, '웃스': 8459, '유용하다': 8460, '썻었을거': 8461, '지정학적': 8462, '나살': 8463, '법후': 8464, '발판': 8465, '꼴사납다': 8466, '보건': 8467, '현저': 8468, '쌕시': 8469, '시샘': 8470, '샘플': 8471, '노출하다': 8472, '족족': 8473, '보때': 8474, '이암': 8475, '부전': 8476, '드레곤': 8477, '기형': 8478, '덕질': 8479, '아나킨': 8480, '웄던': 8481, '계열': 8482, '예찬': 8483, '오만상': 8484, '불현듯이': 8485, '프렌치': 8486, '캉캉': 8487, '주근': 8488, '송어': 8489, '박종원': 8490, '알콜': 8491, '이해해': 8492, '머좀': 8493, '무착': 8494, '무뇌': 8495, '부라': 8496, '님드': 8497, '선진국': 8498, '폐허': 8499, '곰신': 8500, '쿵푸': 8501, '가스펠': 8502, '편곡': 8503, '브리짓스': 8504, '가래': 8505, '헤일': 8506, '벨트': 8507, '이경실': 8508, '본진': 8509, '헤드셋': 8510, '찌릴뻔': 8511, '눈밭': 8512, '뷰': 8513, '라이오넬': 8514, '부탄가스': 8515, '조만간': 8516, '엊그제': 8517, '사계절': 8518, '스테이': 8519, '로빈스': 8520, '모튼': 8521, '똥망': 8522, '물소': 8523, '분투': 8524, '간질': 8525, '긁다': 8526, '분신사바': 8527, '근처': 8528, '조그만': 8529, '눈뜨다': 8530, '완점잼': 8531, '임정은': 8532, '부적': 8533, '소질': 8534, '봉사활동': 8535, '장첸': 8536, '군상': 8537, '떙떙혹': 8538, '틴틴': 8539, '번인': 8540, '배제': 8541, '기득권': 8542, '형무소': 8543, '유사': 8544, '오프라인': 8545, '김효진': 8546, '꼰다': 8547, '쓸모없다': 8548, '퇴보': 8549, '코트': 8550, '반즈': 8551, '생생': 8552, '뭍': 8553, '활보': 8554, '오리진': 8555, '마지막방송': 8556, '신성록': 8557, '부작용': 8558, '뺒': 8559, '라우': 8560, '갸웃': 8561, '자위행위': 8562, '관용': 8563, '처가': 8564, '다방면': 8565, '아릴': 8566, '샬로': 8567, '맹목': 8568, '샬': 8569, '살길': 8570, '여가': 8571, '뒤뚱뒤뚱': 8572, '퓨티드': 8573, '이두용': 8574, '렸': 8575, '리자': 8576, '뎈': 8577, '대길': 8578, '덕햇': 8579, '운남': 8580, '사이더': 8581, '홀리랜드': 8582, '호야': 8583, '후끈하다': 8584, '쌩뚱맞다': 8585, '장승': 8586, '아베': 8587, '타무라': 8588, '키도': 8589, '온돌': 8590, '익히다': 8591, '흥정': 8592, '빈번': 8593, '어메이징': 8594, '리버': 8595, '피닉스': 8596, '막연하다': 8597, '문단속': 8598, '불사': 8599, '숨바꼭질': 8600, '이상자': 8601, '정식': 8602, '쵝오네': 8603, '박영화': 8604, '애둘맘': 8605, '애둘': 8606, '재우다': 8607, '낚으시네': 8608, '오늘밤': 8609, '악몸': 8610, '짱꼴라': 8611, '시초': 8612, 'ㅋㅋㅋㅋㅋㅋㅋㅋㅋㅋㅋㅋㅋ': 8613, '괜찬': 8614, '요호': 8615, '보너스': 8616, '오도': 8617, '넬': 8618, '깽': 8619, '옥택연': 8620, '나누기': 8621, '고참': 8622, '우발': 8623, '한반도': 8624, '까지와': 8625, '난뭐': 8626, '홥': 8627, '키리시': 8628, '출렁이다': 8629, '어머님께': 8630, '외할아버지': 8631, '외할머니': 8632, '헐겁다': 8633, '바규': 8634, '선후배': 8635, '구관': 8636, '명관': 8637, '천식': 8638, '적요': 8639, '하루히': 8640, '클릭': 8641, '유전': 8642, '무죄': 8643, '무전': 8644, '유죄': 8645, '경전': 8646, '다예': 8647, '불편': 8648, '서울시장': 8649, '착': 8650, '달라붙다': 8651, '시방': 8652, '김선빈': 8653, '보물찾기': 8654, '미지': 8655, '희극배우': 8656, '송민호': 8657, '비됴': 8658, '실습': 8659, '대국민': 8660, '하숙': 8661, '사궈': 8662, '최최최': 8663, '불쾌감': 8664, '데뷰': 8665, '신경질': 8666, '떽땍거리': 8667, '썰전': 8668, '인맥': 8669, '위인': 8670, '볼랫더': 8671, '파르비스': 8672, '라츠': 8673, '흡사': 8674, '태클': 8675, '정은채': 8676, '레기': 8677, '유연석': 8678, '손호준': 8679, '섭외': 8680, '후처': 8681, '이징': 8682, '거때메': 8683, '직선': 8684, '특권': 8685, '선희': 8686, '패닉': 8687, '해체': 8688, '수갑': 8689, '쩍': 8690, '참말': 8691, '레젼드': 8692, '골빈': 8693, '사라졋으': 8694, '봄내': 8695, '혜결': 8696, '닥본할끙': 8697, '죄파': 8698, '대학로': 8699, '방송국': 8700, '소녀시대': 8701, '경쟁자': 8702, '안마방': 8703, '잏': 8704, '무산': 8705, '맥과이어': 8706, '루저': 8707, '임의': 8708, '마라톤': 8709, '일석이조': 8710, '너와나': 8711, '김아중': 8712, '가주': 8713, '블록': 8714, '버지니아': 8715, '클레어': 8716, '싯달': 8717, '겄': 8718, '꾹': 8719, 'ㅗㅃㅋ': 8720, '꼬맹일때': 8721, '일삼': 8722, '파일': 8723, '괜츈타': 8724, '왜왜왜': 8725, '미궁': 8726, '못하겄내': 8727, '하문': 8728, '미제': 8729, '느그': 8730, '중거': 8731, '따리': 8732, '백성현': 8733, '최불암': 8734, '전광렬': 8735, '점안': 8736, '손손': 8737, '드넹': 8738, '속단': 8739, '꼴레오네': 8740, '바로바로': 8741, '일장기': 8742, '일맥상통': 8743, '샤워씬': 8744, '추기경': 8745, '교황': 8746, '격었': 8747, '웟': 8748, '그다음': 8749, '김프': 8750, '리맨': 8751, '인질': 8752, '절댜': 8753, '가당': 8754, '민세': 8755, '박영린': 8756, '소임': 8757, '마모루': 8758, '멘타리': 8759, '제자리걸음': 8760, '퇴화': 8761, '사표': 8762, '선수': 8763, '신기하': 8764, '어설품': 8765, '다소간': 8766, '시리다': 8767, '정윤희': 8768, '구사': 8769, '쇠발개쉐기': 8770, '과찬': 8771, '황제': 8772, '황후': 8773, '불화': 8774, '공중부양': 8775, '형광등': 8776, '잼슴': 8777, 'ㅇㅎ': 8778, '단발머리': 8779, '편찮다': 8780, '만만하다': 8781, '선덕여왕': 8782, '진해': 8783, '동무': 8784, '스피디함': 8785, '돌발': 8786, '황보라': 8787, '잘맞다': 8788, 'ㅠㅂㅠ': 8789, '원망하다': 8790, '미군정': 8791, '이승': 8792, '행적': 8793, 'ㅋㅋㅋㅋㅋㅋㅋㅋㅋㅋㅋㅋㅋㅋㅋㅋㅋㅋㅋㅋㅋㅋㅋㅋㅋㅋㅋㅋㅋㅋㅋㅋㅋ': 8794, '아시안': 8795, '굴렁쇠': 8796, '갑날': 8797, '조이스틱': 8798, '지그': 8799, '빅매치': 8800, '컴텨': 8801, '김조광수': 8802, '아성': 8803, '옼': 8804, '앟': 8805, '드르륵': 8806, '처넌': 8807, '이해력': 8808, '은위': 8809, '두드리다': 8810, '감돈': 8811, '터치': 8812, '뼈채': 8813, '쇼생': 8814, '서사시': 8815, '맥락': 8816, '중요시': 8817, '최헌': 8818, '헛짓임': 8819, '실사영화': 8820, '김정훈': 8821, '투사': 8822, '순결하다': 8823, '곧다': 8824, '우습다': 8825, '얍얍': 8826, '뚝딱': 8827, '외로이': 8828, '쪽나': 8829, '해전': 8830, '네버엔딩': 8831, '윤시윤': 8832, '행크스': 8833, '손톱': 8834, '청국장': 8835, '데드풀': 8836, '응사': 8837, '쫓아오다': 8838, '불발': 8839, '봣을떄': 8840, '벨아미': 8841, '로버트패틴슨': 8842, '우연이': 8843, '붙여넣기': 8844, '나눔': 8845, '당근': 8846, '좆선': 8847, '황추생': 8848, '오진우': 8849, '복도': 8850, '살리에리': 8851, '모차르트': 8852, '빠닼': 8853, '가방': 8854, '압꿘': 8855, '팼다': 8856, '실비': 8857, '블렉코메디': 8858, '메딘': 8859, '워킹데드': 8860, '이수만': 8861, '미천하다': 8862, '과유': 8863, '불급': 8864, '네덜란드인': 8865, '일제시대': 8866, '외세': 8867, '침입': 8868, '애완견': 8869, '복종': 8870, '배신자': 8871, '척결': 8872, '추접': 8873, '으로써는': 8874, '용씨': 8875, '마직': 8876, '막부': 8877, '유주얼서스펙트': 8878, '웨이': 8879, '지밀': 8880, '버시': 8881, '답임': 8882, '주소': 8883, '마파도': 8884, '출하': 8885, '에르': 8886, '체베트': 8887, '왕족': 8888, '희생양': 8889, '죤': 8890, '팡': 8891, '지엔': 8892, '되살리다': 8893, '약물': 8894, '파김치': 8895, '백악관': 8896, '화초': 8897, '힌트': 8898, '키포인트': 8899, '읭응': 8900, '어요': 8901, '회볼때': 8902, '발라': 8903, '요도': 8904, '완득이': 8905, '라비': 8906, '누굴까': 8907, '이디스': 8908, '치코': 8909, '나우': 8910, '지하가': 8911, '콩코드기': 8912, '양도': 8913, '헝편없어': 8914, '라이즈': 8915, '롱롱롱': 8916, '붕뜬': 8917, '잠기': 8918, 'ㅋㅋㅋㄱ': 8919, '로드리게스': 8920, '셀마': 8921, '멕': 8922, '딸기': 8923, '었': 8924, '썪는줄': 8925, '비둘기': 8926, '성애자': 8927, '들르다': 8928, '할인': 8929, '보조': 8930, '순응': 8931, '세밀': 8932, '과오': 8933, '올랜도': 8934, '블룸': 8935, '나카타': 8936, '김조한': 8937, '쏭': 8938, '현태': 8939, 'ㅠㅠㅠㅠㅠㅠㅠㅠㅠㅠㅠ': 8940, '솔직': 8941, '개입': 8942, '멋쪙': 8943, '남규리': 8944, '찌푸리다': 8945, '되드라구': 8946, '기담': 8947, '인어': 8948, '꼬리': 8949, '이지아': 8950, '죨': 8951, '해품달': 8952, '삼계탕': 8953, '후라이드': 8954, '삼겹살': 8955, '드럼': 8956, '왓으': 8957, '찌랭': 8958, '이도영': 8959, '상응': 8960, '개살구': 8961, '여강': 8962, '난입': 8963, '빼어나다': 8964, '지하실': 8965, '조정래': 8966, '살색': 8967, '법적': 8968, '열쇠': 8969, '헤롱헤롱': 8970, '징글': 8971, '화합': 8972, '야인시대': 8973, '밀양': 8974, '백만불': 8975, '디아나': 8976, '암프': 8977, '스톱모션': 8978, '노다메': 8979, '배구': 8980, '뻘짓': 8981, '멘붕': 8982, '페러다임': 8983, '몰상식하다': 8984, '빠뜨리다': 8985, '쑈할때': 8986, '행각': 8987, '천안함프로젝트': 8988, '잼없드': 8989, '임정': 8990, '조민수': 8991, '잼남앞': 8992, '순순하다': 8993, '상저': 8994, '무너': 8995, '요망': 8996, '주정뱅이': 8997, '대절': 8998, '린아': 8999, '종은': 9000, '표지판': 9001, '빨랑멈처': 9002, '린지': 9003, '디배': 9004, '향상': 9005, '악물다': 9006, '사병': 9007, '난점': 9008, '여덟': 9009, '거겟': 9010, '심리학자': 9011, '직소': 9012, '고스톱': 9013, '가구야': 9014, '용치': 9015, '년안': 9016, '패션쇼': 9017, '어따': 9018, '한화': 9019, '콘도': 9020, '모욕죄': 9021, '어이없이': 9022, '도크': 9023, '제비': 9024, '킹오파': 9025, '번지르르하다': 9026, '사라예보': 9027, '반대편': 9028, '불행중': 9029, '코엑스': 9030, '아랫쪽': 9031, '배치': 9032, '컴터': 9033, '벌거숭이': 9034, '임금님': 9035, '핵꿀잼': 9036, '궁가': 9037, '바랫': 9038, '건만': 9039, '대세': 9040, '강점': 9041, '징용': 9042, '천명': 9043, '패전': 9044, '마감': 9045, '조상': 9046, '방지법': 9047, '기인': 9048, '시아란': 9049, '힌즈': 9050, '콩쾌': 9051, '제데로': 9052, '강심장': 9053, '뽱': 9054, '왜욕해': 9055, '더락': 9056, '존시나': 9057, '대학입시': 9058, '졸료': 9059, '아슬아슬하다': 9060, '무궁무진': 9061, '훨훨': 9062, '써머': 9063, '걸핏하면': 9064, '재혼': 9065, '조울증': 9066, '떨치다': 9067, '김진수': 9068, '나오넥': 9069, '안도': 9070, '크': 9071, '흐헬': 9072, '이상향': 9073, '시꺼멓다': 9074, '배짱': 9075, '인구': 9076, '재탄생': 9077, '거만하다': 9078, '사형수': 9079, '트란안훙꺼': 9080, '늦가을': 9081, '산책': 9082, '활발하다': 9083, '원보': 9084, '김지석': 9085, '천막': 9086, '토익': 9087, '스리': 9088, '킵': 9089, '무빙': 9090, '포워드': 9091, '글래머': 9092, '순대볶음': 9093, '인심': 9094, '찡끗': 9095, '이영하': 9096, '하그': 9097, '그늘': 9098, '초때': 9099, '본연': 9100, '무니': 9101, '인증': 9102, '쉬망': 9103, '연감': 9104, '천배': 9105, '아이맥스': 9106, '조우': 9107, '스케이트장': 9108, '폐가': 9109, '감고': 9110, '운율': 9111, '호킨스': 9112, '샘슨': 9113, '낭랑하다': 9114, '리딩': 9115, '레드라이트': 9116, '팥': 9117, '붕어빵': 9118, '비우다': 9119, '팀버': 9120, '레이크': 9121, '중졸': 9122, '큰소리치다': 9123, '좔좔': 9124, '쎼뇨리따': 9125, '다스': 9126, '탭': 9127, 'ㅔ': 9128, '이버': 9129, '목도리': 9130, '백화': 9131, '내보내다': 9132, '마츠야': 9133, '갑작스레': 9134, '벡실': 9135, '츽오': 9136, '띠워': 9137, '방학': 9138, '뉴코아': 9139, '바벨': 9140, '강정': 9141, '그램': 9142, '만들긔': 9143, '세탁기': 9144, '뭐햇': 9145, '텐션': 9146, '순식간': 9147, '퍼시픽림': 9148, '스등': 9149, '위만': 9150, '빙점': 9151, '닯': 9152, '플라이': 9153, '캬캬캬': 9154, '기립박수': 9155, '알프레드': 9156, '투비': 9157, '임마': 9158, '살며시': 9159, '왜봣': 9160, '열심': 9161, '슬론': 9162, '생텀': 9163, '속임수': 9164, '인런글': 9165, '자서': 9166, '잇엇으': 9167, '원씨': 9168, '형용': 9169, '까지라도': 9170, '독하다': 9171, '페제': 9172, '그린호넷': 9173, '박상면': 9174, '김여정': 9175, '총구': 9176, '입속': 9177, '치루는일': 9178, '화난': 9179, '밨는데': 9180, '사면': 9181, '윌슨': 9182, '느꼇다': 9183, '일도': 9184, '제하': 9185, '화재현장': 9186, '똥쿠소': 9187, '멍청이': 9188, '할머님': 9189, '호빗': 9190, '투닥': 9191, '실베스터': 9192, '일보': 9193, '확확': 9194, '꽂히다': 9195, '다임': 9196, '수원': 9197, '밑에님보': 9198, '뿜음': 9199, '유독': 9200, '강의': 9201, '육상': 9202, '첫걸음': 9203, '박정철': 9204, '초원': 9205, '인철': 9206, '알반': 9207, '환희': 9208, '남자이야기': 9209, '민수형': 9210, '우리동네': 9211, '접류': 9212, '헛소리': 9213, '씌우다': 9214, '부인': 9215, '가엾다': 9216, '뭐별': 9217, '찬송': 9218, '성경책': 9219, '교인': 9220, '영계': 9221, '노땅녀': 9222, '옥보단': 9223, '걷기': 9224, '아빠어디가': 9225, '형역': 9226, '삼사': 9227, '커피숍': 9228, '의논': 9229, '진장': 9230, '소울메이트': 9231, '료': 9232, '사인방': 9233, '험담': 9234, '오한': 9235, '반대말': 9236, '의료인': 9237, '교육인': 9238, '급박하다': 9239, '방세옥': 9240, '매기': 9241, '큐땜': 9242, '캄탄할': 9243, '푸념': 9244, '출산': 9245, '언더월드': 9246, 'ㅆㅆㅆㅆㅆㅆ': 9247, '진짜루': 9248, '거처': 9249, '새끼고양이': 9250, '들이밀다': 9251, '아악': 9252, '맨앤': 9253, '짊': 9254, '여담': 9255, '프시': 9256, '황금기': 9257, '춘추전국': 9258, '나래': 9259, '욘사마': 9260, '서막': 9261, '말좀해': 9262, '개쯔레기': 9263, '지난번': 9264, '준면': 9265, '나잘하다': 9266, '정명석': 9267, '군침': 9268, '존큐': 9269, '천연색': 9270, '셜록홈즈': 9271, '요전': 9272, '마가렛': 9273, '없엇으': 9274, '더재': 9275, '밋엇': 9276, '박지수': 9277, '햐하핯': 9278, '국보': 9279, '잘잘못': 9280, '으잌': 9281, '돌아이': 9282, '콰이어트': 9283, '청아': 9284, '엣지': 9285, '카운트': 9286, '일뚱': 9287, '부시맨': 9288, '양민수': 9289, '공동체': 9290, '영수': 9291, '해감': 9292, '피리': 9293, '불면': 9294, '까딱까딱': 9295, '벙커': 9296, '차려': 9297, '어우지루': 9298, '그랫쪄': 9299, '얇다': 9300, '갈라티아': 9301, '효리': 9302, '외도': 9303, '통채': 9304, '이자스민': 9305, '새누리당': 9306, '웩': 9307, '질풍': 9308, '게기': 9309, '영희': 9310, 'ㅜㅜㅜㅜㅜㅜㅜㅜㅜㅜㅜㅜㅜㅜㅜㅜㅜㅜㅜㅜㅜㅜㅜㅜㅜㅜㅜ': 9311, '광경': 9312, '밥말': 9313, '더블린': 9314, '이마트': 9315, '샷따': 9316, '소화기': 9317, '압권제': 9318, '왜안됫': 9319, '마야': 9320, '불안감': 9321, '고저': 9322, '껄렁하다': 9323, '대관': 9324, '맹탕': 9325, '홀트': 9326, '소담': 9327, '무라카미': 9328, '워낭소리': 9329, '유식': 9330, '서러움': 9331, '슷비슷비하': 9332, '이나마': 9333, '울프': 9334, '시원시원하다': 9335, '묵념': 9336, '아론': 9337, '레논': 9338, '얙션': 9339, '촤근': 9340, '걸돈': 9341, '닫히다': 9342, '버무러': 9343, '스타크래프트': 9344, '질럿들': 9345, '변비': 9346, '돌쇠': 9347, '익명성': 9348, '나장': 9349, '장터': 9350, '벌로': 9351, '자부': 9352, '없슴다': 9353, '조자룡': 9354, '야스쿠니': 9355, '토로': 9356, '필자': 9357, '결심': 9358, '이준익': 9359, '샤시': 9360, '햇님': 9361, '태양빛': 9362, '케함': 9363, '관음증': 9364, '쓰라리다': 9365, '노개런티': 9366, '김우수': 9367, 'ㅏㅋㅋ': 9368, '음슴다': 9369, '교섭': 9370, '일이구': 9371, '독살': 9372, '안되겠니': 9373, 'ㅎㅅㅎ': 9374, '권인지': 9375, '비칭할때': 9376, '실연': 9377, '일본여행': 9378, '분과': 9379, '동일': 9380, '김민지': 9381, '이수혁': 9382, '채트원': 9383, '라거': 9384, '깁슨': 9385, '퍼시픽': 9386, '껀': 9387, '한거자': 9388, '워터보이즈': 9389, '막막하다': 9390, '정준하': 9391, '배척': 9392, '셨': 9393, '컬트영화': 9394, '어어어어': 9395, '뱃가이': 9396, '플래닛': 9397, '비보': 9398, 'ㅉㅉㅉㅉ': 9399, '윤숙': 9400, '파파야': 9401, '관리자': 9402, '터끝': 9403, '무표정': 9404, '까비': 9405, '녀놈': 9406, '뻣': 9407, '오룡': 9408, '썻다하': 9409, '갈증': 9410, '수박도': 9411, '케토': 9412, '대재앙': 9413, '헛점많': 9414, '꼼꼼하다': 9415, '후퇴': 9416, '사하나': 9417, '보물상자': 9418, '웃낌': 9419, '날줄': 9420, '이게뭐얌': 9421, 'ㅠㅠㅠㅠㅠㅠㅠ': 9422, '재및음': 9423, '멜번': 9424, '증세': 9425, '나기': 9426, '영향력': 9427, '신슌': 9428, '황폐': 9429, '이러다가': 9430, '회태': 9431, '방터': 9432, '뺑소니': 9433, '점심': 9434, '부러지다': 9435, '이착': 9436, '척움': 9437, '흉하다': 9438, '도개': 9439, '운치': 9440, '울상': 9441, '복희': 9442, '격거봣': 9443, '화병': 9444, '혼하': 9445, '명탐정코난': 9446, '남도일': 9447, '교포': 9448, '게바라': 9449, '예루살렘': 9450, '팔로우': 9451, '뿌리치다': 9452, '안전모': 9453, '전철': 9454, '노드': 9455, '수합': 9456, '헬스장': 9457, '사키': 9458, '영도': 9459, '조선소': 9460, '지난해': 9461, '선박': 9462, '수주': 9463, '음울하다': 9464, '조여': 9465, '낚었어': 9466, '왜케많': 9467, '강경준': 9468, '정우식': 9469, '조우리': 9470, '탤런트': 9471, '컷팅': 9472, '캔슬': 9473, '거물': 9474, '억억천만': 9475, '장정초': 9476, '빛깔': 9477, '석가탄신일': 9478, '석탄일': 9479, '나물': 9480, '하등': 9481, '량': 9482, '도적': 9483, '선구자': 9484, '통일한국': 9485, '그리스도인': 9486, '이백만원': 9487, '벌금': 9488, '붕법': 9489, '벡터맨': 9490, '프로도': 9491, '연령': 9492, '대별': 9493, '지당': 9494, '개이득': 9495, '이양': 9496, '덩': 9497, '프라챠': 9498, '핀카엡': 9499, '빈자리': 9500, '일치': 9501, '차세대': 9502, '카와이': 9503, '스마트폰': 9504, '베데스다': 9505, '레버': 9506, '에리오': 9507, '뻔헸': 9508, '다지다': 9509, '따': 9510, '갓말띤줄알았': 9511, 'ㅜㅜㅠ': 9512, '영화떄문': 9513, '김갑수': 9514, '인도영화': 9515, '요기': 9516, '말입': 9517, '월드컵': 9518, '간질병': 9519, '경력': 9520, '편안함': 9521, '버무린': 9522, '시에라리온': 9523, '자이몬': 9524, '훈수': 9525, '요강': 9526, '즌': 9527, '무용지물': 9528, '아리땁다': 9529, '다케우치': 9530, '기모노': 9531, '고질라': 9532, '다봣는데': 9533, '멉': 9534, '고제': 9535, '우주기지': 9536, '튼실하다': 9537, '하인': 9538, '욱겨': 9539, '헌터헌터': 9540, '티란': 9541, '노아': 9542, '자지러지다': 9543, '쪙': 9544, '봤늡데': 9545, '매너': 9546, '이그리': 9547, '국밥': 9548, '코같다': 9549, '로얄': 9550, '익스펜더블': 9551, '까브리머싯씀': 9552, '당기다': 9553, '미워하다': 9554, '연상연하': 9555, '자호': 9556, '취조': 9557, '통편집': 9558, '암호': 9559, '모스부호': 9560, '치렁치렁': 9561, '헤어쇼': 9562, '유애': 9563, '학기': 9564, '좃': 9565, '불만족': 9566, '나야': 9567, '낚곃네': 9568, '공지': 9569, '리카': 9570, '오달수': 9571, '천박': 9572, '경매': 9573, '티앙': 9574, '카타': 9575, '재활용품': 9576, '복사': 9577, '박은혜': 9578, '맙소사': 9579, '추심': 9580, '볼껄그': 9581, '명민하다': 9582, '애고': 9583, '증': 9584, '셋트': 9585, '풋함': 9586, '호박': 9587, '김부선': 9588, '유흥': 9589, '유명인사': 9590, '구두': 9591, '젬': 9592, '읭스러움': 9593, '덴마크': 9594, '노르웨이': 9595, '북유럽': 9596, '백지': 9597, '황석': 9598, '작도': 9599, '고안': 9600, '가만있다': 9601, '불똥': 9602, '있엇구': 9603, '르르': 9604, '여학생': 9605, '백마': 9606, '어울림': 9607, '살맛': 9608, '복용': 9609, '바운운스': 9610, '전진': 9611, '상영작': 9612, '현혹': 9613, '고객': 9614, '머진': 9615, '이러니까': 9616, '러': 9617, '시정': 9618, '현영': 9619, '칠흑': 9620, '난널': 9621, '현정이': 9622, '재계': 9623, '고집쟁이': 9624, '서유기': 9625, '콜라보': 9626, '고나은': 9627, '미란': 9628, '가누다': 9629, '실습생': 9630, '큰작가되셩': 9631, '석호': 9632, '올라서다': 9633, '의사소통': 9634, '껄끄랏': 9635, '자고로': 9636, '기록': 9637, '증폭': 9638, '글쎼': 9639, '마침': 9640, '딸도': 9641, '내딸': 9642, '아비': 9643, '종교인': 9644, '움속': 9645, '나후': 9646, '아스카': 9647, '읽히다': 9648, '저리다': 9649, '재밋는거': 9650, '행방불명': 9651, '화점': 9652, '벚꽃': 9653, '밀다': 9654, '썸머': 9655, '조정석': 9656, '불평등': 9657, '이기대': 9658, '창희': 9659, '강산': 9660, '아팟': 9661, '크랭크': 9662, '울렁거리다': 9663, '호모포비아': 9664, '인간시장': 9665, '더기': 9666, '넴': 9667, '빡': 9668, '스내치': 9669, '정두홍': 9670, '리멤버': 9671, '난장판': 9672, '미유키': 9673, '실현': 9674, '궁지': 9675, '성악가': 9676, '아리아': 9677, '가벼워지다': 9678, '방안': 9679, '집주인': 9680, '아주머니': 9681, '버켓': 9682, '어학': 9683, '이솜': 9684, '실재': 9685, '진정선': 9686, '최소라': 9687, '신현지': 9688, '통상': 9689, '평상시': 9690, '더블': 9691, '양념': 9692, '인과': 9693, '칼부림': 9694, '화지': 9695, '개시': 9696, '개똥칠': 9697, '식견': 9698, '사고방식': 9699, '후레쉬맨': 9700, '오닐': 9701, '지리멸렬하다': 9702, '어리석다': 9703, '김세준': 9704, '이말년': 9705, '천일': 9706, '구지': 9707, '친분': 9708, '특별출연': 9709, '황제펭귄': 9710, '남여': 9711, '천년': 9712, '유혼': 9713, '마니마니': 9714, 'ㅘ': 9715, 'ㅏㅏㅏ': 9716, '골드미스': 9717, '세바퀴': 9718, '둘일때': 9719, '정이안': 9720, '헥헥거리': 9721, '동명이인': 9722, '맞대다': 9723, '슈나이더': 9724, '재미나다': 9725, '김민정': 9726, '스탠리': 9727, '깃털': 9728, '흑백영화': 9729, '흐미': 9730, '그따위': 9731, '나팔': 9732, '미요': 9733, '유전자': 9734, '그나': 9735, '기숙': 9736, '전원': 9737, '에타': 9738, '숨지다': 9739, '갈비': 9740, '벙': 9741, '더도': 9742, '연대': 9743, '거쫌': 9744, '아니닠': 9745, '나도꽃': 9746, '흑암': 9747, '용형': 9748, '호제': 9749, '말씨': 9750, '낄낄대다': 9751, '무치': 9752, '한가하다': 9753, '울화통': 9754, '아랐': 9755, '둘째딸': 9756, '황금시간대': 9757, '수신료': 9758, '펜대': 9759, '트이다': 9760, '자아도취': 9761, '다각': 9762, '사시': 9763, '인과관계': 9764, '노소': 9765, '왕가네': 9766, '과장하다': 9767, '태고': 9768, '머리털': 9769, '워스트': 9770, '트루먼쇼': 9771, '환복': 9772, '크리스탈': 9773, '못느꼇': 9774, '아노하나': 9775, '슈타게': 9776, '큰데미췬': 9777, '음정': 9778, '갈갈': 9779, '보셧어': 9780, '홀딱': 9781, '고문': 9782, '왜인': 9783, '광관': 9784, '학자': 9785, '로마인': 9786, '주해': 9787, '전무하다': 9788, '김수미': 9789, '안이하다': 9790, '사교': 9791, '일부분': 9792, '어럈을때': 9793, '완젼빠': 9794, '암도': 9795, '이상훈': 9796, '그레고리': 9797, '성가': 9798, '내려앉다': 9799, '달성': 9800, '무뇌충일': 9801, '두근': 9802, '멸망하다': 9803, '제본': 9804, '미도리': 9805, '과다르': 9806, '한여운': 9807, '요담': 9808, '다코타': 9809, '패닝': 9810, '번디': 9811, '같잖다': 9812, '은평': 9813, '무자': 9814, '격자': 9815, '월급': 9816, '와츠': 9817, '모터사이클': 9818, '녹음기': 9819, '조악하다': 9820, '주술': 9821, '안토니오': 9822, '모티프': 9823, '정안': 9824, '홍길동전': 9825, '힐줄': 9826, '어머나': 9827, '요따위': 9828, '속수무책': 9829, '정진': 9830, '애뜻': 9831, '억울': 9832, '하늘나라': 9833, '쯔무시': 9834, '티남': 9835, '빡센': 9836, 'ㅋㄱ': 9837, '안거': 9838, '범죄예방': 9839, '남의껄': 9840, '못만듬': 9841, '도시락': 9842, '게봣습': 9843, '뻗다': 9844, '지아이조': 9845, '캠프락': 9846, '버레스크': 9847, '꼽아': 9848, '동양인': 9849, '서양인': 9850, '트라이앵글': 9851, '폭포': 9852, '비키다': 9853, '코딱지': 9854, '범학': 9855, '촌극': 9856, '해밋': 9857, '수확': 9858, '셰인': 9859, '보셩': 9860, '의형제': 9861, '잘끝냇구': 9862, '공임': 9863, '지송': 9864, '비폭력': 9865, '망측하다': 9866, '따돌리다': 9867, '잡아내다': 9868, '두세': 9869, '한하유': 9870, '왜놈': 9871, '모시': 9872, '에플랙': 9873, '방공': 9874, '이탈리아인': 9875, '문법': 9876, '자임': 9877, '조성은': 9878, '진배': 9879, '크리에이터': 9880, '압시': 9881, '겸손': 9882, '무수': 9883, '안주': 9884, '랍니다': 9885, '사십': 9886, '박하사탕': 9887, '뿜어대': 9888, '목도': 9889, '현란하다': 9890, '오크': 9891, '에잇': 9892, '카체이싱': 9893, '박력': 9894, '스턴': 9895, '평등': 9896, '조심': 9897, '시아': 9898, '뮤턴트': 9899, '멤버': 9900, '사빠': 9901, '두드러지다': 9902, '상업성': 9903, '쌉싸름하다': 9904, '각양각색': 9905, '홍길동': 9906, '혹독': 9907, '야외': 9908, '활빈당': 9909, '식구': 9910, '박제': 9911, '학적': 9912, '가치나': 9913, '자의식': 9914, '서투르다': 9915, '게으르다': 9916, '똥통': 9917, '초늑녁': 9918, '기언': 9919, '아랫': 9920, '반신반의': 9921, '뚝심': 9922, '추잡': 9923, '연산군': 9924, '흘': 9925, '얼짱': 9926, '몸짱': 9927, '개구쟁이': 9928, '낸시': 9929, '알렌': 9930, '주앙': 9931, '포토': 9932, '드팔마': 9933, '디젤': 9934, '박형식': 9935, '싸눅': 9936, '막막': 9937, '이등병': 9938, '계발': 9939, '샤를': 9940, '나비효과': 9941, '안봣': 9942, '제보자': 9943, '채팅': 9944, '지쯔': 9945, '카드': 9946, '비아': 9947, '울고불고': 9948, '아렇': 9949, '팔이만': 9950, '중이': 9951, '마카오': 9952, '박의': 9953, '포커페이스': 9954, '이거지': 9955, '링컨': 9956, '날므': 9957, '이주환': 9958, '장종': 9959, '리설주': 9960, '노틸러스호': 9961, '공중': 9962, '격침': 9963, '격하': 9964, '다정하다': 9965, '류승': 9966, '이율': 9967, '윤주': 9968, '정호': 9969, '연씨': 9970, '에스팀': 9971, '유래': 9972, '탈락': 9973, '청탁': 9974, '얏타맨': 9975, '해파리': 9976, '에네스': 9977, '카야': 9978, '개무시': 9979, '경기': 9980, '독사': 9981, '진저리': 9982, '엠페러': 9983, '왜만듬': 9984, '대뜸': 9985, '짓거리': 9986, '피겨': 9987, '될껀데': 9988, '둥둥': 9989, '지르르': 9990, '엔티티': 9991, '어쩌자': 9992, '수반': 9993, '육중': 9994, '레디': 9995, '골빈뇬들': 9996, '루퍼트': 9997, '인혜힘들': 9998, '구가': 9999, '뱅뱅': 10000, '기상': 10001, '외한': 10002, '묶다': 10003, '옥빈': 10004, '쩍발': 10005, '퀼': 10006, '이다윗': 10007, '재밋엇어': 10008, '콩남': 10009, '콩녀': 10010, '다이어리': 10011, '햅번': 10012, '그란트': 10013, '강하늘': 10014, '텝': 10015, '렌느': 10016, '조의': 10017, '샤말란': 10018, '박아': 10019, '감자별': 10020, '초대': 10021, '보수파': 10022, '승홍': 10023, '분나': 10024, '잭블랙': 10025, '네이스': 10026, '디도': 10027, '평범': 10028, '오케이': 10029, '영국군': 10030, '환도': 10031, '태극': 10032, '나선': 10033, '나문희': 10034, '촬영장': 10035, '문과': 10036, '모의고사': 10037, '불록': 10038, '경상도': 10039, '호홉': 10040, '토닥토닥': 10041, '음악인': 10042, '음악처럼': 10043, '넘흐': 10044, '벙쪄': 10045, '재밋내굿': 10046, '빈스본': 10047, '마샬': 10048, '헛슨': 10049, '소블': 10050, '공블리': 10051, 'ㅏㄷ': 10052, '팅기다': 10053, '산삼': 10054, '대회': 10055, '가차': 10056, '중고': 10057, '등생': 10058, '비디오카메라': 10059, '핵폐기물': 10060, '더잼': 10061, '진좀좀': 10062, '마무': 10063, '정연식': 10064, '파장': 10065, '카펜터': 10066, '흑전사': 10067, '허둥대다': 10068, '훨배낫다': 10069, '피해망상': 10070, '험버트': 10071, '언변': 10072, '핫챠': 10073, '수법': 10074, '지롱': 10075, '깔깔': 10076, '극명하다': 10077, '리바이': 10078, '밨': 10079, '필수요소': 10080, '아스테릭스': 10081, '실사판': 10082, '간달프': 10083, '쌩뚱맞': 10084, '서울대': 10085, '굴려': 10086, '직종': 10087, '넌센스': 10088, '취권': 10089, '헨젤': 10090, '그레텔': 10091, '김두영': 10092, '홧병': 10093, '홀홀': 10094, '홀점': 10095, '이바람': 10096, '피크타임': 10097, '세아': 10098, '수컷': 10099, '벗겨지다': 10100, '재미엄': 10101, '어쨋': 10102, '문츠': 10103, '무진': 10104, '끗': 10105, 'ㅔㅔ': 10106, '제겐': 10107, '이영애': 10108, '로보캅': 10109, '이끼': 10110, '폐쇄성': 10111, '라오스': 10112, '해빙': 10113, '사릉': 10114, '흡': 10115, '니미': 10116, '빈스': 10117, '운석': 10118, '터리': 10119, '명량해전': 10120, '아드레날린': 10121, '과다복용': 10122, '벤츠': 10123, '아사': 10124, '버터': 10125, '똥똥똥': 10126, '똥떵': 10127, '신기다': 10128, '꾀': 10129, '스무살': 10130, '아이코': 10131, '왓음': 10132, '추격씬': 10133, '한풀': 10134, '개엿': 10135, '호모': 10136, '빼기': 10137, '리허설': 10138, '우먼': 10139, '미니시리즈': 10140, '어브': 10141, '주심': 10142, '쪽지': 10143, '은석': 10144, '흐트러뜨리': 10145, '경민이': 10146, 'ㅡㅡㅗ': 10147, '조은경': 10148, '입맞춤': 10149, '황진': 10150, '미씨': 10151, '오션스일레븐': 10152, '셀카': 10153, '도랏': 10154, '황우슬혜': 10155, '이혜영': 10156, '여년전': 10157, '은색': 10158, '재규어': 10159, '외제차': 10160, '캡슐': 10161, '뽑는갸차폰': 10162, '완구': 10163, '고다': 10164, '레즈비언': 10165, '배렸다': 10166, '성지': 10167, '처녀': 10168, '플랜카드': 10169, '학원물': 10170, '어지럽히다': 10171, '리키': 10172, '슈러더': 10173, '주근깨': 10174, '울부짖다': 10175, 'ㅎㅌㅊ': 10176, '됫으': 10177, '세금': 10178, '면세': 10179, '장난스럽다': 10180, '친하다': 10181, '야구모': 10182, '장엄하다': 10183, '엄숙하다': 10184, '친자': 10185, '삼장': 10186, '한일월드컵': 10187, '카트': 10188, '하울': 10189, '앨범': 10190, '피로연': 10191, '신혼': 10192, '느러뜨려놓': 10193, '다욕': 10194, '어으어엉': 10195, '떼거지': 10196, '킄': 10197, '진술': 10198, '걸리버': 10199, '여행기': 10200, '비평': 10201, '승격': 10202, '밑천': 10203, '묶이다': 10204, '전당포': 10205, '양요섭': 10206, '표절논란': 10207, '거돈': 10208, '번더': 10209, '퀼리티쩌': 10210, '몬지': 10211, '고양': 10212, '웨폰': 10213, '어뜨케': 10214, '이영은': 10215, '최성국': 10216, '쫗': 10217, '걸륜': 10218, '걸륜팬': 10219, '짝패': 10220, '샐러리맨': 10221, '찌개': 10222, '죄란': 10223, '밥맛': 10224, '테마': 10225, '몰두': 10226, '인적': 10227, '세현': 10228, '이몸': 10229, '바꼇': 10230, '윤재몸': 10231, '환가': 10232, '솔까말': 10233, '메뉴': 10234, '드삼': 10235, '세코': 10236, '스티치': 10237, '오사카': 10238, '찌잉': 10239, '간발': 10240, '킬머': 10241, '단원': 10242, '궤': 10243, '이어도': 10244, '씨도둑': 10245, '후궁': 10246, '유산': 10247, '인수대비': 10248, '지워지다': 10249, '테론': 10250, '튀기다': 10251, '최상': 10252, '마약상': 10253, '인천': 10254, '츤데레': 10255, '게속': 10256, '얼렁뚱땅': 10257, '그리스': 10258, '적기가': 10259, '나부랭이': 10260, '내려오다': 10261, '깃': 10262, '부업': 10263, '오즈의마법사': 10264, '철통': 10265, '대규모': 10266, '해상전': 10267, '터너': 10268, '잭스': 10269, '예언': 10270, '작업실': 10271, '잠그다': 10272, '도난': 10273, '망청': 10274, '부셰미': 10275, '시에나': 10276, '밀러': 10277, '수꼴': 10278, '인민재판': 10279, '넘겨주다': 10280, '캐리비안': 10281, '오렌지': 10282, '판욕': 10283, '티브': 10284, '뚱보흑': 10285, '전설의고향': 10286, '의천도룡기': 10287, '난도': 10288, '레너': 10289, '거북이': 10290, '모터': 10291, '최첨단': 10292, '그러기에': 10293, '함속': 10294, '엉엉': 10295, '웹': 10296, '주마': 10297, '등록금': 10298, '거고': 10299, '경도': 10300, '재밋게봣는데': 10301, 'ㄹㅋ': 10302, '돈아까웡': 10303, '받을껄': 10304, '이명박': 10305, '사대강': 10306, '시숙': 10307, '숙': 10308, '강시선생': 10309, '덴마': 10310, '하유미': 10311, '로마시대': 10312, '왜세': 10313, '드넒': 10314, '당나라': 10315, '역적': 10316, '김춘추': 10317, '무신': 10318, '헐헐': 10319, '잘빠지다': 10320, '피오': 10321, '옥죄': 10322, '비디오게임': 10323, '질소': 10324, '과자': 10325, '이제껏': 10326, '타레가': 10327, '만든샤기': 10328, '무지무지': 10329, '일본제국': 10330, '영점': 10331, '장담': 10332, '컨데': 10333, '전태일': 10334, '대론': 10335, '더라도': 10336, '수식어': 10337, '반올림': 10338, '전우': 10339, '몸값': 10340, '산이면': 10341, '처분': 10342, '돌팔매': 10343, '장애자': 10344, '보이콧': 10345, '우스꽝스럽다': 10346, '미미하다': 10347, '관지림': 10348, '옥수수': 10349, '체스': 10350, '한일': 10351, '쩌내': 10352, '투신': 10353, '조문탁': 10354, '쩝쩝': 10355, '위태': 10356, '블리치': 10357, '낚인건': 10358, '재정': 10359, '스탈린': 10360, '욥': 10361, '출시': 10362, '인내력': 10363, '일해': 10364, '도일': 10365, '난왜릏': 10366, '정성룡': 10367, '나스': 10368, '타샤': 10369, '킨스키': 10370, '뒤안길': 10371, '사강': 10372, '지은': 10373, '복수혈전': 10374, '유료': 10375, '사천원': 10376, '크레이븐': 10377, '펀집': 10378, '선샤인': 10379, '체험': 10380, '배비장전': 10381, '격려': 10382, '하규': 10383, '하워드': 10384, '제시': 10385, '아이젠': 10386, '끌어당기다': 10387, '가톨릭': 10388, '하드디스크': 10389, '음량': 10390, '쿠엔틴': 10391, '어릴떄': 10392, '닌자': 10393, '어쌔씬': 10394, '당계례': 10395, '송윤아': 10396, '루프': 10397, '반담횽': 10398, '친해지다': 10399, '준거': 10400, '재밍': 10401, '오른쪽': 10402, '화살표': 10403, '뉴욕': 10404, '염정': 10405, '변탠': 10406, '킌': 10407, '더글러스': 10408, '윤호': 10409, '호탄': 10410, '아크엔젤': 10411, '졸데': 10412, '해피앤드': 10413, '퀸즈': 10414, '설킨': 10415, '란함': 10416, '취학': 10417, '앨고어': 10418, '월리스': 10419, '그루밋때': 10420, '기기': 10421, '겟': 10422, '잘봣음': 10423, '길래': 10424, '밀실': 10425, '그랫': 10426, '소녀시절': 10427, '만능': 10428, '사이버': 10429, '뮬러': 10430, '뚱엉뚱': 10431, '갸우뚱': 10432, '진구': 10433, '됫음': 10434, '방조명': 10435, '꽃봉오리': 10436, '분별': 10437, '스티브유': 10438, '엘지': 10439, '똑바루': 10440, '절세': 10441, '도학': 10442, '위룡': 10443, '만큼만': 10444, '미스터빈': 10445, '트레': 10446, '와이비': 10447, '군부독재': 10448, '통치': 10449, '추연': 10450, '기력': 10451, '빅맨': 10452, '나누어지다': 10453, '프라': 10454, '먹이사슬': 10455, '기두': 10456, '윤설희': 10457, '역린': 10458, '샴푸': 10459, '지표': 10460, '블라인드': 10461, '발싸개': 10462, '에어컨': 10463, '오정희': 10464, '강압': 10465, '숙청': 10466, '강행': 10467, '간분': 10468, '킨': 10469, '중독증': 10470, '시갈영홪우': 10471, '왜나왓는': 10472, '미스테리영화': 10473, '헛봤다': 10474, '미셀': 10475, '진실로': 10476, '의혹': 10477, '영화리뷰': 10478, '제곱': 10479, '빠아님': 10480, '전도': 10481, '소련군': 10482, '탈영병': 10483, '스키장': 10484, '빠리': 10485, '모자라': 10486, '전화선': 10487, '리더십': 10488, '할리우드영화': 10489, '재연': 10490, '식객': 10491, '뿜는': 10492, '사대': 10493, '퍼붓다': 10494, '돌림': 10495, '쥐약': 10496, '전수진': 10497, '이은우': 10498, '무얼': 10499, '켈리': 10500, '쇄골': 10501, '흑연': 10502, '합기도': 10503, '나사': 10504, '베스킨라빈스': 10505, '니뽄류': 10506, '도시괴담': 10507, '말장난': 10508, '최동훈': 10509, '우엉': 10510, '부추기다': 10511, '베네딕트': 10512, '컴버배치': 10513, '광수': 10514, '효언니': 10515, '리모콘': 10516, '소개팅': 10517, '견우': 10518, '거린': 10519, '건일': 10520, '속인': 10521, '호크': 10522, '이육사만': 10523, '이육사': 10524, '배추': 10525, '깇체': 10526, '가년': 10527, '희수': 10528, '일편단심': 10529, '마땅하다': 10530, '섯다': 10531, '열풍': 10532, '고온': 10533, '고니': 10534, '아귀': 10535, '설전': 10536, '신궁': 10537, '사담': 10538, '선언': 10539, '섥혀': 10540, '연줄': 10541, '먹고살다': 10542, '촌철': 10543, '서예': 10544, '질병': 10545, '브이': 10546, '추상': 10547, '성추행': 10548, '공갈': 10549, '성매매': 10550, '알선': 10551, '포주': 10552, '무렵': 10553, '띵하다': 10554, '상추': 10555, '아임낫뎃': 10556, '바론': 10557, '유다': 10558, '봣드': 10559, '잔악하다': 10560, '평민': 10561, '대군': 10562, '제나라': 10563, '홍성': 10564, '혜령': 10565, '좀바': 10566, '궁굼': 10567, '일시': 10568, '인어공주': 10569, '아웅': 10570, '이지현': 10571, '젬슴': 10572, '김해숙': 10573, '김순옥': 10574, '배수빈': 10575, '한상진': 10576, '김태현': 10577, '역행': 10578, '이종수': 10579, '잛': 10580, '이씨': 10581, '익숙': 10582, '안정감': 10583, '풍취': 10584, '폴란드': 10585, '투영': 10586, '기름': 10587, '소감': 10588, '새미': 10589, '어드벤쳐': 10590, '용검': 10591, '라르': 10592, '지크': 10593, '신영화': 10594, '김남주': 10595, '표나': 10596, '힌편': 10597, '딸램': 10598, '탄피': 10599, '법부': 10600, '엎': 10601, '액트오브밸러': 10602, '론서바이버': 10603, '네이비씰': 10604, '괴로움': 10605, '랴': 10606, '말껄': 10607, '이현우': 10608, '민호': 10609, '꼽는': 10610, '유해진': 10611, '맛깔나다': 10612, '이장님': 10613, '하드코어': 10614, '발끝': 10615, '소환': 10616, '자새': 10617, '솟아오르다': 10618, '샘물': 10619, '읊어': 10620, '삭카': 10621, '로제': 10622, '구니스': 10623, '구디넙': 10624, '규칙': 10625, '접때': 10626, '터틀': 10627, '주크박스': 10628, '한주': 10629, '음침하다': 10630, '비스티보이즈': 10631, '빈도': 10632, '식당': 10633, '쌍둥이': 10634, '줄라': 10635, '결선': 10636, '고시': 10637, '여행가': 10638, '무마': 10639, '정욕': 10640, '이처럼': 10641, '꼬꼬': 10642, '사토미': 10643, '쨩': 10644, '야웅': 10645, '허탈': 10646, '권력자': 10647, '만드심': 10648, '장서희': 10649, '못구': 10650, '라일': 10651, '도나': 10652, '발산': 10653, '최적화': 10654, '고통스럽다': 10655, '밥상': 10656, '엎음': 10657, '호세': 10658, '의정': 10659, '월터': 10660, '힐': 10661, '비장하다': 10662, '죽는겈': 10663, '잘껄': 10664, '플스': 10665, '봫': 10666, '주몽': 10667, '파일량': 10668, '끝낼떄': 10669, '가정은': 10670, '꽁꽁': 10671, '싸': 10672, '케니지': 10673, '다잉영': 10674, '이오': 10675, '개봉관': 10676, '확보': 10677, '권선': 10678, '징악': 10679, '신춘': 10680, '과욕': 10681, '장갑': 10682, '우승하다': 10683, '콩빠들': 10684, '셔물': 10685, '간반': 10686, '이시영': 10687, '정웅인': 10688, '이태준': 10689, '완젼히': 10690, '가지가지': 10691, '더티': 10692, '장학우': 10693, '소윤': 10694, '바랬던': 10695, '부딪치다': 10696, '여하튼': 10697, '안젤라베이비': 10698, '팽팽': 10699, '조율': 10700, '조마조마하다': 10701, '초초': 10702, '컨디션': 10703, '붙이': 10704, '어슬픔': 10705, '관망': 10706, '거들다': 10707, '숏컷': 10708, '관계성': 10709, '배우진': 10710, '노파': 10711, '이듬': 10712, '그루': 10713, '애쉬': 10714, '이레': 10715, '썰다': 10716, '트렌디': 10717, '겨눌': 10718, '만화챡': 10719, '투니버스': 10720, '점빵문': 10721, '개멋': 10722, '라디오헤드': 10723, '삽입곡': 10724, '화룡': 10725, '점정': 10726, '아워스': 10727, '계승': 10728, '까지가': 10729, '결제': 10730, '붙잡다': 10731, '이스턴': 10732, '안과': 10733, '드뷔시': 10734, '매회': 10735, '수혁': 10736, '장철': 10737, '크로싱': 10738, '해장국': 10739, '디스크': 10740, '낯가림': 10741, '음성': 10742, '콕스': 10743, '투캇': 10744, '전말': 10745, '한공주': 10746, '로멘틱': 10747, '효율': 10748, '반타작': 10749, '수바': 10750, '양키': 10751, '유능하다': 10752, '밌다': 10753, '채시라': 10754, '한가인': 10755, '다인': 10756, '고향': 10757, '주무': 10758, '꽃게': 10759, '피프때': 10760, '저하': 10761, '논스톱': 10762, '박지성': 10763, '수염': 10764, '작작하다': 10765, '트림': 10766, '다라': 10767, '이기심': 10768, '간절': 10769, '히바': 10770, '램니': 10771, '영아': 10772, '좁다': 10773, '톨스토이': 10774, '사상가': 10775, '소로': 10776, '농부': 10777, '헸을것': 10778, '괞찮네': 10779, '기적처럼': 10780, '레파': 10781, '트램펄린': 10782, '고무': 10783, '부둣가씬': 10784, '변장': 10785, '듭': 10786, '베른': 10787, '탱': 10788, '옷벗다': 10789, '분잡': 10790, '깡통': 10791, '궁굼해': 10792, '원어민': 10793, '득템': 10794, '데이라잇': 10795, '마란': 10796, '깨평': 10797, '상한': 10798, '패가': 10799, '응어리': 10800, '만일': 10801, '시프': 10802, 'ㅠㅜㅠ': 10803, '우여곡절': 10804, '화산': 10805, '홀리모터스': 10806, '적지': 10807, '톡톡하다': 10808, '카메라감독': 10809, '오뚝이': 10810, '로건': 10811, '들여놓다': 10812, '삭막': 10813, '유하': 10814, '말죽거리': 10815, '혹사': 10816, '몸빵': 10817, '괜춘함': 10818, '햇습': 10819, '볼론': 10820, '점준새': 10821, '소시지': 10822, '박혓': 10823, '골든': 10824, '라즈': 10825, '재밋었다': 10826, '박유천': 10827, '사상충': 10828, '코지': 10829, '논픽션': 10830, '새마을운동': 10831, '노욕': 10832, '똥례': 10833, '착륙': 10834, '승객': 10835, '장례식': 10836, '엘레나': 10837, '튿': 10838, '질욕': 10839, '훨배': 10840, '웰컴': 10841, '인민군': 10842, '범한': 10843, '최전선': 10844, '독일어': 10845, '윤두준': 10846, '류시시': 10847, '시계수리공': 10848, '장효전': 10849, '약혼자': 10850, '절벽': 10851, '얼꽝': 10852, '자명하다': 10853, '보석': 10854, '천정명': 10855, '흠뻑': 10856, '혼잡하다': 10857, '괜찬군': 10858, '정기용': 10859, '슈타인': 10860, '안구': 10861, '다중이': 10862, '정신분열': 10863, '토토가': 10864, '유플러스': 10865, '낚일순': 10866, '궁합': 10867, '미스코리아': 10868, '거젆': 10869, '이대': 10870, '폭스라이프': 10871, '불사신': 10872, '풀림': 10873, '월남': 10874, '진득': 10875, '금기': 10876, '시한': 10877, '제우스': 10878, '박살': 10879, '인디언': 10880, '가상현실': 10881, '딕': 10882, '수뤠기': 10883, '계절풍': 10884, '국교': 10885, '세균': 10886, '정통하다': 10887, '족도': 10888, '글치': 10889, '나이스': 10890, '성수': 10891, '괜차늠': 10892, '비틀어지다': 10893, '토대': 10894, '퀵실버': 10895, '비일': 10896, '반적': 10897, '무책임하다': 10898, '이민': 10899, '약소국': 10900, '취했을뿐': 10901, '재밋는듯': 10902, '화통': 10903, '곰탱이': 10904, '페테': 10905, '그루지': 10906, '지잔': 10907, '강정원': 10908, '정연': 10909, '자리다': 10910, '보존': 10911, '절음': 10912, '쩔엇으': 10913, '도란': 10914, '세종대왕': 10915, '막일': 10916, '퓨뭐냐': 10917, '캐나다': 10918, '줄곧': 10919, '실버': 10920, '최무룡': 10921, '쩌구': 10922, '저쩌구': 10923, 'ㄲㅈ': 10924, '그이': 10925, '자스민': 10926, '히히히': 10927, '랄거': 10928, '날짜': 10929, '왜정': 10930, '샤샤': 10931, '퀜틴영화': 10932, '넘겨보다': 10933, '유통': 10934, '나리': 10935, '고여': 10936, '듯정': 10937, '아스': 10938, '트랄': 10939, '예비': 10940, '오열연기': 10941, '뮤지': 10942, '왜꼭': 10943, '윽수': 10944, '있엇으리': 10945, '맥커너히': 10946, '박희': 10947, '봉테일': 10948, '요시히코': 10949, '박카스': 10950, '음가': 10951, '장날': 10952, '겁내': 10953, '토크쇼': 10954, '구별': 10955, '망다리': 10956, '남아도': 10957, '가잔': 10958, '정승': 10959, '봤슴당': 10960, '자극시키다': 10961, '생사람': 10962, '디스코': 10963, '표지': 10964, '제이콥': 10965, '벌린': 10966, '분에이': 10967, '걸짝': 10968, '느거': 10969, '인관': 10970, '고거': 10971, '룬드': 10972, '토니쟈': 10973, '왜리': 10974, '인디밴드': 10975, '예술음악': 10976, '춥다': 10977, '진화론': 10978, '깍지': 10979, '정기': 10980, '야장': 10981, '난하다': 10982, '졸도': 10983, '초록물고기': 10984, '체인지': 10985, '접속': 10986, '올가미': 10987, '군국': 10988, '감임': 10989, '기능': 10990, '브루노': 10991, '미션': 10992, '심리상담': 10993, '엨': 10994, '가위손': 10995, '개지': 10996, '재밋구': 10997, '리즈중': 10998, '퀴': 10999, '릿카': 11000, '레베카': 11001, '변치': 11002, '밋다': 11003, '칙칙하다': 11004, '밑바닥': 11005, '독신': 11006, '포유': 11007, '야매': 11008, '룽다': 11009, '독특': 11010, '거때매': 11011, '추월': 11012, '가넷': 11013, '화물': 11014, '엘리': 11015, '미소년': 11016, '짜릿': 11017, '남궁민': 11018, '팅': 11019, '실무': 11020, '김경석': 11021, '세르': 11022, '지오': 11023, '구티': 11024, '레스': 11025, '가트': 11026, '바콜': 11027, '감미': 11028, '개대': 11029, '백발': 11030, '믿음직하다': 11031, '많앗곸': 11032, '똥멋': 11033, '와아아': 11034, '서고': 11035, '리플': 11036, '손호영': 11037, '일상다반사': 11038, '태희': 11039, '차승민': 11040, '엥': 11041, '수행': 11042, '뫼산': 11043, '폭락': 11044, '스팅': 11045, '블리': 11046, '개개다': 11047, '쿵쿵': 11048, '자연재해': 11049, '썻는': 11050, '이미테이션': 11051, '오자룡': 11052, '들썩이다': 11053, '에누리': 11054, '브스': 11055, '요일': 11056, '금토': 11057, '캡': 11058, '널린': 11059, '비밀결혼': 11060, '실실': 11061, '아이돌가수': 11062, '마에다': 11063, '아츠코': 11064, '시월애': 11065, '그렉': 11066, '이어트': 11067, '어프': 11068, '할리데이': 11069, '광활하다': 11070, '얻어맞다': 11071, '챠크라': 11072, '럴': 11073, '촌티': 11074, '은테': 11075, '동굴': 11076, '돌보다': 11077, '해골': 11078, '꼬장': 11079, '음미': 11080, '할리': 11081, '아작': 11082, '이두': 11083, '영영': 11084, '냑': 11085, '시원': 11086, '고마': 11087, '김리나': 11088, '지랄': 11089, '라빈': 11090, '낚였눼': 11091, '신상옥': 11092, '유학': 11093, '공채': 11094, '텔런튼데': 11095, '장보': 11096, '스위프트': 11097, '자동': 11098, '응답기': 11099, '작별인사': 11100, '토이스토리': 11101, '날조': 11102, '하치': 11103, '채드': 11104, '머레이': 11105, '짖다': 11106, '전영': 11107, '미식축구': 11108, '식민지': 11109, '건설': 11110, '관광객': 11111, '재일동포': 11112, '분단': 11113, '조총련': 11114, '소외': 11115, '후휘': 11116, '엘리샤': 11117, '커스버트': 11118, '돈의화신': 11119, '오지랖': 11120, '로디': 11121, '역사드라마': 11122, '이로써': 11123, '아포칼립토': 11124, '초입': 11125, '헛된': 11126, '김현정': 11127, '삿다': 11128, '최진혁': 11129, '꺄악': 11130, '멘트': 11131, '여요': 11132, '장고': 11133, '화백': 11134, '안소니': 11135, '맟춰': 11136, '썪': 11137, '차기': 11138, '돌려차기': 11139, '허위': 11140, '건아': 11141, '쩌비': 11142, '심혈': 11143, '기울이다': 11144, '구숙정': 11145, '광대하다': 11146, '코리안': 11147, '잉여': 11148, '송중기': 11149, '히든싱어': 11150, '백야': 11151, '수출': 11152, '원본': 11153, '우리말': 11154, '패왕색': 11155, '숫자': 11156, '문지기': 11157, '어부': 11158, '초래': 11159, '목록': 11160, '베타': 11161, '손꾸락': 11162, '거열': 11163, '이원규': 11164, '헌츠맨': 11165, '강츄': 11166, '프루스트': 11167, '적재적소': 11168, '씨네프': 11169, '내뿜': 11170, '영홬': 11171, '어염': 11172, '뚱땡이': 11173, '걸즈': 11174, '존쿠삭나온': 11175, '평영': 11176, '존쿠삭연기': 11177, '이식': 11178, '룻': 11179, '애뜻함': 11180, '캡틴아메리카': 11181, '통렬': 11182, '난간': 11183, '펙트': 11184, '힌국': 11185, '웨버': 11186, '삼거리': 11187, '우즈': 11188, '특유의슬': 11189, '상통': 11190, '쭝쿠러': 11191, '김태연': 11192, '파쿠르': 11193, '강변': 11194, '천만이': 11195, '라라피포': 11196, '괴담': 11197, '화장': 11198, '주술사': 11199, '이행': 11200, '가책': 11201, '도자기': 11202, '맞먹다': 11203, '커츠': 11204, '에서가': 11205, '계곡': 11206, '방학기': 11207, '창문': 11208, '테크닉': 11209, '사가다': 11210, '콜라': 11211, '폭': 11212, '협동': 11213, '굿닥터': 11214, '갈아타다': 11215, '아름': 11216, '승부조작': 11217, '빠들': 11218, '중간계': 11219, '태운': 11220, '한시': 11221, '리프': 11222, '지자': 11223, '드라이빙': 11224, '재미썽': 11225, '무녀': 11226, '루마니아': 11227, '몬쥬': 11228, '비밥': 11229, '쏫': 11230, '아지': 11231, '임꺽정': 11232, '언떤놈': 11233, '환자연기': 11234, '전역': 11235, '생활관': 11236, '여교사': 11237, '적꿈': 11238, '므흣': 11239, '연출자': 11240, '채용': 11241, '외주': 11242, '로라': 11243, '결집': 11244, '뜻대로': 11245, '돈벌': 11246, '샤이': 11247, '라보프': 11248, '이건모': 11249, '영화대본': 11250, '가위바위보': 11251, '브로드밴드': 11252, '고집': 11253, '참사': 11254, '중공군': 11255, '각하': 11256, '참전용사': 11257, '호국': 11258, '영령': 11259, '죄송스럽다': 11260, '장항': 11261, '청년': 11262, '묘기': 11263, '무스': 11264, '이돈': 11265, '봉황': 11266, '켄드릭': 11267, '길리엄': 11268, '고결': 11269, '더러': 11270, '명가': 11271, '이초': 11272, '차오': 11273, '발레': 11274, '매카시즘': 11275, '슬펏음근데': 11276, '이맘': 11277, '개잼꿀잼': 11278, '계세': 11279, '씬정도': 11280, '하향': 11281, '평준화': 11282, '이응': 11283, '가을로': 11284, '휴먼': 11285, '금요일': 11286, '활력소': 11287, '다물어지다': 11288, '나니아': 11289, '연대기': 11290, '여사': 11291, '정연기': 11292, '별루엿': 11293, '집안일': 11294, '조류': 11295, '씌': 11296, '전제': 11297, '와스': 11298, '개꿀': 11299, '요로': 11300, '맹신': 11301, '주저': 11302, '펄프픽션': 11303, '티프': 11304, '더욱이': 11305, '꼴릿': 11306, '부처': 11307, '바궈': 11308, '드릅': 11309, '소수자': 11310, '슴돠': 11311, '는단': 11312, '정해지다': 11313, '순풍': 11314, '다이빙벨': 11315, '폴라로이드': 11316, '사진기': 11317, '최효종': 11318, '김원효': 11319, '국비': 11320, '종범': 11321, '옥한흠': 11322, '딱지왕': 11323, '콤': 11324, '나늬겟': 11325, '장백지': 11326, '결여': 11327, '양대': 11328, '산맥': 11329, '이이해': 11330, '막내': 11331, '여보세요': 11332, '병구': 11333, '컨': 11334, '창백하다': 11335, '채밌네': 11336, '개운하다': 11337, '침울하다': 11338, '찮': 11339, '펠릭스': 11340, '라이터': 11341, '패왕별희': 11342, '아이슬란드': 11343, '아일럔드': 11344, '진흙': 11345, '쓸엑': 11346, 'ㅈㅐ': 11347, '밌었다': 11348, '마시기': 11349, '야성': 11350, '불변': 11351, '주제넘다': 11352, '감별': 11353, '이태임': 11354, '청산': 11355, '규리': 11356, 'ㅋㄱㅋ': 11357, '총사': 11358, '리안': 11359, '영화장르': 11360, '학부모': 11361, '봣건': 11362, '상중하': 11363, '제어': 11364, '살타': 11365, '갈현': 11366, '고창': 11367, '제자리': 11368, '판박이': 11369, '서요': 11370, '맹승지': 11371, '재밋게본': 11372, '입학': 11373, '사바세계': 11374, '중생': 11375, '진우': 11376, '진혼': 11377, '사뭇': 11378, '엄태구': 11379, '모자이크': 11380, '전지': 11381, '늙어감': 11382, '후배': 11383, '버릇': 11384, '박경원': 11385, '위워회': 11386, '송시': 11387, '쉴드치다': 11388, '김대호': 11389, '병풍': 11390, '연도': 11391, '시중': 11392, '수만': 11393, '통행': 11394, '직진': 11395, '미세': 11396, '쮸쮸': 11397, '니키타': 11398, '뤽': 11399, '배송': 11400, '휴그랜트': 11401, '오그': 11402, '십대': 11403, '봉작': 11404, '제국': 11405, '질의': 11406, '표상': 11407, '철심': 11408, '삐리뽕': 11409, '악하다': 11410, '안속': 11411, '선진': 11412, '박규리': 11413, '한승연': 11414, '정니콜': 11415, '구하라': 11416, '강지영': 11417, '카라': 11418, '카밀리아': 11419, '샌드맨': 11420, '샤우팅': 11421, '개구리': 11422, '헐씬': 11423, '멋찌': 11424, '측정': 11425, '여리다': 11426, '인문학': 11427, '분야': 11428, '환대': 11429, '리눅스': 11430, '주접': 11431, '횡포': 11432, '병희': 11433, '논산': 11434, '마중가': 11435, '크기': 11436, '봉씨': 11437, '얼간이': 11438, '고상하다': 11439, '데빌': 11440, '괴뢰': 11441, '왘': 11442, '겨짐': 11443, '봣습니': 11444, '유노윤호': 11445, '김현숙': 11446, '만들엇네': 11447, '비크티니': 11448, '루쿠': 11449, '에반스': 11450, '쯔요시': 11451, '나락': 11452, '윤석': 11453, '무위자연': 11454, '다음팟': 11455, '장창': 11456, '저작권': 11457, '메이트': 11458, '불만제로': 11459, '파이어': 11460, '이색': 11461, '내해': 11462, '할로우': 11463, '양파': 11464, '살피다': 11465, '동근': 11466, '민초': 11467, '노트르담': 11468, '카니발': 11469, '미러': 11470, '킁킁': 11471, '썅내': 11472, '복지': 11473, '아더왕': 11474, '아토': 11475, '금욕': 11476, '음탕하다': 11477, '츄': 11478, '밋엇다': 11479, '싱그럽다': 11480, '알제리': 11481, '원호': 11482, '렛': 11483, '송새벽': 11484, '본전': 11485, '헛짓': 11486, '장미': 11487, '콘택트': 11488, '고립': 11489, '혈육': 11490, '깝깝': 11491, '크로이처': 11492, '소나타': 11493, '국방': 11494, '족속': 11495, '사리': 11496, '맛보다': 11497, '퀵': 11498, '사관학교': 11499, '부서': 11500, '책임자': 11501, '법인': 11502, '국방부': 11503, '소속': 11504, '기관': 11505, '척머슬러': 11506, '증언': 11507, '젠도': 11508, '안착': 11509, '볼날': 11510, '셋별': 11511, '액': 11512, '비주류': 11513, '불가피하다': 11514, '여경': 11515, '경첨': 11516, '클러버': 11517, '아늠': 11518, '돔': 11519, '드뎌': 11520, '박정학': 11521, '해롭다': 11522, '임도': 11523, '센치하다': 11524, '직업여성': 11525, '감응': 11526, '음청': 11527, '겟썸': 11528, '박노식': 11529, '박준규': 11530, '주머니': 11531, '공항': 11532, '딱딱하다': 11533, '조리': 11534, '껄끄러웠다': 11535, '프럼': 11536, '주도하다': 11537, '공화정': 11538, '설립': 11539, '리얼타임': 11540, '신발': 11541, '응응': 11542, '겜블러': 11543, '카일': 11544, '유나': 11545, '의분': 11546, '산화': 11547, '이창동': 11548, '딴판': 11549, '유속': 11550, '펌프': 11551, '세라': 11552, '은별': 11553, '로맨스코미디': 11554, '몹': 11555, '카메런': 11556, '존못': 11557, '멎다': 11558, '효시': 11559, '으로만은': 11560, '초집': 11561, '소양': 11562, '외쿡': 11563, '다수결': 11564, '까지를': 11565, '침팬지': 11566, '이아쉬': 11567, '찿': 11568, '황효명': 11569, '국판': 11570, '곽재용': 11571, '주사': 11572, '웜홀': 11573, '국민성': 11574, '정신대': 11575, '초능력자': 11576, '비속어': 11577, '일장춘몽': 11578, '줸좡': 11579, '후낙': 11580, '가이무': 11581, '유희': 11582, '컨트롤': 11583, '가야로': 11584, '옶': 11585, '김용': 11586, '갓파더': 11587, '제빵': 11588, '김탁구': 11589, '왜남': 11590, '보석같다': 11591, '베이비': 11592, '코콩': 11593, '섹히들': 11594, '격은': 11595, '진부': 11596, '쉽죠잉': 11597, '쓰레': 11598, '잔대': 11599, '유캔': 11600, '퀀시': 11601, '시네마천국': 11602, '코러스': 11603, '보편': 11604, '파시즘': 11605, '견지되': 11606, '단계': 11607, '말함': 11608, '암툰': 11609, '와리': 11610, '틸리': 11611, '깜찍': 11612, '여현수': 11613, '이원종': 11614, '김사랑': 11615, '오묘하다': 11616, '먹거리': 11617, '허슬': 11618, '고시원': 11619, '마주치다': 11620, '솧': 11621, '느건데': 11622, '천진하다': 11623, '밥값': 11624, '전투력': 11625, '연가시': 11626, '망정': 11627, '물질': 11628, '헤더': 11629, '이엄': 11630, '민요': 11631, '파랑새': 11632, '잡아넣다': 11633, '부임': 11634, '극빈': 11635, '증가': 11636, '선화': 11637, '걸어가다': 11638, '파라다이스': 11639, '짬봉': 11640, '닌교': 11641, '인형사': 11642, '이보희': 11643, '건디': 11644, '홈피': 11645, '예정': 11646, '질랜드': 11647, '유로': 11648, '스파르타': 11649, '정신분열증': 11650, '왕중': 11651, '하교': 11652, '거볼': 11653, '서방': 11654, '숭배': 11655, '일본자위대': 11656, '아웃사이더': 11657, '아기자기': 11658, '애니메이션영화': 11659, '매즈': 11660, '인간드': 11661, '망햇': 11662, '맨오브스틸': 11663, '어런': 11664, '테니스': 11665, '종목': 11666, '졸렬하다': 11667, '그리스도': 11668, '꿇다': 11669, '유승호': 11670, '인제': 11671, '공찬': 11672, '광화문': 11673, '가로수': 11674, '중국드라마': 11675, '준정': 11676, '심빠들': 11677, '신년': 11678, '베를릴': 11679, '흐느적': 11680, 'ㅠㅋ': 11681, '이세창': 11682, '마샤': 11683, '메이슨': 11684, '정좌': 11685, '세로': 11686, '전생': 11687, '더록': 11688, '이천원': 11689, '부시': 11690, '브로스': 11691, '선인장': 11692, '니시다': 11693, '일자리': 11694, '유니세프': 11695, '헬로': 11696, '리액션': 11697, '크리스티나': 11698, '영국영화': 11699, '부감': 11700, '구급대원': 11701, '피드백': 11702, '마리오': 11703, '편리': 11704, '급작': 11705, '약분': 11706, '규모': 11707, '후려': 11708, '훈련소': 11709, '태권도': 11710, '공익': 11711, '수배': 11712, '중국역사': 11713, '데일': 11714, '스틴던스트': 11715, '주도': 11716, '화살': 11717, '허리': 11718, '전라': 11719, '아보': 11720, '개봉일': 11721, '숀영': 11722, '밤임': 11723, '희재': 11724, '삶그': 11725, '빈번히': 11726, '알렉산더': 11727, '비단': 11728, '이주': 11729, '막바지': 11730, '머시': 11731, 'ㄴㅅ': 11732, '성현': 11733, '협': 11734, '이지혜': 11735, '인강': 11736, '핵꿀잼졸잼': 11737, '어쩌고': 11738, '양영희': 11739, '박선영': 11740, '일때': 11741, '남장': 11742, '뺴': 11743, '차별성': 11744, '비범하다': 11745, '부러워하다': 11746, '참새': 11747, '절묘': 11748, '살림': 11749, '한가운데': 11750, '이인기': 11751, '생강빵': 11752, '브래들리': 11753, '쿠퍼': 11754, '지조': 11755, '베키': 11756, '단언컨대': 11757, '쵸': 11758, '쌓이다': 11759, '그레이드': 11760, '성장기': 11761, '탈탈': 11762, '배알': 11763, '로이킴': 11764, '딕펑스': 11765, '정준영': 11766, '강렬': 11767, '미지근하다': 11768, '게일': 11769, '치켜뜨다': 11770, '부릅뜨다': 11771, '서서': 11772, '명예': 11773, '파렴치하다': 11774, '호갱': 11775, '잘만드': 11776, '너덜너덜': 11777, '누더기': 11778, '리본': 11779, '절친': 11780, '관여': 11781, '만년': 11782, '지망': 11783, '브라보': 11784, '충동': 11785, '쫭': 11786, '볼케이노': 11787, '큰코다치다': 11788, '월러스': 11789, '처형': 11790, '끼들': 11791, '헤드윅': 11792, '뭘루': 11793, '깜바테': 11794, '발기부전': 11795, '로리타': 11796, '독고영재': 11797, '비슷말': 11798, '생명체': 11799, '진화': 11800, '기약': 11801, '기선': 11802, '무미건조': 11803, '쌩뚱맞고': 11804, '휴머니스트': 11805, '배분': 11806, '웃찿사': 11807, '서수민': 11808, '이청아': 11809, 'ㅈㄷㄹ': 11810, '차암': 11811, 'ㄱㄱㄱ': 11812, '번성': 11813, '이하늬': 11814, '개솔': 11815, '김혜리': 11816, '안당': 11817, '굼뜨': 11818, '느릿느릿': 11819, '리셋': 11820, '헬': 11821, '나이트워치': 11822, '단성사': 11823, '홍수아': 11824, '여우주연상': 11825, '게라': 11826, '크로스파이어': 11827, '듀얼': 11828, '우걱우걱': 11829, '스웨': 11830, '마법천자문': 11831, '노노': 11832, '밤벌레': 11833, '하룻밤': 11834, '신고식': 11835, '하물며': 11836, '보더': 11837, '뭐얌': 11838, '에드먼드': 11839, '젤리': 11840, '소고기': 11841, '공전': 11842, '유튜브': 11843, '학교괴담': 11844, '앞바다': 11845, '오염시키다': 11846, '생계': 11847, '담론': 11848, '습관': 11849, '디질레': 11850, '레빗': 11851, '개박': 11852, '쒯': 11853, '오펀': 11854, '초동': 11855, '터테': 11856, '이닝': 11857, '반칙왕': 11858, '김지운': 11859, '갠찮': 11860, '징징거리다': 11861, '빅팬': 11862, '아이즈': 11863, '갈피': 11864, '넋두리': 11865, '칭한다': 11866, '게모': 11867, '중국어': 11868, '유승준': 11869, '노무': 11870, '엿같다': 11871, '애인': 11872, '종결자': 11873, '잠입': 11874, '스타크': 11875, '입단': 11876, '곡예사': 11877, '줄타기': 11878, '랑드': 11879, '더프': 11880, '유후': 11881, '아가': 11882, '엠마뉴엘': 11883, '역주행': 11884, '차로': 11885, '희미하다': 11886, '일명': 11887, '태풍': 11888, '햤던': 11889, '토키': 11890, '다카': 11891, '김병조': 11892, '케리': 11893, '쫓기다': 11894, '아오뽁쳐': 11895, '아멘': 11896, '보니깜': 11897, '디바이드': 11898, '일어': 11899, '빠담빠담': 11900, '작작': 11901, '권태': 11902, '살사': 11903, '히피': 11904, '드럼통': 11905, '견줄': 11906, '마가리타': 11907, '때쌩': 11908, '기겁': 11909, '찮음': 11910, '투입': 11911, '태조': 11912, '전방': 11913, '급속': 11914, '몸소': 11915, '은유': 11916, '하겟네별': 11917, '중동': 11918, '뽀뽀': 11919, '질임': 11920, '만듬돈': 11921, '스트로': 11922, '팬팬': 11923, '중주': 11924, '루한': 11925, '싱싱하다': 11926, '생겻': 11927, '이상인': 11928, '뒤집어지다': 11929, '포럼': 11930, '깨금': 11931, '개간': 11932, '때때로': 11933, '안산': 11934, '예술의전당': 11935, '연합': 11936, '새우깡': 11937, '갯수': 11938, '레몬이': 11939, '이롭다': 11940, '기독교도': 11941, '아저씬': 11942, '최양일': 11943, '수인': 11944, '배아': 11945, '용일': 11946, '얼릉': 11947, '혼다': 11948, '택배': 11949, '체벌': 11950, '교코': 11951, '케이코': 11952, 'ㅜㅜㅡ': 11953, '트랜스포터': 11954, '강하': 11955, '기운': 11956, '황금시대': 11957, '적적하다': 11958, '쾌감': 11959, '번방': 11960, '설렁설렁': 11961, '보영': 11962, '혁': 11963, '성재': 11964, '차돌': 11965, '형돈': 11966, '안무가': 11967, '화두': 11968, '오마쥬': 11969, '조가': 11970, '선배': 11971, '는고': 11972, '알앗슴': 11973, '서안': 11974, '우쭐': 11975, '주물럭거리다': 11976, '폭동': 11977, '전주': 11978, '국제': 11979, '김영하': 11980, '노근리': 11981, '김민': 11982, '빵꾸똥꾸': 11983, '한단': 11984, '정신승리': 11985, '곁들이다': 11986, '살수': 11987, '찌끄레기들': 11988, '진주': 11989, '회고': 11990, '사기죄': 11991, '고소': 11992, '암시': 11993, '고풍': 11994, '개새': 11995, '옆집': 11996, '탁구': 11997, '질때': 11998, '목표': 11999, '불어': 12000, '결재': 12001, '유덕': 12002, '류란': 12003, '허세쩌': 12004, '야심': 12005, 'ㄷㄷㄷㄷ': 12006, '집년': 12007, '심승보': 12008, '종북주의자': 12009, '판명': 12010, '국보법': 12011, '엄중하다': 12012, '다스리다': 12013, '아바': 12014, '나빠지다': 12015, '족구': 12016, '뇌리': 12017, '올킬': 12018, '의젓하다': 12019, '미사여구': 12020, '유람선': 12021, '잠도': 12022, '촌빨': 12023, '오메': 12024, '좇임': 12025, '동질감': 12026, '짤림': 12027, '반항': 12028, '년돈': 12029, '고학년': 12030, '폐기물': 12031, '캬너무': 12032, '느꼇': 12033, '아울리다': 12034, '메튜': 12035, '오레': 12036, '고귀하다': 12037, '뭉': 12038, '굿굿잼': 12039, '배반': 12040, '욕정': 12041, '불타다': 12042, '남지현': 12043, '정향': 12044, '첫째': 12045, '비아이': 12046, '아이언': 12047, '확률': 12048, '메가박스': 12049, '모리꼬': 12050, '양쪽': 12051, '나원진': 12052, '스메': 12053, '소드': 12054, '코스모폴리스': 12055, '퇴물': 12056, '그림형제': 12057, '이취': 12058, '이이이이이이': 12059, '스피릿': 12060, '백터': 12061, '장신영': 12062, '송일국': 12063, '나왓으': 12064, '경수진': 12065, '초로': 12066, '장동직': 12067, '마리모': 12068, '서일': 12069, '버치': 12070, '막대': 12071, '열뻐치': 12072, '부르짖다': 12073, '좆망': 12074, '리뉴': 12075, '민영화': 12076, '또박또박': 12077, '리첸': 12078, '사운트': 12079, '트랙': 12080, '잘못짚다': 12081, '사들이다': 12082, '우레': 12083, '괴수영화': 12084, '감정씬': 12085, '보고따': 12086, '밍': 12087, '우와한녀': 12088, '괜챦음새': 12089, '작곡': 12090, '좀재밋다': 12091, '개드립': 12092, '부조화': 12093, '가라앉다': 12094, '발리': 12095, '국영': 12096, '촬영기': 12097, '쟁쟁': 12098, '년반': 12099, '덱스터': 12100, '김은형': 12101, '댐': 12102, '조성': 12103, '헌재': 12104, '판결': 12105, '교복': 12106, '적대': 12107, '낚지마': 12108, '케드': 12109, '서준영': 12110, '욕함': 12111, '사구조': 12112, '미결': 12113, '구지성': 12114, '백내장': 12115, '와오라니': 12116, '족장': 12117, '허벅지': 12118, '쓰다듬다': 12119, '그림판': 12120, '다도': 12121, '구르다': 12122, '손볼': 12123, '라닥': 12124, '촘촘하': 12125, '하반신': 12126, '랭킹': 12127, '일텐데': 12128, '바지': 12129, '환포': 12130, '다크라이': 12131, '디안시': 12132, '아라': 12133, '지장': 12134, '혈팬': 12135, '혜람이죽엇네': 12136, '페넬로페': 12137, '카라스': 12138, '트롤': 12139, '파이널판타지': 12140, '정치사': 12141, '난날': 12142, '즈음': 12143, '힘없다': 12144, '어김없이': 12145, '무조': 12146, '알맹이': 12147, '느꼇는데': 12148, '이쁘넹': 12149, '스시': 12150, '파스텔': 12151, '불신': 12152, '문소리': 12153, '스걸형님': 12154, '왜구': 12155, '블레어': 12156, '시프트': 12157, '메뚜기': 12158, '졸림': 12159, '라이더': 12160, '느작없어': 12161, '이소재': 12162, '약해지다': 12163, '신사참배': 12164, '휠씬잼밌': 12165, '도시공학': 12166, '월리': 12167, '애견': 12168, '텔레비전': 12169, '케이크': 12170, '로보트': 12171, '쭉빵녀': 12172, '삐용': 12173, '아메리칸파이': 12174, '괜시리': 12175, '네나': 12176, '자수': 12177, '쩌는구': 12178, '킥': 12179, '전문직': 12180, '호령': 12181, '무제한': 12182, '동방예의지국': 12183, '장모': 12184, '건네주다': 12185, '건네다': 12186, '심의': 12187, '계명': 12188, '병동': 12189, '로뎅': 12190, '매너리즘': 12191, '이노센스': 12192, '서두르다': 12193, '답안': 12194, '국가대표': 12195, '공연장': 12196, '자책': 12197, '시달리다': 12198, '저력': 12199, '야박하다': 12200, '이위': 12201, '년차': 12202, '믕지': 12203, '푸르다': 12204, '과민': 12205, '망우': 12206, '묘소': 12207, '아사카': 12208, '십이': 12209, '사향': 12210, '업체': 12211, '허큘리스': 12212, '얌': 12213, '백만조': 12214, '송해성': 12215, '손현': 12216, '들키다': 12217, '땡큐': 12218, '맹기용': 12219, '냉장고': 12220, '쉴드': 12221, '오븐': 12222, '은성': 12223, '밋음': 12224, '홍진영': 12225, '성스럽다': 12226, '원조교제': 12227, '다말': 12228, '호비다': 12229, '테일러': 12230, '비즐러': 12231, '엿들으': 12232, '왜썻을까': 12233, '티켓파워': 12234, '메로엣타': 12235, '요나': 12236, '로무': 12237, '마왕': 12238, '겨버령': 12239, '로마군': 12240, '격파': 12241, '명과': 12242, '풍족하다': 12243, '경화': 12244, '기타등등': 12245, '분노의질주': 12246, '세븐': 12247, '눈을땔수': 12248, '망첬': 12249, '피좀': 12250, '깐느': 12251, '초이스': 12252, '윤한': 12253, '소연': 12254, '도박': 12255, '이민호': 12256, '핟러': 12257, '볼보': 12258, '폐쇄된': 12259, '거죽': 12260, '입히다': 12261, '바이오맨': 12262, '단번': 12263, '리슨': 12264, '슈퍼로봇': 12265, '이상현': 12266, '북경어': 12267, '바질': 12268, 'ㄹㅏ': 12269, '매치': 12270, '혐덕': 12271, '혐덕들': 12272, '이정국': 12273, '짏': 12274, '앞세우다': 12275, '화북': 12276, '지출': 12277, '큐브릭': 12278, '색소폰': 12279, '자락': 12280, '여성혐오증': 12281, '무극': 12282, '망극': 12283, '글렌': 12284, '클로즈': 12285, '보듬다': 12286, '고레': 12287, '히로': 12288, '가져다주다': 12289, '채탁연': 12290, '쒯더': 12291, '비원에이포': 12292, '멋진날': 12293, '눈의여왕': 12294, '쓰뤠긔': 12295, '주사위': 12296, '선출': 12297, '쟁탈전': 12298, '댄싱': 12299, '안방': 12300, '몇대': 12301, '진중하다': 12302, '병태': 12303, '스렉': 12304, '친일': 12305, '계집': 12306, '걸끝': 12307, '답니': 12308, '포르코': 12309, '저음': 12310, '승연이': 12311, '사냥꾼': 12312, '개구': 12313, '코프': 12314, '이불': 12315, '월스트리트': 12316, '멋졋음': 12317, '털': 12318, '딸아이': 12319, '눈시울': 12320, '꿀벌': 12321, '합성': 12322, '킬킬': 12323, '노쇄': 12324, '포르노그라피': 12325, '궁궐': 12326, '저해': 12327, '곽부성': 12328, '줫다': 12329, '앳된': 12330, '한자': 12331, '깨물다': 12332, '숨졸': 12333, '거금': 12334, '닌깐': 12335, '려니': 12336, '김재덕': 12337, '못때': 12338, '긴왤케': 12339, '산낙지': 12340, '코닌': 12341, '라시오': 12342, '마이애미': 12343, '어벤져스': 12344, '휩쓸다': 12345, '린듯': 12346, '심층': 12347, '민정': 12348, '여자아이': 12349, '히스레져': 12350, '비견': 12351, '휩싸이다': 12352, '절말': 12353, '쪽국': 12354, '테잎': 12355, '울었더랬다': 12356, '바이올린': 12357, '상전': 12358, '빈틈': 12359, '알씨': 12360, '말종': 12361, '잇엇슴다': 12362, '굿일': 12363, '젤로': 12364, '퍼트': 12365, '시들시들하다': 12366, '그래비티': 12367, '영화제작사': 12368, '비강': 12369, '엮어': 12370, '그리샴': 12371, 'ㅁㅋㅋ': 12372, '투캅스': 12373, '신애': 12374, '김예림': 12375, '속보': 12376, '유진': 12377, '폴포츠': 12378, '뿐폴': 12379, '눈물샘': 12380, '개쩜': 12381, '봄그': 12382, '소스케': 12383, '윰': 12384, '루란걸': 12385, '전액': 12386, '성량': 12387, '꽥꽥': 12388, '기린': 12389, '이광수': 12390, '능력자': 12391, '이선': 12392, '민지': 12393, '핑': 12394, '한평생': 12395, '사고뭉치': 12396, '눌물': 12397, '현수': 12398, '코코몽': 12399, '카스': 12400, '라민': 12401, '시에라': 12402, '하들리': 12403, '구매': 12404, 'ㅠㅅㅠ': 12405, '숙명': 12406, '타계': 12407, '역정': 12408, '어법': 12409, '심즈': 12410, '클로즈업': 12411, '블': 12412, '한희정': 12413, '거짓말쟁이': 12414, '갉다': 12415, '헤어지자': 12416, '불사조': 12417, '독창': 12418, '상극': 12419, '황정음': 12420, '류수영': 12421, '미녀와야수': 12422, '포션': 12423, '올바르다': 12424, '선곡': 12425, '진짜재밋': 12426, '이경이': 12427, '셋트메뉴': 12428, '가타카': 12429, '불닭': 12430, '악화시키다': 12431, '글래스톤베리': 12432, '해프닝': 12433, 'ㅋㄷㅋㄷ': 12434, '일대': 12435, '대담하다': 12436, '하비에르': 12437, '바르뎀': 12438, '금세기': 12439, '실었는진': 12440, '노트': 12441, '정원': 12442, '유토피아': 12443, '별룹니': 12444, '자유분방하다': 12445, '집시': 12446, '웨딩싱어': 12447, '무식': 12448, '뉴튼': 12449, '기아': 12450, '금치': 12451, '몸서리': 12452, '다물다': 12453, '트집': 12454, '대접': 12455, '개차반': 12456, '공군': 12457, '군수': 12458, '미비하다': 12459, '무섭딘': 12460, '애매모호하다': 12461, '한선': 12462, '찬성': 12463, '이영': 12464, '똥꼬': 12465, '정지': 12466, '가세': 12467, '욯': 12468, '화색': 12469, '여론': 12470, '상관관계': 12471, '숀팬': 12472, '조성하': 12473, '구체': 12474, '경선': 12475, '쉰': 12476, '멜라': 12477, '라티': 12478, '레지나': 12479, '홀': 12480, '줄어들다': 12481, '펑샤': 12482, '오강': 12483, '잠자코': 12484, '김영민': 12485, 'ㅜㅜㅜㅜㅜㅜㅜ': 12486, '강석': 12487, '루터': 12488, '평등하다': 12489, '가다가': 12490, '탈선': 12491, '엎어지다': 12492, '문서': 12493, '살인씬': 12494, '친절': 12495, '뻐기다': 12496, '상회': 12497, '내려놓다': 12498, '우정은': 12499, '사형제': 12500, '노총각': 12501, '순진무구': 12502, '어나': 12503, '오태식': 12504, '미녀삼총사': 12505, '낭만자객': 12506, '핑도네': 12507, '배필': 12508, '오스먼트': 12509, '머릿': 12510, '흐믓하': 12511, '다시없다': 12512, '남우': 12513, '읔': 12514, '케보키언': 12515, '쫙깔렷': 12516, '뒤쪽': 12517, '읅': 12518, '포에버': 12519, '천조국': 12520, '가내': 12521, '변모': 12522, '동키': 12523, '조수정': 12524, '이빨': 12525, '말쭉': 12526, '잭키': 12527, '정직하다': 12528, '중량': 12529, '세기말': 12530, '룸바': 12531, '보세욬': 12532, '윤회사상': 12533, '단순화': 12534, '꼬박': 12535, '유니버스': 12536, '방귀만': 12537, '잔뜩뀌': 12538, '부터의': 12539, '메우다': 12540, '끝냇': 12541, '꼳': 12542, '매달': 12543, '라라': 12544, '안듬': 12545, '혐한': 12546, '주룩': 12547, '김성균': 12548, '꼬부라지다': 12549, '혓소리': 12550, '나이트': 12551, '공룡대탐험': 12552, '나제': 12553, '원수': 12554, '유희왕': 12555, '더군다나': 12556, '구출': 12557, '파라다이스목장': 12558, '일전': 12559, '킥킥': 12560, '점단': 12561, '샛기들': 12562, '잘봣으': 12563, '소용': 12564, '넼': 12565, '마스다': 12566, 'ㅠㅠㅜㅠ': 12567, '생소하다': 12568, '십중팔구': 12569, '조앙': 12570, '집대성': 12571, '힛걸': 12572, '모레츠': 12573, '심장마비': 12574, '어머님': 12575, '폼': 12576, '수목장': 12577, '같아욤': 12578, '툭': 12579, '혈': 12580, '혈관': 12581, '김희로': 12582, '꾸리': 12583, '시외': 12584, '싱황': 12585, '꿈햇': 12586, '마물': 12587, '아숩다': 12588, '이수정': 12589, '젓통': 12590, '황은정': 12591, '쇼와시대': 12592, '잼깄했눈뎅': 12593, '백선엽': 12594, '게맛살': 12595, '윖': 12596, '할하': 12597, '생산': 12598, '먹고다': 12599, '로고': 12600, '서언': 12601, '서준이': 12602, '볼맛': 12603, '간접': 12604, '흠결': 12605, '능욕': 12606, '오경': 12607, '주목할만하다': 12608, '서영': 12609, '사자후': 12610, '셋팅': 12611, '군생활': 12612, '크림': 12613, '퀸카': 12614, '물벼락': 12615, '가속': 12616, '죽어뿌': 12617, '우주전쟁': 12618, '톰때문': 12619, '레어템': 12620, '템': 12621, '이화여고': 12622, '지구과학': 12623, '할숭': 12624, '장민': 12625, '남용': 12626, '톰크로즈': 12627, '오연': 12628, '험난하다': 12629, '박재정': 12630, '독재정': 12631, '자알': 12632, '벼': 12633, '지역감정': 12634, '공인': 12635, '개월': 12636, '스카이': 12637, '인주': 12638, '알음': 12639, '소리내다': 12640, '고려': 12641, '오창석': 12642, '중도하차': 12643, '쯪쯔': 12644, '둘이서': 12645, '에스프레소': 12646, '건졌넹': 12647, '가울': 12648, '싶넹': 12649, 'ㅋㅋㅋㅋㅋㅋㅋㅋㅋㅋㅋㅋㅋㅋㅋㅋㅋㅋㅋㅋㅋㅋㅋㅋㅋㅋㅋㅋㅋㅋㅋㅋ': 12650, '쒰더': 12651, '허울': 12652, '스키니진': 12653, '드라이': 12654, '하이힐': 12655, '전기톱': 12656, '망고': 12657, '상남자': 12658, '건강하다': 12659, '것땜': 12660, '담날': 12661, '쩌네': 12662, '오마주': 12663, '특수분장': 12664, '울트라맨': 12665, '이명': 12666, '평인': 12667, '망국': 12668, '태현': 12669, '조로': 12670, '모나리자': 12671, '없슴': 12672, '박민영': 12673, '점더': 12674, '퍼니셔': 12675, '협소': 12676, '풋내': 12677, '지방': 12678, '학부': 12679, '신격화': 12680, '물산장려운동': 12681, '거뜬하다': 12682, '조잡': 12683, '복슴때': 12684, '테츠': 12685, '송희진': 12686, '생난리': 12687, '생쇼': 12688, '성우란': 12689, '벤제마': 12690, '맞춤법': 12691, '미개': 12692, '뒷골목': 12693, '꺼버렷다': 12694, '장률': 12695, '수원화성': 12696, '한강': 12697, '배다리': 12698, '고종': 12699, '외척': 12700, '세도정치': 12701, '민비': 12702, '국뽕': 12703, '카니': 12704, '스탄': 12705, '이상우': 12706, '궁굼하': 12707, '형극': 12708, '강가': 12709, '은부': 12710, '애하': 12711, '힘드렀음': 12712, '읿음': 12713, 'ㅠㅠㅠㅠㅠㅠㅠㅠㅠㅠㅠㅠㅠㅠㅠㅠㅠㅠㅠㅠㅠㅠ': 12714, '간극': 12715, '사채': 12716, '업자': 12717, '치열': 12718, '점랃한다': 12719, '듯해': 12720, '호타로': 12721, '전기영': 12722, '거람': 12723, '꽃미남': 12724, '박진희': 12725, '의지력': 12726, '회색': 12727, '줄무늬': 12728, '늬': 12729, '잼잌': 12730, '연극배우': 12731, '종편': 12732, '생방송': 12733, '예상외': 12734, '케익': 12735, '오덕': 12736, '포트': 12737, '하모니': 12738, '필로미나': 12739, '덴치': 12740, '신앙심': 12741, '클린': 12742, '쿨': 12743, '가소': 12744, '엌': 12745, '괜찬았': 12746, '대륙': 12747, '무언극': 12748, '캔슬되': 12749, '케네디': 12750, '적발': 12751, '토시': 12752, '니야': 12753, '청렴': 12754, '네이팜': 12755, '예견': 12756, '살인범이다': 12757, '셔틀': 12758, '카오루': 12759, '히카루': 12760, '덕심': 12761, '음질': 12762, '지성': 12763, '공구': 12764, '머리카락': 12765, '키로': 12766, '보넹': 12767, '한서진': 12768, '양임': 12769, '난창': 12770, '일인자': 12771, '허파': 12772, '통디': 12773, '비지': 12774, '가절': 12775, '땐꽤': 12776, '버렷': 12777, '소망': 12778, '피더': 12779, '느꼇구': 12780, '힌번보세': 12781, '밟힌다': 12782, '성당': 12783, '틸다': 12784, '월량': 12785, '적심': 12786, '가늘다': 12787, '오우': 12788, '유인촌': 12789, '이스라엘': 12790, '썽': 12791, '어두컴컴하다': 12792, '무비스': 12793, '개략': 12794, '삼초': 12795, '요코': 12796, '허약하다': 12797, '폭행': 12798, '납': 12799, '몰이': 12800, '지하방': 12801, '분모': 12802, '꽤볼': 12803, '어쨋거': 12804, '장현우': 12805, '두껍다': 12806, '연예': 12807, '듯함': 12808, '투지': 12809, '구형': 12810, '복임': 12811, '거북목': 12812, '절용': 12813, '쵝오쵝': 12814, '으스스하다': 12815, '페이스북': 12816, '마녀사냥': 12817, '갈리': 12818, '육사': 12819, '하고가': 12820, '언덕': 12821, '청각': 12822, '물리학자': 12823, '뛰엄뛰엄봄': 12824, '틸디': 12825, '입덕': 12826, '구현': 12827, '천상': 12828, '신성하다': 12829, '노련하다': 12830, '디지털': 12831, '열광하다': 12832, '의전': 12833, '느릿하다': 12834, '신경안': 12835, '거탑': 12836, '처철': 12837, '유복하다': 12838, '새드앤딩': 12839, '조인성': 12840, 'ㅛ': 12841, 'ㅋㅋㅋㅋㅋㅋㅋㅋㅋㅋㅋㅋㅋㅋㅋ': 12842, '음란하다': 12843, '거대': 12844, '라며': 12845, '도출': 12846, '영역': 12847, '수요일': 12848, '목요일': 12849, '보게됫': 12850, '향우': 12851, '지탄': 12852, '노릇': 12853, '온종일': 12854, '짜쯩나': 12855, '허접스럽다': 12856, '일지매': 12857, '분하다': 12858, '멌': 12859, '도피': 12860, '충고': 12861, '점용': 12862, '박경림': 12863, '필승': 12864, '텔': 12865, '산악': 12866, '동작': 12867, '슬로우모션': 12868, '허용': 12869, '고은정': 12870, '강성재': 12871, '좀별루': 12872, '어처구니없이': 12873, '천해': 12874, '김병만': 12875, '켜지다': 12876, '바닷가': 12877, '혼돈': 12878, '올린다': 12879, '캠': 12880, '상일': 12881, '깨우치다': 12882, '똘짓': 12883, '힘주다': 12884, '에게까지': 12885, '파이트클럽': 12886, '보편성': 12887, '한나라': 12888, '또랑또랑하다': 12889, '북미': 12890, '작일': 12891, '총격씬': 12892, '발각': 12893, '팬클럽': 12894, '박시은': 12895, '폭겐씬': 12896, '장하다': 12897, '백윤식': 12898, '절봉': 12899, '봉미': 12900, '온도': 12901, '도인': 12902, '진범': 12903, '하이바라': 12904, '이상하': 12905, '개준': 12906, '유정': 12907, '개황': 12908, '길어지다': 12909, '반역': 12910, '코리아': 12911, '절러잼써': 12912, '자초': 12913, '할갑다': 12914, '밋엇어': 12915, '기시감': 12916, '통근': 12917, '상함': 12918, '월전': 12919, '말귀': 12920, '지반': 12921, '재민': 12922, '대하드라마': 12923, '광개토태왕': 12924, '불멸의이순신': 12925, '치프': 12926, '게재': 12927, '심해': 12928, '밧데리': 12929, '설연휴': 12930, '왜케또': 12931, '징징': 12932, '하희라': 12933, '찡찡거리다': 12934, '적정': 12935, '하내': 12936, '진지희': 12937, '코치': 12938, '실천': 12939, '나나': 12940, '카바': 12941, '나잇': 12942, '여중생': 12943, 'ㄱㅇㅅ': 12944, '환상특급': 12945, '가정부': 12946, '핸폰': 12947, '김태평': 12948, '악덕': 12949, '여리고': 12950, '구글': 12951, '타이거': 12952, '버니': 12953, '카이지': 12954, '포맷': 12955, '블로거': 12956, '차이나다': 12957, '은교': 12958, '일본어': 12959, '치중': 12960, '알랭들롱': 12961, '동떨어지다': 12962, '로군요': 12963, '갔슴': 12964, '오드리': 12965, '헵번': 12966, '이하임': 12967, '큰조카': 12968, '훌륭': 12969, '비틀즈': 12970, '맘에듭니': 12971, '오뉴월': 12972, '어거스트': 12973, '러쉬': 12974, '잼때': 12975, '태극기': 12976, '해리스': 12977, '린스': 12978, '토우': 12979, '원츄': 12980, '수잔서랜든': 12981, '탭댄스': 12982, '명동': 12983, '이벤트': 12984, '운전대': 12985, '선반': 12986, '이태리': 12987, '미치광이': 12988, '윤재아': 12989, '명분': 12990, '길거리': 12991, '겟기': 12992, '헝': 12993, '루시퍼': 12994, '굵다': 12995, '고우영': 12996, '좌': 12997, '가공': 12998, '해라잉': 12999, '쌩얼': 13000, '뽀얗다': 13001, '터닝': 13002, '이제일': 13003, '세도': 13004, '수수하다': 13005, '엔간하다': 13006, '권지용': 13007, '하류': 13008, '조조': 13009, '개돌': 13010, '홀몸': 13011, '할아범': 13012, '초음파': 13013, '반사': 13014, '피구': 13015, '통키': 13016, '제아': 13017, '날뛰다': 13018, '엇습': 13019, '렘수면': 13020, '용어': 13021, '숙지': 13022, '꿈속': 13023, '탄광': 13024, '때삐': 13025, '부끕럽다': 13026, '음악감독': 13027, '장형윤': 13028, '성격장애': 13029, '마주': 13030, '살펴보다': 13031, '낮설다톰': 13032, '설다': 13033, '극지': 13034, '선보이다': 13035, '비꼬다': 13036, '리얼스틸': 13037, '인위': 13038, '대체로': 13039, '설킨듯': 13040, '재애애': 13041, 'ㅐㅐㅐ': 13042, '앰': 13043, '캐스트': 13044, '미니미': 13045, '놨구': 13046, '구본승': 13047, '추방': 13048, '비만': 13049, '브러더스': 13050, '씹밸붕': 13051, '총쏘는씬': 13052, '낚겼': 13053, '시계': 13054, '임펙트': 13055, '운빨': 13056, 'ㅋㅌㅋ': 13057, '바운더리': 13058, '유생': 13059, '박일': 13060, '버들': 13061, '신삼국': 13062, '망처': 13063, '윌리엄': 13064, '순화': 13065, '스으으읍얼': 13066, '최배달': 13067, '느낌표': 13068, '이주승': 13069, '골다': 13070, '괸찮은데': 13071, '아공': 13072, '뻴': 13073, '분홍색': 13074, '무자식': 13075, '상팔자': 13076, '고속': 13077, '혹성탈출': 13078, '몽키': 13079, '로군': 13080, '트랜디': 13081, '멀티': 13082, '소용없다': 13083, '알피': 13084, '독재': 13085, '열렬하다': 13086, '심리전': 13087, '마츠마': 13088, '사양': 13089, '도축': 13090, '썅': 13091, '피곤': 13092, '틈틈': 13093, '키스씬': 13094, '정교하다': 13095, '랍시고': 13096, '민좆': 13097, '파쇼': 13098, '좌좀': 13099, '주어': 13100, '소송': 13101, '은하': 13102, '김준희': 13103, '십자가': 13104, '프랜차이즈': 13105, '부끄러움': 13106, '진미': 13107, '장지환': 13108, '묭': 13109, '왜봄': 13110, '칭구들': 13111, '가르침': 13112, '전보': 13113, '명석하다': 13114, '배고프다': 13115, '치밀': 13116, '난동': 13117, '격전': 13118, '혼내다': 13119, '소풍': 13120, '발표': 13121, '어젯밤': 13122, '을지로': 13123, '노가리': 13124, '복부': 13125, '손나은': 13126, '보랰': 13127, '년회': 13128, '수상작': 13129, '국수': 13130, '대처': 13131, '물러나다': 13132, '화필': 13133, '낙제': 13134, '에포닌': 13135, '장발장': 13136, '자베르': 13137, '관할': 13138, '기쁘다': 13139, '염전': 13140, '풍습': 13141, '골수팬': 13142, '배설물': 13143, '분출구': 13144, '솟구치다': 13145, '창민': 13146, '모모': 13147, '츠마부키': 13148, '카렐': 13149, '발현': 13150, '나단': 13151, '하이재킹': 13152, '왕도': 13153, '소행': 13154, '복면': 13155, '화무십일홍': 13156, '열흘': 13157, '연발': 13158, '방광': 13159, '억제': 13160, '진력': 13161, '양철북': 13162, '바램유바램유': 13163, '비구니': 13164, '명단': 13165, '근간': 13166, '매진': 13167, '춤작': 13168, '굿샷': 13169, '부옇다': 13170, '환하다': 13171, '스크린쿼터': 13172, '코미': 13173, '딬': 13174, '춤춘닼': 13175, '섴': 13176, '시발': 13177, '비트박스': 13178, '추억쩌': 13179, '어쩃': 13180, '다한': 13181, '김문옥': 13182, '매듭': 13183, '초후': 13184, '쌍욕': 13185, '나가요': 13186, '잡지': 13187, '극소': 13188, '수니': 13189, '낄낄': 13190, '미니어처': 13191, '모래': 13192, '유성우': 13193, '이륙': 13194, '생도': 13195, '미토': 13196, '적성': 13197, '합리': 13198, '강서연': 13199, '무뇌아': 13200, '아네트베닝': 13201, '홍여진': 13202, '스승의날': 13203, '맴돌다': 13204, '오도바이': 13205, '날아다니다': 13206, '간파': 13207, '청각장애': 13208, '김지은': 13209, '예명': 13210, '탄하': 13211, '이지훈': 13212, '러브러브': 13213, '친한친구': 13214, '이남주': 13215, '므이': 13216, '기막히다': 13217, '악용': 13218, '폴리스스토리': 13219, '믈': 13220, '하녀': 13221, '모드': 13222, '긴장도': 13223, '설령': 13224, '편린': 13225, '쓰렉이얌': 13226, '애프터어스': 13227, '까불다': 13228, '지중해': 13229, '신속하다': 13230, '빔': 13231, '벤더스': 13232, '북': 13233, '코메': 13234, '뻥뻥': 13235, '천명관': 13236, '소설가': 13237, '풍요': 13238, '태극권': 13239, '임완': 13240, '아코디언': 13241, '음색': 13242, '캐빈': 13243, '먹이다': 13244, '레이스': 13245, '멕라렌팀': 13246, '흰색': 13247, '빨강': 13248, '말보로': 13249, '마킹': 13250, '머신': 13251, '모터스포츠': 13252, '동경대': 13253, '들고나다': 13254, '잼있슴다': 13255, '맛집': 13256, '근사하다': 13257, '씨엡': 13258, '밑바탕': 13259, '염두': 13260, '찬송가': 13261, '전립선': 13262, '체조': 13263, '판이하다': 13264, '못내': 13265, '데보라': 13266, '얜': 13267, '민수만': 13268, '껍': 13269, '노하우': 13270, '전수': 13271, '농사': 13272, '본아이덴티티': 13273, '뉴하프': 13274, '란걸': 13275, '채식': 13276, '출동': 13277, '가흥': 13278, '롹': 13279, '최정우': 13280, '케이비에스': 13281, '보태': 13282, '고유': 13283, '태지': 13284, '그랴': 13285, '해주시': 13286, '함보': 13287, '춘화': 13288, '윤찬영': 13289, '대대': 13290, '언데드': 13291, '반의어': 13292, '영화각본': 13293, '팟팅': 13294, '특색': 13295, '협상': 13296, '오마이갓': 13297, '못밌겠': 13298, '퀄리티면': 13299, '회심': 13300, '초창': 13301, '가대': 13302, '뻑하': 13303, '연구원': 13304, '얌전이': 13305, '미쳣': 13306, '꽃남': 13307, '판본': 13308, '무간': 13309, '크래쉬': 13310, '시공': 13311, '카드게임': 13312, '잉거': 13313, '엮어지': 13314, '김신': 13315, '유경': 13316, '로다주': 13317, '초밥': 13318, 'ㅎㅋㅋㅋㅋㅋㅋㅋㅋㅋ': 13319, '샘김': 13320, '오만석': 13321, '타의': 13322, '추종': 13323, '불허': 13324, '좌익': 13325, '깽깽': 13326, '낚여보': 13327, '잎': 13328, '서인철': 13329, '집사': 13330, '자네': 13331, '엔젤아이즈': 13332, '즉시': 13333, '낙원': 13334, '식품': 13335, '여직원': 13336, '보스': 13337, '투잡': 13338, '류근지': 13339, '구차': 13340, '잘나오다': 13341, '팩': 13342, '집어치우다': 13343, '좀처': 13344, '대오': 13345, '시기심': 13346, '욕햇': 13347, '도모': 13348, '페더맨': 13349, '핑크색': 13350, '폐': 13351, '오지호': 13352, '국회': 13353, '참석': 13354, '유족': 13355, '마이크': 13356, '어리광': 13357, '렌스': 13358, '멜릭': 13359, '심호': 13360, '베인': 13361, '황금곰상': 13362, '소비': 13363, '머릿수': 13364, '엇다': 13365, '정정당당하다': 13366, '상금': 13367, '배겨': 13368, '노미네이트': 13369, '브레이': 13370, '키친': 13371, '홍해': 13372, '조그마하다': 13373, '톰과제리': 13374, '카툰': 13375, '우월하다': 13376, '대리인': 13377, '아담샌들러': 13378, '르누아르': 13379, '무협소설': 13380, '대인': 13381, '마광수': 13382, '어쩌다가': 13383, '고령': 13384, '하비': 13385, '덴트': 13386, '때뮨': 13387, '한지훈': 13388, '강윤': 13389, '어로': 13390, '사오다': 13391, '으으윽': 13392, '월일': 13393, '일게이': 13394, '프란떠날때': 13395, '페시': 13396, '기와': 13397, '너저분하다': 13398, '포병': 13399, '포탄': 13400, '못듬': 13401, '말레피센트': 13402, '유리보': 13403, '노처녀': 13404, '버프': 13405, '사지': 13406, '평택': 13407, '조난': 13408, '실의': 13409, '벨소리': 13410, '모던보이': 13411, '몰살': 13412, '마츠야마켄이치': 13413, '김기리': 13414, '라울': 13415, '테두리': 13416, '파이': 13417, '임진강': 13418, '코끝': 13419, '오오오': 13420, '권종': 13421, '퍼레이드': 13422, 'ㅎㅎㄹ': 13423, '하의': 13424, '변금련': 13425, '쪼매날때': 13426, '월화': 13427, '말미': 13428, '원만하다': 13429, '나츠오': 13430, '담임': 13431, '학급': 13432, '성비': 13433, '처발처': 13434, '발해': 13435, '히드라': 13436, '없이꼬우또꼬우': 13437, '회차': 13438, '마네킨': 13439, '전시': 13440, '백화점': 13441, '은공': 13442, '블리트': 13443, '뿌뜻하': 13444, '땜시': 13445, '리하': 13446, '골골': 13447, '모에': 13448, '득': 13449, '심은경': 13450, '제때': 13451, '고어무비': 13452, '대통': 13453, '동구': 13454, '어림': 13455, '어치': 13456, '탄사': 13457, '매스': 13458, '꽤갠찮': 13459, '당가': 13460, '시뮬레이터': 13461, '출력': 13462, '문구': 13463, '홍종현': 13464, '텔레토비': 13465, '진지': 13466, '잭니콜슨': 13467, '텍사스': 13468, '레인저스': 13469, '박찬호': 13470, '논리성': 13471, '정규': 13472, '오로라공주': 13473, '네스트': 13474, '알콩달콩': 13475, '강약': 13476, '두르다': 13477, '부쉬': 13478, '아마존': 13479, '아가페': 13480, '씨앗': 13481, '스파이키드': 13482, '몽상가': 13483, '보러갈껀데': 13484, '오케스트라': 13485, '닥본사': 13486, '달관': 13487, '장거리': 13488, '자살클럽': 13489, '모태솔로': 13490, '식탁보': 13491, '여의도': 13492, '헐벗': 13493, '엮으려': 13494, '마랏': 13495, '제안': 13496, '황산벌': 13497, '비웃다': 13498, '화차': 13499, '몸부림': 13500, '지속': 13501, '음흉하다': 13502, '장기매매': 13503, '수백': 13504, '시합': 13505, '개과천선': 13506, '퍼머': 13507, '종대': 13508, '이뭐병': 13509, '앗': 13510, 'ㄷㄱ': 13511, '딛너버슷딛': 13512, '정소민': 13513, '는게': 13514, '원티드': 13515, '솔트': 13516, '툼레이더': 13517, '가신': 13518, '소심': 13519, '자단': 13520, '똘이장군': 13521, '신참': 13522, '마켓': 13523, '사이보그': 13524, '명비': 13525, '닥터': 13526, '삼고': 13527, '결합': 13528, '트럭': 13529, '박현진': 13530, '거미공포증': 13531, '맹자': 13532, '굶주림': 13533, '이리저리': 13534, '무뎌': 13535, '고라파덕': 13536, '길가': 13537, '지갑': 13538, '직결': 13539, '지하': 13540, '공중전화': 13541, '벌벌': 13542, '통화': 13543, '도장': 13544, '우뢰': 13545, '소취': 13546, '거창': 13547, '파운드': 13548, '흔들다': 13549, '지놈': 13550, '방계': 13551, '왕위': 13552, '김태우': 13553, '모던': 13554, '스포츠': 13555, '샬롯': 13556, '갱스부르': 13557, '끓이다': 13558, '마일리지': 13559, '웨컴': 13560, '동막골': 13561, '접기': 13562, '유스케': 13563, '키무': 13564, 'ㅠㅠㅠㅠㅠㅠㅠㅠㅠㅠㅠㅠㅠㅠㅠ': 13565, '착상': 13566, '고향이': 13567, '인국': 13568, '올해쵝오': 13569, '불금': 13570, '괴상하다': 13571, '미스터리물': 13572, '오가다': 13573, '번영': 13574, '검색어': 13575, '간통': 13576, '하급': 13577, '잡아먹다': 13578, '궁리': 13579, '우주선': 13580, '열성': 13581, '팩임돠': 13582, '유재석': 13583, '퐈이': 13584, '재밋서': 13585, '심각': 13586, '소시오패스': 13587, '어여': 13588, '레일': 13589, '마개': 13590, '잼업': 13591, '마이키': 13592, '산꼭대기': 13593, '오정세': 13594, '띤': 13595, '숨통': 13596, '밧줄': 13597, '옭아매다': 13598, '본방송': 13599, '어쩐': 13600, '거누': 13601, '베리만': 13602, '우웅': 13603, '호실': 13604, '장인정신': 13605, '비즈니스': 13606, '잘엮': 13607, '장인': 13608, '잼밌': 13609, '호스트': 13610, '운동권': 13611, '유니버셜': 13612, '픽쳐스': 13613, '크로스오버': 13614, '확정': 13615, '프랑켄슈타인': 13616, '늑대인간': 13617, '투명인간': 13618, '었습니': 13619, '구의': 13620, '배경인': 13621, '빅픽처': 13622, '물리': 13623, '팔자주름': 13624, '가다듬다': 13625, '시원찮다': 13626, '콘티': 13627, '특촬물': 13628, '발매': 13629, '허덕이다': 13630, '괜사': 13631, '썬오브비칰': 13632, '루씨': 13633, '발렌티나': 13634, '캬츄': 13635, '문신': 13636, '양익준': 13637, 'ㅋㅋㅋㅋㅋㅋㅋㅋㅋㅋㅋㅋㅋㅋㅋㅋㅋㅋㅋㅋㅋㅋㅋㅋㅋㅋㅋㅋㅋㅋㅋㅋㅋㅋㅋㅋㅋ': 13638, '일인': 13639, '사무관': 13640, '방언': 13641, '낯짝': 13642, '방황': 13643, '스노보드': 13644, '경치': 13645, '인대': 13646, '노홍철': 13647, '최강창민': 13648, '영원': 13649, '다솔': 13650, '햇넹': 13651, '글로벌': 13652, '해당': 13653, '엄태웅': 13654, '패러디영화': 13655, 'ㄸ': 13656, '흡혈귀': 13657, '같이만': 13658, '졸라재밋': 13659, '내나라': 13660, '기병': 13661, '악화': 13662, '규': 13663, '남씨': 13664, '통합': 13665, '세력': 13666, '떼돈버': 13667, '떼놈': 13668, '키찬': 13669, '재미잇엇어': 13670, '재밋더': 13671, '겸': 13672, '완전채': 13673, '홍정희': 13674, '나신': 13675, '다독': 13676, '일판': 13677, '장수원': 13678, '영화편집': 13679, '희로애락': 13680, '노부모': 13681, '급변': 13682, '램': 13683, '병헌': 13684, '산자': 13685, '의기': 13686, '투합': 13687, '모태': 13688, 'ㅇㅈㄹ': 13689, '다행하다': 13690, '마음대로': 13691, '화소': 13692, '변호인': 13693, '분통': 13694, '수명': 13695, '로스트': 13696, '관음': 13697, '분출': 13698, '피폐': 13699, 'ㅁㅈㅎ': 13700, '잡침': 13701, '상표': 13702, '꼽음': 13703, '풍년': 13704, '유란': 13705, '독수리': 13706, '돗': 13707, '수리': 13708, '볼링': 13709, '콜롬바인': 13710, '이병우': 13711, '떡잎': 13712, '백원': 13713, '천둥': 13714, '네일': 13715, '샵': 13716, '파리스': 13717, '만꼭': 13718, '주름': 13719, '일링': 13720, '으이': 13721, '영화목록': 13722, '경박하다': 13723, '화씨': 13724, '싱크로': 13725, '시크릿': 13726, '김정화': 13727, '송선미': 13728, '여행사': 13729, '워커': 13730, '파울로': 13731, '코엘료': 13732, '도깨비불': 13733, '메리다': 13734, '다짜고짜': 13735, '구절': 13736, '벌이': 13737, '야설': 13738, '짬밥': 13739, '도조': 13740, '합계': 13741, '화도': 13742, '개암': 13743, '퍼펙트게임': 13744, '길예르모': 13745, '다웠음': 13746, 'ㅇㅇㅇㅇ': 13747, '주야': 13748, '발의': 13749, '피임': 13750, '마미': 13751, '혐영': 13752, '여비': 13753, '김선화': 13754, '무가': 13755, '음양사': 13756, '요동치다': 13757, '소용돌이': 13758, '전파': 13759, '브레드': 13760, '왕국': 13761, '주르륵': 13762, '속도': 13763, '과일': 13764, '아른': 13765, '귓가': 13766, '슈파슈파슈파슈': 13767, '슬펏어': 13768, '오후': 13769, '연재': 13770, '열기': 13771, '브리트니': 13772, '스피어스': 13773, '꼇': 13774, '대런': 13775, '애로': 13776, '노프': 13777, '리다': 13778, '사단': 13779, '텐': 13780, '심리학': 13781, '섭': 13782, '짱재밋엇어': 13783, '악령': 13784, '파라노말액티비티': 13785, '헤리포터': 13786, '오잉': 13787, '창립': 13788, '양해': 13789, '아벨': 13790, '폐기': 13791, '써니': 13792, '안질리다': 13793, '아구': 13794, '멘티': 13795, '시오': 13796, '레시': 13797, '움등': 13798, '청담동': 13799, '앨리스': 13800, '역전': 13801, '만루홈런': 13802, '알루미늄': 13803, '백조': 13804, '흑조': 13805, '극히': 13806, '멍덩': 13807, '팝송': 13808, '튜': 13809, '심슨가족': 13810, '웍': 13811, '혈전': 13812, '곧이': 13813, '흥신소': 13814, '냉정하다': 13815, '비급': 13816, '얄': 13817, '차례': 13818, '불순': 13819, '정민형': 13820, '재밋기': 13821, '박준금': 13822, '혼인신고': 13823, '구판': 13824, '쒸레': 13825, '기일': 13826, '써비스': 13827, '타이포그래피': 13828, '승도': 13829, '청승': 13830, '순정만화': 13831, '웹하드': 13832, '대머리': 13833, '준걸': 13834, '타당': 13835, '막눈': 13836, '얍': 13837, '서편제': 13838, '돠흑흑': 13839, '노시': 13840, '에비게일': 13841, '그남자': 13842, '천왕': 13843, '용단': 13844, '쟁': 13845, '요추': 13846, '평가자': 13847, '로빈훗': 13848, '두통': 13849, '미인도': 13850, '김지영': 13851, '고래고래': 13852, '에프': 13853, '피칠갑': 13854, '딜런': 13855, '연가': 13856, '리처드': 13857, '위스퍼': 13858, '황도': 13859, '골리앗': 13860, '홍수': 13861, '준영': 13862, '엇슴': 13863, '페덱스': 13864, '영민': 13865, '대낮': 13866, '대기층': 13867, '나왕': 13868, '임검': 13869, '무작정': 13870, '영진위': 13871, '완료': 13872, '고막': 13873, '민경': 13874, '정확': 13875, '어록': 13876, '프라이': 13877, '피어': 13878, '박종훈': 13879, '참상': 13880, '해양': 13881, '봇': 13882, '드라만': 13883, '병기': 13884, '키워지다': 13885, '달래다': 13886, '홍련': 13887, '통괘': 13888, '급임': 13889, '테닥로즈': 13890, '소식': 13891, '장재': 13892, '임뭣': 13893, '헤프': 13894, '닝': 13895, '심심찮': 13896, '슴가': 13897, '김진태': 13898, '움켜쥐다': 13899, '완죤긍데': 13900, '스반': 13901, '틴물': 13902, '앙꼬없는': 13903, '찐빵': 13904, '큐슈': 13905, '치란': 13906, '가미카제': 13907, '조선인': 13908, '조종사': 13909, '찾아내다': 13910, '닌듯': 13911, '시구': 13912, '보루': 13913, '서툴다': 13914, '옅다': 13915, '아이러니': 13916, '덴마크인': 13917, '사모님': 13918, '수선': 13919, '토오루': 13920, '마이크로': 13921, '발키리': 13922, '푸핫': 13923, '돕기': 13924, '일련': 13925, '연희': 13926, '채연': 13927, '이휘도': 13928, '바리': 13929, '태산': 13930, '수영장': 13931, '모가지': 13932, '하기는': 13933, '선제': 13934, '긴급': 13935, '조치': 13936, '딛다': 13937, '방대하다': 13938, '분분': 13939, '안지': 13940, '보다만': 13941, '아즈미': 13942, '뉴라이트': 13943, '겨를': 13944, '옜날': 13945, '박동수': 13946, '구미호': 13947, '환단고기': 13948, '입셍': 13949, '로랑': 13950, '실검': 13951, '어쩌거': 13952, '바흐': 13953, '치면': 13954, '섀도우': 13955, '콜린스': 13956, '혜교': 13957, '이로': 13958, '밌썰': 13959, '가미': 13960, '극상': 13961, '슬금슬금': 13962, '독립군': 13963, '잔재': 13964, '천박하다': 13965, '비타민': 13966, '추종자': 13967, '런타임': 13968, '소지': 13969, '합법': 13970, '매수': 13971, '처용': 13972, '카메라맨': 13973, '때기': 13974, '꼴봬기싫다': 13975, '진세연': 13976, '박영진': 13977, '주법': 13978, '체재': 13979, '쓰리다': 13980, '아이칼리': 13981, '탑스페샬쇼': 13982, 'ㅎㅎㅎㅎㅎㅎㅎㅎㅎㅎㅎ': 13983, '전날': 13984, '도도하다': 13985, '얼척': 13986, '데려오다': 13987, '애꾿': 13988, '선량하다': 13989, '죽이삘': 13990, '단말': 13991, '프로메테우스': 13992, '신작': 13993, '디었': 13994, '기숙사': 13995, '낙서': 13996, '보탬': 13997, '요다음': 13998, '뵛스': 13999, '검심': 14000, '상편': 14001, '장땡': 14002, '소명': 14003, '선교사': 14004, '취준생들': 14005, '사회생활': 14006, '힝힝': 14007, '아국': 14008, '윈다졸': 14009, '자작': 14010, '헸는데': 14011, '응원가': 14012, '댜큐': 14013, '에세이': 14014, '골룸': 14015, '끈끈': 14016, '귀환': 14017, '의수': 14018, '재밓구': 14019, '본스타': 14020, '순애보': 14021, '임실': 14022, '개탄': 14023, '제시제이': 14024, '한껏': 14025, '부풀리다': 14026, '오리': 14027, '글로리아': 14028, '빵칼': 14029, '왓킨스': 14030, '산동': 14031, '서동요': 14032, '노수람': 14033, '전지전능하다': 14034, 'ㄳ': 14035, '김흥수': 14036, '일상생활': 14037, '배달': 14038, 'ㅋㅋㅋㅋㅋㅋㅋㅋㅋㅋㅋㅋㅋㅋㅋㅋㅋㅋㅋㅋㅋㅋㅋㅋㅋㅋㅋㅋㅋㅋㅋㅋㅋㅋㅋㅋㅋㅋㅋㅋㅋㅋㅋㅋㅋㅋㅋㅋㅋㅋㅋㅋㅋㅋㅋㅋㅋㅋㅋㅋㅋㅋㅋㅋㅋㅋㅋㅋㅋㅋㅋㅋㅋㅋㅋㅋㅋㅋㅋㅋㅋㅋㅋㅋㅋㅋㅋㅋㅋㅋㅋㅋㅋㅋ': 14039, '홍대': 14040, '피플': 14041, '파라노만': 14042, '오분': 14043, '암흑': 14044, '독방': 14045, '마이코': 14046, '도스': 14047, '악순환': 14048, '취소': 14049, '으로의': 14050, '분봄': 14051, '시대극': 14052, '싹수': 14053, '일생': 14054, '난잡': 14055, 'ㅡㅜㅜㅜ': 14056, '여옥': 14057, '현우': 14058, '이뤄지다': 14059, '철운역': 14060, '일화': 14061, '지난날': 14062, '리부팅': 14063, '조선족': 14064, 'ㄴㄴ': 14065, '햇으므니': 14066, '많쩜이므니': 14067, '금융공학': 14068, '지불': 14069, '핸드폰': 14070, '엄창걸': 14071, '킷스이소': 14072, '연수': 14073, '곁가지': 14074, '응급남녀': 14075, '머리색': 14076, '날라리': 14077, '헤라클레스': 14078, '튀어': 14079, '우파': 14080, '극좌': 14081, '주식': 14082, '의처증': 14083, '갵': 14084, '김경탁': 14085, '할리웃': 14086, '일승': 14087, '천기': 14088, '고물': 14089, '소득': 14090, '불황': 14091, '말들엇으': 14092, '백퍼': 14093, '진담': 14094, '손수': 14095, '청소': 14096, '안고': 14097, '무음': 14098, '보람': 14099, '논일': 14100, '밭일': 14101, '로맨싱': 14102, '어드벤처': 14103, '엔딩씬': 14104, '특전팀': 14105, '룹': 14106, '좌충웅돌': 14107, '김창완': 14108, '야자': 14109, '이라크': 14110, '화악': 14111, '디활티팅': 14112, '이우진': 14113, '끊어지다': 14114, '썰렁': 14115, '백과사전': 14116, '자선': 14117, '사업가': 14118, '위나라': 14119, '핫바': 14120, '도민준': 14121, '방영시기': 14122, '얼굴떔': 14123, '자겄데': 14124, '닌텐도': 14125, '레시라무': 14126, '잼있슴': 14127, '선호': 14128, '존엄': 14129, '창피해': 14130, '가소롭다': 14131, '런닝맨': 14132, '눈망울': 14133, '유광수': 14134, '선지': 14135, '아우성': 14136, '믿음': 14137, '보셧': 14138, '기단': 14139, '데이브': 14140, '리드': 14141, '지스토리': 14142, '성경': 14143, '고기잡이': 14144, '노모쇼': 14145, '쁘니': 14146, '말타': 14147, '존멋점': 14148, '지보': 14149, '땔수': 14150, '서지': 14151, '손해배상': 14152, '나루': 14153, '미끼': 14154, '허루내용': 14155, '점박이': 14156, '생태계': 14157, '표면': 14158, '레온': 14159, '쇼크': 14160, '일기': 14161, '퉤': 14162, '따라다니다': 14163, '상감': 14164, '김풍': 14165, '면전': 14166, '글케': 14167, '횡성': 14168, '수설': 14169, '테슨': 14170, '생긴앨': 14171, '아서': 14172, '쪼금': 14173, '희노애락': 14174, '피자': 14175, '민속': 14176, '땅콩': 14177, '똥덩어리': 14178, '양현석': 14179, '스눕': 14180, '워랜': 14181, '커스터': 14182, '나하': 14183, '뻘영화': 14184, '옐로우': 14185, '버드': 14186, '끈질기다': 14187, '끈기': 14188, '태극기휘날리며': 14189, '김선아': 14190, '화음': 14191, 'ㄴㄴㄴㄴㄴ': 14192, '장미희': 14193, '친모': 14194, '탄도': 14195, '크로노스': 14196, '전갈': 14197, '붕괴': 14198, '다혈질': 14199, '구제': 14200, '덩이': 14201, '빡빡이': 14202, '트톡': 14203, '불가항력': 14204, '엉성엉성': 14205, '이수근': 14206, '측': 14207, '풍만하다': 14208, '프로덕션': 14209, '초심': 14210, '북괴': 14211, '버젓이': 14212, '바닷물': 14213, '릭오': 14214, '컬리': 14215, '컬킨': 14216, '거구': 14217, '어설푼': 14218, '탁탁': 14219, '이제훈': 14220, '혹세': 14221, '무민': 14222, '몸둘': 14223, '붅': 14224, '신주쿠': 14225, '방더': 14226, '주보': 14227, '김성은': 14228, '가슴성형': 14229, '십자': 14230, '방기': 14231, '조던': 14232, '한진우': 14233, '쭉욱갑시': 14234, '자주자주': 14235, '단정': 14236, '블럭': 14237, '말론': 14238, '브란도': 14239, '넷': 14240, '워너': 14241, '우하하하': 14242, '아드라': 14243, '불효자': 14244, '정표': 14245, '개망작': 14246, '폭스': 14247, '전술': 14248, '애자': 14249, '몽상': 14250, '태사기': 14251, '대릴한': 14252, '네모': 14253, '각지': 14254, '기구': 14255, '양은': 14256, '방탄복': 14257, '희화': 14258, '앙상블': 14259, '시조': 14260, '미야자키': 14261, '이분': 14262, '블루레이': 14263, '영화평론': 14264, '알토': 14265, '베가스': 14266, '레슬리닐슨': 14267, '비리다': 14268, '프란체스카': 14269, '쫓다': 14270, '스란': 14271, '않았슴다': 14272, '떽떽거리': 14273, '캬악퉤': 14274, '냐옹': 14275, '뮤츠': 14276, '않드네': 14277, '치부': 14278, '위선': 14279, '동참': 14280, '숙희': 14281, '맨친': 14282, '동아시아': 14283, '수석': 14284, '오민석': 14285, '스토머스': 14286, '지하세계': 14287, '피시': 14288, '뮤': 14289, '용돈': 14290, '궁핍하다': 14291, '뤼하': 14292, '시실리': 14293, '아메리카': 14294, '화성': 14295, '방면': 14296, '초강추': 14297, '픽업': 14298, '픽업아티스트': 14299, '조마조마': 14300, '심보': 14301, '스턴트맨': 14302, '금영': 14303, '말던': 14304, '김고은': 14305, '특급': 14306, '버려지다': 14307, '아랑곳': 14308, '누리다': 14309, '연연하다': 14310, '사후세계': 14311, '기보': 14312, '눈배': 14313, '줫나': 14314, '욕처': 14315, '각오': 14316, '유구무언': 14317, '어이구': 14318, '이병': 14319, '현이': 14320, '열망': 14321, '존박': 14322, '성지고': 14323, '기고가': 14324, '앙심': 14325, '동요': 14326, '봉태규': 14327, '유빈': 14328, '구동욱': 14329, '문정왕후': 14330, '행쇼': 14331, '퉁퉁': 14332, '명화극장': 14333, '덕국': 14334, '물탱크': 14335, '빅장씬': 14336, '모큐드라마': 14337, '싸인': 14338, '노오': 14339, '끝내기': 14340, '홍주': 14341, '일영': 14342, '석현': 14343, '아물다': 14344, '조원석': 14345, '개그야': 14346, '잡아끌다': 14347, '불가사의하다': 14348, '밀리터리': 14349, '군소': 14350, '테러리스트': 14351, '진압': 14352, '심청전': 14353, '콩쥐팥쥐': 14354, '랠': 14355, '대왕세종': 14356, '박은빈': 14357, '이스': 14358, '마한': 14359, '퍼즈': 14360, '씽': 14361, '육두문자': 14362, '구자체': 14363, '굶다': 14364, '택하': 14365, '타나토스': 14366, '에쿠': 14367, '가오리': 14368, '놨는': 14369, '브랜든리': 14370, '비키': 14371, '아비게일': 14372, '우애': 14373, '김동욱': 14374, '편두통': 14375, '시원스럽다': 14376, '예컨대': 14377, '이임': 14378, '자라나다': 14379, '곰곰하다': 14380, '반비례': 14381, '덱스': 14382, '바람나다': 14383, '얄밉다': 14384, '뺏을껀다뺏': 14385, '발휘': 14386, 'ㅅㄱ': 14387, '혜원': 14388, '시집': 14389, '다누': 14390, '원제': 14391, '최선정': 14392, '김보경': 14393, 'ㅌㅌ': 14394, '백성': 14395, '핼드': 14396, '뉴하트': 14397, '조재현': 14398, '웨형': 14399, '삶의': 14400, '우열': 14401, '팔방미인': 14402, '비위': 14403, '상대역': 14404, '시인': 14405, '뻗치다': 14406, '맹인': 14407, '행인': 14408, '슈스케': 14409, '팝스타': 14410, '김상경': 14411, '졸이다': 14412, '요인': 14413, '무한대': 14414, '냉동인간': 14415, '벙쪘음': 14416, '모델': 14417, '쿵짝': 14418, '사이클': 14419, '종족': 14420, '최약': 14421, '시적': 14422, '터부': 14423, '베니': 14424, '연아': 14425, '화끈화끈': 14426, '애시': 14427, '주재': 14428, '쿳': 14429, '준수': 14430, '사랑과영혼': 14431, '찍히다': 14432, '젓가락': 14433, '웨인': 14434, '잔류': 14435, '모르모트': 14436, '바람직하다': 14437, '레인': 14438, '아련아련': 14439, '셰퍼트': 14440, '미끈하다': 14441, '격투기': 14442, '빤스': 14443, '라기보단': 14444, '짱이욤': 14445, '베니스영화제': 14446, '박철수': 14447, '랑그': 14448, '빠롤': 14449, '크리스타': 14450, '테렛': 14451, '캐다': 14452, '파파라치': 14453, '느낑': 14454, '중구': 14455, '난방': 14456, '정수라': 14457, '진재영': 14458, '타자': 14459, '디지몬': 14460, '전문용어': 14461, '런스': 14462, '쿠키런': 14463, '냅둘껄': 14464, '아유미': 14465, '철규': 14466, '헨리': 14467, '베로니카': 14468, '이중주': 14469, '나긋나긋': 14470, '속삭이다': 14471, '가위': 14472, '눌': 14473, '외형': 14474, '안드레이': 14475, '덧': 14476, '찢기다': 14477, '자이언츠': 14478, '손아섭': 14479, '우어': 14480, '웡': 14481, '성탄절': 14482, '웃음소리': 14483, '마비': 14484, '윤세아': 14485, '목청': 14486, '김민경': 14487, '바다로': 14488, '고요함': 14489, '평온하다': 14490, '연결고리': 14491, '와이어': 14492, '박근형': 14493, '다날': 14494, '딩': 14495, '질령': 14496, '탈옥': 14497, '단군': 14498, '전후': 14499, '무후': 14500, '거슬러오': 14501, '해진': 14502, '쌩까다': 14503, '오덕후': 14504, '안일': 14505, '염원': 14506, '뎀왜': 14507, '치명': 14508, '버럭버럭': 14509, '촌년': 14510, '지금껏': 14511, '자레드': 14512, '레토': 14513, '안전하다': 14514, '짱짱걸': 14515, '비애': 14516, '껄렁': 14517, '변칙': 14518, '성대모사': 14519, '판매': 14520, '살렵니': 14521, '로사': 14522, '토탈리콜': 14523, '나아': 14524, '가선': 14525, '대대로': 14526, '망은': 14527, '비개': 14528, '연성': 14529, '처지': 14530, '대입': 14531, '폴더': 14532, '코미디언': 14533, '허물': 14534, '라일라': 14535, '쨰려': 14536, '장시간': 14537, '아포': 14538, '뽕똘': 14539, '웅거러': 14540, '귀화': 14541, '뜨라곸': 14542, '구걸': 14543, '걸횽': 14544, '퇴': 14545, '윌비': 14546, '컴백': 14547, '제임스맥어보이': 14548, '그케': 14549, '변경': 14550, '라드': 14551, '그니': 14552, '식욕': 14553, '쯔쯔쯔': 14554, '포지': 14555, '블루': 14556, '난감': 14557, '정경': 14558, '유착': 14559, '검차': 14560, '통랄': 14561, '비인간': 14562, '메이킹': 14563, '눙물': 14564, '친부모': 14565, '버징': 14566, '네이션': 14567, '생사': 14568, '명소': 14569, '곧죽': 14570, '본론': 14571, '석양': 14572, '거뺴곤': 14573, '오스틴': 14574, '강동': 14575, '필욘': 14576, '진상': 14577, '백치': 14578, '쩌는': 14579, '비겁하다': 14580, '미란다': 14581, '리처드슨': 14582, '괜춘': 14583, '하드락': 14584, '데이지': 14585, '벤자민': 14586, '팬임': 14587, '틀림': 14588, '에피': 14589, '시간이동': 14590, '거진': 14591, '이십': 14592, '그까짓': 14593, '선장': 14594, '난장': 14595, '신나요': 14596, '수퍼액션': 14597, '도용': 14598, '옵니다': 14599, '주상욱': 14600, '나탈리': 14601, '일회': 14602, '불로장생': 14603, '서정은': 14604, '다정': 14605, '공모자': 14606, '김성원': 14607, '세진': 14608, '너무잼슴': 14609, '닭털': 14610, '낼때': 14611, '꿀꺽': 14612, '모리코네': 14613, '신디사이저': 14614, '떼창': 14615, '해녀': 14616, '지브리': 14617, '년사': 14618, '주먹구구': 14619, '스칼렛요한슨': 14620, '관영': 14621, '빼': 14622, '스틴버겐': 14623, '투더': 14624, '퓨터': 14625, '필라': 14626, '덷': 14627, '피아': 14628, 'ㅇㅅㅇㅋㅋㅋ': 14629, '크메르루주': 14630, '점령': 14631, '캄보디아': 14632, '프란': 14633, '븍힌': 14634, '경종': 14635, '루팡': 14636, '단비': 14637, '집앞': 14638, '서성': 14639, '스트레인저': 14640, '뉴저지': 14641, '큰소리': 14642, '한없다': 14643, '박초롱': 14644, '아홉': 14645, '엄는': 14646, '개꾸르': 14647, '좌우': 14648, '남부럽다': 14649, '까칠하다': 14650, '마랑': 14651, '짤린거임': 14652, '설설': 14653, '철부지': 14654, '김태식': 14655, '받치다': 14656, '지칭': 14657, '비관': 14658, '굴': 14659, '손때': 14660, '판권': 14661, '젠비': 14662, '호쾌': 14663, '주간아이돌': 14664, '떼쟁이': 14665, '번치': 14666, '형아': 14667, '배경음': 14668, '재일교포': 14669, '개죽이': 14670, '크래딧': 14671, '스타뎀': 14672, '게임광': 14673, '고가': 14674, '소야': 14675, '하늘가': 14676, '이스터섬': 14677, '칠레': 14678, '나일': 14679, '막차팔': 14680, '라팔': 14681, '숀코네리': 14682, '웽크': 14683, '깜빡': 14684, '사진가': 14685, '몬가모': 14686, '합체': 14687, '물감': 14688, '스파이크': 14689, '매질': 14690, '발걸음': 14691, '두려움': 14692, '변천사': 14693, '힌번씩': 14694, '추신수': 14695, '성지순례': 14696, '교민': 14697, '곽경택': 14698, '외계생명체': 14699, '기생물': 14700, '외계생물': 14701, '리콜': 14702, '반값': 14703, '노숙자': 14704, '뉴스데스크': 14705, '뚱녀': 14706, '꺼버렷음': 14707, '순다': 14708, '넌전': 14709, '숭산': 14710, '스티': 14711, '자크': 14712, '치우치다': 14713, '싹트다': 14714, '편중': 14715, '주역': 14716, '밀레니엄': 14717, '스타트': 14718, '스페이스': 14719, '샤이닝': 14720, '엔터테인먼트': 14721, '무드란': 14722, '러블': 14723, '은영': 14724, '업슴': 14725, '한때': 14726, '퀄러티': 14727, '비례': 14728, '천제': 14729, '이태백': 14730, '흠씬': 14731, '오타쿠': 14732, '감수': 14733, '소복': 14734, '흑막': 14735, '청소부': 14736, '이서': 14737, '아파트': 14738, '강퇴': 14739, '장황하다': 14740, '절규': 14741, '개핵노댐': 14742, '쪠연': 14743, '트로피': 14744, '상대방': 14745, '골드': 14746, '안느': 14747, 'ㅏㅇㅂ': 14748, '깨금이': 14749, '고동': 14750, '각선미': 14751, '근엄하다': 14752, '깍아': 14753, '자신감': 14754, '크라이': 14755, '방지': 14756, '제주': 14757, '아른거리다': 14758, '봤슴': 14759, '인디영화': 14760, '음개': 14761, '비보이': 14762, '바름': 14763, '섣불리': 14764, '을시': 14765, '신보라': 14766, '잡것': 14767, '김준현': 14768, '띨': 14769, '둘러싸다': 14770, '채린': 14771, '러브라이브': 14772, '할렐루야': 14773, '신생아': 14774, '나치': 14775, '군데': 14776, '못햇': 14777, '서동': 14778, '계심': 14779, '회정': 14780, '좀처럼': 14781, '안햇': 14782, '조아하다': 14783, '또나왓으': 14784, '대열': 14785, '스노우보드': 14786, '직빵': 14787, '심드렁하다': 14788, '쭁': 14789, '지현': 14790, '절박': 14791, '친밀해지다': 14792, '빈약': 14793, '형성': 14794, '다방': 14795, '미연': 14796, '라카': 14797, '적수': 14798, '질라': 14799, '멜랑꼴리': 14800, '안영화': 14801, '면목': 14802, '북쪽': 14803, '너넨': 14804, '안드로메다': 14805, '븍': 14806, '한낱': 14807, '장기기증': 14808, '벅차오르다': 14809, '백년': 14810, '시부': 14811, '이순신장군': 14812, '스캐일': 14813, '판타스틱': 14814, '로즈버드': 14815, '재일조선인': 14816, '주통': 14817, '갈기': 14818, '해드윅': 14819, '캐머런': 14820, '밋첼': 14821, '중화권': 14822, '앖': 14823, '레스토랑': 14824, '캔': 14825, '나카마': 14826, '유키에': 14827, '재밋게봣음': 14828, '상혁': 14829, '순애': 14830, '쉘위댄스': 14831, '고색': 14832, '창연': 14833, '장선': 14834, '흉륭하': 14835, '모치': 14836, '꺄': 14837, '스티븐킹': 14838, '미라클': 14839, '진중권': 14840, '변희재': 14841, '박철민': 14842, '콤비': 14843, '수영': 14844, '팝핀': 14845, '현중': 14846, '사이퍼즈': 14847, '우비': 14848, '앤드류스': 14849, '페어': 14850, '레이디': 14851, '자장가': 14852, '보이스': 14853, '재즈': 14854, '풋풋': 14855, '이쁘굼': 14856, '배부르다': 14857, '볼껀데': 14858, '레지던트': 14859, '이블': 14860, '원활하다': 14861, '김정식': 14862, '오싹': 14863, '수장': 14864, '케이티': 14865, '싱크': 14866, '낭패': 14867, '딩시': 14868, '리수': 14869, '김성수': 14870, '국군포로': 14871, '공권력': 14872, '경관': 14873, '지지리': 14874, '애물': 14875, '참되다': 14876, '희박하다': 14877, '매염방': 14878, '뻣다': 14879, '붙어싸웟으': 14880, 'ㄲㄲㅑ': 14881, '오복성': 14882, '말론브란도': 14883, '제야': 14884, '마이아': 14885, '뽑기': 14886, '쇼미더머니': 14887, '갈릴': 14888, '탱크': 14889, '화염': 14890, '낚였건': 14891, '음반': 14892, '꼴초': 14893, '밍밍': 14894, '순의': 14895, '달후': 14896, '개쩌': 14897, '이채': 14898, '결전': 14899, '워킹': 14900, '네오리얼리즘': 14901, '세가족': 14902, '샷변환': 14903, '말꼬리': 14904, '오류로': 14905, '실언': 14906, '꼬투리': 14907, '존제': 14908, '어쳐구': 14909, '연평해전': 14910, '음영': 14911, '민아': 14912, '몽마': 14913, '일본기': 14914, '기무라': 14915, '타쿠야': 14916, '끌로델': 14917, '스폰지밥': 14918, '신흥군': 14919, '정세': 14920, '불안': 14921, '불타': 14922, 'ㅛㅛ': 14923, '고이즈미': 14924, 'ㅊㅋㅊㅋ': 14925, '줏대': 14926, '악취미': 14927, '연기면': 14928, '재벌': 14929, '조도': 14930, '워렌': 14931, '슈미트': 14932, '니콜슨': 14933, '나요': 14934, '이창훈': 14935, '재밋을꺼': 14936, '이갸기': 14937, '시누이': 14938, '입문': 14939, '괜찬음': 14940, '박훈': 14941, '트레이닝': 14942, '메스': 14943, '잘해야': 14944, '평자': 14945, '아동성폭행': 14946, '종신형': 14947, '합당': 14948, '주노': 14949, '대견하다': 14950, '만듬': 14951, '천진': 14952, '애듯': 14953, '주르르': 14954, '샤크': 14955, '로체스터': 14956, '청포도': 14957, '고소하다': 14958, '귀중하다': 14959, '이형은': 14960, '황태자': 14961, 'ㄷㄷㄷㄷㄷㄷㄷㄷㄷㄷㄷㄷㄷ': 14962, '원체': 14963, '이순재': 14964, '우일': 14965, '건덕': 14966, '공산주의': 14967, '시저': 14968, '부리': 14969, '매해': 14970, '좐': 14971, '레퀴엠': 14972, '려원': 14973, '된장녀': 14974, '윤영': 14975, '해원': 14976, '이메일': 14977, '주드로': 14978, '신의한수': 14979, '구뤠': 14980, '재밋게봣어용': 14981, '우리땅': 14982, '기로': 14983, '쇳덩': 14984, '허공': 14985, '시로': 14986, '배끼': 14987, '곰돌이': 14988, '포교': 14989, '감초': 14990, '칭구': 14991, '철학자': 14992, '술자리': 14993, '훈계': 14994, '악플러': 14995, '쓰러트려': 14996, '행크': 14997, '파닥거리다': 14998, '발악': 14999, '쉬리': 15000, '전과': 15001, '재연배우': 15002, '노리개': 15003, '급판': 15004, '포르노그래피': 15005, '디에고': 15006, '이뿌넹': 15007, '스서방': 15008, '스테판': 15009, '도프': 15010, '유병언': 15011, '개뿜': 15012, '도구': 15013, '한가득': 15014, '쪼이다': 15015, '러티브': 15016, '겂나': 15017, '주룩주룩': 15018, '금상첨화': 15019, '강인': 15020, '박세영': 15021, '한중': 15022, '합작': 15023, '고잉홈': 15024, '이나고': 15025, '폐인': 15026, '한집안': 15027, '싯쪄': 15028, '응축': 15029, '허리우드': 15030, '점검': 15031, '신들': 15032, '그깟': 15033, '정기권': 15034, '쿠레': 15035, '진돗개': 15036, '시바견': 15037, '발리다': 15038, '연길': 15039, '장차': 15040, '진퇴양난': 15041, '성운': 15042, '트웰브': 15043, '제타존스': 15044, '전남친': 15045, '예비신랑': 15046, '전여친': 15047, '델꼬': 15048, '이영재': 15049, '불상': 15050, '왕석현': 15051, '깝': 15052, '알받이': 15053}\n"
          ]
        }
      ]
    },
    {
      "cell_type": "code",
      "source": [
        "# 사용된 단어의 수\n",
        "\n",
        "len(tokenizer.word_index)"
      ],
      "metadata": {
        "colab": {
          "base_uri": "https://localhost:8080/"
        },
        "id": "65n-tPpHYETm",
        "outputId": "ec6d43e7-0e88-438a-b77d-f51f740e6eae"
      },
      "execution_count": 33,
      "outputs": [
        {
          "output_type": "execute_result",
          "data": {
            "text/plain": [
              "15053"
            ]
          },
          "metadata": {},
          "execution_count": 33
        }
      ]
    },
    {
      "cell_type": "code",
      "source": [
        "# 상위 10개 단어?\n",
        "\n",
        "word_freq = sorted(tokenizer.word_counts.items(), \n",
        "                   key = lambda item: item[1], reverse = True) # 내림차순으로 정렬\n",
        "word_freq[0:10]"
      ],
      "metadata": {
        "colab": {
          "base_uri": "https://localhost:8080/"
        },
        "id": "gVWTmUOaYGce",
        "outputId": "73764f7e-ddd8-4de4-fc68-b38dd0433e64"
      },
      "execution_count": 34,
      "outputs": [
        {
          "output_type": "execute_result",
          "data": {
            "text/plain": [
              "[('이', 5639),\n",
              " ('영화', 5074),\n",
              " ('보다', 4113),\n",
              " ('하다', 4058),\n",
              " ('에', 2688),\n",
              " ('을', 2434),\n",
              " ('도', 2230),\n",
              " ('없다', 1632),\n",
              " ('이다', 1355),\n",
              " ('있다', 1223)]"
            ]
          },
          "metadata": {},
          "execution_count": 34
        }
      ]
    },
    {
      "cell_type": "code",
      "source": [
        "word_freq_10 = dict(word_freq[0:10])\n",
        "\n",
        "word = word_freq_10.keys()\n",
        "freq = word_freq_10.values()\n",
        "\n",
        "plt.figure(figsize = (12,8))\n",
        "plt.bar(word, freq)\n",
        "plt.title(\"word frequency\", fontsize = 20)\n",
        "plt.xlabel(\"word\", fontsize = 15)\n",
        "plt.ylabel(\"freq\", fontsize = 15)\n",
        "plt.show()\n"
      ],
      "metadata": {
        "colab": {
          "base_uri": "https://localhost:8080/",
          "height": 1000
        },
        "id": "Clnm6pp9YI2-",
        "outputId": "9dc05ae1-521e-45db-f568-fb518c808859"
      },
      "execution_count": 35,
      "outputs": [
        {
          "output_type": "stream",
          "name": "stderr",
          "text": [
            "WARNING:matplotlib.font_manager:findfont: Font family ['NanumBarunGothic'] not found. Falling back to DejaVu Sans.\n",
            "/usr/local/lib/python3.8/dist-packages/matplotlib/backends/backend_agg.py:214: RuntimeWarning: Glyph 51060 missing from current font.\n",
            "  font.set_text(s, 0.0, flags=flags)\n",
            "/usr/local/lib/python3.8/dist-packages/matplotlib/backends/backend_agg.py:214: RuntimeWarning: Glyph 50689 missing from current font.\n",
            "  font.set_text(s, 0.0, flags=flags)\n",
            "/usr/local/lib/python3.8/dist-packages/matplotlib/backends/backend_agg.py:214: RuntimeWarning: Glyph 54868 missing from current font.\n",
            "  font.set_text(s, 0.0, flags=flags)\n",
            "/usr/local/lib/python3.8/dist-packages/matplotlib/backends/backend_agg.py:214: RuntimeWarning: Glyph 48372 missing from current font.\n",
            "  font.set_text(s, 0.0, flags=flags)\n",
            "/usr/local/lib/python3.8/dist-packages/matplotlib/backends/backend_agg.py:214: RuntimeWarning: Glyph 45796 missing from current font.\n",
            "  font.set_text(s, 0.0, flags=flags)\n",
            "/usr/local/lib/python3.8/dist-packages/matplotlib/backends/backend_agg.py:214: RuntimeWarning: Glyph 54616 missing from current font.\n",
            "  font.set_text(s, 0.0, flags=flags)\n",
            "/usr/local/lib/python3.8/dist-packages/matplotlib/backends/backend_agg.py:214: RuntimeWarning: Glyph 50640 missing from current font.\n",
            "  font.set_text(s, 0.0, flags=flags)\n",
            "/usr/local/lib/python3.8/dist-packages/matplotlib/backends/backend_agg.py:214: RuntimeWarning: Glyph 51012 missing from current font.\n",
            "  font.set_text(s, 0.0, flags=flags)\n",
            "/usr/local/lib/python3.8/dist-packages/matplotlib/backends/backend_agg.py:214: RuntimeWarning: Glyph 46020 missing from current font.\n",
            "  font.set_text(s, 0.0, flags=flags)\n",
            "/usr/local/lib/python3.8/dist-packages/matplotlib/backends/backend_agg.py:214: RuntimeWarning: Glyph 50630 missing from current font.\n",
            "  font.set_text(s, 0.0, flags=flags)\n",
            "/usr/local/lib/python3.8/dist-packages/matplotlib/backends/backend_agg.py:214: RuntimeWarning: Glyph 51080 missing from current font.\n",
            "  font.set_text(s, 0.0, flags=flags)\n",
            "WARNING:matplotlib.font_manager:findfont: Font family ['NanumBarunGothic'] not found. Falling back to DejaVu Sans.\n",
            "/usr/local/lib/python3.8/dist-packages/matplotlib/backends/backend_agg.py:183: RuntimeWarning: Glyph 51060 missing from current font.\n",
            "  font.set_text(s, 0, flags=flags)\n",
            "/usr/local/lib/python3.8/dist-packages/matplotlib/backends/backend_agg.py:183: RuntimeWarning: Glyph 50689 missing from current font.\n",
            "  font.set_text(s, 0, flags=flags)\n",
            "/usr/local/lib/python3.8/dist-packages/matplotlib/backends/backend_agg.py:183: RuntimeWarning: Glyph 54868 missing from current font.\n",
            "  font.set_text(s, 0, flags=flags)\n",
            "/usr/local/lib/python3.8/dist-packages/matplotlib/backends/backend_agg.py:183: RuntimeWarning: Glyph 48372 missing from current font.\n",
            "  font.set_text(s, 0, flags=flags)\n",
            "/usr/local/lib/python3.8/dist-packages/matplotlib/backends/backend_agg.py:183: RuntimeWarning: Glyph 45796 missing from current font.\n",
            "  font.set_text(s, 0, flags=flags)\n",
            "/usr/local/lib/python3.8/dist-packages/matplotlib/backends/backend_agg.py:183: RuntimeWarning: Glyph 54616 missing from current font.\n",
            "  font.set_text(s, 0, flags=flags)\n",
            "/usr/local/lib/python3.8/dist-packages/matplotlib/backends/backend_agg.py:183: RuntimeWarning: Glyph 50640 missing from current font.\n",
            "  font.set_text(s, 0, flags=flags)\n",
            "/usr/local/lib/python3.8/dist-packages/matplotlib/backends/backend_agg.py:183: RuntimeWarning: Glyph 51012 missing from current font.\n",
            "  font.set_text(s, 0, flags=flags)\n",
            "/usr/local/lib/python3.8/dist-packages/matplotlib/backends/backend_agg.py:183: RuntimeWarning: Glyph 46020 missing from current font.\n",
            "  font.set_text(s, 0, flags=flags)\n",
            "/usr/local/lib/python3.8/dist-packages/matplotlib/backends/backend_agg.py:183: RuntimeWarning: Glyph 50630 missing from current font.\n",
            "  font.set_text(s, 0, flags=flags)\n",
            "/usr/local/lib/python3.8/dist-packages/matplotlib/backends/backend_agg.py:183: RuntimeWarning: Glyph 51080 missing from current font.\n",
            "  font.set_text(s, 0, flags=flags)\n"
          ]
        },
        {
          "output_type": "display_data",
          "data": {
            "text/plain": [
              "<Figure size 864x576 with 1 Axes>"
            ],
            "image/png": "[encoded data removed]"
          },
          "metadata": {
            "needs_background": "light"
          }
        }
      ]
    },
    {
      "cell_type": "code",
      "source": [
        "# 등장단어의 빈도 추려내기.\n",
        "\n",
        "threshold = 3\n",
        "total_cnt = len(tokenizer.word_index) # 총 단어의 갯수\n",
        "\n",
        "rare_cnt = 0 # 등장 빈도수가 threshold 보다 작은 단어의 갯수\n",
        "total_freq = 0 # 훈련 데이터의 전체 단어 빈도수 총 합\n",
        "rare_freq = 0 # 등장 빈도수가 threshold 보다 작은 단어의 등장 빈도수의 총 합\n",
        "\n",
        "for key, value in tokenizer.word_counts.items():\n",
        "  total_freq += value   # 종복을 허용하여 사용된 단어의 총 갯수\n",
        "\n",
        "  if(value < threshold):\n",
        "    rare_cnt += 1\n",
        "    rare_freq += value\n",
        "\n",
        "print('단어 집합의 크기 :', total_cnt)\n",
        "print('등장 빈도가 %s번 이하인 희귀 단어의 수: %s'%(threshold - 1, rare_cnt))\n",
        "print(\"단어 집합에서 희귀 단어의 비율 : {:1.2f}%\".format(rare_cnt/total_cnt * 100))\n",
        "print(\"전체 등장 빈도에서 희귀 단어 등장 빈도 비율 : {:1.2f}%\".format(rare_freq / total_freq * 100))"
      ],
      "metadata": {
        "colab": {
          "base_uri": "https://localhost:8080/"
        },
        "id": "rCksAe8EYcau",
        "outputId": "4fe6e7b0-912a-46d2-85ba-d5f744eb3ebc"
      },
      "execution_count": 36,
      "outputs": [
        {
          "output_type": "stream",
          "name": "stdout",
          "text": [
            "단어 집합의 크기 : 15053\n",
            "등장 빈도가 2번 이하인 희귀 단어의 수: 9608\n",
            "단어 집합에서 희귀 단어의 비율 : 63.83%\n",
            "전체 등장 빈도에서 희귀 단어 등장 빈도 비율 : 6.59%\n"
          ]
        }
      ]
    },
    {
      "cell_type": "markdown",
      "source": [
        "### 등장빈도가 2번 이하인 단어들이 전체중에 64%정도...\n",
        "### 근데 이런 단어들이 전체에서 6.5%밖에 사용이 안됨!\n",
        "### 즉 이런 단어들은 학습에 있어서 노이즈다."
      ],
      "metadata": {
        "id": "pwZP7BukYikv"
      }
    },
    {
      "cell_type": "code",
      "source": [
        "vocab_size = total_cnt - rare_cnt + 1\n",
        "print(\"의미있는 단어 집합 크기 :\", vocab_size)"
      ],
      "metadata": {
        "colab": {
          "base_uri": "https://localhost:8080/"
        },
        "id": "gEEV4TdwYe7f",
        "outputId": "54c91913-1da9-43c6-acdd-6a62e956cdc5"
      },
      "execution_count": 37,
      "outputs": [
        {
          "output_type": "stream",
          "name": "stdout",
          "text": [
            "의미있는 단어 집합 크기 : 5446\n"
          ]
        }
      ]
    },
    {
      "cell_type": "code",
      "source": [
        "# 의미 있는 단어들도 다시 토큰화 하기\n",
        "\n",
        "tokenizer = Tokenizer(vocab_size)\n",
        "tokenizer.fit_on_texts(X_train)"
      ],
      "metadata": {
        "id": "9hLgFZtGYoqe"
      },
      "execution_count": 38,
      "outputs": []
    },
    {
      "cell_type": "code",
      "source": [
        "# 문장을 숫자로 바꾼다. (벡터화 하기)\n",
        "\n",
        "X_train_encoded = tokenizer.texts_to_sequences(X_train)\n",
        "X_test_encoded = tokenizer.texts_to_sequences(X_test)"
      ],
      "metadata": {
        "id": "B7GuLLzyY2GW"
      },
      "execution_count": 39,
      "outputs": []
    },
    {
      "cell_type": "code",
      "source": [
        "X_train[:2]"
      ],
      "metadata": {
        "colab": {
          "base_uri": "https://localhost:8080/"
        },
        "id": "-7ASsDUhY4Cm",
        "outputId": "06ed0be6-f429-4ab7-8328-b3bc3d021206"
      },
      "execution_count": 40,
      "outputs": [
        {
          "output_type": "execute_result",
          "data": {
            "text/plain": [
              "[['아', '더빙', '진짜', '짜증나다', '목소리'],\n",
              " ['흠', '포스터', '보고', '초딩', '영화', '줄', '오버', '연기', '조차', '가볍다', '않다']]"
            ]
          },
          "metadata": {},
          "execution_count": 40
        }
      ]
    },
    {
      "cell_type": "code",
      "source": [
        "X_train_encoded[:2]"
      ],
      "metadata": {
        "colab": {
          "base_uri": "https://localhost:8080/"
        },
        "id": "2QruWnnCY5au",
        "outputId": "44f59c43-a73f-4f7e-c787-897ab0620917"
      },
      "execution_count": 41,
      "outputs": [
        {
          "output_type": "execute_result",
          "data": {
            "text/plain": [
              "[[62, 571, 21, 288, 819], [725, 371, 46, 621, 2, 174, 1554, 28, 868, 694, 25]]"
            ]
          },
          "metadata": {},
          "execution_count": 41
        }
      ]
    },
    {
      "cell_type": "code",
      "source": [
        "# y 데이터 정의\n",
        "\n",
        "y_train = np.array(train_data['label'])\n",
        "y_test = np.array(test_data['label'])"
      ],
      "metadata": {
        "id": "X3xZ8uGfY6o-"
      },
      "execution_count": 42,
      "outputs": []
    },
    {
      "cell_type": "code",
      "source": [
        "# 빈 문장들 제거\n",
        "# 문장의 길이가 0이면 빈 문장..!\n",
        "\n",
        "drop_train = [index for index, sentence in enumerate(X_train_encoded) if len(sentence) < 1]\n",
        "# drop_train"
      ],
      "metadata": {
        "id": "WwQpi7koY8E-"
      },
      "execution_count": 43,
      "outputs": []
    },
    {
      "cell_type": "code",
      "source": [
        "X_train_encoded = np.delete(X_train_encoded, drop_train, axis = 0)\n",
        "y_train = np.delete(y_train, drop_train, axis = 0)\n",
        "\n",
        "print(len(X_train_encoded))\n",
        "print(len(y_train))"
      ],
      "metadata": {
        "colab": {
          "base_uri": "https://localhost:8080/"
        },
        "id": "36GYjvD0Y-l2",
        "outputId": "a8533cf9-d342-4bab-be22-51663d36f671"
      },
      "execution_count": 44,
      "outputs": [
        {
          "output_type": "stream",
          "name": "stdout",
          "text": [
            "14674\n",
            "14674\n"
          ]
        },
        {
          "output_type": "stream",
          "name": "stderr",
          "text": [
            "/usr/local/lib/python3.8/dist-packages/numpy/lib/function_base.py:4454: VisibleDeprecationWarning: Creating an ndarray from ragged nested sequences (which is a list-or-tuple of lists-or-tuples-or ndarrays with different lengths or shapes) is deprecated. If you meant to do this, you must specify 'dtype=object' when creating the ndarray.\n",
            "  arr = asarray(arr)\n"
          ]
        }
      ]
    },
    {
      "cell_type": "code",
      "source": [
        "review_len = [len(review) for review in X_train_encoded]\n",
        "\n",
        "print(\"리뷰의 최대 길이 : {}\".format(max(review_len)))\n",
        "print(\"리뷰의 평균 길이 : {}\".format(sum(review_len) / len(review_len)))"
      ],
      "metadata": {
        "colab": {
          "base_uri": "https://localhost:8080/"
        },
        "id": "OqPunUyVZBT-",
        "outputId": "2fe63498-3ef3-4a51-f2b8-c364dd164ed7"
      },
      "execution_count": 45,
      "outputs": [
        {
          "output_type": "stream",
          "name": "stdout",
          "text": [
            "리뷰의 최대 길이 : 63\n",
            "리뷰의 평균 길이 : 11.399141338421698\n"
          ]
        }
      ]
    },
    {
      "cell_type": "code",
      "source": [
        "# 리뷰길이의 히스토그램?\n",
        "\n",
        "plt.figure(figsize = (8,6))\n",
        "plt.hist([len(review) for review in X_train_encoded], bins = 50)\n",
        "plt.title(\"리뷰길이 히스토그램\")\n",
        "plt.xlabel(\"단어의 길이\")\n",
        "plt.ylabel(\"빈도 수 \")\n",
        "plt.show()"
      ],
      "metadata": {
        "colab": {
          "base_uri": "https://localhost:8080/",
          "height": 1000
        },
        "id": "LUZ21_9JZC_G",
        "outputId": "bb7ba4c2-a517-44f5-cf4e-2844888fdfc0"
      },
      "execution_count": 46,
      "outputs": [
        {
          "output_type": "stream",
          "name": "stderr",
          "text": [
            "WARNING:matplotlib.font_manager:findfont: Font family ['NanumBarunGothic'] not found. Falling back to DejaVu Sans.\n",
            "/usr/local/lib/python3.8/dist-packages/matplotlib/backends/backend_agg.py:214: RuntimeWarning: Glyph 47532 missing from current font.\n",
            "  font.set_text(s, 0.0, flags=flags)\n",
            "/usr/local/lib/python3.8/dist-packages/matplotlib/backends/backend_agg.py:214: RuntimeWarning: Glyph 48624 missing from current font.\n",
            "  font.set_text(s, 0.0, flags=flags)\n",
            "/usr/local/lib/python3.8/dist-packages/matplotlib/backends/backend_agg.py:214: RuntimeWarning: Glyph 44600 missing from current font.\n",
            "  font.set_text(s, 0.0, flags=flags)\n",
            "/usr/local/lib/python3.8/dist-packages/matplotlib/backends/backend_agg.py:214: RuntimeWarning: Glyph 55176 missing from current font.\n",
            "  font.set_text(s, 0.0, flags=flags)\n",
            "/usr/local/lib/python3.8/dist-packages/matplotlib/backends/backend_agg.py:214: RuntimeWarning: Glyph 49828 missing from current font.\n",
            "  font.set_text(s, 0.0, flags=flags)\n",
            "/usr/local/lib/python3.8/dist-packages/matplotlib/backends/backend_agg.py:214: RuntimeWarning: Glyph 53664 missing from current font.\n",
            "  font.set_text(s, 0.0, flags=flags)\n",
            "/usr/local/lib/python3.8/dist-packages/matplotlib/backends/backend_agg.py:214: RuntimeWarning: Glyph 44536 missing from current font.\n",
            "  font.set_text(s, 0.0, flags=flags)\n",
            "/usr/local/lib/python3.8/dist-packages/matplotlib/backends/backend_agg.py:214: RuntimeWarning: Glyph 47016 missing from current font.\n",
            "  font.set_text(s, 0.0, flags=flags)\n",
            "/usr/local/lib/python3.8/dist-packages/matplotlib/backends/backend_agg.py:214: RuntimeWarning: Glyph 45800 missing from current font.\n",
            "  font.set_text(s, 0.0, flags=flags)\n",
            "/usr/local/lib/python3.8/dist-packages/matplotlib/backends/backend_agg.py:214: RuntimeWarning: Glyph 50612 missing from current font.\n",
            "  font.set_text(s, 0.0, flags=flags)\n",
            "/usr/local/lib/python3.8/dist-packages/matplotlib/backends/backend_agg.py:214: RuntimeWarning: Glyph 51032 missing from current font.\n",
            "  font.set_text(s, 0.0, flags=flags)\n",
            "/usr/local/lib/python3.8/dist-packages/matplotlib/backends/backend_agg.py:214: RuntimeWarning: Glyph 48712 missing from current font.\n",
            "  font.set_text(s, 0.0, flags=flags)\n",
            "/usr/local/lib/python3.8/dist-packages/matplotlib/backends/backend_agg.py:214: RuntimeWarning: Glyph 49688 missing from current font.\n",
            "  font.set_text(s, 0.0, flags=flags)\n",
            "/usr/local/lib/python3.8/dist-packages/matplotlib/backends/backend_agg.py:183: RuntimeWarning: Glyph 45800 missing from current font.\n",
            "  font.set_text(s, 0, flags=flags)\n",
            "/usr/local/lib/python3.8/dist-packages/matplotlib/backends/backend_agg.py:183: RuntimeWarning: Glyph 50612 missing from current font.\n",
            "  font.set_text(s, 0, flags=flags)\n",
            "/usr/local/lib/python3.8/dist-packages/matplotlib/backends/backend_agg.py:183: RuntimeWarning: Glyph 51032 missing from current font.\n",
            "  font.set_text(s, 0, flags=flags)\n",
            "/usr/local/lib/python3.8/dist-packages/matplotlib/backends/backend_agg.py:183: RuntimeWarning: Glyph 44600 missing from current font.\n",
            "  font.set_text(s, 0, flags=flags)\n",
            "/usr/local/lib/python3.8/dist-packages/matplotlib/backends/backend_agg.py:183: RuntimeWarning: Glyph 48712 missing from current font.\n",
            "  font.set_text(s, 0, flags=flags)\n",
            "/usr/local/lib/python3.8/dist-packages/matplotlib/backends/backend_agg.py:183: RuntimeWarning: Glyph 49688 missing from current font.\n",
            "  font.set_text(s, 0, flags=flags)\n",
            "/usr/local/lib/python3.8/dist-packages/matplotlib/backends/backend_agg.py:183: RuntimeWarning: Glyph 47532 missing from current font.\n",
            "  font.set_text(s, 0, flags=flags)\n",
            "/usr/local/lib/python3.8/dist-packages/matplotlib/backends/backend_agg.py:183: RuntimeWarning: Glyph 48624 missing from current font.\n",
            "  font.set_text(s, 0, flags=flags)\n",
            "/usr/local/lib/python3.8/dist-packages/matplotlib/backends/backend_agg.py:183: RuntimeWarning: Glyph 55176 missing from current font.\n",
            "  font.set_text(s, 0, flags=flags)\n",
            "/usr/local/lib/python3.8/dist-packages/matplotlib/backends/backend_agg.py:183: RuntimeWarning: Glyph 49828 missing from current font.\n",
            "  font.set_text(s, 0, flags=flags)\n",
            "/usr/local/lib/python3.8/dist-packages/matplotlib/backends/backend_agg.py:183: RuntimeWarning: Glyph 53664 missing from current font.\n",
            "  font.set_text(s, 0, flags=flags)\n",
            "/usr/local/lib/python3.8/dist-packages/matplotlib/backends/backend_agg.py:183: RuntimeWarning: Glyph 44536 missing from current font.\n",
            "  font.set_text(s, 0, flags=flags)\n",
            "/usr/local/lib/python3.8/dist-packages/matplotlib/backends/backend_agg.py:183: RuntimeWarning: Glyph 47016 missing from current font.\n",
            "  font.set_text(s, 0, flags=flags)\n"
          ]
        },
        {
          "output_type": "display_data",
          "data": {
            "text/plain": [
              "<Figure size 576x432 with 1 Axes>"
            ],
            "image/png": "[encoded data removed]"
          },
          "metadata": {
            "needs_background": "light"
          }
        }
      ]
    },
    {
      "cell_type": "code",
      "source": [
        "# 리뷰의 길이가 적을수록 학습하는데 걸리는 시간은 감소한다. \n",
        "# 누적 분포도를 구해보자.\n",
        "\n",
        "review_len_cum = []\n",
        "\n",
        "for num in range(max(review_len) + 1):\n",
        "  review_len_cum.append(len([n for n in review_len if n <= num]) / len(review_len))\n",
        "\n",
        "plt.plot(review_len_cum)\n",
        "plt.grid()\n",
        "plt.show()"
      ],
      "metadata": {
        "colab": {
          "base_uri": "https://localhost:8080/",
          "height": 265
        },
        "id": "Spn6MCWWZHF-",
        "outputId": "289fb4fc-7e3c-46b9-b73d-048dcb5178a5"
      },
      "execution_count": 47,
      "outputs": [
        {
          "output_type": "display_data",
          "data": {
            "text/plain": [
              "<Figure size 432x288 with 1 Axes>"
            ],
            "image/png": "[encoded data removed]"
          },
          "metadata": {
            "needs_background": "light"
          }
        }
      ]
    },
    {
      "cell_type": "code",
      "source": [
        "# 리뷰길이가 40개 이하인 리뷰들은 전체에서 95%정도 되니까 최대길이를 40으로 설정하자.\n",
        "# padding 하기.\n",
        "\n",
        "max_len = 40\n",
        "X_train_padded = pad_sequences(X_train_encoded, maxlen = max_len)\n",
        "X_test_padded = pad_sequences(X_test_encoded, maxlen = max_len)"
      ],
      "metadata": {
        "id": "PwJWLMJxZJRm"
      },
      "execution_count": 48,
      "outputs": []
    },
    {
      "cell_type": "code",
      "source": [
        "X_train_padded[:2]"
      ],
      "metadata": {
        "colab": {
          "base_uri": "https://localhost:8080/"
        },
        "id": "iTYBOOvBZLYu",
        "outputId": "b3c9998a-d39b-4390-9a96-d396681a6112"
      },
      "execution_count": 49,
      "outputs": [
        {
          "output_type": "execute_result",
          "data": {
            "text/plain": [
              "array([[   0,    0,    0,    0,    0,    0,    0,    0,    0,    0,    0,\n",
              "           0,    0,    0,    0,    0,    0,    0,    0,    0,    0,    0,\n",
              "           0,    0,    0,    0,    0,    0,    0,    0,    0,    0,    0,\n",
              "           0,    0,   62,  571,   21,  288,  819],\n",
              "       [   0,    0,    0,    0,    0,    0,    0,    0,    0,    0,    0,\n",
              "           0,    0,    0,    0,    0,    0,    0,    0,    0,    0,    0,\n",
              "           0,    0,    0,    0,    0,    0,    0,  725,  371,   46,  621,\n",
              "           2,  174, 1554,   28,  868,  694,   25]], dtype=int32)"
            ]
          },
          "metadata": {},
          "execution_count": 49
        }
      ]
    },
    {
      "cell_type": "code",
      "source": [
        "# LSTM 모델 학습\n",
        "\n",
        "from tensorflow.keras.layers import Embedding, Dense, LSTM\n",
        "from tensorflow.keras.models import Sequential\n",
        "from tensorflow.keras.models import load_model\n",
        "from tensorflow.keras.callbacks import EarlyStopping, ModelCheckpoint\n"
      ],
      "metadata": {
        "id": "DvlHwe0NZzfe"
      },
      "execution_count": 50,
      "outputs": []
    },
    {
      "cell_type": "code",
      "source": [
        "embedding_dim = 100\n",
        "hidden_units = 128\n",
        "\n",
        "model = Sequential()\n",
        "model.add(Embedding(vocab_size, embedding_dim))\n",
        "model.add(LSTM(hidden_units))\n",
        "model.add(Dense(1, activation = 'sigmoid'))\n"
      ],
      "metadata": {
        "id": "AvWS4BkDZ1Zm"
      },
      "execution_count": 51,
      "outputs": []
    },
    {
      "cell_type": "code",
      "source": [
        "# 검증 데이터 손실(val_loss)가 증가하면 과적합 징후이므로 \n",
        "# 검증 데이터 손실이 4회 증가하면 정해진 epoch가 도달하지 못하여도\n",
        "# 학습을 조기종료 시킨다.\n",
        "es = EarlyStopping(monitor = 'val_loss', mode = 'min', verbose = 1, patience = 4)\n",
        "\n",
        "# 검증 데이터의 정확도(val_acc)가 이전보다 좋아질 경우에는 모델을 저장\n",
        "mc = ModelCheckpoint('best_model.h1', monitor = 'val_acc', mode = 'max', verbose = 1,\n",
        "                     save_best_only = True)\n",
        "\n",
        "model.compile(optimizer = 'rmsprop', loss = 'binary_crossentropy', metrics = ['acc'])\n",
        "history = model.fit(X_train_padded, y_train, epochs = 15, callbacks = [es, mc],\n",
        "                    batch_size = 64, validation_split = 0.2)"
      ],
      "metadata": {
        "colab": {
          "base_uri": "https://localhost:8080/"
        },
        "id": "O7jV439EZ3J2",
        "outputId": "c615503c-726a-49e9-89dd-634cb0e1df8f"
      },
      "execution_count": 52,
      "outputs": [
        {
          "output_type": "stream",
          "name": "stdout",
          "text": [
            "Epoch 1/15\n",
            "184/184 [==============================] - ETA: 0s - loss: 0.5107 - acc: 0.7487\n",
            "Epoch 1: val_acc improved from -inf to 0.78535, saving model to best_model.h1\n"
          ]
        },
        {
          "output_type": "stream",
          "name": "stderr",
          "text": [
            "WARNING:absl:Found untraced functions such as lstm_cell_layer_call_fn, lstm_cell_layer_call_and_return_conditional_losses while saving (showing 2 of 2). These functions will not be directly callable after loading.\n"
          ]
        },
        {
          "output_type": "stream",
          "name": "stdout",
          "text": [
            "\b\b\b\b\b\b\b\b\b\b\b\b\b\b\b\b\b\b\b\b\b\b\b\b\b\b\b\b\b\b\b\b\b\b\b\b\b\b\b\b\b\b\b\b\b\b\b\b\b\b\b\b\b\b\b\b\b\b\b\b\b\b\b\b\b\b\b\b\b\b\b\b\b\b\b\b\b\b\b\r184/184 [==============================] - 34s 159ms/step - loss: 0.5107 - acc: 0.7487 - val_loss: 0.4391 - val_acc: 0.7853\n",
            "Epoch 2/15\n",
            "184/184 [==============================] - ETA: 0s - loss: 0.3521 - acc: 0.8462\n",
            "Epoch 2: val_acc improved from 0.78535 to 0.81295, saving model to best_model.h1\n"
          ]
        },
        {
          "output_type": "stream",
          "name": "stderr",
          "text": [
            "WARNING:absl:Found untraced functions such as lstm_cell_layer_call_fn, lstm_cell_layer_call_and_return_conditional_losses while saving (showing 2 of 2). These functions will not be directly callable after loading.\n"
          ]
        },
        {
          "output_type": "stream",
          "name": "stdout",
          "text": [
            "\b\b\b\b\b\b\b\b\b\b\b\b\b\b\b\b\b\b\b\b\b\b\b\b\b\b\b\b\b\b\b\b\b\b\b\b\b\b\b\b\b\b\b\b\b\b\b\b\b\b\b\b\b\b\b\b\b\b\b\b\b\b\b\b\b\b\b\b\b\b\b\b\b\b\b\b\b\b\b\r184/184 [==============================] - 26s 144ms/step - loss: 0.3521 - acc: 0.8462 - val_loss: 0.4056 - val_acc: 0.8129\n",
            "Epoch 3/15\n",
            "184/184 [==============================] - ETA: 0s - loss: 0.3087 - acc: 0.8699\n",
            "Epoch 3: val_acc did not improve from 0.81295\n",
            "184/184 [==============================] - 20s 111ms/step - loss: 0.3087 - acc: 0.8699 - val_loss: 0.4436 - val_acc: 0.8034\n",
            "Epoch 4/15\n",
            "184/184 [==============================] - ETA: 0s - loss: 0.2846 - acc: 0.8818\n",
            "Epoch 4: val_acc did not improve from 0.81295\n",
            "184/184 [==============================] - 23s 124ms/step - loss: 0.2846 - acc: 0.8818 - val_loss: 0.4217 - val_acc: 0.8075\n",
            "Epoch 5/15\n",
            "184/184 [==============================] - ETA: 0s - loss: 0.2667 - acc: 0.8898\n",
            "Epoch 5: val_acc did not improve from 0.81295\n",
            "184/184 [==============================] - 20s 110ms/step - loss: 0.2667 - acc: 0.8898 - val_loss: 0.4331 - val_acc: 0.8065\n",
            "Epoch 6/15\n",
            "184/184 [==============================] - ETA: 0s - loss: 0.2536 - acc: 0.8962\n",
            "Epoch 6: val_acc did not improve from 0.81295\n",
            "184/184 [==============================] - 20s 110ms/step - loss: 0.2536 - acc: 0.8962 - val_loss: 0.4328 - val_acc: 0.8095\n",
            "Epoch 6: early stopping\n"
          ]
        }
      ]
    },
    {
      "cell_type": "code",
      "source": [
        "loaded_model = load_model('best_model.h1')"
      ],
      "metadata": {
        "id": "QDA0ucYjZ7JO"
      },
      "execution_count": 53,
      "outputs": []
    },
    {
      "cell_type": "code",
      "source": [
        "print(\"테스트 정확도 : {:1.4f}%\".format(loaded_model.evaluate(X_test_padded, y_test)[1] * 100)) # 테스트 데이터로 정확도를 판단한다"
      ],
      "metadata": {
        "colab": {
          "base_uri": "https://localhost:8080/"
        },
        "id": "e1F1Sr13bfmm",
        "outputId": "ca338133-f737-4db6-8669-039cc6a7bd59"
      },
      "execution_count": 54,
      "outputs": [
        {
          "output_type": "stream",
          "name": "stdout",
          "text": [
            "154/154 [==============================] - 5s 25ms/step - loss: 0.3973 - acc: 0.8256\n",
            "테스트 정확도 : 82.5565%\n"
          ]
        }
      ]
    },
    {
      "cell_type": "code",
      "source": [
        "def predict_review(sentence):\n",
        "  sentence = re.sub(r'[^ㄱ-ㅎㅏ-ㅣ가-힣 ]',\"\",sentence)\n",
        "  sentence = re.sub(r'^[ㄱ-ㅎ]+','',sentence)\n",
        "  sentence = okt.morphs(sentence, stem = True)\n",
        "  sentence = [word for word in sentence if not word in stopwords]\n",
        "  encoded = tokenizer.texts_to_sequences([sentence])\n",
        "  pad = pad_sequences(encoded, maxlen = max_len)\n",
        "  score = float(loaded_model.predict(pad))\n",
        "\n",
        "  if (score > 0.5):\n",
        "    print(\"{:.2f}% 확률로 긍정 리뷰입니다.\\n\".format(score * 100))\n",
        "  else:\n",
        "    print(\"{:.2f}% 확률로 부정 리뷰입니다.\\n\".format((1-score) * 100))"
      ],
      "metadata": {
        "id": "XngqSOORbj2n"
      },
      "execution_count": 55,
      "outputs": []
    },
    {
      "cell_type": "code",
      "source": [
        "predict_review(\"아 이 영화 진짜 재밌음ㅋㅋㅋㅋㅋㅋㅋ\")"
      ],
      "metadata": {
        "colab": {
          "base_uri": "https://localhost:8080/"
        },
        "id": "LnkRVJSSbq3t",
        "outputId": "dc8fc055-0bbb-4652-f9af-1b5dddd416a7"
      },
      "execution_count": 56,
      "outputs": [
        {
          "output_type": "stream",
          "name": "stdout",
          "text": [
            "1/1 [==============================] - 1s 688ms/step\n",
            "94.40% 확률로 긍정 리뷰입니다.\n",
            "\n"
          ]
        }
      ]
    },
    {
      "cell_type": "code",
      "source": [
        "predict_review(\"애매한데?\")"
      ],
      "metadata": {
        "colab": {
          "base_uri": "https://localhost:8080/"
        },
        "id": "j0MZb3BwbsKG",
        "outputId": "684f2017-7da8-48c0-c764-ebf54335e814"
      },
      "execution_count": 57,
      "outputs": [
        {
          "output_type": "stream",
          "name": "stdout",
          "text": [
            "1/1 [==============================] - 0s 24ms/step\n",
            "65.50% 확률로 부정 리뷰입니다.\n",
            "\n"
          ]
        }
      ]
    },
    {
      "cell_type": "code",
      "source": [],
      "metadata": {
        "id": "YUs3AIBebtvO"
      },
      "execution_count": null,
      "outputs": []
    }
  ]
}