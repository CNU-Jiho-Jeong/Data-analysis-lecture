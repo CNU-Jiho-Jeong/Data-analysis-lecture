{
  "nbformat": 4,
  "nbformat_minor": 0,
  "metadata": {
    "colab": {
      "provenance": [],
      "authorship_tag": "ABX9TyO8DPrPv1Oi4CJDcXN0IC0X",
      "include_colab_link": true
    },
    "kernelspec": {
      "name": "python3",
      "display_name": "Python 3"
    },
    "language_info": {
      "name": "python"
    },
    "accelerator": "GPU",
    "gpuClass": "standard"
  },
  "cells": [
    {
      "cell_type": "markdown",
      "metadata": {
        "id": "view-in-github",
        "colab_type": "text"
      },
      "source": [
        "<a href=\"https://colab.research.google.com/github/CNU-Jiho-Jeong/Data-analysis-lecture/blob/main/%ED%8D%BC%EC%85%89%ED%8A%B8%EB%A1%A0.ipynb\" target=\"_parent\"><img src=\"https://colab.research.google.com/assets/colab-badge.svg\" alt=\"Open In Colab\"/></a>"
      ]
    },
    {
      "cell_type": "markdown",
      "source": [
        "1. 신경망은 퍼셉트론(Perceptron) 으로부터 출발한다.\n",
        "- 생물 신경 구조를 본 따 만든 모델\n",
        "- 단일로는 선형적인 모델밖에 안된다.\n",
        "\n",
        "2. 퍼셉트론을 여러 개 나열한 것이 Neural Network(신경망)이다.\n",
        "- 이것이 바로 딥 러닝 모델이다.\n",
        "- 비선형적 모델 제작 가능"
      ],
      "metadata": {
        "id": "si-ZY_RQtHXR"
      }
    },
    {
      "cell_type": "code",
      "execution_count": 2,
      "metadata": {
        "id": "zSSAFf6Qlhyi"
      },
      "outputs": [],
      "source": [
        "import numpy as np\n",
        "import pandas as pd\n",
        "import matplotlib.pyplot as plt"
      ]
    },
    {
      "cell_type": "code",
      "source": [
        "# step function으로 activation function 만들기!\n",
        "\n",
        "def step(value):\n",
        "  if value>=0:\n",
        "    return 1\n",
        "  else:\n",
        "    return 0\n",
        "\n"
      ],
      "metadata": {
        "id": "aKhD2Xs_sWsF"
      },
      "execution_count": 3,
      "outputs": []
    },
    {
      "cell_type": "code",
      "source": [
        "x = np.linspace(-5,5,101)\n",
        "y = [step(k) for k in x] # 이러한 표현에도 익숙해지기\n",
        "\n",
        "plt.plot(x,y)"
      ],
      "metadata": {
        "colab": {
          "base_uri": "https://localhost:8080/",
          "height": 283
        },
        "id": "LVHyE1-WuLLV",
        "outputId": "86d8dc7e-f87f-4b36-abe3-2144c543ab31"
      },
      "execution_count": 4,
      "outputs": [
        {
          "output_type": "execute_result",
          "data": {
            "text/plain": [
              "[<matplotlib.lines.Line2D at 0x7f83f05d8d30>]"
            ]
          },
          "metadata": {},
          "execution_count": 4
        },
        {
          "output_type": "display_data",
          "data": {
            "text/plain": [
              "<Figure size 432x288 with 1 Axes>"
            ],
            "image/png": "[encoded data removed]"
          },
          "metadata": {
            "needs_background": "light"
          }
        }
      ]
    },
    {
      "cell_type": "code",
      "source": [
        "# perceptron 제작하기\n",
        "\n",
        "def perceptron(x1, x2, w1, w2, b, activation_function):\n",
        "  result = w1*x1 + w2*x2 + b\n",
        "  return activation_function(result)"
      ],
      "metadata": {
        "id": "xwJ0TZbEMW66"
      },
      "execution_count": 5,
      "outputs": []
    },
    {
      "cell_type": "markdown",
      "source": [
        "### 활성화 함수\n",
        "- 입력 신호의 총합을 출력 신호로 변환하는 함수를 일반적으로 활성화 함수라고 한다.\n",
        "- 입력 신호의 총합이 활성화를 일으키는지를 정하는 역할\n",
        "- 신경망의 활성화 함수는 비선형 함수를 사용해야 한다. 신경망에서 선형 함수를 이용하면 신경망의 층을 깊게하는 의미가 없어진다.(활성화 함수를 사용하지 않아도 신경망의 층을 깊게 하는 의미가 없어진다.)\n",
        "### 그러니까 층을 쌓기 위해서는 비선형 함수인 활성화 함수를 사용해야 하고, 활성화 함수로는 비선형 함수를 사용해야 한다.\n",
        "\n",
        "- 활성화 함수로 쓸 수 있는 함수로 시그모이드 함수가 있다(카.공 프로젝트 때 사용). 이 함수는 기울기 소멸 문제가 발생한다는 단점이 있다(lstm의 핵심요소들은 이 문제를 방지할 수 있다. 카공 프로젝트 참고)\n",
        "\n"
      ],
      "metadata": {
        "id": "Wb5fUwluNKpJ"
      }
    },
    {
      "cell_type": "code",
      "source": [
        "# AND gate\n",
        "\n",
        "w1 = 0.7\n",
        "w2 = 0.7\n",
        "b = -1\n",
        "\n",
        "for x1 in range(2):\n",
        "  for x2 in range(2):\n",
        "    print(\"x = ({}, {}), result = {}\".format(x1, x2, perceptron(x1, x2, w1, w2, b, step))) # step 함수를 활성화 함수로!\n"
      ],
      "metadata": {
        "colab": {
          "base_uri": "https://localhost:8080/"
        },
        "id": "ltXrMO6JuWw4",
        "outputId": "8786f75c-16e8-43fb-f4ff-bf247b79660e"
      },
      "execution_count": 6,
      "outputs": [
        {
          "output_type": "stream",
          "name": "stdout",
          "text": [
            "x = (0, 0), result = 0\n",
            "x = (0, 1), result = 0\n",
            "x = (1, 0), result = 0\n",
            "x = (1, 1), result = 1\n"
          ]
        }
      ]
    },
    {
      "cell_type": "code",
      "source": [
        "# OR gate\n",
        "\n",
        "w1 = 1.2\n",
        "w2 = 1.2\n",
        "b = -1\n",
        "\n",
        "for x1 in range(2):\n",
        "  for x2 in range(2):\n",
        "    print(\"x = ({}, {}), result = {}\".format(x1,x2,perceptron(x1,x2,w1,w2,b,step)))"
      ],
      "metadata": {
        "colab": {
          "base_uri": "https://localhost:8080/"
        },
        "id": "ZMuaCyjqWzkh",
        "outputId": "2c4d8591-6ddb-45cb-be5c-53081813ee57"
      },
      "execution_count": 7,
      "outputs": [
        {
          "output_type": "stream",
          "name": "stdout",
          "text": [
            "x = (0, 0), result = 0\n",
            "x = (0, 1), result = 1\n",
            "x = (1, 0), result = 1\n",
            "x = (1, 1), result = 1\n"
          ]
        }
      ]
    },
    {
      "cell_type": "code",
      "source": [
        "# NAND gate\n",
        "\n",
        "w1 = -0.5\n",
        "w2 = -0.5\n",
        "b = 0.9\n",
        "\n",
        "for x1 in range(2):\n",
        "  for x2 in range(2):\n",
        "    print(\"x = ({}, {}), result = {}\".format(x1,x2,perceptron(x1,x2,w1,w2,b,step)))\n"
      ],
      "metadata": {
        "colab": {
          "base_uri": "https://localhost:8080/"
        },
        "id": "AGJuBFi4XZJh",
        "outputId": "bc3d8372-6d2b-4ad5-b3cc-ea3bfcc288f2"
      },
      "execution_count": 8,
      "outputs": [
        {
          "output_type": "stream",
          "name": "stdout",
          "text": [
            "x = (0, 0), result = 1\n",
            "x = (0, 1), result = 1\n",
            "x = (1, 0), result = 1\n",
            "x = (1, 1), result = 0\n"
          ]
        }
      ]
    },
    {
      "cell_type": "code",
      "source": [
        "# 시각화를 한번 해보자!\n",
        "\n",
        "\n",
        "w1 = 0.7\n",
        "w2 = 0.7\n",
        "b = -1\n",
        "\n",
        "X1 = np.linspace(0, 1, 10)\n",
        "X2 = np.linspace(0, 1, 10)\n",
        "\n",
        "for x1 in X1:\n",
        "  for x2 in X2:\n",
        "    result = perceptron(x1, x2, w1, w2, b, step)\n",
        "\n",
        "    if result == 0:\n",
        "      color = 'red' # 거짓\n",
        "    else:\n",
        "      color = 'blue' # 참\n",
        "    \n",
        "    plt.scatter(x1, x2, color = color, s = 50)"
      ],
      "metadata": {
        "colab": {
          "base_uri": "https://localhost:8080/",
          "height": 265
        },
        "id": "XHQk-d7nYGsx",
        "outputId": "b702a6f4-a863-4361-9621-4ef9ebd821ce"
      },
      "execution_count": 9,
      "outputs": [
        {
          "output_type": "display_data",
          "data": {
            "text/plain": [
              "<Figure size 432x288 with 1 Axes>"
            ],
            "image/png": "[encoded data removed]"
          },
          "metadata": {
            "needs_background": "light"
          }
        }
      ]
    },
    {
      "cell_type": "markdown",
      "source": [
        "직관적으로 나타난다"
      ],
      "metadata": {
        "id": "55E2Ca1sYh5B"
      }
    },
    {
      "cell_type": "code",
      "source": [
        "# XOR gate: 배타적 논리합(排他的論理合, exclusive or)은 수리 논리학에서 주어진 2개의 명제 가운데 1개만 참일 경우를 판단하는 논리 연산\n",
        "\n",
        "w1 = -0.5\n",
        "w2 = -0.5\n",
        "b = 0.9\n",
        "\n",
        "for x1 in range(2):\n",
        "  for x2 in range(2):\n",
        "    print(\"x = ({}, {}), result = {}\".format(x1, x2, perceptron(x1, x2, w1, w2, b, step)))\n",
        "\n",
        "\n",
        "# 당연히 Single layer로는 절대 할 수 없다!!"
      ],
      "metadata": {
        "colab": {
          "base_uri": "https://localhost:8080/"
        },
        "id": "ThHoHx6oYffp",
        "outputId": "d01ba035-07b0-4810-fcda-9d94213bfe43"
      },
      "execution_count": 10,
      "outputs": [
        {
          "output_type": "stream",
          "name": "stdout",
          "text": [
            "x = (0, 0), result = 1\n",
            "x = (0, 1), result = 1\n",
            "x = (1, 0), result = 1\n",
            "x = (1, 1), result = 0\n"
          ]
        }
      ]
    },
    {
      "cell_type": "code",
      "source": [
        "# Multi layer perceptron\n",
        "\n",
        "X1 = np.linspace(0, 1, 10)\n",
        "X2 = np.linspace(0, 1, 10)\n",
        "\n",
        "w1_11, w1_12, w1_21, w1_22 = 1, 1, 1, 1\n",
        "b1_1, b1_2 = -0.4, -1.2\n",
        "\n",
        "w2_1, w2_2 = 0.5, -0.2\n",
        "b2_1 = -0.4\n",
        "\n",
        "for x1 in X1:\n",
        "  for x2 in X2:\n",
        "    y1 = perceptron(x1, x2, w1_11, w1_21, b1_1, step)\n",
        "    y2 = perceptron(x1, x2, w1_12, w1_22, b1_2, step)\n",
        "\n",
        "    result = perceptron(y1, y2, w2_1, w2_2, b2_1, step)\n",
        "\n",
        "    if result == 0:\n",
        "      color = 'red'\n",
        "    else: \n",
        "      color = 'blue'\n",
        "\n",
        "    plt.scatter(x1, x2, color = color, s = 50)"
      ],
      "metadata": {
        "colab": {
          "base_uri": "https://localhost:8080/",
          "height": 265
        },
        "id": "soTLpKRmZGg4",
        "outputId": "0eb495fa-b4c9-4a58-e3cd-a8e1612f8a4d"
      },
      "execution_count": 11,
      "outputs": [
        {
          "output_type": "display_data",
          "data": {
            "text/plain": [
              "<Figure size 432x288 with 1 Axes>"
            ],
            "image/png": "[encoded data removed]"
          },
          "metadata": {
            "needs_background": "light"
          }
        }
      ]
    },
    {
      "cell_type": "code",
      "source": [
        "# Mnist 데이터 실습\n",
        "# 파이썬에서 deep learning은 tensorflow 패키지 이용\n",
        "\n",
        "import tensorflow as tf\n",
        "from tensorflow.keras.datasets import mnist"
      ],
      "metadata": {
        "id": "H3a8Lio-Z7nQ"
      },
      "execution_count": 12,
      "outputs": []
    },
    {
      "cell_type": "code",
      "source": [
        "# 1. 데이터 준비\n",
        "\n",
        "(X_train, y_train), (X_test, y_test) = mnist.load_data()\n",
        "train_size, train_nrow, train_ncol = X_train.shape\n",
        "test_size, test_nrow, test_ncol = X_test.shape\n",
        "\n",
        "print(\"Shape of X_train : {}\".format(X_train.shape))\n",
        "print(\"Shape of y_train : {}\".format(y_train.shape))\n",
        "print(\"Shape of X_test  : {}\".format(X_test.shape))\n",
        "print(\"Shape of y_test  : {}\".format(y_test.shape))\n",
        "print(\"Row size of each image  : {}\".format(train_nrow))\n",
        "print(\"Col size of each image  : {}\".format(train_ncol))"
      ],
      "metadata": {
        "colab": {
          "base_uri": "https://localhost:8080/"
        },
        "id": "D7n_zWSkaDhA",
        "outputId": "fbb7f6ea-6030-421e-df66-c05bfb4c7f4b"
      },
      "execution_count": 13,
      "outputs": [
        {
          "output_type": "stream",
          "name": "stdout",
          "text": [
            "Downloading data from https://storage.googleapis.com/tensorflow/tf-keras-datasets/mnist.npz\n",
            "11490434/11490434 [==============================] - 2s 0us/step\n",
            "Shape of X_train : (60000, 28, 28)\n",
            "Shape of y_train : (60000,)\n",
            "Shape of X_test  : (10000, 28, 28)\n",
            "Shape of y_test  : (10000,)\n",
            "Row size of each image  : 28\n",
            "Col size of each image  : 28\n"
          ]
        }
      ]
    },
    {
      "cell_type": "code",
      "source": [
        "def print_array_of(img_array): \n",
        "  for img_row in img_array:\n",
        "    for pixel in img_row:\n",
        "      print(\"{:4d}\".format(pixel), end = \"\") # {:4d}는 출력 폭을 4칸으로 하겠다(공백 포함)는 의미이다.\n",
        "    print(\"\")"
      ],
      "metadata": {
        "id": "lmqA2JYnbm7v"
      },
      "execution_count": 14,
      "outputs": []
    },
    {
      "cell_type": "code",
      "source": [
        "a = np.random.randint(0,train_size,3)\n",
        "a # array"
      ],
      "metadata": {
        "colab": {
          "base_uri": "https://localhost:8080/"
        },
        "id": "FeQPSjIMYb1h",
        "outputId": "b275fc51-66e3-40bd-e631-579e87f0826a"
      },
      "execution_count": 15,
      "outputs": [
        {
          "output_type": "execute_result",
          "data": {
            "text/plain": [
              "array([27757, 29932, 20423])"
            ]
          },
          "metadata": {},
          "execution_count": 15
        }
      ]
    },
    {
      "cell_type": "code",
      "source": [
        "loc = int(np.random.randint(0,train_size,1)) # np.random.randint(시작, 끝, 반환할 수의 갯수) / 기본적으로 하나의 정수를 반환한다. \n",
        "\n",
        "print_array_of(X_train[loc])\n",
        "\n",
        "print(\"-\"*120)\n",
        "print(\"This is :\", y_train[loc])"
      ],
      "metadata": {
        "id": "HqU2CpElciM-",
        "colab": {
          "base_uri": "https://localhost:8080/"
        },
        "outputId": "621022ce-e198-44fa-e922-faf82163b4d3"
      },
      "execution_count": 16,
      "outputs": [
        {
          "output_type": "stream",
          "name": "stdout",
          "text": [
            "   0   0   0   0   0   0   0   0   0   0   0   0   0   0   0   0   0   0   0   0   0   0   0   0   0   0   0   0\n",
            "   0   0   0   0   0   0   0   0   0   0   0   0   0   0   0   0   0   0   0   0   0   0   0   0   0   0   0   0\n",
            "   0   0   0   0   0   0   0   0   0   0   0   0   0   0   0   0   0   0   0   0   0   0   0   0   0   0   0   0\n",
            "   0   0   0   0   0   0   0   0   0   0   0   0   0   0   0   0   0   0   0   0   0   0   0   0   0   0   0   0\n",
            "   0   0   0   0   0   0   0   0   0   0   0   0   0   0   0   0   0   0   0   0   0   0   0   0   0   0   0   0\n",
            "   0   0   0   0   0   0   0   0   0   0   0   0   0   0   0   0   0   0   0   0   0   0   0   0   0   0   0   0\n",
            "   0   0   0   0   0   0   0   0 218 186  67  11   0   0   0   0   0   0   0   0   0   0   0   0   0   0   0   0\n",
            "   0   0   0   0   0   0   0   0 217 254 254 227 222 203 198 191 222 145  43   0   0   0   0   0   0   0   0   0\n",
            "   0   0   0   0   0   0   0   0  66 163 217 254 254 237 237 254 254 254 146   9   0   0   0   0   0   0   0   0\n",
            "   0   0   0   0   0   0   0   0   0   0   3   4   4   4   4   4  47 254 254  46   0   0   0   0   0   0   0   0\n",
            "   0   0   0   0   0   0   0   0   0   0   0   0   0   0   0   0  44 254 254  75   0   0   0   0   0   0   0   0\n",
            "   0   0   0   0   0   0   0   0   0   0   0   0   0   0   0   0 113 254 230  16   0   0   0   0   0   0   0   0\n",
            "   0   0   0   0   0   0   0   0   0   0   0   0   0   0   0  17 237 254  90   0   0   0   0   0   0   0   0   0\n",
            "   0   0   0   0   0   0   0   0   0   0   0   0   0   0   0 122 254 239  15   0   0   0   0   0   0   0   0   0\n",
            "   0   0   0   0   0   0   0   0   0   0   0   0   0   0  11 230 254  82   0   0   0   0   0   0   0   0   0   0\n",
            "   0   0   0   0   0   0   0   0   0   0   0   0   0  10 133 254 212  23   0   0   0   0   0   0   0   0   0   0\n",
            "   0   0   0   0   0   0   0   0   0   0   0   0   0  54 254 254 110   0   0   0   0   0   0   0   0   0   0   0\n",
            "   0   0   0   0   0   0   0   0   0   0   0   0   0 174 254 231  13   0   0   0   0   0   0   0   0   0   0   0\n",
            "   0   0   0   0   0   0   0   0   0   0   0   0  93 254 247  81   0   0   0   0   0   0   0   0   0   0   0   0\n",
            "   0   0   0   0   0   0   0   0   0   0   0   9 210 254 236   0   0   0   0   0   0   0   0   0   0   0   0   0\n",
            "   0   0   0   0   0   0   0   0   0   0   0  20 254 254 117   0   0   0   0   0   0   0   0   0   0   0   0   0\n",
            "   0   0   0   0   0   0   0   0   0   0   0 108 255 247  41   0   0   0   0   0   0   0   0   0   0   0   0   0\n",
            "   0   0   0   0   0   0   0   0   0   0   0 190 254 204   0   0   0   0   0   0   0   0   0   0   0   0   0   0\n",
            "   0   0   0   0   0   0   0   0   0   0  60 239 254  48   0   0   0   0   0   0   0   0   0   0   0   0   0   0\n",
            "   0   0   0   0   0   0   0   0   0   0 149 255 244  12   0   0   0   0   0   0   0   0   0   0   0   0   0   0\n",
            "   0   0   0   0   0   0   0   0   0   0  77 211  71   0   0   0   0   0   0   0   0   0   0   0   0   0   0   0\n",
            "   0   0   0   0   0   0   0   0   0   0   0   0   0   0   0   0   0   0   0   0   0   0   0   0   0   0   0   0\n",
            "   0   0   0   0   0   0   0   0   0   0   0   0   0   0   0   0   0   0   0   0   0   0   0   0   0   0   0   0\n",
            "------------------------------------------------------------------------------------------------------------------------\n",
            "This is : 7\n"
          ]
        }
      ]
    },
    {
      "cell_type": "code",
      "source": [
        "plt.imshow(X_train[loc])\n",
        "plt.show()"
      ],
      "metadata": {
        "colab": {
          "base_uri": "https://localhost:8080/",
          "height": 265
        },
        "id": "GN_ezohhYiNI",
        "outputId": "51483de9-3ab4-448c-99cb-10368be447b8"
      },
      "execution_count": 17,
      "outputs": [
        {
          "output_type": "display_data",
          "data": {
            "text/plain": [
              "<Figure size 432x288 with 1 Axes>"
            ],
            "image/png": "[encoded data removed]"
          },
          "metadata": {
            "needs_background": "light"
          }
        }
      ]
    },
    {
      "cell_type": "code",
      "source": [
        "# data 모양 바꾸기, 정규화\n",
        "# Reshape(Flatten) and Normalization\n",
        "\n",
        "X_train = X_train.reshape(train_size, train_nrow * train_ncol) / 255.0\n",
        "X_test  = X_test.reshape(test_size, test_nrow * test_ncol) / 255.0\n",
        "\n",
        "print(X_train.shape)"
      ],
      "metadata": {
        "colab": {
          "base_uri": "https://localhost:8080/"
        },
        "id": "LbmOwgbdZLh_",
        "outputId": "8b1f9212-5bca-4ffa-8115-e9d4f7b7f6e5"
      },
      "execution_count": 18,
      "outputs": [
        {
          "output_type": "stream",
          "name": "stdout",
          "text": [
            "(60000, 784)\n"
          ]
        }
      ]
    },
    {
      "cell_type": "code",
      "source": [
        "# 모델 구축\n",
        "\n",
        "# Sequential model (perceptron 만들기)\n",
        "model = tf.keras.models.Sequential() # 순차적으로 레이어를 더해준다. \n",
        "\n",
        "# Stacking layers(레이어 쌓기)\n",
        "model.add(tf.keras.layers.Dense(units = 128,\n",
        "                                activation = 'relu', # 활성화함수로 relu 함수 \n",
        "                                input_shape = (train_nrow * train_ncol,)))  # hidden layer\n",
        "model.add(tf.keras.layers.Dense(units = 10, \n",
        "                                activation = 'softmax'))  # ouput layer / 활성화함수로 softmax 함수\n",
        "model.summary()"
      ],
      "metadata": {
        "colab": {
          "base_uri": "https://localhost:8080/"
        },
        "id": "d0HE5j9naDuN",
        "outputId": "0ea520f7-b66b-48b9-bbf6-2e0b65e81787"
      },
      "execution_count": 19,
      "outputs": [
        {
          "output_type": "stream",
          "name": "stdout",
          "text": [
            "Model: \"sequential\"\n",
            "_________________________________________________________________\n",
            " Layer (type)                Output Shape              Param #   \n",
            "=================================================================\n",
            " dense (Dense)               (None, 128)               100480    \n",
            "                                                                 \n",
            " dense_1 (Dense)             (None, 10)                1290      \n",
            "                                                                 \n",
            "=================================================================\n",
            "Total params: 101,770\n",
            "Trainable params: 101,770\n",
            "Non-trainable params: 0\n",
            "_________________________________________________________________\n"
          ]
        }
      ]
    },
    {
      "cell_type": "code",
      "source": [
        "# 3. 모델 컴파일 (학습을 어떤방법으로 할 것인지 정하기)\n",
        "\n",
        "model.compile(optimizer = 'sgd', # 최솟값으로 하산하는 방법(Stochastic gradient descent)\n",
        "              loss = 'sparse_categorical_crossentropy', # 손실함수 정하기\n",
        "              metrics = ['accuracy'])  # 평가지표"
      ],
      "metadata": {
        "id": "1ce2LaJLbtKr"
      },
      "execution_count": 20,
      "outputs": []
    },
    {
      "cell_type": "code",
      "source": [
        "# 4. 모델 학습\n",
        "# 초기 weight는 랜덤이다.\n",
        "\n",
        "model.fit(X_train, y_train,  # 지도학습이다!\n",
        "          epochs = 20,  # 몇 번 학습할래?\n",
        "          verbose = 1,  # 학습되는 출력창 조절\n",
        "          validation_split = 0.2) # 검증데이터로 20%만큼 사용"
      ],
      "metadata": {
        "colab": {
          "base_uri": "https://localhost:8080/"
        },
        "id": "1sFYriIfb_4n",
        "outputId": "a96082bf-e4f9-4652-d2f9-d2184449d5cf"
      },
      "execution_count": 21,
      "outputs": [
        {
          "output_type": "stream",
          "name": "stdout",
          "text": [
            "Epoch 1/20\n",
            "1500/1500 [==============================] - 7s 3ms/step - loss: 0.7104 - accuracy: 0.8253 - val_loss: 0.3813 - val_accuracy: 0.8967\n",
            "Epoch 2/20\n",
            "1500/1500 [==============================] - 5s 3ms/step - loss: 0.3631 - accuracy: 0.9001 - val_loss: 0.3093 - val_accuracy: 0.9130\n",
            "Epoch 3/20\n",
            "1500/1500 [==============================] - 5s 3ms/step - loss: 0.3106 - accuracy: 0.9134 - val_loss: 0.2770 - val_accuracy: 0.9218\n",
            "Epoch 4/20\n",
            "1500/1500 [==============================] - 4s 3ms/step - loss: 0.2796 - accuracy: 0.9213 - val_loss: 0.2570 - val_accuracy: 0.9274\n",
            "Epoch 5/20\n",
            "1500/1500 [==============================] - 4s 3ms/step - loss: 0.2562 - accuracy: 0.9283 - val_loss: 0.2363 - val_accuracy: 0.9337\n",
            "Epoch 6/20\n",
            "1500/1500 [==============================] - 5s 3ms/step - loss: 0.2369 - accuracy: 0.9340 - val_loss: 0.2243 - val_accuracy: 0.9373\n",
            "Epoch 7/20\n",
            "1500/1500 [==============================] - 4s 3ms/step - loss: 0.2210 - accuracy: 0.9376 - val_loss: 0.2099 - val_accuracy: 0.9417\n",
            "Epoch 8/20\n",
            "1500/1500 [==============================] - 5s 4ms/step - loss: 0.2064 - accuracy: 0.9418 - val_loss: 0.2001 - val_accuracy: 0.9455\n",
            "Epoch 9/20\n",
            "1500/1500 [==============================] - 4s 3ms/step - loss: 0.1942 - accuracy: 0.9446 - val_loss: 0.1892 - val_accuracy: 0.9487\n",
            "Epoch 10/20\n",
            "1500/1500 [==============================] - 4s 3ms/step - loss: 0.1832 - accuracy: 0.9485 - val_loss: 0.1827 - val_accuracy: 0.9488\n",
            "Epoch 11/20\n",
            "1500/1500 [==============================] - 4s 3ms/step - loss: 0.1735 - accuracy: 0.9509 - val_loss: 0.1738 - val_accuracy: 0.9519\n",
            "Epoch 12/20\n",
            "1500/1500 [==============================] - 4s 3ms/step - loss: 0.1649 - accuracy: 0.9530 - val_loss: 0.1679 - val_accuracy: 0.9533\n",
            "Epoch 13/20\n",
            "1500/1500 [==============================] - 5s 3ms/step - loss: 0.1570 - accuracy: 0.9556 - val_loss: 0.1610 - val_accuracy: 0.9542\n",
            "Epoch 14/20\n",
            "1500/1500 [==============================] - 5s 3ms/step - loss: 0.1498 - accuracy: 0.9572 - val_loss: 0.1565 - val_accuracy: 0.9554\n",
            "Epoch 15/20\n",
            "1500/1500 [==============================] - 4s 3ms/step - loss: 0.1432 - accuracy: 0.9590 - val_loss: 0.1522 - val_accuracy: 0.9565\n",
            "Epoch 16/20\n",
            "1500/1500 [==============================] - 4s 3ms/step - loss: 0.1374 - accuracy: 0.9616 - val_loss: 0.1474 - val_accuracy: 0.9582\n",
            "Epoch 17/20\n",
            "1500/1500 [==============================] - 4s 3ms/step - loss: 0.1317 - accuracy: 0.9632 - val_loss: 0.1432 - val_accuracy: 0.9578\n",
            "Epoch 18/20\n",
            "1500/1500 [==============================] - 4s 3ms/step - loss: 0.1267 - accuracy: 0.9646 - val_loss: 0.1386 - val_accuracy: 0.9607\n",
            "Epoch 19/20\n",
            "1500/1500 [==============================] - 5s 3ms/step - loss: 0.1219 - accuracy: 0.9659 - val_loss: 0.1363 - val_accuracy: 0.9602\n",
            "Epoch 20/20\n",
            "1500/1500 [==============================] - 5s 3ms/step - loss: 0.1175 - accuracy: 0.9673 - val_loss: 0.1327 - val_accuracy: 0.9617\n"
          ]
        },
        {
          "output_type": "execute_result",
          "data": {
            "text/plain": [
              "<keras.callbacks.History at 0x7f832ce75430>"
            ]
          },
          "metadata": {},
          "execution_count": 21
        }
      ]
    },
    {
      "cell_type": "code",
      "source": [
        "# 5. 모델 평가.\n",
        "\n",
        "model.evaluate(X_test, y_test)\n",
        "# test set에 대해서\n",
        "# cross entropy 손실 값은 0.1266\n",
        "# 정확도(accuracy)는 96.27% 이다 "
      ],
      "metadata": {
        "colab": {
          "base_uri": "https://localhost:8080/"
        },
        "id": "OicznMc-cbbv",
        "outputId": "11074926-912a-4009-b68c-b119927ea8e9"
      },
      "execution_count": 22,
      "outputs": [
        {
          "output_type": "stream",
          "name": "stdout",
          "text": [
            "313/313 [==============================] - 2s 5ms/step - loss: 0.1266 - accuracy: 0.9627\n"
          ]
        },
        {
          "output_type": "execute_result",
          "data": {
            "text/plain": [
              "[0.12659849226474762, 0.9627000093460083]"
            ]
          },
          "metadata": {},
          "execution_count": 22
        }
      ]
    },
    {
      "cell_type": "code",
      "source": [
        "# 모델 예측\n",
        "\n",
        "pred = model.predict(X_test, batch_size = 128)  #X_test 를 input하여 나온 y_pred\n",
        "\n",
        "loc = int(np.random.randint(0, len(pred), 1))\n",
        "\n",
        "print(\"모델이 예측한 정답 :\", np.argmax(pred[loc])) # tensor의 축에서 가장 큰 value의 index를 반환\n",
        "print(\"실제 정답 : \", y_test[loc])\n",
        "\n",
        "plt.imshow(X_test[loc].reshape(test_nrow, test_ncol))\n",
        "plt.show()"
      ],
      "metadata": {
        "colab": {
          "base_uri": "https://localhost:8080/",
          "height": 320
        },
        "id": "8ZOfjB7LdPj3",
        "outputId": "75bfee6e-e54c-488f-fc2c-8ba8a7cc36de"
      },
      "execution_count": 23,
      "outputs": [
        {
          "output_type": "stream",
          "name": "stdout",
          "text": [
            "79/79 [==============================] - 0s 2ms/step\n",
            "모델이 예측한 정답 : 6\n",
            "실제 정답 :  6\n"
          ]
        },
        {
          "output_type": "display_data",
          "data": {
            "text/plain": [
              "<Figure size 432x288 with 1 Axes>"
            ],
            "image/png": "[encoded data removed]"
          },
          "metadata": {
            "needs_background": "light"
          }
        }
      ]
    },
    {
      "cell_type": "code",
      "source": [
        "# confusion matrix(혼동행렬) 만들기\n",
        "# 혼동행렬: 지도 학습으로 훈련된 분류 알고리즘의 성능을 시각화 할 수 있는 표\n",
        "\n",
        "y_pred = np.array([np.argmax(pred[loc]) for loc in range(len(X_test))])\n",
        "y_pred  # Image 데이터에 따른 모델이 예측한 정답"
      ],
      "metadata": {
        "colab": {
          "base_uri": "https://localhost:8080/"
        },
        "id": "tpjYsx6Fe16E",
        "outputId": "5f93c60e-9748-40eb-bf0c-356cc98f48d7"
      },
      "execution_count": 24,
      "outputs": [
        {
          "output_type": "execute_result",
          "data": {
            "text/plain": [
              "array([7, 2, 1, ..., 4, 5, 6])"
            ]
          },
          "metadata": {},
          "execution_count": 24
        }
      ]
    },
    {
      "cell_type": "code",
      "source": [
        "y_test"
      ],
      "metadata": {
        "colab": {
          "base_uri": "https://localhost:8080/"
        },
        "id": "pcQfyH5Zfuc0",
        "outputId": "fa4348ff-7dcf-4422-eb3d-1f02b7b25fef"
      },
      "execution_count": 27,
      "outputs": [
        {
          "output_type": "execute_result",
          "data": {
            "text/plain": [
              "array([7, 2, 1, ..., 4, 5, 6], dtype=uint8)"
            ]
          },
          "metadata": {},
          "execution_count": 27
        }
      ]
    },
    {
      "cell_type": "code",
      "source": [
        "from sklearn.metrics import confusion_matrix\n",
        "\n",
        "cf = confusion_matrix(y_test, y_pred)\n",
        "print(cf)"
      ],
      "metadata": {
        "colab": {
          "base_uri": "https://localhost:8080/"
        },
        "id": "tS75_SYzfwsl",
        "outputId": "5a044201-b619-4b94-d13d-f7e64117f7cb"
      },
      "execution_count": 28,
      "outputs": [
        {
          "output_type": "stream",
          "name": "stdout",
          "text": [
            "[[ 967    0    1    2    0    3    5    1    1    0]\n",
            " [   0 1120    3    1    0    1    4    1    5    0]\n",
            " [   4    2 1000    4    2    1    5    8    6    0]\n",
            " [   1    2   12  956    1   16    1   10    8    3]\n",
            " [   1    0    6    1  946    0    3    3    2   20]\n",
            " [   5    1    1   11    1  849   10    0   10    4]\n",
            " [   7    3    1    0    6    8  928    0    5    0]\n",
            " [   2    8   17    2    2    0    0  986    0   11]\n",
            " [   4    2    5    7    3    7    8    9  928    1]\n",
            " [   6    6    2   11   19    6    1    9    2  947]]\n"
          ]
        }
      ]
    },
    {
      "cell_type": "code",
      "source": [
        "# accuracy 구하기\n",
        "\n",
        "accuracy = np.diag(cf).sum() / len(y_test) # np.diag: 대각 행렬 함수 \n",
        "print(accuracy)"
      ],
      "metadata": {
        "colab": {
          "base_uri": "https://localhost:8080/"
        },
        "id": "X214J-qSf2bV",
        "outputId": "037858b3-96c4-4804-9f11-b974623ba752"
      },
      "execution_count": 29,
      "outputs": [
        {
          "output_type": "stream",
          "name": "stdout",
          "text": [
            "0.9627\n"
          ]
        }
      ]
    },
    {
      "cell_type": "code",
      "source": [
        "import itertools\n",
        "\n",
        "def plot_confusion_matrix(cm, target_names=None, cmap=None, normalize=True, labels=True, title='Mnist Confusion matrix'):\n",
        "    accuracy = np.trace(cm) / float(np.sum(cm))\n",
        "    misclass = 1 - accuracy\n",
        "\n",
        "    if cmap is None:\n",
        "        cmap = plt.get_cmap('Blues')\n",
        "\n",
        "    if normalize:\n",
        "        cm = cm.astype('float') / cm.sum(axis=1)[:, np.newaxis]\n",
        "        \n",
        "    fig = plt.figure(figsize=(10,8)) \n",
        "    plt.imshow(cm, interpolation='nearest', cmap=cmap)\n",
        "    plt.title(title, fontsize = 15)\n",
        "    plt.colorbar()\n",
        "\n",
        "    thresh = cm.max() / 1.5 if normalize else cm.max() / 2\n",
        "    \n",
        "    if target_names is not None:\n",
        "        tick_marks = np.arange(len(target_names))\n",
        "        plt.xticks(tick_marks, target_names, fontsize = 15)\n",
        "        plt.yticks(tick_marks, target_names, fontsize = 15)\n",
        "    \n",
        "    if labels:\n",
        "        for i, j in itertools.product(range(cm.shape[0]), range(cm.shape[1])):\n",
        "            if normalize:\n",
        "                plt.text(j, i, \"{:0.2f}\".format(cm[i, j]),\n",
        "                         horizontalalignment=\"center\",\n",
        "                         color=\"white\" if cm[i, j] > thresh else \"black\", fontsize = 15)\n",
        "            else:\n",
        "                plt.text(j, i, \"{:,}\".format(cm[i, j]),\n",
        "                         horizontalalignment=\"center\",\n",
        "                         color=\"white\" if cm[i, j] > thresh else \"black\", fontsize = 10)\n",
        "\n",
        "    plt.tight_layout()\n",
        "    plt.ylabel('True label', fontsize = 15)\n",
        "    plt.xlabel('Predicted label\\naccuracy={:0.4f}; misclass={:0.4f}'.format(accuracy, misclass), fontsize = 10)\n",
        "    # plt.savefig(\"Mnist confusion matrix.png\")\n",
        "    plt.show()"
      ],
      "metadata": {
        "id": "sbnzdg_hgd51"
      },
      "execution_count": 31,
      "outputs": []
    },
    {
      "cell_type": "code",
      "source": [
        "CM = confusion_matrix(y_test, y_pred)\n",
        "plot_confusion_matrix(CM)"
      ],
      "metadata": {
        "colab": {
          "base_uri": "https://localhost:8080/",
          "height": 611
        },
        "id": "6-b99NUVgul0",
        "outputId": "8dfc7394-82f8-4fbc-a1dc-015c987a554b"
      },
      "execution_count": 32,
      "outputs": [
        {
          "output_type": "display_data",
          "data": {
            "text/plain": [
              "<Figure size 720x576 with 2 Axes>"
            ],
            "image/png": "[encoded data removed]"
          },
          "metadata": {
            "needs_background": "light"
          }
        }
      ]
    },
    {
      "cell_type": "code",
      "source": [],
      "metadata": {
        "id": "akYQJ8jZgxP1"
      },
      "execution_count": null,
      "outputs": []
    }
  ]
}